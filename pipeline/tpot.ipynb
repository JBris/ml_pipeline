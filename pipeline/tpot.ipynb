{
 "cells": [
  {
   "cell_type": "code",
   "execution_count": 4,
   "id": "37bd3e01",
   "metadata": {},
   "outputs": [],
   "source": [
    "from tpot import TPOTClassifier\n",
    "from sklearn.datasets import load_breast_cancer\n",
    "from sklearn.model_selection import train_test_split"
   ]
  },
  {
   "cell_type": "code",
   "execution_count": 5,
   "id": "8d5e05d0",
   "metadata": {},
   "outputs": [],
   "source": [
    "data = load_breast_cancer()\n",
    "X = data.data\n",
    "y = data.target\n",
    "\n",
    "X_train, X_test, y_train, y_test = train_test_split(X, y,test_size=.5,random_state =123)"
   ]
  },
  {
   "cell_type": "code",
   "execution_count": 17,
   "id": "62a63d83",
   "metadata": {},
   "outputs": [
    {
     "data": {
      "text/plain": [
       "TPOTClassifier(config_dict='TPOT light', generations=20, max_eval_time_mins=1,\n",
       "               max_time_mins=5, n_jobs=-1, population_size=20, random_state=42,\n",
       "               use_dask=True, verbosity=2)"
      ]
     },
     "execution_count": 17,
     "metadata": {},
     "output_type": "execute_result"
    }
   ],
   "source": [
    "pipeline_optimizer = TPOTClassifier(generations=20, population_size=20, cv=5,\n",
    "                                    random_state=42, n_jobs = -1, max_time_mins = 5,\n",
    "                                   max_eval_time_mins = 5, use_dask = True, verbosity = 2, warm_start = False,\n",
    "                                   config_dict = \"TPOT light\")\n",
    "pipeline_optimizer"
   ]
  },
  {
   "cell_type": "code",
   "execution_count": 18,
   "id": "272a9993",
   "metadata": {},
   "outputs": [
    {
     "data": {
      "application/vnd.jupyter.widget-view+json": {
       "model_id": "",
       "version_major": 2,
       "version_minor": 0
      },
      "text/plain": [
       "Optimization Progress:   0%|          | 0/20 [00:00<?, ?pipeline/s]"
      ]
     },
     "metadata": {},
     "output_type": "display_data"
    },
    {
     "name": "stdout",
     "output_type": "stream",
     "text": [
      "\n",
      "Generation 1 - Current best internal CV score: 0.9328947368421053\n",
      "\n",
      "Generation 2 - Current best internal CV score: 0.95062656641604\n",
      "\n",
      "Generation 3 - Current best internal CV score: 0.9539473684210528\n",
      "\n",
      "Generation 4 - Current best internal CV score: 0.9539473684210528\n",
      "\n",
      "Generation 5 - Current best internal CV score: 0.9612155388471179\n",
      "\n",
      "Generation 6 - Current best internal CV score: 0.9612155388471179\n",
      "\n",
      "Generation 7 - Current best internal CV score: 0.9647243107769423\n",
      "\n",
      "Generation 8 - Current best internal CV score: 0.9647243107769423\n",
      "\n",
      "Generation 9 - Current best internal CV score: 0.9647243107769423\n",
      "\n",
      "Generation 10 - Current best internal CV score: 0.9647243107769423\n",
      "\n",
      "Generation 11 - Current best internal CV score: 0.9647243107769423\n",
      "\n",
      "Generation 12 - Current best internal CV score: 0.9647243107769423\n",
      "\n",
      "Generation 13 - Current best internal CV score: 0.9647243107769423\n",
      "\n",
      "Generation 14 - Current best internal CV score: 0.9647243107769423\n",
      "\n",
      "Generation 15 - Current best internal CV score: 0.9647243107769423\n",
      "\n",
      "Generation 16 - Current best internal CV score: 0.9647243107769423\n",
      "\n",
      "Generation 17 - Current best internal CV score: 0.9647243107769423\n",
      "\n",
      "Generation 18 - Current best internal CV score: 0.9647243107769423\n",
      "\n",
      "Generation 19 - Current best internal CV score: 0.9647243107769423\n",
      "\n",
      "Generation 20 - Current best internal CV score: 0.9647243107769423\n",
      "\n",
      "Best pipeline: KNeighborsClassifier(MinMaxScaler(input_matrix), n_neighbors=16, p=2, weights=distance)\n"
     ]
    },
    {
     "data": {
      "text/plain": [
       "TPOTClassifier(config_dict='TPOT light', generations=20, max_eval_time_mins=1,\n",
       "               max_time_mins=5, n_jobs=-1, population_size=20, random_state=42,\n",
       "               use_dask=True, verbosity=2)"
      ]
     },
     "execution_count": 18,
     "metadata": {},
     "output_type": "execute_result"
    }
   ],
   "source": [
    "pipeline_optimizer.fit(X_train, y_train)"
   ]
  },
  {
   "cell_type": "code",
   "execution_count": 20,
   "id": "87e887f5",
   "metadata": {},
   "outputs": [
    {
     "data": {
      "text/plain": [
       "0.9614035087719298"
      ]
     },
     "execution_count": 20,
     "metadata": {},
     "output_type": "execute_result"
    }
   ],
   "source": [
    "pipeline_optimizer.score(X_test, y_test)"
   ]
  },
  {
   "cell_type": "code",
   "execution_count": 21,
   "id": "5757b8ef",
   "metadata": {},
   "outputs": [],
   "source": [
    "pipeline_optimizer.export(\"tpot_test.py\")"
   ]
  },
  {
   "cell_type": "markdown",
   "id": "5dd2e8fd",
   "metadata": {},
   "source": [
    "Iris flower classification"
   ]
  },
  {
   "cell_type": "code",
   "execution_count": 23,
   "id": "ccf91386",
   "metadata": {},
   "outputs": [
    {
     "data": {
      "application/vnd.jupyter.widget-view+json": {
       "model_id": "",
       "version_major": 2,
       "version_minor": 0
      },
      "text/plain": [
       "Optimization Progress:   0%|          | 0/60 [00:00<?, ?pipeline/s]"
      ]
     },
     "metadata": {},
     "output_type": "display_data"
    },
    {
     "name": "stdout",
     "output_type": "stream",
     "text": [
      "\n",
      "Generation 1 - Current best internal CV score: 0.9549407114624506\n",
      "\n",
      "Generation 2 - Current best internal CV score: 0.9818181818181818\n",
      "\n",
      "Generation 3 - Current best internal CV score: 0.9818181818181818\n",
      "\n",
      "Generation 4 - Current best internal CV score: 0.9818181818181818\n",
      "\n",
      "Generation 5 - Current best internal CV score: 0.9818181818181818\n",
      "\n",
      "Best pipeline: KNeighborsClassifier(Normalizer(input_matrix, norm=l1), n_neighbors=3, p=1, weights=distance)\n",
      "0.9736842105263158\n"
     ]
    }
   ],
   "source": [
    "from tpot import TPOTClassifier\n",
    "from sklearn.datasets import load_iris\n",
    "from sklearn.model_selection import train_test_split\n",
    "import numpy as np\n",
    "\n",
    "iris = load_iris()\n",
    "X_train, X_test, y_train, y_test = train_test_split(iris.data.astype(np.float64),\n",
    "    iris.target.astype(np.float64), train_size=0.75, test_size=0.25, random_state=42)\n",
    "\n",
    "tpot = TPOTClassifier(generations=5, population_size=10, verbosity=2, random_state=42)\n",
    "tpot.fit(X_train, y_train)\n",
    "print(tpot.score(X_test, y_test))"
   ]
  },
  {
   "cell_type": "markdown",
   "id": "14ec4786",
   "metadata": {},
   "source": [
    "Digits dataset"
   ]
  },
  {
   "cell_type": "code",
   "execution_count": 27,
   "id": "f174b6d7",
   "metadata": {},
   "outputs": [
    {
     "data": {
      "application/vnd.jupyter.widget-view+json": {
       "model_id": "",
       "version_major": 2,
       "version_minor": 0
      },
      "text/plain": [
       "Optimization Progress:   0%|          | 0/20 [00:00<?, ?pipeline/s]"
      ]
     },
     "metadata": {},
     "output_type": "display_data"
    },
    {
     "name": "stdout",
     "output_type": "stream",
     "text": [
      "\n",
      "Generation 1 - Current best internal CV score: 0.9799531873881315\n",
      "\n",
      "Generation 2 - Current best internal CV score: 0.9806966818119236\n",
      "\n",
      "Generation 3 - Current best internal CV score: 0.9814374225526642\n",
      "\n",
      "Best pipeline: KNeighborsClassifier(Normalizer(input_matrix, norm=l1), n_neighbors=3, p=1, weights=distance)\n",
      "0.9822222222222222\n"
     ]
    }
   ],
   "source": [
    "from tpot import TPOTClassifier\n",
    "from sklearn.datasets import load_digits\n",
    "from sklearn.model_selection import train_test_split\n",
    "\n",
    "digits = load_digits()\n",
    "X_train, X_test, y_train, y_test = train_test_split(digits.data, digits.target,\n",
    "                                                    train_size=0.75, test_size=0.25, random_state=42)\n",
    "\n",
    "tpot = TPOTClassifier(generations=3, population_size=5, verbosity=2, random_state=42)\n",
    "tpot.fit(X_train, y_train)\n",
    "print(tpot.score(X_test, y_test))"
   ]
  },
  {
   "cell_type": "markdown",
   "id": "8c6c4e56",
   "metadata": {},
   "source": [
    "Boston housing prices modeling"
   ]
  },
  {
   "cell_type": "code",
   "execution_count": 32,
   "id": "1be4e5aa",
   "metadata": {},
   "outputs": [
    {
     "data": {
      "application/vnd.jupyter.widget-view+json": {
       "model_id": "",
       "version_major": 2,
       "version_minor": 0
      },
      "text/plain": [
       "Optimization Progress:   0%|          | 0/20 [00:00<?, ?pipeline/s]"
      ]
     },
     "metadata": {},
     "output_type": "display_data"
    },
    {
     "name": "stdout",
     "output_type": "stream",
     "text": [
      "\n",
      "Generation 1 - Current best internal CV score: -15.926419022370293\n",
      "\n",
      "Generation 2 - Current best internal CV score: -15.416867516557648\n",
      "\n",
      "Generation 3 - Current best internal CV score: -15.416867516557648\n",
      "\n",
      "Best pipeline: AdaBoostRegressor(input_matrix, learning_rate=1.0, loss=square, n_estimators=100)\n",
      "-16.17126493576567\n"
     ]
    }
   ],
   "source": [
    "from tpot import TPOTRegressor\n",
    "from sklearn.datasets import load_boston\n",
    "from sklearn.model_selection import train_test_split\n",
    "\n",
    "housing = load_boston()\n",
    "X_train, X_test, y_train, y_test = train_test_split(housing.data, housing.target,\n",
    "                                                    train_size=0.75, test_size=0.25, random_state=42)\n",
    "\n",
    "tpot = TPOTRegressor(generations=3, population_size=5, verbosity=2, random_state=42)\n",
    "tpot.fit(X_train, y_train)\n",
    "print(tpot.score(X_test, y_test))"
   ]
  }
 ],
 "metadata": {
  "kernelspec": {
   "display_name": "Python 3 (ipykernel)",
   "language": "python",
   "name": "python3"
  },
  "language_info": {
   "codemirror_mode": {
    "name": "ipython",
    "version": 3
   },
   "file_extension": ".py",
   "mimetype": "text/x-python",
   "name": "python",
   "nbconvert_exporter": "python",
   "pygments_lexer": "ipython3",
   "version": "3.8.12"
  }
 },
 "nbformat": 4,
 "nbformat_minor": 5
}
