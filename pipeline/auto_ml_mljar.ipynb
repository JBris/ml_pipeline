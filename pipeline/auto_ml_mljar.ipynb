{
 "cells": [
  {
   "cell_type": "markdown",
   "id": "b016c66f",
   "metadata": {},
   "source": [
    "AutoML MLJar"
   ]
  },
  {
   "cell_type": "code",
   "execution_count": 1,
   "id": "ed64e19f",
   "metadata": {},
   "outputs": [
    {
     "name": "stderr",
     "output_type": "stream",
     "text": [
      "2021-12-04 22:43:07,862 supervised.preprocessing.eda ERROR There was an issue when running EDA. could not convert string to float: '>50K'\n"
     ]
    },
    {
     "name": "stdout",
     "output_type": "stream",
     "text": [
      "Linear algorithm was disabled.\n",
      "AutoML directory: AutoML_1\n",
      "The task is binary_classification with evaluation metric logloss\n",
      "AutoML will use algorithms: ['Baseline', 'Decision Tree', 'Random Forest', 'Xgboost', 'Neural Network']\n",
      "AutoML will ensemble available models\n",
      "AutoML steps: ['simple_algorithms', 'default_algorithms', 'ensemble']\n",
      "* Step simple_algorithms will try to check up to 2 models\n",
      "1_Baseline logloss 0.554604 trained in 0.78 seconds\n",
      "Exception while producing SHAP explanations. Passing parameters norm and vmin/vmax simultaneously is not supported. Please pass vmin/vmax directly to the norm when creating it.\n",
      "Continuing ...\n",
      "2_DecisionTree logloss 0.377901 trained in 53.72 seconds\n",
      "* Step default_algorithms will try to check up to 3 models\n",
      "Exception while producing SHAP explanations. Passing parameters norm and vmin/vmax simultaneously is not supported. Please pass vmin/vmax directly to the norm when creating it.\n",
      "Continuing ...\n",
      "3_Default_Xgboost logloss 0.278819 trained in 6.68 seconds\n",
      "4_Default_NeuralNetwork logloss 0.327556 trained in 8.26 seconds\n",
      "Exception while producing SHAP explanations. Passing parameters norm and vmin/vmax simultaneously is not supported. Please pass vmin/vmax directly to the norm when creating it.\n",
      "Continuing ...\n",
      "5_Default_RandomForest logloss 0.34664 trained in 5.9 seconds\n",
      "* Step ensemble will try to check up to 1 model\n",
      "Ensemble logloss 0.278819 trained in 2.0 seconds\n",
      "AutoML fit time: 89.57 seconds\n",
      "AutoML best model: 3_Default_Xgboost\n"
     ]
    }
   ],
   "source": [
    "import pandas as pd\n",
    "from sklearn.model_selection import train_test_split\n",
    "from supervised.automl import AutoML\n",
    "\n",
    "df = pd.read_csv(\n",
    "    \"https://raw.githubusercontent.com/pplonski/datasets-for-start/master/adult/data.csv\",\n",
    "    skipinitialspace=True,\n",
    ")\n",
    "X_train, X_test, y_train, y_test = train_test_split(\n",
    "    df[df.columns[:-1]], df[\"income\"], test_size=0.25\n",
    ")\n",
    "\n",
    "automl = AutoML()\n",
    "automl.fit(X_train, y_train)\n",
    "\n",
    "predictions = automl.predict(X_test)"
   ]
  },
  {
   "cell_type": "code",
   "execution_count": 5,
   "id": "2d463bb9",
   "metadata": {},
   "outputs": [
    {
     "name": "stdout",
     "output_type": "stream",
     "text": [
      "AutoML directory: AutoML_4\n",
      "The task is binary_classification with evaluation metric logloss\n",
      "AutoML will use algorithms: ['Nearest Neighbors', 'Decision Tree']\n",
      "AutoML steps: ['simple_algorithms', 'default_algorithms', 'not_so_random']\n",
      "* Step simple_algorithms will try to check up to 3 models\n",
      "1_DecisionTree logloss 0.372369 trained in 6.61 seconds\n",
      "2_DecisionTree logloss 0.354618 trained in 7.25 seconds\n",
      "3_DecisionTree logloss 0.354606 trained in 8.31 seconds\n",
      "* Step default_algorithms will try to check up to 1 model\n",
      "4_Default_NearestNeighbors logloss 0.778618 trained in 17.46 seconds\n",
      "* Step not_so_random will try to check up to 7 models\n",
      "5_NearestNeighbors logloss 0.617299 trained in 14.47 seconds\n",
      "6_NearestNeighbors logloss 0.617583 trained in 11.93 seconds\n",
      "7_NearestNeighbors logloss 0.617583 trained in 11.43 seconds\n",
      "8_NearestNeighbors logloss 0.617299 trained in 12.2 seconds\n",
      "9_NearestNeighbors logloss 1.207053 trained in 7.68 seconds\n",
      "10_NearestNeighbors logloss 0.617299 trained in 10.95 seconds\n",
      "11_NearestNeighbors logloss 1.209519 trained in 9.05 seconds\n",
      "AutoML fit time: 136.49 seconds\n",
      "AutoML best model: 3_DecisionTree\n"
     ]
    }
   ],
   "source": [
    "automl = AutoML(\n",
    "    mode=\"Explain\",\n",
    "    algorithms=[\"Nearest Neighbors\", \"Decision Tree\"],\n",
    "    model_time_limit=30*60,\n",
    "    start_random_models=10,\n",
    "    hill_climbing_steps=0,\n",
    "    top_models_to_improve=3,\n",
    "    golden_features=False,\n",
    "    features_selection=False,\n",
    "    stack_models=False,\n",
    "    train_ensemble=False,\n",
    "    explain_level=0,\n",
    "    validation_strategy={\n",
    "        \"validation_type\": \"kfold\",\n",
    "        \"k_folds\": 4,\n",
    "        \"shuffle\": False,\n",
    "        \"stratify\": True,\n",
    "    }\n",
    ")\n",
    "\n",
    "automl.fit(X_train, y_train)\n",
    "\n",
    "predictions = automl.predict(X_test)"
   ]
  }
 ],
 "metadata": {
  "kernelspec": {
   "display_name": "Python 3 (ipykernel)",
   "language": "python",
   "name": "python3"
  },
  "language_info": {
   "codemirror_mode": {
    "name": "ipython",
    "version": 3
   },
   "file_extension": ".py",
   "mimetype": "text/x-python",
   "name": "python",
   "nbconvert_exporter": "python",
   "pygments_lexer": "ipython3",
   "version": "3.8.12"
  }
 },
 "nbformat": 4,
 "nbformat_minor": 5
}
