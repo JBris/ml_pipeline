{
 "cells": [
  {
   "cell_type": "code",
   "execution_count": 1,
   "id": "957d9446",
   "metadata": {},
   "outputs": [
    {
     "name": "stderr",
     "output_type": "stream",
     "text": [
      "2021-12-05 20:07:43,743\tINFO services.py:1338 -- View the Ray dashboard at \u001b[1m\u001b[32mhttp://127.0.0.1:8265\u001b[39m\u001b[22m\n",
      "2021-12-05 20:07:49,540\tWARNING function_runner.py:561 -- Function checkpointing is disabled. This may result in unexpected behavior when using checkpointing features or certain schedulers. To enable, set the train function arguments to be `func(config, checkpoint_dir=None)`.\n",
      "2021-12-05 20:07:49,845\tWARNING tune.py:570 -- Tune detects GPUs, but no trials are using GPUs. To enable trials to use GPUs, set tune.run(resources_per_trial={'gpu': 1}...) which allows Tune to expose 1 GPU to each trial. You can also override `Trainable.default_resource_request` if using the Trainable API.\n"
     ]
    },
    {
     "data": {
      "text/html": [
       "== Status ==<br>Current time: 2021-12-05 20:07:50 (running for 00:00:00.46)<br>Memory usage on this node: 6.3/7.9 GiB<br>Using FIFO scheduling algorithm.<br>Resources requested: 0/8 CPUs, 0/2 GPUs, 0.0/2.78 GiB heap, 0.0/1.39 GiB objects<br>Result logdir: C:\\Users\\James\\ray_results\\training_function_2021-12-05_20-07-49<br>Number of trials: 3/3 (3 PENDING)<br><table>\n",
       "<thead>\n",
       "<tr><th>Trial name                   </th><th>status  </th><th>loc  </th><th style=\"text-align: right;\">  alpha</th><th style=\"text-align: right;\">  beta</th></tr>\n",
       "</thead>\n",
       "<tbody>\n",
       "<tr><td>training_function_0e577_00000</td><td>PENDING </td><td>     </td><td style=\"text-align: right;\">  0.001</td><td style=\"text-align: right;\">     1</td></tr>\n",
       "<tr><td>training_function_0e577_00001</td><td>PENDING </td><td>     </td><td style=\"text-align: right;\">  0.01 </td><td style=\"text-align: right;\">     1</td></tr>\n",
       "<tr><td>training_function_0e577_00002</td><td>PENDING </td><td>     </td><td style=\"text-align: right;\">  0.1  </td><td style=\"text-align: right;\">     3</td></tr>\n",
       "</tbody>\n",
       "</table><br><br>"
      ],
      "text/plain": [
       "<IPython.core.display.HTML object>"
      ]
     },
     "metadata": {},
     "output_type": "display_data"
    },
    {
     "name": "stderr",
     "output_type": "stream",
     "text": [
      "2021-12-05 20:07:50,502\tERROR syncer.py:111 -- Log sync requires rsync to be installed.\n"
     ]
    },
    {
     "data": {
      "text/html": [
       "== Status ==<br>Current time: 2021-12-05 20:07:57 (running for 00:00:07.16)<br>Memory usage on this node: 6.4/7.9 GiB<br>Using FIFO scheduling algorithm.<br>Resources requested: 1.0/8 CPUs, 0/2 GPUs, 0.0/2.78 GiB heap, 0.0/1.39 GiB objects<br>Result logdir: C:\\Users\\James\\ray_results\\training_function_2021-12-05_20-07-49<br>Number of trials: 3/3 (2 PENDING, 1 RUNNING)<br><table>\n",
       "<thead>\n",
       "<tr><th>Trial name                   </th><th>status  </th><th>loc            </th><th style=\"text-align: right;\">  alpha</th><th style=\"text-align: right;\">  beta</th></tr>\n",
       "</thead>\n",
       "<tbody>\n",
       "<tr><td>training_function_0e577_00000</td><td>RUNNING </td><td>127.0.0.1:10148</td><td style=\"text-align: right;\">  0.001</td><td style=\"text-align: right;\">     1</td></tr>\n",
       "<tr><td>training_function_0e577_00001</td><td>PENDING </td><td>               </td><td style=\"text-align: right;\">  0.01 </td><td style=\"text-align: right;\">     1</td></tr>\n",
       "<tr><td>training_function_0e577_00002</td><td>PENDING </td><td>               </td><td style=\"text-align: right;\">  0.1  </td><td style=\"text-align: right;\">     3</td></tr>\n",
       "</tbody>\n",
       "</table><br><br>"
      ],
      "text/plain": [
       "<IPython.core.display.HTML object>"
      ]
     },
     "metadata": {},
     "output_type": "display_data"
    },
    {
     "name": "stdout",
     "output_type": "stream",
     "text": [
      "Result for training_function_0e577_00000:\n",
      "  date: 2021-12-05_20-07-57\n",
      "  done: false\n",
      "  experiment_id: 9f17e143f06f4aa186b375ef15be4a70\n",
      "  hostname: LAPTOP-5F3V9FNM\n",
      "  iterations_since_restore: 1\n",
      "  mean_loss: 10.1\n",
      "  neg_mean_loss: -10.1\n",
      "  node_ip: 127.0.0.1\n",
      "  pid: 10148\n",
      "  time_since_restore: 0.0018830299377441406\n",
      "  time_this_iter_s: 0.0018830299377441406\n",
      "  time_total_s: 0.0018830299377441406\n",
      "  timestamp: 1638688077\n",
      "  timesteps_since_restore: 0\n",
      "  training_iteration: 1\n",
      "  trial_id: 0e577_00000\n",
      "  \n",
      "Result for training_function_0e577_00000:\n",
      "  date: 2021-12-05_20-07-57\n",
      "  done: true\n",
      "  experiment_id: 9f17e143f06f4aa186b375ef15be4a70\n",
      "  experiment_tag: 0_alpha=0.001,beta=1\n",
      "  hostname: LAPTOP-5F3V9FNM\n",
      "  iterations_since_restore: 10\n",
      "  mean_loss: 10.091008092716553\n",
      "  neg_mean_loss: -10.091008092716553\n",
      "  node_ip: 127.0.0.1\n",
      "  pid: 10148\n",
      "  time_since_restore: 0.09886479377746582\n",
      "  time_this_iter_s: 0.006836652755737305\n",
      "  time_total_s: 0.09886479377746582\n",
      "  timestamp: 1638688077\n",
      "  timesteps_since_restore: 0\n",
      "  training_iteration: 10\n",
      "  trial_id: 0e577_00000\n",
      "  \n"
     ]
    },
    {
     "data": {
      "text/html": [
       "== Status ==<br>Current time: 2021-12-05 20:08:01 (running for 00:00:11.92)<br>Memory usage on this node: 6.4/7.9 GiB<br>Using FIFO scheduling algorithm.<br>Resources requested: 1.0/8 CPUs, 0/2 GPUs, 0.0/2.78 GiB heap, 0.0/1.39 GiB objects<br>Result logdir: C:\\Users\\James\\ray_results\\training_function_2021-12-05_20-07-49<br>Number of trials: 3/3 (1 PENDING, 1 RUNNING, 1 TERMINATED)<br><table>\n",
       "<thead>\n",
       "<tr><th>Trial name                   </th><th>status    </th><th>loc            </th><th style=\"text-align: right;\">  alpha</th><th style=\"text-align: right;\">  beta</th><th style=\"text-align: right;\">  loss</th><th style=\"text-align: right;\">  iter</th><th style=\"text-align: right;\">  total time (s)</th><th style=\"text-align: right;\">  neg_mean_loss</th></tr>\n",
       "</thead>\n",
       "<tbody>\n",
       "<tr><td>training_function_0e577_00001</td><td>RUNNING   </td><td>127.0.0.1:8464 </td><td style=\"text-align: right;\">  0.01 </td><td style=\"text-align: right;\">     1</td><td style=\"text-align: right;\">      </td><td style=\"text-align: right;\">      </td><td style=\"text-align: right;\">                </td><td style=\"text-align: right;\">               </td></tr>\n",
       "<tr><td>training_function_0e577_00002</td><td>PENDING   </td><td>               </td><td style=\"text-align: right;\">  0.1  </td><td style=\"text-align: right;\">     3</td><td style=\"text-align: right;\">      </td><td style=\"text-align: right;\">      </td><td style=\"text-align: right;\">                </td><td style=\"text-align: right;\">               </td></tr>\n",
       "<tr><td>training_function_0e577_00000</td><td>TERMINATED</td><td>127.0.0.1:10148</td><td style=\"text-align: right;\">  0.001</td><td style=\"text-align: right;\">     1</td><td style=\"text-align: right;\">10.091</td><td style=\"text-align: right;\">    10</td><td style=\"text-align: right;\">       0.0988648</td><td style=\"text-align: right;\">        -10.091</td></tr>\n",
       "</tbody>\n",
       "</table><br><br>"
      ],
      "text/plain": [
       "<IPython.core.display.HTML object>"
      ]
     },
     "metadata": {},
     "output_type": "display_data"
    },
    {
     "name": "stdout",
     "output_type": "stream",
     "text": [
      "Result for training_function_0e577_00001:\n",
      "  date: 2021-12-05_20-08-01\n",
      "  done: false\n",
      "  experiment_id: 77646bdc0a7449a1af10f4cbe957a9f2\n",
      "  hostname: LAPTOP-5F3V9FNM\n",
      "  iterations_since_restore: 1\n",
      "  mean_loss: 10.1\n",
      "  neg_mean_loss: -10.1\n",
      "  node_ip: 127.0.0.1\n",
      "  pid: 8464\n",
      "  time_since_restore: 0.0010743141174316406\n",
      "  time_this_iter_s: 0.0010743141174316406\n",
      "  time_total_s: 0.0010743141174316406\n",
      "  timestamp: 1638688081\n",
      "  timesteps_since_restore: 0\n",
      "  training_iteration: 1\n",
      "  trial_id: 0e577_00001\n",
      "  \n",
      "Result for training_function_0e577_00001:\n",
      "  date: 2021-12-05_20-08-01\n",
      "  done: true\n",
      "  experiment_id: 77646bdc0a7449a1af10f4cbe957a9f2\n",
      "  experiment_tag: 1_alpha=0.01,beta=1\n",
      "  hostname: LAPTOP-5F3V9FNM\n",
      "  iterations_since_restore: 10\n",
      "  mean_loss: 10.010802775024777\n",
      "  neg_mean_loss: -10.010802775024777\n",
      "  node_ip: 127.0.0.1\n",
      "  pid: 8464\n",
      "  time_since_restore: 0.10191059112548828\n",
      "  time_this_iter_s: 0.008848428726196289\n",
      "  time_total_s: 0.10191059112548828\n",
      "  timestamp: 1638688081\n",
      "  timesteps_since_restore: 0\n",
      "  training_iteration: 10\n",
      "  trial_id: 0e577_00001\n",
      "  \n",
      "Result for training_function_0e577_00002:\n",
      "  date: 2021-12-05_20-08-05\n",
      "  done: false\n",
      "  experiment_id: 59b6a25d4e3647a284842bb0b0335399\n",
      "  hostname: LAPTOP-5F3V9FNM\n",
      "  iterations_since_restore: 1\n",
      "  mean_loss: 10.3\n",
      "  neg_mean_loss: -10.3\n",
      "  node_ip: 127.0.0.1\n",
      "  pid: 7540\n",
      "  time_since_restore: 0.0008618831634521484\n",
      "  time_this_iter_s: 0.0008618831634521484\n",
      "  time_total_s: 0.0008618831634521484\n",
      "  timestamp: 1638688085\n",
      "  timesteps_since_restore: 0\n",
      "  training_iteration: 1\n",
      "  trial_id: 0e577_00002\n",
      "  \n",
      "Result for training_function_0e577_00002:\n",
      "  date: 2021-12-05_20-08-05\n",
      "  done: true\n",
      "  experiment_id: 59b6a25d4e3647a284842bb0b0335399\n",
      "  experiment_tag: 2_alpha=0.1,beta=3\n",
      "  hostname: LAPTOP-5F3V9FNM\n",
      "  iterations_since_restore: 10\n",
      "  mean_loss: 9.474311926605504\n",
      "  neg_mean_loss: -9.474311926605504\n",
      "  node_ip: 127.0.0.1\n",
      "  pid: 7540\n",
      "  time_since_restore: 0.053261756896972656\n",
      "  time_this_iter_s: 0.004644870758056641\n",
      "  time_total_s: 0.053261756896972656\n",
      "  timestamp: 1638688085\n",
      "  timesteps_since_restore: 0\n",
      "  training_iteration: 10\n",
      "  trial_id: 0e577_00002\n",
      "  \n"
     ]
    },
    {
     "data": {
      "text/html": [
       "== Status ==<br>Current time: 2021-12-05 20:08:05 (running for 00:00:16.02)<br>Memory usage on this node: 6.4/7.9 GiB<br>Using FIFO scheduling algorithm.<br>Resources requested: 0/8 CPUs, 0/2 GPUs, 0.0/2.78 GiB heap, 0.0/1.39 GiB objects<br>Result logdir: C:\\Users\\James\\ray_results\\training_function_2021-12-05_20-07-49<br>Number of trials: 3/3 (3 TERMINATED)<br><table>\n",
       "<thead>\n",
       "<tr><th>Trial name                   </th><th>status    </th><th>loc            </th><th style=\"text-align: right;\">  alpha</th><th style=\"text-align: right;\">  beta</th><th style=\"text-align: right;\">    loss</th><th style=\"text-align: right;\">  iter</th><th style=\"text-align: right;\">  total time (s)</th><th style=\"text-align: right;\">  neg_mean_loss</th></tr>\n",
       "</thead>\n",
       "<tbody>\n",
       "<tr><td>training_function_0e577_00000</td><td>TERMINATED</td><td>127.0.0.1:10148</td><td style=\"text-align: right;\">  0.001</td><td style=\"text-align: right;\">     1</td><td style=\"text-align: right;\">10.091  </td><td style=\"text-align: right;\">    10</td><td style=\"text-align: right;\">       0.0988648</td><td style=\"text-align: right;\">      -10.091  </td></tr>\n",
       "<tr><td>training_function_0e577_00001</td><td>TERMINATED</td><td>127.0.0.1:8464 </td><td style=\"text-align: right;\">  0.01 </td><td style=\"text-align: right;\">     1</td><td style=\"text-align: right;\">10.0108 </td><td style=\"text-align: right;\">    10</td><td style=\"text-align: right;\">       0.101911 </td><td style=\"text-align: right;\">      -10.0108 </td></tr>\n",
       "<tr><td>training_function_0e577_00002</td><td>TERMINATED</td><td>127.0.0.1:7540 </td><td style=\"text-align: right;\">  0.1  </td><td style=\"text-align: right;\">     3</td><td style=\"text-align: right;\"> 9.47431</td><td style=\"text-align: right;\">    10</td><td style=\"text-align: right;\">       0.0532618</td><td style=\"text-align: right;\">       -9.47431</td></tr>\n",
       "</tbody>\n",
       "</table><br><br>"
      ],
      "text/plain": [
       "<IPython.core.display.HTML object>"
      ]
     },
     "metadata": {},
     "output_type": "display_data"
    },
    {
     "name": "stderr",
     "output_type": "stream",
     "text": [
      "2021-12-05 20:08:05,984\tINFO tune.py:626 -- Total run time: 16.49 seconds (16.01 seconds for the tuning loop).\n"
     ]
    },
    {
     "name": "stdout",
     "output_type": "stream",
     "text": [
      "Best config:  {'alpha': 0.1, 'beta': 3}\n"
     ]
    },
    {
     "name": "stderr",
     "output_type": "stream",
     "text": [
      "D:\\anaconda3\\envs\\yourenvname\\lib\\site-packages\\ray\\tune\\analysis\\experiment_analysis.py:262: UserWarning: Dataframes will use '/' instead of '.' to delimit nested result keys in future versions of Ray. For forward compatibility, set the environment variable TUNE_RESULT_DELIM='/'\n",
      "  warnings.warn(\n"
     ]
    }
   ],
   "source": [
    "from ray import tune\n",
    "\n",
    "def objective(step, alpha, beta):\n",
    "    return (0.1 + alpha * step / 100)**(-1) + beta * 0.1\n",
    "\n",
    "def training_function(config):\n",
    "    # Hyperparameters\n",
    "    alpha, beta = config[\"alpha\"], config[\"beta\"]\n",
    "    for step in range(10):\n",
    "        # Iterative training function - can be any arbitrary training procedure.\n",
    "        intermediate_score = objective(step, alpha, beta)\n",
    "        # Feed the score back back to Tune.\n",
    "        tune.report(mean_loss=intermediate_score)\n",
    "\n",
    "\n",
    "analysis = tune.run(\n",
    "    training_function,\n",
    "    config={\n",
    "        \"alpha\": tune.grid_search([0.001, 0.01, 0.1]),\n",
    "        \"beta\": tune.choice([1, 2, 3])\n",
    "    })\n",
    "\n",
    "print(\"Best config: \", analysis.get_best_config(\n",
    "    metric=\"mean_loss\", mode=\"min\"))\n",
    "\n",
    "# Get a dataframe for analyzing trial results.\n",
    "df = analysis.results_df"
   ]
  },
  {
   "cell_type": "markdown",
   "id": "173d0417",
   "metadata": {},
   "source": [
    "Concepts"
   ]
  },
  {
   "cell_type": "code",
   "execution_count": 3,
   "id": "a7b8612a",
   "metadata": {},
   "outputs": [
    {
     "name": "stderr",
     "output_type": "stream",
     "text": [
      "2021-12-05 20:08:45,529\tWARNING tune.py:570 -- Tune detects GPUs, but no trials are using GPUs. To enable trials to use GPUs, set tune.run(resources_per_trial={'gpu': 1}...) which allows Tune to expose 1 GPU to each trial. You can also override `Trainable.default_resource_request` if using the Trainable API.\n"
     ]
    },
    {
     "data": {
      "text/html": [
       "== Status ==<br>Current time: 2021-12-05 20:08:45 (running for 00:00:00.13)<br>Memory usage on this node: 6.3/7.9 GiB<br>Using FIFO scheduling algorithm.<br>Resources requested: 0/8 CPUs, 0/2 GPUs, 0.0/2.78 GiB heap, 0.0/1.39 GiB objects<br>Result logdir: C:\\Users\\James\\ray_results\\trainable_2021-12-05_20-08-45<br>Number of trials: 1/1 (1 PENDING)<br><table>\n",
       "<thead>\n",
       "<tr><th>Trial name           </th><th>status  </th><th>loc  </th></tr>\n",
       "</thead>\n",
       "<tbody>\n",
       "<tr><td>trainable_2fb30_00000</td><td>PENDING </td><td>     </td></tr>\n",
       "</tbody>\n",
       "</table><br><br>"
      ],
      "text/plain": [
       "<IPython.core.display.HTML object>"
      ]
     },
     "metadata": {},
     "output_type": "display_data"
    },
    {
     "data": {
      "text/html": [
       "== Status ==<br>Current time: 2021-12-05 20:08:50 (running for 00:00:05.13)<br>Memory usage on this node: 6.3/7.9 GiB<br>Using FIFO scheduling algorithm.<br>Resources requested: 0/8 CPUs, 0/2 GPUs, 0.0/2.78 GiB heap, 0.0/1.39 GiB objects<br>Result logdir: C:\\Users\\James\\ray_results\\trainable_2021-12-05_20-08-45<br>Number of trials: 1/1 (1 PENDING)<br><table>\n",
       "<thead>\n",
       "<tr><th>Trial name           </th><th>status  </th><th>loc  </th></tr>\n",
       "</thead>\n",
       "<tbody>\n",
       "<tr><td>trainable_2fb30_00000</td><td>PENDING </td><td>     </td></tr>\n",
       "</tbody>\n",
       "</table><br><br>"
      ],
      "text/plain": [
       "<IPython.core.display.HTML object>"
      ]
     },
     "metadata": {},
     "output_type": "display_data"
    },
    {
     "data": {
      "text/html": [
       "== Status ==<br>Current time: 2021-12-05 20:08:55 (running for 00:00:10.14)<br>Memory usage on this node: 6.3/7.9 GiB<br>Using FIFO scheduling algorithm.<br>Resources requested: 0/8 CPUs, 0/2 GPUs, 0.0/2.78 GiB heap, 0.0/1.39 GiB objects<br>Result logdir: C:\\Users\\James\\ray_results\\trainable_2021-12-05_20-08-45<br>Number of trials: 1/1 (1 PENDING)<br><table>\n",
       "<thead>\n",
       "<tr><th>Trial name           </th><th>status  </th><th>loc  </th></tr>\n",
       "</thead>\n",
       "<tbody>\n",
       "<tr><td>trainable_2fb30_00000</td><td>PENDING </td><td>     </td></tr>\n",
       "</tbody>\n",
       "</table><br><br>"
      ],
      "text/plain": [
       "<IPython.core.display.HTML object>"
      ]
     },
     "metadata": {},
     "output_type": "display_data"
    },
    {
     "data": {
      "text/html": [
       "== Status ==<br>Current time: 2021-12-05 20:09:00 (running for 00:00:15.14)<br>Memory usage on this node: 6.3/7.9 GiB<br>Using FIFO scheduling algorithm.<br>Resources requested: 0/8 CPUs, 0/2 GPUs, 0.0/2.78 GiB heap, 0.0/1.39 GiB objects<br>Result logdir: C:\\Users\\James\\ray_results\\trainable_2021-12-05_20-08-45<br>Number of trials: 1/1 (1 PENDING)<br><table>\n",
       "<thead>\n",
       "<tr><th>Trial name           </th><th>status  </th><th>loc  </th></tr>\n",
       "</thead>\n",
       "<tbody>\n",
       "<tr><td>trainable_2fb30_00000</td><td>PENDING </td><td>     </td></tr>\n",
       "</tbody>\n",
       "</table><br><br>"
      ],
      "text/plain": [
       "<IPython.core.display.HTML object>"
      ]
     },
     "metadata": {},
     "output_type": "display_data"
    },
    {
     "data": {
      "text/html": [
       "== Status ==<br>Current time: 2021-12-05 20:09:05 (running for 00:00:20.14)<br>Memory usage on this node: 6.2/7.9 GiB<br>Using FIFO scheduling algorithm.<br>Resources requested: 0/8 CPUs, 0/2 GPUs, 0.0/2.78 GiB heap, 0.0/1.39 GiB objects<br>Result logdir: C:\\Users\\James\\ray_results\\trainable_2021-12-05_20-08-45<br>Number of trials: 1/1 (1 PENDING)<br><table>\n",
       "<thead>\n",
       "<tr><th>Trial name           </th><th>status  </th><th>loc  </th></tr>\n",
       "</thead>\n",
       "<tbody>\n",
       "<tr><td>trainable_2fb30_00000</td><td>PENDING </td><td>     </td></tr>\n",
       "</tbody>\n",
       "</table><br><br>"
      ],
      "text/plain": [
       "<IPython.core.display.HTML object>"
      ]
     },
     "metadata": {},
     "output_type": "display_data"
    },
    {
     "data": {
      "text/html": [
       "== Status ==<br>Current time: 2021-12-05 20:09:10 (running for 00:00:25.15)<br>Memory usage on this node: 6.2/7.9 GiB<br>Using FIFO scheduling algorithm.<br>Resources requested: 0/8 CPUs, 0/2 GPUs, 0.0/2.78 GiB heap, 0.0/1.39 GiB objects<br>Result logdir: C:\\Users\\James\\ray_results\\trainable_2021-12-05_20-08-45<br>Number of trials: 1/1 (1 PENDING)<br><table>\n",
       "<thead>\n",
       "<tr><th>Trial name           </th><th>status  </th><th>loc  </th></tr>\n",
       "</thead>\n",
       "<tbody>\n",
       "<tr><td>trainable_2fb30_00000</td><td>PENDING </td><td>     </td></tr>\n",
       "</tbody>\n",
       "</table><br><br>"
      ],
      "text/plain": [
       "<IPython.core.display.HTML object>"
      ]
     },
     "metadata": {},
     "output_type": "display_data"
    },
    {
     "data": {
      "text/html": [
       "== Status ==<br>Current time: 2021-12-05 20:09:15 (running for 00:00:30.15)<br>Memory usage on this node: 6.2/7.9 GiB<br>Using FIFO scheduling algorithm.<br>Resources requested: 0/8 CPUs, 0/2 GPUs, 0.0/2.78 GiB heap, 0.0/1.39 GiB objects<br>Result logdir: C:\\Users\\James\\ray_results\\trainable_2021-12-05_20-08-45<br>Number of trials: 1/1 (1 PENDING)<br><table>\n",
       "<thead>\n",
       "<tr><th>Trial name           </th><th>status  </th><th>loc  </th></tr>\n",
       "</thead>\n",
       "<tbody>\n",
       "<tr><td>trainable_2fb30_00000</td><td>PENDING </td><td>     </td></tr>\n",
       "</tbody>\n",
       "</table><br><br>"
      ],
      "text/plain": [
       "<IPython.core.display.HTML object>"
      ]
     },
     "metadata": {},
     "output_type": "display_data"
    },
    {
     "data": {
      "text/html": [
       "== Status ==<br>Current time: 2021-12-05 20:09:20 (running for 00:00:35.15)<br>Memory usage on this node: 6.2/7.9 GiB<br>Using FIFO scheduling algorithm.<br>Resources requested: 0/8 CPUs, 0/2 GPUs, 0.0/2.78 GiB heap, 0.0/1.39 GiB objects<br>Result logdir: C:\\Users\\James\\ray_results\\trainable_2021-12-05_20-08-45<br>Number of trials: 1/1 (1 PENDING)<br><table>\n",
       "<thead>\n",
       "<tr><th>Trial name           </th><th>status  </th><th>loc  </th></tr>\n",
       "</thead>\n",
       "<tbody>\n",
       "<tr><td>trainable_2fb30_00000</td><td>PENDING </td><td>     </td></tr>\n",
       "</tbody>\n",
       "</table><br><br>"
      ],
      "text/plain": [
       "<IPython.core.display.HTML object>"
      ]
     },
     "metadata": {},
     "output_type": "display_data"
    },
    {
     "data": {
      "text/html": [
       "== Status ==<br>Current time: 2021-12-05 20:09:25 (running for 00:00:40.16)<br>Memory usage on this node: 6.2/7.9 GiB<br>Using FIFO scheduling algorithm.<br>Resources requested: 0/8 CPUs, 0/2 GPUs, 0.0/2.78 GiB heap, 0.0/1.39 GiB objects<br>Result logdir: C:\\Users\\James\\ray_results\\trainable_2021-12-05_20-08-45<br>Number of trials: 1/1 (1 PENDING)<br><table>\n",
       "<thead>\n",
       "<tr><th>Trial name           </th><th>status  </th><th>loc  </th></tr>\n",
       "</thead>\n",
       "<tbody>\n",
       "<tr><td>trainable_2fb30_00000</td><td>PENDING </td><td>     </td></tr>\n",
       "</tbody>\n",
       "</table><br><br>"
      ],
      "text/plain": [
       "<IPython.core.display.HTML object>"
      ]
     },
     "metadata": {},
     "output_type": "display_data"
    },
    {
     "data": {
      "text/html": [
       "== Status ==<br>Current time: 2021-12-05 20:09:30 (running for 00:00:45.16)<br>Memory usage on this node: 6.2/7.9 GiB<br>Using FIFO scheduling algorithm.<br>Resources requested: 0/8 CPUs, 0/2 GPUs, 0.0/2.78 GiB heap, 0.0/1.39 GiB objects<br>Result logdir: C:\\Users\\James\\ray_results\\trainable_2021-12-05_20-08-45<br>Number of trials: 1/1 (1 PENDING)<br><table>\n",
       "<thead>\n",
       "<tr><th>Trial name           </th><th>status  </th><th>loc  </th></tr>\n",
       "</thead>\n",
       "<tbody>\n",
       "<tr><td>trainable_2fb30_00000</td><td>PENDING </td><td>     </td></tr>\n",
       "</tbody>\n",
       "</table><br><br>"
      ],
      "text/plain": [
       "<IPython.core.display.HTML object>"
      ]
     },
     "metadata": {},
     "output_type": "display_data"
    },
    {
     "data": {
      "text/html": [
       "== Status ==<br>Current time: 2021-12-05 20:09:35 (running for 00:00:50.17)<br>Memory usage on this node: 6.2/7.9 GiB<br>Using FIFO scheduling algorithm.<br>Resources requested: 0/8 CPUs, 0/2 GPUs, 0.0/2.78 GiB heap, 0.0/1.39 GiB objects<br>Result logdir: C:\\Users\\James\\ray_results\\trainable_2021-12-05_20-08-45<br>Number of trials: 1/1 (1 PENDING)<br><table>\n",
       "<thead>\n",
       "<tr><th>Trial name           </th><th>status  </th><th>loc  </th></tr>\n",
       "</thead>\n",
       "<tbody>\n",
       "<tr><td>trainable_2fb30_00000</td><td>PENDING </td><td>     </td></tr>\n",
       "</tbody>\n",
       "</table><br><br>"
      ],
      "text/plain": [
       "<IPython.core.display.HTML object>"
      ]
     },
     "metadata": {},
     "output_type": "display_data"
    },
    {
     "data": {
      "text/html": [
       "== Status ==<br>Current time: 2021-12-05 20:09:40 (running for 00:00:55.17)<br>Memory usage on this node: 6.2/7.9 GiB<br>Using FIFO scheduling algorithm.<br>Resources requested: 0/8 CPUs, 0/2 GPUs, 0.0/2.78 GiB heap, 0.0/1.39 GiB objects<br>Result logdir: C:\\Users\\James\\ray_results\\trainable_2021-12-05_20-08-45<br>Number of trials: 1/1 (1 PENDING)<br><table>\n",
       "<thead>\n",
       "<tr><th>Trial name           </th><th>status  </th><th>loc  </th></tr>\n",
       "</thead>\n",
       "<tbody>\n",
       "<tr><td>trainable_2fb30_00000</td><td>PENDING </td><td>     </td></tr>\n",
       "</tbody>\n",
       "</table><br><br>"
      ],
      "text/plain": [
       "<IPython.core.display.HTML object>"
      ]
     },
     "metadata": {},
     "output_type": "display_data"
    },
    {
     "data": {
      "text/html": [
       "== Status ==<br>Current time: 2021-12-05 20:09:45 (running for 00:01:00.18)<br>Memory usage on this node: 6.2/7.9 GiB<br>Using FIFO scheduling algorithm.<br>Resources requested: 0/8 CPUs, 0/2 GPUs, 0.0/2.78 GiB heap, 0.0/1.39 GiB objects<br>Result logdir: C:\\Users\\James\\ray_results\\trainable_2021-12-05_20-08-45<br>Number of trials: 1/1 (1 PENDING)<br><table>\n",
       "<thead>\n",
       "<tr><th>Trial name           </th><th>status  </th><th>loc  </th></tr>\n",
       "</thead>\n",
       "<tbody>\n",
       "<tr><td>trainable_2fb30_00000</td><td>PENDING </td><td>     </td></tr>\n",
       "</tbody>\n",
       "</table><br><br>"
      ],
      "text/plain": [
       "<IPython.core.display.HTML object>"
      ]
     },
     "metadata": {},
     "output_type": "display_data"
    },
    {
     "data": {
      "text/html": [
       "== Status ==<br>Current time: 2021-12-05 20:09:50 (running for 00:01:05.18)<br>Memory usage on this node: 6.3/7.9 GiB<br>Using FIFO scheduling algorithm.<br>Resources requested: 0/8 CPUs, 0/2 GPUs, 0.0/2.78 GiB heap, 0.0/1.39 GiB objects<br>Result logdir: C:\\Users\\James\\ray_results\\trainable_2021-12-05_20-08-45<br>Number of trials: 1/1 (1 PENDING)<br><table>\n",
       "<thead>\n",
       "<tr><th>Trial name           </th><th>status  </th><th>loc  </th></tr>\n",
       "</thead>\n",
       "<tbody>\n",
       "<tr><td>trainable_2fb30_00000</td><td>PENDING </td><td>     </td></tr>\n",
       "</tbody>\n",
       "</table><br><br>"
      ],
      "text/plain": [
       "<IPython.core.display.HTML object>"
      ]
     },
     "metadata": {},
     "output_type": "display_data"
    },
    {
     "data": {
      "text/html": [
       "== Status ==<br>Current time: 2021-12-05 20:09:55 (running for 00:01:10.20)<br>Memory usage on this node: 6.3/7.9 GiB<br>Using FIFO scheduling algorithm.<br>Resources requested: 0/8 CPUs, 0/2 GPUs, 0.0/2.78 GiB heap, 0.0/1.39 GiB objects<br>Result logdir: C:\\Users\\James\\ray_results\\trainable_2021-12-05_20-08-45<br>Number of trials: 1/1 (1 PENDING)<br><table>\n",
       "<thead>\n",
       "<tr><th>Trial name           </th><th>status  </th><th>loc  </th></tr>\n",
       "</thead>\n",
       "<tbody>\n",
       "<tr><td>trainable_2fb30_00000</td><td>PENDING </td><td>     </td></tr>\n",
       "</tbody>\n",
       "</table><br><br>"
      ],
      "text/plain": [
       "<IPython.core.display.HTML object>"
      ]
     },
     "metadata": {},
     "output_type": "display_data"
    },
    {
     "data": {
      "text/html": [
       "== Status ==<br>Current time: 2021-12-05 20:10:00 (running for 00:01:15.20)<br>Memory usage on this node: 6.3/7.9 GiB<br>Using FIFO scheduling algorithm.<br>Resources requested: 0/8 CPUs, 0/2 GPUs, 0.0/2.78 GiB heap, 0.0/1.39 GiB objects<br>Result logdir: C:\\Users\\James\\ray_results\\trainable_2021-12-05_20-08-45<br>Number of trials: 1/1 (1 PENDING)<br><table>\n",
       "<thead>\n",
       "<tr><th>Trial name           </th><th>status  </th><th>loc  </th></tr>\n",
       "</thead>\n",
       "<tbody>\n",
       "<tr><td>trainable_2fb30_00000</td><td>PENDING </td><td>     </td></tr>\n",
       "</tbody>\n",
       "</table><br><br>"
      ],
      "text/plain": [
       "<IPython.core.display.HTML object>"
      ]
     },
     "metadata": {},
     "output_type": "display_data"
    },
    {
     "data": {
      "text/html": [
       "== Status ==<br>Current time: 2021-12-05 20:10:05 (running for 00:01:20.20)<br>Memory usage on this node: 6.3/7.9 GiB<br>Using FIFO scheduling algorithm.<br>Resources requested: 0/8 CPUs, 0/2 GPUs, 0.0/2.78 GiB heap, 0.0/1.39 GiB objects<br>Result logdir: C:\\Users\\James\\ray_results\\trainable_2021-12-05_20-08-45<br>Number of trials: 1/1 (1 PENDING)<br><table>\n",
       "<thead>\n",
       "<tr><th>Trial name           </th><th>status  </th><th>loc  </th></tr>\n",
       "</thead>\n",
       "<tbody>\n",
       "<tr><td>trainable_2fb30_00000</td><td>PENDING </td><td>     </td></tr>\n",
       "</tbody>\n",
       "</table><br><br>"
      ],
      "text/plain": [
       "<IPython.core.display.HTML object>"
      ]
     },
     "metadata": {},
     "output_type": "display_data"
    },
    {
     "data": {
      "text/html": [
       "== Status ==<br>Current time: 2021-12-05 20:10:10 (running for 00:01:25.20)<br>Memory usage on this node: 6.3/7.9 GiB<br>Using FIFO scheduling algorithm.<br>Resources requested: 0/8 CPUs, 0/2 GPUs, 0.0/2.78 GiB heap, 0.0/1.39 GiB objects<br>Result logdir: C:\\Users\\James\\ray_results\\trainable_2021-12-05_20-08-45<br>Number of trials: 1/1 (1 PENDING)<br><table>\n",
       "<thead>\n",
       "<tr><th>Trial name           </th><th>status  </th><th>loc  </th></tr>\n",
       "</thead>\n",
       "<tbody>\n",
       "<tr><td>trainable_2fb30_00000</td><td>PENDING </td><td>     </td></tr>\n",
       "</tbody>\n",
       "</table><br><br>"
      ],
      "text/plain": [
       "<IPython.core.display.HTML object>"
      ]
     },
     "metadata": {},
     "output_type": "display_data"
    },
    {
     "data": {
      "text/html": [
       "== Status ==<br>Current time: 2021-12-05 20:10:15 (running for 00:01:30.21)<br>Memory usage on this node: 6.4/7.9 GiB<br>Using FIFO scheduling algorithm.<br>Resources requested: 0/8 CPUs, 0/2 GPUs, 0.0/2.78 GiB heap, 0.0/1.39 GiB objects<br>Result logdir: C:\\Users\\James\\ray_results\\trainable_2021-12-05_20-08-45<br>Number of trials: 1/1 (1 PENDING)<br><table>\n",
       "<thead>\n",
       "<tr><th>Trial name           </th><th>status  </th><th>loc  </th></tr>\n",
       "</thead>\n",
       "<tbody>\n",
       "<tr><td>trainable_2fb30_00000</td><td>PENDING </td><td>     </td></tr>\n",
       "</tbody>\n",
       "</table><br><br>"
      ],
      "text/plain": [
       "<IPython.core.display.HTML object>"
      ]
     },
     "metadata": {},
     "output_type": "display_data"
    },
    {
     "data": {
      "text/html": [
       "== Status ==<br>Current time: 2021-12-05 20:10:20 (running for 00:01:35.21)<br>Memory usage on this node: 6.4/7.9 GiB<br>Using FIFO scheduling algorithm.<br>Resources requested: 0/8 CPUs, 0/2 GPUs, 0.0/2.78 GiB heap, 0.0/1.39 GiB objects<br>Result logdir: C:\\Users\\James\\ray_results\\trainable_2021-12-05_20-08-45<br>Number of trials: 1/1 (1 PENDING)<br><table>\n",
       "<thead>\n",
       "<tr><th>Trial name           </th><th>status  </th><th>loc  </th></tr>\n",
       "</thead>\n",
       "<tbody>\n",
       "<tr><td>trainable_2fb30_00000</td><td>PENDING </td><td>     </td></tr>\n",
       "</tbody>\n",
       "</table><br><br>"
      ],
      "text/plain": [
       "<IPython.core.display.HTML object>"
      ]
     },
     "metadata": {},
     "output_type": "display_data"
    },
    {
     "data": {
      "text/html": [
       "== Status ==<br>Current time: 2021-12-05 20:10:25 (running for 00:01:40.22)<br>Memory usage on this node: 6.4/7.9 GiB<br>Using FIFO scheduling algorithm.<br>Resources requested: 0/8 CPUs, 0/2 GPUs, 0.0/2.78 GiB heap, 0.0/1.39 GiB objects<br>Result logdir: C:\\Users\\James\\ray_results\\trainable_2021-12-05_20-08-45<br>Number of trials: 1/1 (1 PENDING)<br><table>\n",
       "<thead>\n",
       "<tr><th>Trial name           </th><th>status  </th><th>loc  </th></tr>\n",
       "</thead>\n",
       "<tbody>\n",
       "<tr><td>trainable_2fb30_00000</td><td>PENDING </td><td>     </td></tr>\n",
       "</tbody>\n",
       "</table><br><br>"
      ],
      "text/plain": [
       "<IPython.core.display.HTML object>"
      ]
     },
     "metadata": {},
     "output_type": "display_data"
    },
    {
     "data": {
      "text/html": [
       "== Status ==<br>Current time: 2021-12-05 20:10:30 (running for 00:01:45.22)<br>Memory usage on this node: 6.4/7.9 GiB<br>Using FIFO scheduling algorithm.<br>Resources requested: 0/8 CPUs, 0/2 GPUs, 0.0/2.78 GiB heap, 0.0/1.39 GiB objects<br>Result logdir: C:\\Users\\James\\ray_results\\trainable_2021-12-05_20-08-45<br>Number of trials: 1/1 (1 PENDING)<br><table>\n",
       "<thead>\n",
       "<tr><th>Trial name           </th><th>status  </th><th>loc  </th></tr>\n",
       "</thead>\n",
       "<tbody>\n",
       "<tr><td>trainable_2fb30_00000</td><td>PENDING </td><td>     </td></tr>\n",
       "</tbody>\n",
       "</table><br><br>"
      ],
      "text/plain": [
       "<IPython.core.display.HTML object>"
      ]
     },
     "metadata": {},
     "output_type": "display_data"
    },
    {
     "data": {
      "text/html": [
       "== Status ==<br>Current time: 2021-12-05 20:10:35 (running for 00:01:50.23)<br>Memory usage on this node: 6.4/7.9 GiB<br>Using FIFO scheduling algorithm.<br>Resources requested: 0/8 CPUs, 0/2 GPUs, 0.0/2.78 GiB heap, 0.0/1.39 GiB objects<br>Result logdir: C:\\Users\\James\\ray_results\\trainable_2021-12-05_20-08-45<br>Number of trials: 1/1 (1 PENDING)<br><table>\n",
       "<thead>\n",
       "<tr><th>Trial name           </th><th>status  </th><th>loc  </th></tr>\n",
       "</thead>\n",
       "<tbody>\n",
       "<tr><td>trainable_2fb30_00000</td><td>PENDING </td><td>     </td></tr>\n",
       "</tbody>\n",
       "</table><br><br>"
      ],
      "text/plain": [
       "<IPython.core.display.HTML object>"
      ]
     },
     "metadata": {},
     "output_type": "display_data"
    },
    {
     "data": {
      "text/html": [
       "== Status ==<br>Current time: 2021-12-05 20:10:40 (running for 00:01:55.23)<br>Memory usage on this node: 6.4/7.9 GiB<br>Using FIFO scheduling algorithm.<br>Resources requested: 0/8 CPUs, 0/2 GPUs, 0.0/2.78 GiB heap, 0.0/1.39 GiB objects<br>Result logdir: C:\\Users\\James\\ray_results\\trainable_2021-12-05_20-08-45<br>Number of trials: 1/1 (1 PENDING)<br><table>\n",
       "<thead>\n",
       "<tr><th>Trial name           </th><th>status  </th><th>loc  </th></tr>\n",
       "</thead>\n",
       "<tbody>\n",
       "<tr><td>trainable_2fb30_00000</td><td>PENDING </td><td>     </td></tr>\n",
       "</tbody>\n",
       "</table><br><br>"
      ],
      "text/plain": [
       "<IPython.core.display.HTML object>"
      ]
     },
     "metadata": {},
     "output_type": "display_data"
    },
    {
     "data": {
      "text/html": [
       "== Status ==<br>Current time: 2021-12-05 20:10:45 (running for 00:02:00.24)<br>Memory usage on this node: 6.4/7.9 GiB<br>Using FIFO scheduling algorithm.<br>Resources requested: 0/8 CPUs, 0/2 GPUs, 0.0/2.78 GiB heap, 0.0/1.39 GiB objects<br>Result logdir: C:\\Users\\James\\ray_results\\trainable_2021-12-05_20-08-45<br>Number of trials: 1/1 (1 PENDING)<br><table>\n",
       "<thead>\n",
       "<tr><th>Trial name           </th><th>status  </th><th>loc  </th></tr>\n",
       "</thead>\n",
       "<tbody>\n",
       "<tr><td>trainable_2fb30_00000</td><td>PENDING </td><td>     </td></tr>\n",
       "</tbody>\n",
       "</table><br><br>"
      ],
      "text/plain": [
       "<IPython.core.display.HTML object>"
      ]
     },
     "metadata": {},
     "output_type": "display_data"
    },
    {
     "data": {
      "text/html": [
       "== Status ==<br>Current time: 2021-12-05 20:10:50 (running for 00:02:05.24)<br>Memory usage on this node: 6.4/7.9 GiB<br>Using FIFO scheduling algorithm.<br>Resources requested: 0/8 CPUs, 0/2 GPUs, 0.0/2.78 GiB heap, 0.0/1.39 GiB objects<br>Result logdir: C:\\Users\\James\\ray_results\\trainable_2021-12-05_20-08-45<br>Number of trials: 1/1 (1 PENDING)<br><table>\n",
       "<thead>\n",
       "<tr><th>Trial name           </th><th>status  </th><th>loc  </th></tr>\n",
       "</thead>\n",
       "<tbody>\n",
       "<tr><td>trainable_2fb30_00000</td><td>PENDING </td><td>     </td></tr>\n",
       "</tbody>\n",
       "</table><br><br>"
      ],
      "text/plain": [
       "<IPython.core.display.HTML object>"
      ]
     },
     "metadata": {},
     "output_type": "display_data"
    },
    {
     "data": {
      "text/html": [
       "== Status ==<br>Current time: 2021-12-05 20:10:55 (running for 00:02:10.25)<br>Memory usage on this node: 6.4/7.9 GiB<br>Using FIFO scheduling algorithm.<br>Resources requested: 0/8 CPUs, 0/2 GPUs, 0.0/2.78 GiB heap, 0.0/1.39 GiB objects<br>Result logdir: C:\\Users\\James\\ray_results\\trainable_2021-12-05_20-08-45<br>Number of trials: 1/1 (1 PENDING)<br><table>\n",
       "<thead>\n",
       "<tr><th>Trial name           </th><th>status  </th><th>loc  </th></tr>\n",
       "</thead>\n",
       "<tbody>\n",
       "<tr><td>trainable_2fb30_00000</td><td>PENDING </td><td>     </td></tr>\n",
       "</tbody>\n",
       "</table><br><br>"
      ],
      "text/plain": [
       "<IPython.core.display.HTML object>"
      ]
     },
     "metadata": {},
     "output_type": "display_data"
    },
    {
     "data": {
      "text/html": [
       "== Status ==<br>Current time: 2021-12-05 20:11:00 (running for 00:02:15.26)<br>Memory usage on this node: 6.4/7.9 GiB<br>Using FIFO scheduling algorithm.<br>Resources requested: 0/8 CPUs, 0/2 GPUs, 0.0/2.78 GiB heap, 0.0/1.39 GiB objects<br>Result logdir: C:\\Users\\James\\ray_results\\trainable_2021-12-05_20-08-45<br>Number of trials: 1/1 (1 PENDING)<br><table>\n",
       "<thead>\n",
       "<tr><th>Trial name           </th><th>status  </th><th>loc  </th></tr>\n",
       "</thead>\n",
       "<tbody>\n",
       "<tr><td>trainable_2fb30_00000</td><td>PENDING </td><td>     </td></tr>\n",
       "</tbody>\n",
       "</table><br><br>"
      ],
      "text/plain": [
       "<IPython.core.display.HTML object>"
      ]
     },
     "metadata": {},
     "output_type": "display_data"
    },
    {
     "data": {
      "text/html": [
       "== Status ==<br>Current time: 2021-12-05 20:11:05 (running for 00:02:20.26)<br>Memory usage on this node: 6.4/7.9 GiB<br>Using FIFO scheduling algorithm.<br>Resources requested: 0/8 CPUs, 0/2 GPUs, 0.0/2.78 GiB heap, 0.0/1.39 GiB objects<br>Result logdir: C:\\Users\\James\\ray_results\\trainable_2021-12-05_20-08-45<br>Number of trials: 1/1 (1 PENDING)<br><table>\n",
       "<thead>\n",
       "<tr><th>Trial name           </th><th>status  </th><th>loc  </th></tr>\n",
       "</thead>\n",
       "<tbody>\n",
       "<tr><td>trainable_2fb30_00000</td><td>PENDING </td><td>     </td></tr>\n",
       "</tbody>\n",
       "</table><br><br>"
      ],
      "text/plain": [
       "<IPython.core.display.HTML object>"
      ]
     },
     "metadata": {},
     "output_type": "display_data"
    },
    {
     "data": {
      "text/html": [
       "== Status ==<br>Current time: 2021-12-05 20:11:10 (running for 00:02:25.26)<br>Memory usage on this node: 6.4/7.9 GiB<br>Using FIFO scheduling algorithm.<br>Resources requested: 0/8 CPUs, 0/2 GPUs, 0.0/2.78 GiB heap, 0.0/1.39 GiB objects<br>Result logdir: C:\\Users\\James\\ray_results\\trainable_2021-12-05_20-08-45<br>Number of trials: 1/1 (1 PENDING)<br><table>\n",
       "<thead>\n",
       "<tr><th>Trial name           </th><th>status  </th><th>loc  </th></tr>\n",
       "</thead>\n",
       "<tbody>\n",
       "<tr><td>trainable_2fb30_00000</td><td>PENDING </td><td>     </td></tr>\n",
       "</tbody>\n",
       "</table><br><br>"
      ],
      "text/plain": [
       "<IPython.core.display.HTML object>"
      ]
     },
     "metadata": {},
     "output_type": "display_data"
    },
    {
     "data": {
      "text/html": [
       "== Status ==<br>Current time: 2021-12-05 20:11:15 (running for 00:02:30.27)<br>Memory usage on this node: 6.4/7.9 GiB<br>Using FIFO scheduling algorithm.<br>Resources requested: 0/8 CPUs, 0/2 GPUs, 0.0/2.78 GiB heap, 0.0/1.39 GiB objects<br>Result logdir: C:\\Users\\James\\ray_results\\trainable_2021-12-05_20-08-45<br>Number of trials: 1/1 (1 PENDING)<br><table>\n",
       "<thead>\n",
       "<tr><th>Trial name           </th><th>status  </th><th>loc  </th></tr>\n",
       "</thead>\n",
       "<tbody>\n",
       "<tr><td>trainable_2fb30_00000</td><td>PENDING </td><td>     </td></tr>\n",
       "</tbody>\n",
       "</table><br><br>"
      ],
      "text/plain": [
       "<IPython.core.display.HTML object>"
      ]
     },
     "metadata": {},
     "output_type": "display_data"
    },
    {
     "data": {
      "text/html": [
       "== Status ==<br>Current time: 2021-12-05 20:11:20 (running for 00:02:35.27)<br>Memory usage on this node: 6.4/7.9 GiB<br>Using FIFO scheduling algorithm.<br>Resources requested: 0/8 CPUs, 0/2 GPUs, 0.0/2.78 GiB heap, 0.0/1.39 GiB objects<br>Result logdir: C:\\Users\\James\\ray_results\\trainable_2021-12-05_20-08-45<br>Number of trials: 1/1 (1 PENDING)<br><table>\n",
       "<thead>\n",
       "<tr><th>Trial name           </th><th>status  </th><th>loc  </th></tr>\n",
       "</thead>\n",
       "<tbody>\n",
       "<tr><td>trainable_2fb30_00000</td><td>PENDING </td><td>     </td></tr>\n",
       "</tbody>\n",
       "</table><br><br>"
      ],
      "text/plain": [
       "<IPython.core.display.HTML object>"
      ]
     },
     "metadata": {},
     "output_type": "display_data"
    },
    {
     "data": {
      "text/html": [
       "== Status ==<br>Current time: 2021-12-05 20:11:25 (running for 00:02:40.28)<br>Memory usage on this node: 6.4/7.9 GiB<br>Using FIFO scheduling algorithm.<br>Resources requested: 0/8 CPUs, 0/2 GPUs, 0.0/2.78 GiB heap, 0.0/1.39 GiB objects<br>Result logdir: C:\\Users\\James\\ray_results\\trainable_2021-12-05_20-08-45<br>Number of trials: 1/1 (1 PENDING)<br><table>\n",
       "<thead>\n",
       "<tr><th>Trial name           </th><th>status  </th><th>loc  </th></tr>\n",
       "</thead>\n",
       "<tbody>\n",
       "<tr><td>trainable_2fb30_00000</td><td>PENDING </td><td>     </td></tr>\n",
       "</tbody>\n",
       "</table><br><br>"
      ],
      "text/plain": [
       "<IPython.core.display.HTML object>"
      ]
     },
     "metadata": {},
     "output_type": "display_data"
    },
    {
     "data": {
      "text/html": [
       "== Status ==<br>Current time: 2021-12-05 20:11:30 (running for 00:02:45.28)<br>Memory usage on this node: 6.4/7.9 GiB<br>Using FIFO scheduling algorithm.<br>Resources requested: 0/8 CPUs, 0/2 GPUs, 0.0/2.78 GiB heap, 0.0/1.39 GiB objects<br>Result logdir: C:\\Users\\James\\ray_results\\trainable_2021-12-05_20-08-45<br>Number of trials: 1/1 (1 PENDING)<br><table>\n",
       "<thead>\n",
       "<tr><th>Trial name           </th><th>status  </th><th>loc  </th></tr>\n",
       "</thead>\n",
       "<tbody>\n",
       "<tr><td>trainable_2fb30_00000</td><td>PENDING </td><td>     </td></tr>\n",
       "</tbody>\n",
       "</table><br><br>"
      ],
      "text/plain": [
       "<IPython.core.display.HTML object>"
      ]
     },
     "metadata": {},
     "output_type": "display_data"
    },
    {
     "name": "stderr",
     "output_type": "stream",
     "text": [
      "2021-12-05 20:11:33,949\tWARNING tune.py:582 -- SIGINT received (e.g. via Ctrl+C), ending Ray Tune run. This will try to checkpoint the experiment state one last time. Press CTRL+C one more time (or send SIGINT/SIGKILL/SIGTERM) to skip. \n"
     ]
    },
    {
     "data": {
      "text/html": [
       "== Status ==<br>Current time: 2021-12-05 20:11:33 (running for 00:02:48.43)<br>Memory usage on this node: 6.4/7.9 GiB<br>Using FIFO scheduling algorithm.<br>Resources requested: 0/8 CPUs, 0/2 GPUs, 0.0/2.78 GiB heap, 0.0/1.39 GiB objects<br>Result logdir: C:\\Users\\James\\ray_results\\trainable_2021-12-05_20-08-45<br>Number of trials: 1/1 (1 PENDING)<br><table>\n",
       "<thead>\n",
       "<tr><th>Trial name           </th><th>status  </th><th>loc  </th></tr>\n",
       "</thead>\n",
       "<tbody>\n",
       "<tr><td>trainable_2fb30_00000</td><td>PENDING </td><td>     </td></tr>\n",
       "</tbody>\n",
       "</table><br><br>"
      ],
      "text/plain": [
       "<IPython.core.display.HTML object>"
      ]
     },
     "metadata": {},
     "output_type": "display_data"
    },
    {
     "name": "stderr",
     "output_type": "stream",
     "text": [
      "2021-12-05 20:11:34,206\tERROR tune.py:622 -- Trials did not complete: [trainable_2fb30_00000]\n",
      "2021-12-05 20:11:34,207\tINFO tune.py:626 -- Total run time: 168.70 seconds (168.42 seconds for the tuning loop).\n",
      "2021-12-05 20:11:34,212\tWARNING tune.py:630 -- Experiment has been interrupted, but the most recent state was saved. You can continue running this experiment by passing `resume=True` to `tune.run()`\n"
     ]
    },
    {
     "data": {
      "text/plain": [
       "<ray.tune.analysis.experiment_analysis.ExperimentAnalysis at 0x1a09d540820>"
      ]
     },
     "execution_count": 3,
     "metadata": {},
     "output_type": "execute_result"
    }
   ],
   "source": [
    "def objective(x, a, b):\n",
    "    return a * (x ** 0.5) + b\n",
    "\n",
    "def trainable(config):\n",
    "    # config (dict): A dict of hyperparameters.\n",
    "\n",
    "    for x in range(20):\n",
    "        score = objective(x, config[\"a\"], config[\"b\"])\n",
    "\n",
    "        tune.report(score=score)  # This sends the score to Tune.\n",
    "        \n",
    "tune.run(trainable, config={\"a\": 2, \"b\": 4})"
   ]
  },
  {
   "cell_type": "code",
   "execution_count": 4,
   "id": "21b0ed28",
   "metadata": {},
   "outputs": [
    {
     "name": "stderr",
     "output_type": "stream",
     "text": [
      "2021-12-05 20:11:34,263\tWARNING tune.py:570 -- Tune detects GPUs, but no trials are using GPUs. To enable trials to use GPUs, set tune.run(resources_per_trial={'gpu': 1}...) which allows Tune to expose 1 GPU to each trial. You can also override `Trainable.default_resource_request` if using the Trainable API.\n"
     ]
    },
    {
     "data": {
      "text/html": [
       "== Status ==<br>Current time: 2021-12-05 20:11:34 (running for 00:00:00.13)<br>Memory usage on this node: 6.4/7.9 GiB<br>Using FIFO scheduling algorithm.<br>Resources requested: 0/8 CPUs, 0/2 GPUs, 0.0/2.78 GiB heap, 0.0/1.39 GiB objects<br>Result logdir: C:\\Users\\James\\ray_results\\trainable_2021-12-05_20-11-34<br>Number of trials: 1/1 (1 PENDING)<br><table>\n",
       "<thead>\n",
       "<tr><th>Trial name           </th><th>status  </th><th>loc  </th></tr>\n",
       "</thead>\n",
       "<tbody>\n",
       "<tr><td>trainable_94456_00000</td><td>PENDING </td><td>     </td></tr>\n",
       "</tbody>\n",
       "</table><br><br>"
      ],
      "text/plain": [
       "<IPython.core.display.HTML object>"
      ]
     },
     "metadata": {},
     "output_type": "display_data"
    },
    {
     "name": "stdout",
     "output_type": "stream",
     "text": [
      "Result for trainable_94456_00000:\n",
      "  date: 2021-12-05_20-11-38\n",
      "  done: false\n",
      "  experiment_id: cd149b7bee30425f8afcfde4b8c7702f\n",
      "  hostname: LAPTOP-5F3V9FNM\n",
      "  iterations_since_restore: 1\n",
      "  node_ip: 127.0.0.1\n",
      "  pid: 8588\n",
      "  score: 4.0\n",
      "  time_since_restore: 0.0\n",
      "  time_this_iter_s: 0.0\n",
      "  time_total_s: 0.0\n",
      "  timestamp: 1638688298\n",
      "  timesteps_since_restore: 0\n",
      "  training_iteration: 1\n",
      "  trial_id: '94456_00000'\n",
      "  \n",
      "Result for trainable_94456_00000:\n",
      "  date: 2021-12-05_20-11-38\n",
      "  done: true\n",
      "  experiment_id: cd149b7bee30425f8afcfde4b8c7702f\n",
      "  experiment_tag: '0'\n",
      "  hostname: LAPTOP-5F3V9FNM\n",
      "  iterations_since_restore: 20\n",
      "  node_ip: 127.0.0.1\n",
      "  pid: 8588\n",
      "  score: 12.717797887081348\n",
      "  time_since_restore: 0.11553835868835449\n",
      "  time_this_iter_s: 0.004808187484741211\n",
      "  time_total_s: 0.11553835868835449\n",
      "  timestamp: 1638688298\n",
      "  timesteps_since_restore: 0\n",
      "  training_iteration: 20\n",
      "  trial_id: '94456_00000'\n",
      "  \n"
     ]
    },
    {
     "data": {
      "text/html": [
       "== Status ==<br>Current time: 2021-12-05 20:11:38 (running for 00:00:04.22)<br>Memory usage on this node: 6.4/7.9 GiB<br>Using FIFO scheduling algorithm.<br>Resources requested: 0/8 CPUs, 0/2 GPUs, 0.0/2.78 GiB heap, 0.0/1.39 GiB objects<br>Result logdir: C:\\Users\\James\\ray_results\\trainable_2021-12-05_20-11-34<br>Number of trials: 1/1 (1 TERMINATED)<br><table>\n",
       "<thead>\n",
       "<tr><th>Trial name           </th><th>status    </th><th>loc           </th><th style=\"text-align: right;\">  iter</th><th style=\"text-align: right;\">  total time (s)</th><th style=\"text-align: right;\">  score</th></tr>\n",
       "</thead>\n",
       "<tbody>\n",
       "<tr><td>trainable_94456_00000</td><td>TERMINATED</td><td>127.0.0.1:8588</td><td style=\"text-align: right;\">    20</td><td style=\"text-align: right;\">        0.115538</td><td style=\"text-align: right;\">12.7178</td></tr>\n",
       "</tbody>\n",
       "</table><br><br>"
      ],
      "text/plain": [
       "<IPython.core.display.HTML object>"
      ]
     },
     "metadata": {},
     "output_type": "display_data"
    },
    {
     "name": "stderr",
     "output_type": "stream",
     "text": [
      "2021-12-05 20:11:38,594\tINFO tune.py:626 -- Total run time: 4.35 seconds (4.20 seconds for the tuning loop).\n"
     ]
    },
    {
     "data": {
      "text/plain": [
       "<ray.tune.analysis.experiment_analysis.ExperimentAnalysis at 0x1a099746df0>"
      ]
     },
     "execution_count": 4,
     "metadata": {},
     "output_type": "execute_result"
    }
   ],
   "source": [
    "tune.run(trainable, config={\"a\": 2, \"b\": 4}, num_samples=1)"
   ]
  },
  {
   "cell_type": "code",
   "execution_count": null,
   "id": "63d79194",
   "metadata": {},
   "outputs": [],
   "source": [
    "space = {\"x\": tune.uniform(0, 1)}\n",
    "tune.run(my_trainable, config=space, num_samples=1)"
   ]
  },
  {
   "cell_type": "code",
   "execution_count": 6,
   "id": "9e1c1564",
   "metadata": {},
   "outputs": [
    {
     "name": "stderr",
     "output_type": "stream",
     "text": [
      "2021-12-05 20:12:14,295\tWARNING bayesopt.py:397 -- BayesOpt does not support specific sampling methods. The Uniform sampler will be dropped.\n",
      "2021-12-05 20:12:14,297\tWARNING bayesopt.py:397 -- BayesOpt does not support specific sampling methods. The Uniform sampler will be dropped.\n",
      "2021-12-05 20:12:14,303\tWARNING tune.py:570 -- Tune detects GPUs, but no trials are using GPUs. To enable trials to use GPUs, set tune.run(resources_per_trial={'gpu': 1}...) which allows Tune to expose 1 GPU to each trial. You can also override `Trainable.default_resource_request` if using the Trainable API.\n"
     ]
    },
    {
     "data": {
      "text/html": [
       "== Status ==<br>Current time: 2021-12-05 20:12:14 (running for 00:00:00.19)<br>Memory usage on this node: 6.4/7.9 GiB<br>Using FIFO scheduling algorithm.<br>Resources requested: 0/8 CPUs, 0/2 GPUs, 0.0/2.78 GiB heap, 0.0/1.39 GiB objects<br>Result logdir: C:\\Users\\James\\ray_results\\trainable_2021-12-05_20-12-14<br>Number of trials: 1/1 (1 PENDING)<br><br>"
      ],
      "text/plain": [
       "<IPython.core.display.HTML object>"
      ]
     },
     "metadata": {},
     "output_type": "display_data"
    },
    {
     "data": {
      "text/html": [
       "== Status ==<br>Current time: 2021-12-05 20:12:22 (running for 00:00:07.90)<br>Memory usage on this node: 6.6/7.9 GiB<br>Using FIFO scheduling algorithm.<br>Resources requested: 1.0/8 CPUs, 0/2 GPUs, 0.0/2.78 GiB heap, 0.0/1.39 GiB objects<br>Result logdir: C:\\Users\\James\\ray_results\\trainable_2021-12-05_20-12-14<br>Number of trials: 1/1 (1 RUNNING)<br><br>"
      ],
      "text/plain": [
       "<IPython.core.display.HTML object>"
      ]
     },
     "metadata": {},
     "output_type": "display_data"
    },
    {
     "name": "stdout",
     "output_type": "stream",
     "text": [
      "Trial trainable_ac24c4e8 reported score=19.01 with parameters={'a': 0.3745401188473625, 'b': 19.01428612819832}.\n",
      "Trial trainable_ac24c4e8 reported score=20.65 with parameters={'a': 0.3745401188473625, 'b': 19.01428612819832}. This trial completed.\n"
     ]
    },
    {
     "data": {
      "text/html": [
       "== Status ==<br>Current time: 2021-12-05 20:12:22 (running for 00:00:08.01)<br>Memory usage on this node: 6.6/7.9 GiB<br>Using FIFO scheduling algorithm.<br>Resources requested: 0/8 CPUs, 0/2 GPUs, 0.0/2.78 GiB heap, 0.0/1.39 GiB objects<br>Current best trial: ac24c4e8 with score=20.64686865655569 and parameters={'a': 0.3745401188473625, 'b': 19.01428612819832}<br>Result logdir: C:\\Users\\James\\ray_results\\trainable_2021-12-05_20-12-14<br>Number of trials: 1/1 (1 TERMINATED)<br><table>\n",
       "<thead>\n",
       "<tr><th>Trial name        </th><th>status    </th><th>loc           </th><th style=\"text-align: right;\">      a</th><th style=\"text-align: right;\">      b</th><th style=\"text-align: right;\">  iter</th><th style=\"text-align: right;\">  total time (s)</th><th style=\"text-align: right;\">  score</th></tr>\n",
       "</thead>\n",
       "<tbody>\n",
       "<tr><td>trainable_ac24c4e8</td><td>TERMINATED</td><td>127.0.0.1:2436</td><td style=\"text-align: right;\">0.37454</td><td style=\"text-align: right;\">19.0143</td><td style=\"text-align: right;\">    20</td><td style=\"text-align: right;\">       0.0927675</td><td style=\"text-align: right;\">20.6469</td></tr>\n",
       "</tbody>\n",
       "</table><br><br>"
      ],
      "text/plain": [
       "<IPython.core.display.HTML object>"
      ]
     },
     "metadata": {},
     "output_type": "display_data"
    },
    {
     "name": "stderr",
     "output_type": "stream",
     "text": [
      "2021-12-05 20:12:22,427\tINFO tune.py:626 -- Total run time: 8.14 seconds (8.00 seconds for the tuning loop).\n"
     ]
    },
    {
     "data": {
      "text/plain": [
       "<ray.tune.analysis.experiment_analysis.ExperimentAnalysis at 0x1a0c65687f0>"
      ]
     },
     "execution_count": 6,
     "metadata": {},
     "output_type": "execute_result"
    }
   ],
   "source": [
    "from ray.tune.suggest import ConcurrencyLimiter\n",
    "from ray.tune.suggest.bayesopt import BayesOptSearch\n",
    "\n",
    "# Define the search space\n",
    "config = {\n",
    "    \"a\": tune.uniform(0, 1),\n",
    "    \"b\": tune.uniform(0, 20)\n",
    "}\n",
    "\n",
    "# Execute 20 trials using BayesOpt and stop after 20 iterations\n",
    "tune.run(\n",
    "    trainable,\n",
    "    config=config,\n",
    "    num_samples=1,\n",
    "    metric=\"score\",\n",
    "    mode=\"max\",\n",
    "    # Limit to two concurrent trials (otherwise we end up with random search)\n",
    "    search_alg=ConcurrencyLimiter(\n",
    "        BayesOptSearch(random_search_steps=4),\n",
    "        max_concurrent=2),\n",
    "    stop={\"training_iteration\": 20},\n",
    "    verbose=2)"
   ]
  },
  {
   "cell_type": "code",
   "execution_count": 7,
   "id": "ba6936ec",
   "metadata": {},
   "outputs": [
    {
     "ename": "NameError",
     "evalue": "name 'MyTrainableClass' is not defined",
     "output_type": "error",
     "traceback": [
      "\u001b[1;31m---------------------------------------------------------------------------\u001b[0m",
      "\u001b[1;31mNameError\u001b[0m                                 Traceback (most recent call last)",
      "\u001b[1;32m~\\AppData\\Local\\Temp/ipykernel_14948/2116809852.py\u001b[0m in \u001b[0;36m<module>\u001b[1;34m\u001b[0m\n\u001b[0;32m      8\u001b[0m \u001b[1;33m\u001b[0m\u001b[0m\n\u001b[0;32m      9\u001b[0m tune.run(\n\u001b[1;32m---> 10\u001b[1;33m     \u001b[0mMyTrainableClass\u001b[0m\u001b[1;33m,\u001b[0m\u001b[1;33m\u001b[0m\u001b[1;33m\u001b[0m\u001b[0m\n\u001b[0m\u001b[0;32m     11\u001b[0m     \u001b[0mconfig\u001b[0m\u001b[1;33m=\u001b[0m\u001b[0mconfigs\u001b[0m\u001b[1;33m,\u001b[0m\u001b[1;33m\u001b[0m\u001b[1;33m\u001b[0m\u001b[0m\n\u001b[0;32m     12\u001b[0m     \u001b[0mnum_samples\u001b[0m\u001b[1;33m=\u001b[0m\u001b[1;36m1\u001b[0m\u001b[1;33m,\u001b[0m\u001b[1;33m\u001b[0m\u001b[1;33m\u001b[0m\u001b[0m\n",
      "\u001b[1;31mNameError\u001b[0m: name 'MyTrainableClass' is not defined"
     ]
    }
   ],
   "source": [
    "from ray.tune.schedulers import HyperBandScheduler\n",
    "\n",
    "# Create HyperBand scheduler and maximize score\n",
    "hyperband = HyperBandScheduler(metric=\"score\", mode=\"max\")\n",
    "\n",
    "# Execute 20 trials using HyperBand using a search space\n",
    "configs = {\"a\": tune.uniform(0, 1), \"b\": tune.uniform(0, 1)}\n",
    "\n",
    "tune.run(\n",
    "    MyTrainableClass,\n",
    "    config=configs,\n",
    "    num_samples=1,\n",
    "    scheduler=hyperband\n",
    ")"
   ]
  },
  {
   "cell_type": "code",
   "execution_count": 4,
   "id": "bbad2521",
   "metadata": {},
   "outputs": [
    {
     "name": "stderr",
     "output_type": "stream",
     "text": [
      "2021-12-05 20:23:09,841\tWARNING bayesopt.py:397 -- BayesOpt does not support specific sampling methods. The Uniform sampler will be dropped.\n",
      "2021-12-05 20:23:09,842\tWARNING bayesopt.py:397 -- BayesOpt does not support specific sampling methods. The Uniform sampler will be dropped.\n",
      "2021-12-05 20:23:09,848\tWARNING tune.py:570 -- Tune detects GPUs, but no trials are using GPUs. To enable trials to use GPUs, set tune.run(resources_per_trial={'gpu': 1}...) which allows Tune to expose 1 GPU to each trial. You can also override `Trainable.default_resource_request` if using the Trainable API.\n"
     ]
    },
    {
     "data": {
      "text/html": [
       "== Status ==<br>Current time: 2021-12-05 20:23:09 (running for 00:00:00.13)<br>Memory usage on this node: 5.9/7.9 GiB<br>Using FIFO scheduling algorithm.<br>Resources requested: 0/4 CPUs, 0/1 GPUs, 0.0/1.45 GiB heap, 0.0/0.73 GiB objects<br>Result logdir: C:\\Users\\James\\ray_results\\trainable_2021-12-05_20-23-09<br>Number of trials: 1/3 (1 PENDING)<br><br>"
      ],
      "text/plain": [
       "<IPython.core.display.HTML object>"
      ]
     },
     "metadata": {},
     "output_type": "display_data"
    },
    {
     "name": "stdout",
     "output_type": "stream",
     "text": [
      "Trial trainable_32e0cea0 reported score=19.01 with parameters={'a': 0.3745401188473625, 'b': 19.01428612819832}.\n",
      "Trial trainable_32e0cea0 reported score=19.66 with parameters={'a': 0.3745401188473625, 'b': 19.01428612819832}. This trial completed.\n",
      "Trial trainable_3325f187 reported score=11.97 with parameters={'a': 0.7319939418114051, 'b': 11.973169683940732}.\n"
     ]
    },
    {
     "data": {
      "text/html": [
       "== Status ==<br>Current time: 2021-12-05 20:23:15 (running for 00:00:06.08)<br>Memory usage on this node: 6.0/7.9 GiB<br>Using FIFO scheduling algorithm.<br>Resources requested: 2.0/4 CPUs, 0/1 GPUs, 0.0/1.45 GiB heap, 0.0/0.73 GiB objects<br>Current best trial: 32e0cea0 with score=19.66300864351484 and parameters={'a': 0.3745401188473625, 'b': 19.01428612819832}<br>Result logdir: C:\\Users\\James\\ray_results\\trainable_2021-12-05_20-23-09<br>Number of trials: 3/3 (2 RUNNING, 1 TERMINATED)<br><br>"
      ],
      "text/plain": [
       "<IPython.core.display.HTML object>"
      ]
     },
     "metadata": {},
     "output_type": "display_data"
    },
    {
     "name": "stdout",
     "output_type": "stream",
     "text": [
      "Trial trainable_34dd59bd reported score=3.12 with parameters={'a': 0.15601864044243652, 'b': 3.119890406724053}.\n",
      "Trial trainable_3325f187 reported score=13.24 with parameters={'a': 0.7319939418114051, 'b': 11.973169683940732}. This trial completed.\n",
      "Trial trainable_34dd59bd reported score=3.39 with parameters={'a': 0.15601864044243652, 'b': 3.119890406724053}. This trial completed.\n"
     ]
    },
    {
     "data": {
      "text/html": [
       "== Status ==<br>Current time: 2021-12-05 20:23:16 (running for 00:00:06.16)<br>Memory usage on this node: 6.0/7.9 GiB<br>Using FIFO scheduling algorithm.<br>Resources requested: 0/4 CPUs, 0/1 GPUs, 0.0/1.45 GiB heap, 0.0/0.73 GiB objects<br>Current best trial: 32e0cea0 with score=19.66300864351484 and parameters={'a': 0.3745401188473625, 'b': 19.01428612819832}<br>Result logdir: C:\\Users\\James\\ray_results\\trainable_2021-12-05_20-23-09<br>Number of trials: 3/3 (3 TERMINATED)<br><table>\n",
       "<thead>\n",
       "<tr><th>Trial name        </th><th>status    </th><th>loc           </th><th style=\"text-align: right;\">       a</th><th style=\"text-align: right;\">       b</th><th style=\"text-align: right;\">  iter</th><th style=\"text-align: right;\">  total time (s)</th><th style=\"text-align: right;\">   score</th></tr>\n",
       "</thead>\n",
       "<tbody>\n",
       "<tr><td>trainable_32e0cea0</td><td>TERMINATED</td><td>127.0.0.1:2708</td><td style=\"text-align: right;\">0.37454 </td><td style=\"text-align: right;\">19.0143 </td><td style=\"text-align: right;\">     4</td><td style=\"text-align: right;\">       0.0146477</td><td style=\"text-align: right;\">19.663  </td></tr>\n",
       "<tr><td>trainable_3325f187</td><td>TERMINATED</td><td>127.0.0.1:764 </td><td style=\"text-align: right;\">0.731994</td><td style=\"text-align: right;\">11.9732 </td><td style=\"text-align: right;\">     4</td><td style=\"text-align: right;\">       0.821234 </td><td style=\"text-align: right;\">13.241  </td></tr>\n",
       "<tr><td>trainable_34dd59bd</td><td>TERMINATED</td><td>127.0.0.1:7904</td><td style=\"text-align: right;\">0.156019</td><td style=\"text-align: right;\"> 3.11989</td><td style=\"text-align: right;\">     4</td><td style=\"text-align: right;\">       0.0478513</td><td style=\"text-align: right;\"> 3.39012</td></tr>\n",
       "</tbody>\n",
       "</table><br><br>"
      ],
      "text/plain": [
       "<IPython.core.display.HTML object>"
      ]
     },
     "metadata": {},
     "output_type": "display_data"
    },
    {
     "name": "stderr",
     "output_type": "stream",
     "text": [
      "2021-12-05 20:23:16,119\tINFO tune.py:626 -- Total run time: 6.28 seconds (6.14 seconds for the tuning loop).\n",
      "2021-12-05 20:23:16,193\tERROR experiment_analysis.py:406 -- No checkpoints have been found for trial trainable_32e0cea0.\n",
      "D:\\anaconda3\\envs\\yourenvname\\lib\\site-packages\\ray\\tune\\analysis\\experiment_analysis.py:262: UserWarning: Dataframes will use '/' instead of '.' to delimit nested result keys in future versions of Ray. For forward compatibility, set the environment variable TUNE_RESULT_DELIM='/'\n",
      "  warnings.warn(\n"
     ]
    }
   ],
   "source": [
    "from ray.tune.suggest import ConcurrencyLimiter\n",
    "from ray.tune.suggest.bayesopt import BayesOptSearch\n",
    "\n",
    "# Define the search space\n",
    "config = {\n",
    "    \"a\": tune.uniform(0, 1),\n",
    "    \"b\": tune.uniform(0, 20)\n",
    "}\n",
    "\n",
    "# Execute 20 trials using BayesOpt and stop after 20 iterations\n",
    "analysis = tune.run(\n",
    "    trainable,\n",
    "    config=config,\n",
    "    num_samples=3,\n",
    "    metric=\"score\",\n",
    "    mode=\"max\",\n",
    "    # Limit to two concurrent trials (otherwise we end up with random search)\n",
    "    search_alg=ConcurrencyLimiter(\n",
    "        BayesOptSearch(random_search_steps=4),\n",
    "        max_concurrent=2),\n",
    "    stop={\"training_iteration\": 4},\n",
    "    verbose=2)\n",
    "\n",
    "best_trial = analysis.best_trial  # Get best trial\n",
    "best_config = analysis.best_config  # Get best trial's hyperparameters\n",
    "best_logdir = analysis.best_logdir  # Get best trial's logdir\n",
    "best_checkpoint = analysis.best_checkpoint  # Get best trial's best checkpoint\n",
    "best_result = analysis.best_result  # Get best trial's last results\n",
    "best_result_df = analysis.best_result_df  # Get best result as pandas dataframe"
   ]
  },
  {
   "cell_type": "code",
   "execution_count": 5,
   "id": "3c5a592f",
   "metadata": {},
   "outputs": [
    {
     "data": {
      "text/html": [
       "<div>\n",
       "<style scoped>\n",
       "    .dataframe tbody tr th:only-of-type {\n",
       "        vertical-align: middle;\n",
       "    }\n",
       "\n",
       "    .dataframe tbody tr th {\n",
       "        vertical-align: top;\n",
       "    }\n",
       "\n",
       "    .dataframe thead th {\n",
       "        text-align: right;\n",
       "    }\n",
       "</style>\n",
       "<table border=\"1\" class=\"dataframe\">\n",
       "  <thead>\n",
       "    <tr style=\"text-align: right;\">\n",
       "      <th></th>\n",
       "      <th>score</th>\n",
       "      <th>time_this_iter_s</th>\n",
       "      <th>done</th>\n",
       "      <th>timesteps_total</th>\n",
       "      <th>episodes_total</th>\n",
       "      <th>training_iteration</th>\n",
       "      <th>trial_id</th>\n",
       "      <th>experiment_id</th>\n",
       "      <th>date</th>\n",
       "      <th>timestamp</th>\n",
       "      <th>time_total_s</th>\n",
       "      <th>pid</th>\n",
       "      <th>hostname</th>\n",
       "      <th>node_ip</th>\n",
       "      <th>time_since_restore</th>\n",
       "      <th>timesteps_since_restore</th>\n",
       "      <th>iterations_since_restore</th>\n",
       "      <th>config/a</th>\n",
       "      <th>config/b</th>\n",
       "      <th>logdir</th>\n",
       "    </tr>\n",
       "  </thead>\n",
       "  <tbody>\n",
       "    <tr>\n",
       "      <th>0</th>\n",
       "      <td>19.663009</td>\n",
       "      <td>0.002930</td>\n",
       "      <td>True</td>\n",
       "      <td>NaN</td>\n",
       "      <td>NaN</td>\n",
       "      <td>4</td>\n",
       "      <td>32e0cea0</td>\n",
       "      <td>a96556eae3464a2d8b210e6c73c5f881</td>\n",
       "      <td>2021-12-05_20-23-13</td>\n",
       "      <td>1638688993</td>\n",
       "      <td>0.014648</td>\n",
       "      <td>2708</td>\n",
       "      <td>LAPTOP-5F3V9FNM</td>\n",
       "      <td>127.0.0.1</td>\n",
       "      <td>0.014648</td>\n",
       "      <td>0</td>\n",
       "      <td>4</td>\n",
       "      <td>0.374540</td>\n",
       "      <td>19.014286</td>\n",
       "      <td>C:\\Users\\James\\ray_results\\trainable_2021-12-0...</td>\n",
       "    </tr>\n",
       "    <tr>\n",
       "      <th>1</th>\n",
       "      <td>13.241020</td>\n",
       "      <td>0.010736</td>\n",
       "      <td>True</td>\n",
       "      <td>NaN</td>\n",
       "      <td>NaN</td>\n",
       "      <td>4</td>\n",
       "      <td>3325f187</td>\n",
       "      <td>9ca36865526e4dad8a148b3ce226912e</td>\n",
       "      <td>2021-12-05_20-23-15</td>\n",
       "      <td>1638688995</td>\n",
       "      <td>0.821234</td>\n",
       "      <td>764</td>\n",
       "      <td>LAPTOP-5F3V9FNM</td>\n",
       "      <td>127.0.0.1</td>\n",
       "      <td>0.821234</td>\n",
       "      <td>0</td>\n",
       "      <td>4</td>\n",
       "      <td>0.731994</td>\n",
       "      <td>11.973170</td>\n",
       "      <td>C:\\Users\\James\\ray_results\\trainable_2021-12-0...</td>\n",
       "    </tr>\n",
       "    <tr>\n",
       "      <th>2</th>\n",
       "      <td>3.390123</td>\n",
       "      <td>0.015615</td>\n",
       "      <td>True</td>\n",
       "      <td>NaN</td>\n",
       "      <td>NaN</td>\n",
       "      <td>4</td>\n",
       "      <td>34dd59bd</td>\n",
       "      <td>91e6a4df3b364d89a320982bd24622e6</td>\n",
       "      <td>2021-12-05_20-23-15</td>\n",
       "      <td>1638688995</td>\n",
       "      <td>0.047851</td>\n",
       "      <td>7904</td>\n",
       "      <td>LAPTOP-5F3V9FNM</td>\n",
       "      <td>127.0.0.1</td>\n",
       "      <td>0.047851</td>\n",
       "      <td>0</td>\n",
       "      <td>4</td>\n",
       "      <td>0.156019</td>\n",
       "      <td>3.119890</td>\n",
       "      <td>C:\\Users\\James\\ray_results\\trainable_2021-12-0...</td>\n",
       "    </tr>\n",
       "  </tbody>\n",
       "</table>\n",
       "</div>"
      ],
      "text/plain": [
       "       score  time_this_iter_s  done  timesteps_total  episodes_total  \\\n",
       "0  19.663009          0.002930  True              NaN             NaN   \n",
       "1  13.241020          0.010736  True              NaN             NaN   \n",
       "2   3.390123          0.015615  True              NaN             NaN   \n",
       "\n",
       "   training_iteration  trial_id                     experiment_id  \\\n",
       "0                   4  32e0cea0  a96556eae3464a2d8b210e6c73c5f881   \n",
       "1                   4  3325f187  9ca36865526e4dad8a148b3ce226912e   \n",
       "2                   4  34dd59bd  91e6a4df3b364d89a320982bd24622e6   \n",
       "\n",
       "                  date   timestamp  time_total_s   pid         hostname  \\\n",
       "0  2021-12-05_20-23-13  1638688993      0.014648  2708  LAPTOP-5F3V9FNM   \n",
       "1  2021-12-05_20-23-15  1638688995      0.821234   764  LAPTOP-5F3V9FNM   \n",
       "2  2021-12-05_20-23-15  1638688995      0.047851  7904  LAPTOP-5F3V9FNM   \n",
       "\n",
       "     node_ip  time_since_restore  timesteps_since_restore  \\\n",
       "0  127.0.0.1            0.014648                        0   \n",
       "1  127.0.0.1            0.821234                        0   \n",
       "2  127.0.0.1            0.047851                        0   \n",
       "\n",
       "   iterations_since_restore  config/a   config/b  \\\n",
       "0                         4  0.374540  19.014286   \n",
       "1                         4  0.731994  11.973170   \n",
       "2                         4  0.156019   3.119890   \n",
       "\n",
       "                                              logdir  \n",
       "0  C:\\Users\\James\\ray_results\\trainable_2021-12-0...  \n",
       "1  C:\\Users\\James\\ray_results\\trainable_2021-12-0...  \n",
       "2  C:\\Users\\James\\ray_results\\trainable_2021-12-0...  "
      ]
     },
     "execution_count": 5,
     "metadata": {},
     "output_type": "execute_result"
    }
   ],
   "source": [
    "df_results = analysis.results_df\n",
    "\n",
    "# Get a dataframe of results for a specific score or mode\n",
    "df = analysis.dataframe(metric=\"score\", mode=\"max\")\n",
    "df"
   ]
  },
  {
   "cell_type": "markdown",
   "id": "8ba99ae6",
   "metadata": {},
   "source": [
    "Key Concepts"
   ]
  },
  {
   "cell_type": "code",
   "execution_count": 3,
   "id": "b0525b14",
   "metadata": {},
   "outputs": [
    {
     "name": "stderr",
     "output_type": "stream",
     "text": [
      "2021-12-05 20:22:42,912\tINFO services.py:1338 -- View the Ray dashboard at \u001b[1m\u001b[32mhttp://127.0.0.1:8265\u001b[39m\u001b[22m\n",
      "2021-12-05 20:22:46,223\tWARNING function_runner.py:561 -- Function checkpointing is disabled. This may result in unexpected behavior when using checkpointing features or certain schedulers. To enable, set the train function arguments to be `func(config, checkpoint_dir=None)`.\n",
      "2021-12-05 20:22:46,320\tWARNING tune.py:570 -- Tune detects GPUs, but no trials are using GPUs. To enable trials to use GPUs, set tune.run(resources_per_trial={'gpu': 1}...) which allows Tune to expose 1 GPU to each trial. You can also override `Trainable.default_resource_request` if using the Trainable API.\n"
     ]
    },
    {
     "data": {
      "text/html": [
       "== Status ==<br>Current time: 2021-12-05 20:22:46 (running for 00:00:00.32)<br>Memory usage on this node: 6.0/7.9 GiB<br>Using FIFO scheduling algorithm.<br>Resources requested: 0/4 CPUs, 0/1 GPUs, 0.0/1.45 GiB heap, 0.0/0.73 GiB objects<br>Result logdir: C:\\Users\\James\\ray_results\\trainable_2021-12-05_20-22-46<br>Number of trials: 3/3 (3 PENDING)<br><table>\n",
       "<thead>\n",
       "<tr><th>Trial name           </th><th>status  </th><th>loc  </th></tr>\n",
       "</thead>\n",
       "<tbody>\n",
       "<tr><td>trainable_24cda_00000</td><td>PENDING </td><td>     </td></tr>\n",
       "<tr><td>trainable_24cda_00001</td><td>PENDING </td><td>     </td></tr>\n",
       "<tr><td>trainable_24cda_00002</td><td>PENDING </td><td>     </td></tr>\n",
       "</tbody>\n",
       "</table><br><br>"
      ],
      "text/plain": [
       "<IPython.core.display.HTML object>"
      ]
     },
     "metadata": {},
     "output_type": "display_data"
    },
    {
     "name": "stderr",
     "output_type": "stream",
     "text": [
      "2021-12-05 20:22:46,893\tERROR syncer.py:111 -- Log sync requires rsync to be installed.\n"
     ]
    },
    {
     "name": "stdout",
     "output_type": "stream",
     "text": [
      "Result for trainable_24cda_00002:\n",
      "  date: 2021-12-05_20-22-50\n",
      "  done: false\n",
      "  experiment_id: e817ce9e1d974eee871d4efb1ce5d010\n",
      "  hostname: LAPTOP-5F3V9FNM\n",
      "  iterations_since_restore: 1\n",
      "  node_ip: 127.0.0.1\n",
      "  pid: 11004\n",
      "  score: 4.0\n",
      "  time_since_restore: 0.0\n",
      "  time_this_iter_s: 0.0\n",
      "  time_total_s: 0.0\n",
      "  timestamp: 1638688970\n",
      "  timesteps_since_restore: 0\n",
      "  training_iteration: 1\n",
      "  trial_id: 24cda_00002\n",
      "  \n",
      "Result for trainable_24cda_00001:\n",
      "  date: 2021-12-05_20-22-50\n",
      "  done: false\n",
      "  experiment_id: 4ad7d01e40a8493f8fc2412b61ca969c\n",
      "  hostname: LAPTOP-5F3V9FNM\n",
      "  iterations_since_restore: 1\n",
      "  node_ip: 127.0.0.1\n",
      "  pid: 2276\n",
      "  score: 4.0\n",
      "  time_since_restore: 0.0009779930114746094\n",
      "  time_this_iter_s: 0.0009779930114746094\n",
      "  time_total_s: 0.0009779930114746094\n",
      "  timestamp: 1638688970\n",
      "  timesteps_since_restore: 0\n",
      "  training_iteration: 1\n",
      "  trial_id: 24cda_00001\n",
      "  \n",
      "Result for trainable_24cda_00002:\n",
      "  date: 2021-12-05_20-22-50\n",
      "  done: true\n",
      "  experiment_id: e817ce9e1d974eee871d4efb1ce5d010\n",
      "  experiment_tag: '2'\n",
      "  hostname: LAPTOP-5F3V9FNM\n",
      "  iterations_since_restore: 20\n",
      "  node_ip: 127.0.0.1\n",
      "  pid: 11004\n",
      "  score: 12.717797887081348\n",
      "  time_since_restore: 0.14256978034973145\n",
      "  time_this_iter_s: 0.009753942489624023\n",
      "  time_total_s: 0.14256978034973145\n",
      "  timestamp: 1638688970\n",
      "  timesteps_since_restore: 0\n",
      "  training_iteration: 20\n",
      "  trial_id: 24cda_00002\n",
      "  \n",
      "Result for trainable_24cda_00001:\n",
      "  date: 2021-12-05_20-22-50\n",
      "  done: true\n",
      "  experiment_id: 4ad7d01e40a8493f8fc2412b61ca969c\n",
      "  experiment_tag: '1'\n",
      "  hostname: LAPTOP-5F3V9FNM\n",
      "  iterations_since_restore: 20\n",
      "  node_ip: 127.0.0.1\n",
      "  pid: 2276\n",
      "  score: 12.717797887081348\n",
      "  time_since_restore: 0.15135502815246582\n",
      "  time_this_iter_s: 0.0029273033142089844\n",
      "  time_total_s: 0.15135502815246582\n",
      "  timestamp: 1638688970\n",
      "  timesteps_since_restore: 0\n",
      "  training_iteration: 20\n",
      "  trial_id: 24cda_00001\n",
      "  \n",
      "Result for trainable_24cda_00000:\n",
      "  date: 2021-12-05_20-22-50\n",
      "  done: false\n",
      "  experiment_id: 29000aa6389d46f59edcc4f240fddf2c\n",
      "  hostname: LAPTOP-5F3V9FNM\n",
      "  iterations_since_restore: 1\n",
      "  node_ip: 127.0.0.1\n",
      "  pid: 16464\n",
      "  score: 4.0\n",
      "  time_since_restore: 0.0\n",
      "  time_this_iter_s: 0.0\n",
      "  time_total_s: 0.0\n",
      "  timestamp: 1638688970\n",
      "  timesteps_since_restore: 0\n",
      "  training_iteration: 1\n",
      "  trial_id: 24cda_00000\n",
      "  \n",
      "Result for trainable_24cda_00000:\n",
      "  date: 2021-12-05_20-22-50\n",
      "  done: true\n",
      "  experiment_id: 29000aa6389d46f59edcc4f240fddf2c\n",
      "  experiment_tag: '0'\n",
      "  hostname: LAPTOP-5F3V9FNM\n",
      "  iterations_since_restore: 20\n",
      "  node_ip: 127.0.0.1\n",
      "  pid: 16464\n",
      "  score: 12.717797887081348\n",
      "  time_since_restore: 0.07030630111694336\n",
      "  time_this_iter_s: 0.002928495407104492\n",
      "  time_total_s: 0.07030630111694336\n",
      "  timestamp: 1638688970\n",
      "  timesteps_since_restore: 0\n",
      "  training_iteration: 20\n",
      "  trial_id: 24cda_00000\n",
      "  \n"
     ]
    },
    {
     "data": {
      "text/html": [
       "== Status ==<br>Current time: 2021-12-05 20:22:50 (running for 00:00:04.09)<br>Memory usage on this node: 6.0/7.9 GiB<br>Using FIFO scheduling algorithm.<br>Resources requested: 0/4 CPUs, 0/1 GPUs, 0.0/1.45 GiB heap, 0.0/0.73 GiB objects<br>Result logdir: C:\\Users\\James\\ray_results\\trainable_2021-12-05_20-22-46<br>Number of trials: 3/3 (3 TERMINATED)<br><table>\n",
       "<thead>\n",
       "<tr><th>Trial name           </th><th>status    </th><th>loc            </th><th style=\"text-align: right;\">  iter</th><th style=\"text-align: right;\">  total time (s)</th><th style=\"text-align: right;\">  score</th></tr>\n",
       "</thead>\n",
       "<tbody>\n",
       "<tr><td>trainable_24cda_00000</td><td>TERMINATED</td><td>127.0.0.1:16464</td><td style=\"text-align: right;\">    20</td><td style=\"text-align: right;\">       0.0703063</td><td style=\"text-align: right;\">12.7178</td></tr>\n",
       "<tr><td>trainable_24cda_00001</td><td>TERMINATED</td><td>127.0.0.1:2276 </td><td style=\"text-align: right;\">    20</td><td style=\"text-align: right;\">       0.151355 </td><td style=\"text-align: right;\">12.7178</td></tr>\n",
       "<tr><td>trainable_24cda_00002</td><td>TERMINATED</td><td>127.0.0.1:11004</td><td style=\"text-align: right;\">    20</td><td style=\"text-align: right;\">       0.14257  </td><td style=\"text-align: right;\">12.7178</td></tr>\n",
       "</tbody>\n",
       "</table><br><br>"
      ],
      "text/plain": [
       "<IPython.core.display.HTML object>"
      ]
     },
     "metadata": {},
     "output_type": "display_data"
    },
    {
     "name": "stderr",
     "output_type": "stream",
     "text": [
      "2021-12-05 20:22:50,526\tINFO tune.py:626 -- Total run time: 4.31 seconds (4.08 seconds for the tuning loop).\n"
     ]
    },
    {
     "data": {
      "text/plain": [
       "<ray.tune.analysis.experiment_analysis.ExperimentAnalysis at 0x1c40c5436d0>"
      ]
     },
     "execution_count": 3,
     "metadata": {},
     "output_type": "execute_result"
    }
   ],
   "source": [
    "from ray import tune\n",
    "\n",
    "def objective(x, a, b):\n",
    "    return a * (x ** 0.5) + b\n",
    "\n",
    "def trainable(config):\n",
    "    # config (dict): A dict of hyperparameters.\n",
    "\n",
    "    for x in range(20):\n",
    "        score = objective(x, config[\"a\"], config[\"b\"])\n",
    "\n",
    "        tune.report(score=score)  # This sends the score to Tune.\n",
    "        \n",
    "tune.run(trainable, config={\"a\": 2, \"b\": 4}, num_samples = 3)"
   ]
  },
  {
   "cell_type": "markdown",
   "id": "593330d6",
   "metadata": {},
   "source": [
    "MLFlow"
   ]
  },
  {
   "cell_type": "code",
   "execution_count": 6,
   "id": "265942dd",
   "metadata": {},
   "outputs": [
    {
     "name": "stderr",
     "output_type": "stream",
     "text": [
      "2021-12-05 20:24:57,073\tWARNING tune.py:570 -- Tune detects GPUs, but no trials are using GPUs. To enable trials to use GPUs, set tune.run(resources_per_trial={'gpu': 1}...) which allows Tune to expose 1 GPU to each trial. You can also override `Trainable.default_resource_request` if using the Trainable API.\n"
     ]
    },
    {
     "data": {
      "text/html": [
       "== Status ==<br>Current time: 2021-12-05 20:24:57 (running for 00:00:00.12)<br>Memory usage on this node: 5.9/7.9 GiB<br>Using FIFO scheduling algorithm.<br>Resources requested: 0/4 CPUs, 0/1 GPUs, 0.0/1.45 GiB heap, 0.0/0.73 GiB objects<br>Result logdir: C:\\Users\\James\\ray_results\\train_fn_2021-12-05_20-24-57<br>Number of trials: 1/1 (1 PENDING)<br><table>\n",
       "<thead>\n",
       "<tr><th>Trial name          </th><th>status  </th><th>loc  </th><th style=\"text-align: right;\">  a</th><th style=\"text-align: right;\">  b</th></tr>\n",
       "</thead>\n",
       "<tbody>\n",
       "<tr><td>train_fn_72c8b_00000</td><td>PENDING </td><td>     </td><td style=\"text-align: right;\">  3</td><td style=\"text-align: right;\">  6</td></tr>\n",
       "</tbody>\n",
       "</table><br><br>"
      ],
      "text/plain": [
       "<IPython.core.display.HTML object>"
      ]
     },
     "metadata": {},
     "output_type": "display_data"
    },
    {
     "data": {
      "text/html": [
       "== Status ==<br>Current time: 2021-12-05 20:25:03 (running for 00:00:06.56)<br>Memory usage on this node: 6.1/7.9 GiB<br>Using FIFO scheduling algorithm.<br>Resources requested: 1.0/4 CPUs, 0/1 GPUs, 0.0/1.45 GiB heap, 0.0/0.73 GiB objects<br>Result logdir: C:\\Users\\James\\ray_results\\train_fn_2021-12-05_20-24-57<br>Number of trials: 1/1 (1 RUNNING)<br><table>\n",
       "<thead>\n",
       "<tr><th>Trial name          </th><th>status  </th><th>loc           </th><th style=\"text-align: right;\">  a</th><th style=\"text-align: right;\">  b</th></tr>\n",
       "</thead>\n",
       "<tbody>\n",
       "<tr><td>train_fn_72c8b_00000</td><td>RUNNING </td><td>127.0.0.1:2548</td><td style=\"text-align: right;\">  3</td><td style=\"text-align: right;\">  6</td></tr>\n",
       "</tbody>\n",
       "</table><br><br>"
      ],
      "text/plain": [
       "<IPython.core.display.HTML object>"
      ]
     },
     "metadata": {},
     "output_type": "display_data"
    },
    {
     "name": "stdout",
     "output_type": "stream",
     "text": [
      "Result for train_fn_72c8b_00000:\n",
      "  date: 2021-12-05_20-25-03\n",
      "  done: true\n",
      "  experiment_id: d73033d172684fe99a6f08aa8f6f82f5\n",
      "  hostname: LAPTOP-5F3V9FNM\n",
      "  iterations_since_restore: 1\n",
      "  loss: 9\n",
      "  node_ip: 127.0.0.1\n",
      "  pid: 2548\n",
      "  time_since_restore: 0.03905749320983887\n",
      "  time_this_iter_s: 0.03905749320983887\n",
      "  time_total_s: 0.03905749320983887\n",
      "  timestamp: 1638689103\n",
      "  timesteps_since_restore: 0\n",
      "  training_iteration: 1\n",
      "  trial_id: 72c8b_00000\n",
      "  \n"
     ]
    },
    {
     "data": {
      "text/html": [
       "== Status ==<br>Current time: 2021-12-05 20:25:03 (running for 00:00:06.62)<br>Memory usage on this node: 6.1/7.9 GiB<br>Using FIFO scheduling algorithm.<br>Resources requested: 0/4 CPUs, 0/1 GPUs, 0.0/1.45 GiB heap, 0.0/0.73 GiB objects<br>Result logdir: C:\\Users\\James\\ray_results\\train_fn_2021-12-05_20-24-57<br>Number of trials: 1/1 (1 TERMINATED)<br><table>\n",
       "<thead>\n",
       "<tr><th>Trial name          </th><th>status    </th><th>loc           </th><th style=\"text-align: right;\">  a</th><th style=\"text-align: right;\">  b</th><th style=\"text-align: right;\">  iter</th><th style=\"text-align: right;\">  total time (s)</th><th style=\"text-align: right;\">  loss</th></tr>\n",
       "</thead>\n",
       "<tbody>\n",
       "<tr><td>train_fn_72c8b_00000</td><td>TERMINATED</td><td>127.0.0.1:2548</td><td style=\"text-align: right;\">  3</td><td style=\"text-align: right;\">  6</td><td style=\"text-align: right;\">     1</td><td style=\"text-align: right;\">       0.0390575</td><td style=\"text-align: right;\">     9</td></tr>\n",
       "</tbody>\n",
       "</table><br><br>"
      ],
      "text/plain": [
       "<IPython.core.display.HTML object>"
      ]
     },
     "metadata": {},
     "output_type": "display_data"
    },
    {
     "name": "stderr",
     "output_type": "stream",
     "text": [
      "2021-12-05 20:25:03,805\tINFO tune.py:626 -- Total run time: 6.74 seconds (6.61 seconds for the tuning loop).\n"
     ]
    },
    {
     "data": {
      "text/plain": [
       "<ray.tune.analysis.experiment_analysis.ExperimentAnalysis at 0x1c43e787dc0>"
      ]
     },
     "execution_count": 6,
     "metadata": {},
     "output_type": "execute_result"
    }
   ],
   "source": [
    "from ray import tune\n",
    "from ray.tune.integration.mlflow import mlflow_mixin\n",
    "\n",
    "import mlflow\n",
    "\n",
    "# Create the MlFlow expriment.\n",
    "mlflow.create_experiment(\"my_experiment\")\n",
    "\n",
    "@mlflow_mixin\n",
    "def train_fn(config):\n",
    "    for i in range(10):\n",
    "        loss = config[\"a\"] + config[\"b\"]\n",
    "        mlflow.log_metric(key=\"loss\", value=loss)\n",
    "    tune.report(loss=loss, done=True)\n",
    "\n",
    "tune.run(\n",
    "    train_fn,\n",
    "    config={\n",
    "        # define search space here\n",
    "        \"a\": tune.choice([1, 2, 3]),\n",
    "        \"b\": tune.choice([4, 5, 6]),\n",
    "        # mlflow configuration\n",
    "        \"mlflow\": {\n",
    "            \"experiment_name\": \"my_experiment\",\n",
    "            \"tracking_uri\": mlflow.get_tracking_uri()\n",
    "        }\n",
    "    })"
   ]
  },
  {
   "cell_type": "markdown",
   "id": "72c5506e",
   "metadata": {},
   "source": [
    "Sklearn"
   ]
  },
  {
   "cell_type": "code",
   "execution_count": 8,
   "id": "e542eeb0",
   "metadata": {},
   "outputs": [],
   "source": [
    "# Keep this here for https://github.com/ray-project/ray/issues/11547\n",
    "from sklearn.model_selection import GridSearchCV\n",
    "# Replace above line with:\n",
    "from ray.tune.sklearn import TuneGridSearchCV\n",
    "\n",
    "# Other imports\n",
    "from sklearn.model_selection import train_test_split\n",
    "from sklearn.linear_model import SGDClassifier\n",
    "from sklearn.datasets import make_classification\n",
    "import numpy as np\n",
    "\n",
    "# Create dataset\n",
    "X, y = make_classification(\n",
    "    n_samples=11000,\n",
    "    n_features=1000,\n",
    "    n_informative=50,\n",
    "    n_redundant=0,\n",
    "    n_classes=10,\n",
    "    class_sep=2.5)\n",
    "x_train, x_test, y_train, y_test = train_test_split(X, y, test_size=1000)\n",
    "\n",
    "# Example parameters to tune from SGDClassifier\n",
    "parameter_grid = {\"alpha\": [1e-4, 1e-1, 1], \"epsilon\": [0.01, 0.1]}"
   ]
  },
  {
   "cell_type": "code",
   "execution_count": 9,
   "id": "62330be6",
   "metadata": {},
   "outputs": [
    {
     "name": "stderr",
     "output_type": "stream",
     "text": [
      "D:\\anaconda3\\envs\\yourenvname\\lib\\site-packages\\ray\\tune\\tune.py:373: UserWarning: The `loggers` argument is deprecated. Please pass the respective `LoggerCallback` classes to the `callbacks` argument instead. See https://docs.ray.io/en/latest/tune/api_docs/logging.html\n",
      "  warnings.warn(\n"
     ]
    },
    {
     "name": "stdout",
     "output_type": "stream",
     "text": [
      "Tune GridSearch Fit Time: 56.101521730422974\n"
     ]
    }
   ],
   "source": [
    "tune_search = TuneGridSearchCV(\n",
    "    SGDClassifier(), parameter_grid, early_stopping=True, max_iters=10)\n",
    "\n",
    "import time  # Just to compare fit times\n",
    "start = time.time()\n",
    "tune_search.fit(x_train, y_train)\n",
    "end = time.time()\n",
    "print(\"Tune GridSearch Fit Time:\", end - start)\n",
    "# Tune GridSearch Fit Time: 15.436315774917603 (for an 8 core laptop)"
   ]
  },
  {
   "cell_type": "code",
   "execution_count": 10,
   "id": "6fc96793",
   "metadata": {},
   "outputs": [
    {
     "name": "stdout",
     "output_type": "stream",
     "text": [
      "Sklearn Fit Time: 158.4406476020813\n"
     ]
    }
   ],
   "source": [
    "from sklearn.model_selection import GridSearchCV\n",
    "# n_jobs=-1 enables use of all cores like Tune does\n",
    "sklearn_search = GridSearchCV(SGDClassifier(), parameter_grid, n_jobs=-1)\n",
    "\n",
    "start = time.time()\n",
    "sklearn_search.fit(x_train, y_train)\n",
    "end = time.time()\n",
    "print(\"Sklearn Fit Time:\", end - start)\n",
    "# Sklearn Fit Time: 47.48055911064148 (for an 8 core laptop)"
   ]
  },
  {
   "cell_type": "code",
   "execution_count": 11,
   "id": "ae432941",
   "metadata": {},
   "outputs": [
    {
     "name": "stderr",
     "output_type": "stream",
     "text": [
      "D:\\anaconda3\\envs\\yourenvname\\lib\\site-packages\\ray\\tune\\tune.py:373: UserWarning: The `loggers` argument is deprecated. Please pass the respective `LoggerCallback` classes to the `callbacks` argument instead. See https://docs.ray.io/en/latest/tune/api_docs/logging.html\n",
      "  warnings.warn(\n"
     ]
    },
    {
     "name": "stdout",
     "output_type": "stream",
     "text": [
      "{'alpha': 0.16370223639446807, 'epsilon': 0.017577621193729246}\n"
     ]
    }
   ],
   "source": [
    "# First run `pip install bayesian-optimization`\n",
    "from ray.tune.sklearn import TuneSearchCV\n",
    "from sklearn.linear_model import SGDClassifier\n",
    "from sklearn import datasets\n",
    "from sklearn.model_selection import train_test_split\n",
    "import numpy as np\n",
    "\n",
    "digits = datasets.load_digits()\n",
    "x = digits.data\n",
    "y = digits.target\n",
    "x_train, x_test, y_train, y_test = train_test_split(x, y, test_size=.2)\n",
    "\n",
    "clf = SGDClassifier()\n",
    "parameter_grid = {\"alpha\": (1e-4, 1), \"epsilon\": (0.01, 0.1)}\n",
    "\n",
    "tune_search = TuneSearchCV(\n",
    "    clf,\n",
    "    parameter_grid,\n",
    "    search_optimization=\"bayesian\",\n",
    "    n_trials=3,\n",
    "    early_stopping=True,\n",
    "    max_iters=10,\n",
    ")\n",
    "tune_search.fit(x_train, y_train)\n",
    "print(tune_search.best_params_)\n",
    "# {'alpha': 0.37460266483547777, 'epsilon': 0.09556428757689246}"
   ]
  }
 ],
 "metadata": {
  "kernelspec": {
   "display_name": "Python 3 (ipykernel)",
   "language": "python",
   "name": "python3"
  },
  "language_info": {
   "codemirror_mode": {
    "name": "ipython",
    "version": 3
   },
   "file_extension": ".py",
   "mimetype": "text/x-python",
   "name": "python",
   "nbconvert_exporter": "python",
   "pygments_lexer": "ipython3",
   "version": "3.8.12"
  }
 },
 "nbformat": 4,
 "nbformat_minor": 5
}
