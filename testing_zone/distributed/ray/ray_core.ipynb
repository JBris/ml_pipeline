{
 "cells": [
  {
   "cell_type": "code",
   "execution_count": 8,
   "id": "34914fa3",
   "metadata": {},
   "outputs": [
    {
     "name": "stderr",
     "output_type": "stream",
     "text": [
      "2021-12-05 13:59:32,015\tINFO services.py:1338 -- View the Ray dashboard at \u001b[1m\u001b[32mhttp://127.0.0.1:8265\u001b[39m\u001b[22m\n",
      "2021-12-05 13:59:35,615\tERROR import_thread.py:89 -- ImportThread: [WinError 10054] An existing connection was forcibly closed by the remote host\n",
      "Exception in thread ray_print_logs:\n",
      "Traceback (most recent call last):\n",
      "  File \"D:\\anaconda3\\envs\\yourenvname\\lib\\threading.py\", line 932, in _bootstrap_inner\n",
      "    self.run()\n",
      "  File \"D:\\anaconda3\\envs\\yourenvname\\lib\\threading.py\", line 870, in run\n"
     ]
    },
    {
     "data": {
      "text/plain": [
       "{'node_ip_address': '127.0.0.1',\n",
       " 'raylet_ip_address': '127.0.0.1',\n",
       " 'redis_address': '127.0.0.1:6379',\n",
       " 'object_store_address': 'tcp://127.0.0.1:59325',\n",
       " 'raylet_socket_name': 'tcp://127.0.0.1:56567',\n",
       " 'webui_url': '127.0.0.1:8265',\n",
       " 'session_dir': 'C:\\\\Users\\\\James\\\\AppData\\\\Local\\\\Temp\\\\ray\\\\session_2021-12-05_13-59-25_570195_2912',\n",
       " 'metrics_export_port': 62544,\n",
       " 'node_id': 'bdeb0a06ccc564d67016ca7f211418a46ebc33ebf51e8a1d5f794ab2'}"
      ]
     },
     "execution_count": 8,
     "metadata": {},
     "output_type": "execute_result"
    },
    {
     "name": "stderr",
     "output_type": "stream",
     "text": [
      "    self._target(*self._args, **self._kwargs)\n",
      "  File \"D:\\anaconda3\\envs\\yourenvname\\lib\\site-packages\\ray\\worker.py\", line 439, in print_logs\n",
      "    pubsub_client.subscribe(gcs_utils.LOG_FILE_CHANNEL)\n",
      "  File \"D:\\anaconda3\\envs\\yourenvname\\lib\\site-packages\\redis\\client.py\", line 1377, in subscribe\n",
      "    ret_val = self.execute_command('SUBSCRIBE', *new_channels.keys())\n",
      "  File \"D:\\anaconda3\\envs\\yourenvname\\lib\\site-packages\\redis\\client.py\", line 1253, in execute_command\n",
      "    self.connection = self.connection_pool.get_connection(\n",
      "  File \"D:\\anaconda3\\envs\\yourenvname\\lib\\site-packages\\redis\\connection.py\", line 1179, in get_connection\n",
      "    if connection.can_read():\n",
      "  File \"D:\\anaconda3\\envs\\yourenvname\\lib\\site-packages\\redis\\connection.py\", line 743, in can_read\n",
      "    return self._parser.can_read(timeout)\n",
      "  File \"D:\\anaconda3\\envs\\yourenvname\\lib\\site-packages\\redis\\connection.py\", line 410, in can_read\n",
      "    return self.read_from_socket(timeout=timeout,\n",
      "  File \"D:\\anaconda3\\envs\\yourenvname\\lib\\site-packages\\redis\\connection.py\", line 421, in read_from_socket\n",
      "    bufflen = self._sock.recv_into(self._buffer)\n",
      "ConnectionResetError: [WinError 10054] An existing connection was forcibly closed by the remote host\n"
     ]
    }
   ],
   "source": [
    "import ray\n",
    "\n",
    "# Start Ray. If you're connecting to an existing cluster, you would use\n",
    "# ray.init(address=<cluster-address>) instead.\n",
    "ray.shutdown()\n",
    "ray.init()"
   ]
  },
  {
   "cell_type": "code",
   "execution_count": 9,
   "id": "9fefc57a",
   "metadata": {},
   "outputs": [
    {
     "data": {
      "text/plain": [
       "True"
      ]
     },
     "execution_count": 9,
     "metadata": {},
     "output_type": "execute_result"
    }
   ],
   "source": [
    "ray.is_initialized() "
   ]
  },
  {
   "cell_type": "markdown",
   "id": "56c91c46",
   "metadata": {},
   "source": [
    "Actors"
   ]
  },
  {
   "cell_type": "code",
   "execution_count": 14,
   "id": "fe103584",
   "metadata": {},
   "outputs": [
    {
     "data": {
      "text/plain": [
       "1"
      ]
     },
     "execution_count": 14,
     "metadata": {},
     "output_type": "execute_result"
    }
   ],
   "source": [
    "@ray.remote\n",
    "class Counter(object):\n",
    "    def __init__(self):\n",
    "        self.value = 0\n",
    "\n",
    "    def increment(self):\n",
    "        self.value += 1\n",
    "        return self.value\n",
    "\n",
    "    def get_counter(self):\n",
    "        return self.value\n",
    "\n",
    "counter_actor = Counter.remote()\n",
    "ray.get(counter_actor.increment.remote())"
   ]
  },
  {
   "cell_type": "code",
   "execution_count": 15,
   "id": "34b0b428",
   "metadata": {},
   "outputs": [
    {
     "data": {
      "text/plain": [
       "1"
      ]
     },
     "execution_count": 15,
     "metadata": {},
     "output_type": "execute_result"
    }
   ],
   "source": [
    "@ray.remote\n",
    "class Foo(object):\n",
    "\n",
    "    # Any method of the actor can return multiple object refs.\n",
    "    @ray.method(num_returns=2)\n",
    "    def bar(self):\n",
    "        return 1, 2\n",
    "\n",
    "f = Foo.remote()\n",
    "obj_ref1, obj_ref2 = f.bar.remote()\n",
    "ray.get(obj_ref1)"
   ]
  },
  {
   "cell_type": "code",
   "execution_count": 16,
   "id": "b380ad64",
   "metadata": {},
   "outputs": [],
   "source": [
    "@ray.remote(num_cpus=2, num_gpus=1)\n",
    "class GPUActor(object):\n",
    "    pass\n",
    "\n",
    "@ray.remote(num_cpus=4)\n",
    "class Counter(object):\n",
    "    pass\n",
    "\n",
    "a1 = Counter.options(num_cpus=1, resources={\"Custom1\": 1}).remote()\n",
    "a2 = Counter.options(num_cpus=2, resources={\"Custom2\": 1}).remote()\n",
    "a3 = Counter.options(num_cpus=3, resources={\"Custom3\": 1}).remote()"
   ]
  },
  {
   "cell_type": "code",
   "execution_count": null,
   "id": "268c23a3",
   "metadata": {},
   "outputs": [],
   "source": [
    "ray.actor.exit_actor()"
   ]
  },
  {
   "cell_type": "code",
   "execution_count": 18,
   "id": "8a2a3b72",
   "metadata": {},
   "outputs": [
    {
     "name": "stdout",
     "output_type": "stream",
     "text": [
      "0\n",
      "10\n",
      "19\n",
      "39\n",
      "59\n",
      "89\n"
     ]
    },
    {
     "ename": "KeyboardInterrupt",
     "evalue": "",
     "output_type": "error",
     "traceback": [
      "\u001b[1;31m---------------------------------------------------------------------------\u001b[0m",
      "\u001b[1;31mKeyboardInterrupt\u001b[0m                         Traceback (most recent call last)",
      "\u001b[1;32m~\\AppData\\Local\\Temp/ipykernel_2912/3445854079.py\u001b[0m in \u001b[0;36m<module>\u001b[1;34m\u001b[0m\n\u001b[0;32m     12\u001b[0m \u001b[1;31m# Print the counter value.\u001b[0m\u001b[1;33m\u001b[0m\u001b[1;33m\u001b[0m\u001b[1;33m\u001b[0m\u001b[0m\n\u001b[0;32m     13\u001b[0m \u001b[1;32mfor\u001b[0m \u001b[0m_\u001b[0m \u001b[1;32min\u001b[0m \u001b[0mrange\u001b[0m\u001b[1;33m(\u001b[0m\u001b[1;36m10\u001b[0m\u001b[1;33m)\u001b[0m\u001b[1;33m:\u001b[0m\u001b[1;33m\u001b[0m\u001b[1;33m\u001b[0m\u001b[0m\n\u001b[1;32m---> 14\u001b[1;33m     \u001b[0mtime\u001b[0m\u001b[1;33m.\u001b[0m\u001b[0msleep\u001b[0m\u001b[1;33m(\u001b[0m\u001b[1;36m1\u001b[0m\u001b[1;33m)\u001b[0m\u001b[1;33m\u001b[0m\u001b[1;33m\u001b[0m\u001b[0m\n\u001b[0m\u001b[0;32m     15\u001b[0m     \u001b[0mprint\u001b[0m\u001b[1;33m(\u001b[0m\u001b[0mray\u001b[0m\u001b[1;33m.\u001b[0m\u001b[0mget\u001b[0m\u001b[1;33m(\u001b[0m\u001b[0mcounter\u001b[0m\u001b[1;33m.\u001b[0m\u001b[0mget_counter\u001b[0m\u001b[1;33m.\u001b[0m\u001b[0mremote\u001b[0m\u001b[1;33m(\u001b[0m\u001b[1;33m)\u001b[0m\u001b[1;33m)\u001b[0m\u001b[1;33m)\u001b[0m\u001b[1;33m\u001b[0m\u001b[1;33m\u001b[0m\u001b[0m\n",
      "\u001b[1;31mKeyboardInterrupt\u001b[0m: "
     ]
    }
   ],
   "source": [
    "import time\n",
    "\n",
    "@ray.remote\n",
    "def f(counter):\n",
    "    for _ in range(1000):\n",
    "        time.sleep(0.1)\n",
    "        counter.increment.remote()\n",
    "        \n",
    "counter = Counter.remote()\n",
    "# Start some tasks that use the actor.\n",
    "[f.remote(counter) for _ in range(3)]\n",
    "# Print the counter value.\n",
    "for _ in range(10):\n",
    "    time.sleep(1)\n",
    "    print(ray.get(counter.get_counter.remote()))"
   ]
  },
  {
   "cell_type": "code",
   "execution_count": 21,
   "id": "d6630e8c",
   "metadata": {},
   "outputs": [
    {
     "name": "stderr",
     "output_type": "stream",
     "text": [
      "2021-12-05 14:09:00,084\tINFO worker.py:842 -- Connecting to existing Ray cluster at address: 127.0.0.1:6379\n",
      "2021-12-05 14:09:00,087\tINFO worker.py:852 -- Calling ray.init() again after it has already been called.\n",
      "2021-12-05 14:09:00,824\tINFO worker.py:842 -- Connecting to existing Ray cluster at address: 127.0.0.1:6379\n",
      "2021-12-05 14:09:00,825\tINFO worker.py:852 -- Calling ray.init() again after it has already been called.\n"
     ]
    },
    {
     "ename": "ValueError",
     "evalue": "Failed to look up actor with name 'orange'. This could because 1. You are trying to look up a named actor you didn't create. 2. The named actor died. 3. You did not use a namespace matching the namespace of the actor.",
     "output_type": "error",
     "traceback": [
      "\u001b[1;31m---------------------------------------------------------------------------\u001b[0m",
      "\u001b[1;31mValueError\u001b[0m                                Traceback (most recent call last)",
      "\u001b[1;32m~\\AppData\\Local\\Temp/ipykernel_2912/4146264233.py\u001b[0m in \u001b[0;36m<module>\u001b[1;34m\u001b[0m\n\u001b[0;32m     14\u001b[0m \u001b[0mray\u001b[0m\u001b[1;33m.\u001b[0m\u001b[0minit\u001b[0m\u001b[1;33m(\u001b[0m\u001b[0maddress\u001b[0m\u001b[1;33m=\u001b[0m\u001b[1;34m\"auto\"\u001b[0m\u001b[1;33m,\u001b[0m \u001b[0mnamespace\u001b[0m\u001b[1;33m=\u001b[0m\u001b[1;34m\"fruit\"\u001b[0m\u001b[1;33m,\u001b[0m\u001b[0mignore_reinit_error\u001b[0m\u001b[1;33m=\u001b[0m\u001b[1;32mTrue\u001b[0m\u001b[1;33m)\u001b[0m\u001b[1;33m\u001b[0m\u001b[1;33m\u001b[0m\u001b[0m\n\u001b[0;32m     15\u001b[0m \u001b[1;31m# This fails because \"orange\" was defined in the \"colors\" namespace.\u001b[0m\u001b[1;33m\u001b[0m\u001b[1;33m\u001b[0m\u001b[1;33m\u001b[0m\u001b[0m\n\u001b[1;32m---> 16\u001b[1;33m \u001b[0mray\u001b[0m\u001b[1;33m.\u001b[0m\u001b[0mget_actor\u001b[0m\u001b[1;33m(\u001b[0m\u001b[1;34m\"orange\"\u001b[0m\u001b[1;33m)\u001b[0m\u001b[1;33m\u001b[0m\u001b[1;33m\u001b[0m\u001b[0m\n\u001b[0m\u001b[0;32m     17\u001b[0m \u001b[1;33m\u001b[0m\u001b[0m\n\u001b[0;32m     18\u001b[0m \u001b[1;31m# driver_3.py\u001b[0m\u001b[1;33m\u001b[0m\u001b[1;33m\u001b[0m\u001b[1;33m\u001b[0m\u001b[0m\n",
      "\u001b[1;32mD:\\anaconda3\\envs\\yourenvname\\lib\\site-packages\\ray\\_private\\client_mode_hook.py\u001b[0m in \u001b[0;36mwrapper\u001b[1;34m(*args, **kwargs)\u001b[0m\n\u001b[0;32m    103\u001b[0m             \u001b[1;32mif\u001b[0m \u001b[0mfunc\u001b[0m\u001b[1;33m.\u001b[0m\u001b[0m__name__\u001b[0m \u001b[1;33m!=\u001b[0m \u001b[1;34m\"init\"\u001b[0m \u001b[1;32mor\u001b[0m \u001b[0mis_client_mode_enabled_by_default\u001b[0m\u001b[1;33m:\u001b[0m\u001b[1;33m\u001b[0m\u001b[1;33m\u001b[0m\u001b[0m\n\u001b[0;32m    104\u001b[0m                 \u001b[1;32mreturn\u001b[0m \u001b[0mgetattr\u001b[0m\u001b[1;33m(\u001b[0m\u001b[0mray\u001b[0m\u001b[1;33m,\u001b[0m \u001b[0mfunc\u001b[0m\u001b[1;33m.\u001b[0m\u001b[0m__name__\u001b[0m\u001b[1;33m)\u001b[0m\u001b[1;33m(\u001b[0m\u001b[1;33m*\u001b[0m\u001b[0margs\u001b[0m\u001b[1;33m,\u001b[0m \u001b[1;33m**\u001b[0m\u001b[0mkwargs\u001b[0m\u001b[1;33m)\u001b[0m\u001b[1;33m\u001b[0m\u001b[1;33m\u001b[0m\u001b[0m\n\u001b[1;32m--> 105\u001b[1;33m         \u001b[1;32mreturn\u001b[0m \u001b[0mfunc\u001b[0m\u001b[1;33m(\u001b[0m\u001b[1;33m*\u001b[0m\u001b[0margs\u001b[0m\u001b[1;33m,\u001b[0m \u001b[1;33m**\u001b[0m\u001b[0mkwargs\u001b[0m\u001b[1;33m)\u001b[0m\u001b[1;33m\u001b[0m\u001b[1;33m\u001b[0m\u001b[0m\n\u001b[0m\u001b[0;32m    106\u001b[0m \u001b[1;33m\u001b[0m\u001b[0m\n\u001b[0;32m    107\u001b[0m     \u001b[1;32mreturn\u001b[0m \u001b[0mwrapper\u001b[0m\u001b[1;33m\u001b[0m\u001b[1;33m\u001b[0m\u001b[0m\n",
      "\u001b[1;32mD:\\anaconda3\\envs\\yourenvname\\lib\\site-packages\\ray\\worker.py\u001b[0m in \u001b[0;36mget_actor\u001b[1;34m(name, namespace)\u001b[0m\n\u001b[0;32m   1923\u001b[0m     \u001b[0mworker\u001b[0m \u001b[1;33m=\u001b[0m \u001b[0mglobal_worker\u001b[0m\u001b[1;33m\u001b[0m\u001b[1;33m\u001b[0m\u001b[0m\n\u001b[0;32m   1924\u001b[0m     \u001b[0mworker\u001b[0m\u001b[1;33m.\u001b[0m\u001b[0mcheck_connected\u001b[0m\u001b[1;33m(\u001b[0m\u001b[1;33m)\u001b[0m\u001b[1;33m\u001b[0m\u001b[1;33m\u001b[0m\u001b[0m\n\u001b[1;32m-> 1925\u001b[1;33m     \u001b[1;32mreturn\u001b[0m \u001b[0mworker\u001b[0m\u001b[1;33m.\u001b[0m\u001b[0mcore_worker\u001b[0m\u001b[1;33m.\u001b[0m\u001b[0mget_named_actor_handle\u001b[0m\u001b[1;33m(\u001b[0m\u001b[0mname\u001b[0m\u001b[1;33m,\u001b[0m \u001b[0mnamespace\u001b[0m \u001b[1;32mor\u001b[0m \u001b[1;34m\"\"\u001b[0m\u001b[1;33m)\u001b[0m\u001b[1;33m\u001b[0m\u001b[1;33m\u001b[0m\u001b[0m\n\u001b[0m\u001b[0;32m   1926\u001b[0m \u001b[1;33m\u001b[0m\u001b[0m\n\u001b[0;32m   1927\u001b[0m \u001b[1;33m\u001b[0m\u001b[0m\n",
      "\u001b[1;32mpython\\ray\\_raylet.pyx\u001b[0m in \u001b[0;36mray._raylet.CoreWorker.get_named_actor_handle\u001b[1;34m()\u001b[0m\n",
      "\u001b[1;32mpython\\ray\\_raylet.pyx\u001b[0m in \u001b[0;36mray._raylet.check_status\u001b[1;34m()\u001b[0m\n",
      "\u001b[1;31mValueError\u001b[0m: Failed to look up actor with name 'orange'. This could because 1. You are trying to look up a named actor you didn't create. 2. The named actor died. 3. You did not use a namespace matching the namespace of the actor."
     ]
    }
   ],
   "source": [
    "import ray\n",
    "\n",
    "@ray.remote\n",
    "class Actor:\n",
    "    pass\n",
    "\n",
    "# driver_1.py\n",
    "# Job 1 creates an actor, \"orange\" in the \"colors\" namespace.\n",
    "ray.init(address=\"auto\", namespace=\"colors\",ignore_reinit_error=True)\n",
    "Actor.options(name=\"orange\", lifetime=\"detached\")\n",
    "\n",
    "# driver_2.py\n",
    "# Job 2 is now connecting to a different namespace.\n",
    "ray.init(address=\"auto\", namespace=\"fruit\",ignore_reinit_error=True)\n",
    "# This fails because \"orange\" was defined in the \"colors\" namespace.\n",
    "ray.get_actor(\"orange\")\n",
    "\n",
    "# driver_3.py\n",
    "# Job 3 connects to the original \"colors\" namespace\n",
    "ray.init(address=\"auto\", namespace=\"colors\", ignore_reinit_error=True)\n",
    "# This returns the \"orange\" actor we created in the first job.\n",
    "ray.get_actor(\"orange\")"
   ]
  },
  {
   "cell_type": "code",
   "execution_count": 22,
   "id": "d6b8d3ec",
   "metadata": {},
   "outputs": [
    {
     "name": "stderr",
     "output_type": "stream",
     "text": [
      "2021-12-05 14:09:11,697\tWARNING worker.py:1245 -- It looks like you're creating a detached actor in an anonymous namespace. In order to access this actor in the future, you will need to explicitly connect to this namespace with ray.init(namespace=\"023ddc17-a32a-4ceb-b0f9-c1d1ae42ef3c\", ...)\n"
     ]
    },
    {
     "ename": "KeyboardInterrupt",
     "evalue": "",
     "output_type": "error",
     "traceback": [
      "\u001b[1;31m---------------------------------------------------------------------------\u001b[0m",
      "\u001b[1;31mRuntimeError\u001b[0m                              Traceback (most recent call last)",
      "\u001b[1;32mD:\\anaconda3\\envs\\yourenvname\\lib\\site-packages\\ray\\_private\\function_manager.py\u001b[0m in \u001b[0;36m_load_actor_class_from_gcs\u001b[1;34m(self, job_id, actor_creation_function_descriptor)\u001b[0m\n\u001b[0;32m    537\u001b[0m                 \u001b[1;31m# to temporarily yield control to the import thread.\u001b[0m\u001b[1;33m\u001b[0m\u001b[1;33m\u001b[0m\u001b[1;33m\u001b[0m\u001b[0m\n\u001b[1;32m--> 538\u001b[1;33m                 \u001b[0mself\u001b[0m\u001b[1;33m.\u001b[0m\u001b[0mcv\u001b[0m\u001b[1;33m.\u001b[0m\u001b[0mwait\u001b[0m\u001b[1;33m(\u001b[0m\u001b[1;33m)\u001b[0m\u001b[1;33m\u001b[0m\u001b[1;33m\u001b[0m\u001b[0m\n\u001b[0m\u001b[0;32m    539\u001b[0m             \u001b[1;32mexcept\u001b[0m \u001b[0mRuntimeError\u001b[0m\u001b[1;33m:\u001b[0m\u001b[1;33m\u001b[0m\u001b[1;33m\u001b[0m\u001b[0m\n",
      "\u001b[1;32mD:\\anaconda3\\envs\\yourenvname\\lib\\threading.py\u001b[0m in \u001b[0;36mwait\u001b[1;34m(self, timeout)\u001b[0m\n\u001b[0;32m    293\u001b[0m         \u001b[1;32mif\u001b[0m \u001b[1;32mnot\u001b[0m \u001b[0mself\u001b[0m\u001b[1;33m.\u001b[0m\u001b[0m_is_owned\u001b[0m\u001b[1;33m(\u001b[0m\u001b[1;33m)\u001b[0m\u001b[1;33m:\u001b[0m\u001b[1;33m\u001b[0m\u001b[1;33m\u001b[0m\u001b[0m\n\u001b[1;32m--> 294\u001b[1;33m             \u001b[1;32mraise\u001b[0m \u001b[0mRuntimeError\u001b[0m\u001b[1;33m(\u001b[0m\u001b[1;34m\"cannot wait on un-acquired lock\"\u001b[0m\u001b[1;33m)\u001b[0m\u001b[1;33m\u001b[0m\u001b[1;33m\u001b[0m\u001b[0m\n\u001b[0m\u001b[0;32m    295\u001b[0m         \u001b[0mwaiter\u001b[0m \u001b[1;33m=\u001b[0m \u001b[0m_allocate_lock\u001b[0m\u001b[1;33m(\u001b[0m\u001b[1;33m)\u001b[0m\u001b[1;33m\u001b[0m\u001b[1;33m\u001b[0m\u001b[0m\n",
      "\u001b[1;31mRuntimeError\u001b[0m: cannot wait on un-acquired lock",
      "\nDuring handling of the above exception, another exception occurred:\n",
      "\u001b[1;31mKeyboardInterrupt\u001b[0m                         Traceback (most recent call last)",
      "\u001b[1;32m~\\AppData\\Local\\Temp/ipykernel_2912/3145414246.py\u001b[0m in \u001b[0;36m<module>\u001b[1;34m\u001b[0m\n\u001b[0;32m      1\u001b[0m \u001b[0mcounter\u001b[0m \u001b[1;33m=\u001b[0m \u001b[0mCounter\u001b[0m\u001b[1;33m.\u001b[0m\u001b[0moptions\u001b[0m\u001b[1;33m(\u001b[0m\u001b[0mname\u001b[0m\u001b[1;33m=\u001b[0m\u001b[1;34m\"CounterActor\"\u001b[0m\u001b[1;33m,\u001b[0m \u001b[0mlifetime\u001b[0m\u001b[1;33m=\u001b[0m\u001b[1;34m\"detached\"\u001b[0m\u001b[1;33m)\u001b[0m\u001b[1;33m.\u001b[0m\u001b[0mremote\u001b[0m\u001b[1;33m(\u001b[0m\u001b[1;33m)\u001b[0m\u001b[1;33m\u001b[0m\u001b[1;33m\u001b[0m\u001b[0m\n\u001b[1;32m----> 2\u001b[1;33m \u001b[0mcounter\u001b[0m \u001b[1;33m=\u001b[0m \u001b[0mray\u001b[0m\u001b[1;33m.\u001b[0m\u001b[0mget_actor\u001b[0m\u001b[1;33m(\u001b[0m\u001b[1;34m\"CounterActor\"\u001b[0m\u001b[1;33m)\u001b[0m\u001b[1;33m\u001b[0m\u001b[1;33m\u001b[0m\u001b[0m\n\u001b[0m\u001b[0;32m      3\u001b[0m \u001b[0mprint\u001b[0m\u001b[1;33m(\u001b[0m\u001b[0mray\u001b[0m\u001b[1;33m.\u001b[0m\u001b[0mget\u001b[0m\u001b[1;33m(\u001b[0m\u001b[0mcounter\u001b[0m\u001b[1;33m.\u001b[0m\u001b[0mget_counter\u001b[0m\u001b[1;33m.\u001b[0m\u001b[0mremote\u001b[0m\u001b[1;33m(\u001b[0m\u001b[1;33m)\u001b[0m\u001b[1;33m)\u001b[0m\u001b[1;33m)\u001b[0m\u001b[1;33m\u001b[0m\u001b[1;33m\u001b[0m\u001b[0m\n",
      "\u001b[1;32mD:\\anaconda3\\envs\\yourenvname\\lib\\site-packages\\ray\\_private\\client_mode_hook.py\u001b[0m in \u001b[0;36mwrapper\u001b[1;34m(*args, **kwargs)\u001b[0m\n\u001b[0;32m    103\u001b[0m             \u001b[1;32mif\u001b[0m \u001b[0mfunc\u001b[0m\u001b[1;33m.\u001b[0m\u001b[0m__name__\u001b[0m \u001b[1;33m!=\u001b[0m \u001b[1;34m\"init\"\u001b[0m \u001b[1;32mor\u001b[0m \u001b[0mis_client_mode_enabled_by_default\u001b[0m\u001b[1;33m:\u001b[0m\u001b[1;33m\u001b[0m\u001b[1;33m\u001b[0m\u001b[0m\n\u001b[0;32m    104\u001b[0m                 \u001b[1;32mreturn\u001b[0m \u001b[0mgetattr\u001b[0m\u001b[1;33m(\u001b[0m\u001b[0mray\u001b[0m\u001b[1;33m,\u001b[0m \u001b[0mfunc\u001b[0m\u001b[1;33m.\u001b[0m\u001b[0m__name__\u001b[0m\u001b[1;33m)\u001b[0m\u001b[1;33m(\u001b[0m\u001b[1;33m*\u001b[0m\u001b[0margs\u001b[0m\u001b[1;33m,\u001b[0m \u001b[1;33m**\u001b[0m\u001b[0mkwargs\u001b[0m\u001b[1;33m)\u001b[0m\u001b[1;33m\u001b[0m\u001b[1;33m\u001b[0m\u001b[0m\n\u001b[1;32m--> 105\u001b[1;33m         \u001b[1;32mreturn\u001b[0m \u001b[0mfunc\u001b[0m\u001b[1;33m(\u001b[0m\u001b[1;33m*\u001b[0m\u001b[0margs\u001b[0m\u001b[1;33m,\u001b[0m \u001b[1;33m**\u001b[0m\u001b[0mkwargs\u001b[0m\u001b[1;33m)\u001b[0m\u001b[1;33m\u001b[0m\u001b[1;33m\u001b[0m\u001b[0m\n\u001b[0m\u001b[0;32m    106\u001b[0m \u001b[1;33m\u001b[0m\u001b[0m\n\u001b[0;32m    107\u001b[0m     \u001b[1;32mreturn\u001b[0m \u001b[0mwrapper\u001b[0m\u001b[1;33m\u001b[0m\u001b[1;33m\u001b[0m\u001b[0m\n",
      "\u001b[1;32mD:\\anaconda3\\envs\\yourenvname\\lib\\site-packages\\ray\\worker.py\u001b[0m in \u001b[0;36mget_actor\u001b[1;34m(name, namespace)\u001b[0m\n\u001b[0;32m   1923\u001b[0m     \u001b[0mworker\u001b[0m \u001b[1;33m=\u001b[0m \u001b[0mglobal_worker\u001b[0m\u001b[1;33m\u001b[0m\u001b[1;33m\u001b[0m\u001b[0m\n\u001b[0;32m   1924\u001b[0m     \u001b[0mworker\u001b[0m\u001b[1;33m.\u001b[0m\u001b[0mcheck_connected\u001b[0m\u001b[1;33m(\u001b[0m\u001b[1;33m)\u001b[0m\u001b[1;33m\u001b[0m\u001b[1;33m\u001b[0m\u001b[0m\n\u001b[1;32m-> 1925\u001b[1;33m     \u001b[1;32mreturn\u001b[0m \u001b[0mworker\u001b[0m\u001b[1;33m.\u001b[0m\u001b[0mcore_worker\u001b[0m\u001b[1;33m.\u001b[0m\u001b[0mget_named_actor_handle\u001b[0m\u001b[1;33m(\u001b[0m\u001b[0mname\u001b[0m\u001b[1;33m,\u001b[0m \u001b[0mnamespace\u001b[0m \u001b[1;32mor\u001b[0m \u001b[1;34m\"\"\u001b[0m\u001b[1;33m)\u001b[0m\u001b[1;33m\u001b[0m\u001b[1;33m\u001b[0m\u001b[0m\n\u001b[0m\u001b[0;32m   1926\u001b[0m \u001b[1;33m\u001b[0m\u001b[0m\n\u001b[0;32m   1927\u001b[0m \u001b[1;33m\u001b[0m\u001b[0m\n",
      "\u001b[1;32mpython\\ray\\_raylet.pyx\u001b[0m in \u001b[0;36mray._raylet.CoreWorker.get_named_actor_handle\u001b[1;34m()\u001b[0m\n",
      "\u001b[1;32mpython\\ray\\_raylet.pyx\u001b[0m in \u001b[0;36mray._raylet.CoreWorker.make_actor_handle\u001b[1;34m()\u001b[0m\n",
      "\u001b[1;32mD:\\anaconda3\\envs\\yourenvname\\lib\\site-packages\\ray\\_private\\function_manager.py\u001b[0m in \u001b[0;36mload_actor_class\u001b[1;34m(self, job_id, actor_creation_function_descriptor)\u001b[0m\n\u001b[0;32m    449\u001b[0m             \u001b[1;32melse\u001b[0m\u001b[1;33m:\u001b[0m\u001b[1;33m\u001b[0m\u001b[1;33m\u001b[0m\u001b[0m\n\u001b[0;32m    450\u001b[0m                 \u001b[1;31m# Load actor class from GCS.\u001b[0m\u001b[1;33m\u001b[0m\u001b[1;33m\u001b[0m\u001b[1;33m\u001b[0m\u001b[0m\n\u001b[1;32m--> 451\u001b[1;33m                 actor_class = self._load_actor_class_from_gcs(\n\u001b[0m\u001b[0;32m    452\u001b[0m                     job_id, actor_creation_function_descriptor)\n\u001b[0;32m    453\u001b[0m             \u001b[1;31m# Save the loaded actor class in cache.\u001b[0m\u001b[1;33m\u001b[0m\u001b[1;33m\u001b[0m\u001b[1;33m\u001b[0m\u001b[0m\n",
      "\u001b[1;32mD:\\anaconda3\\envs\\yourenvname\\lib\\site-packages\\ray\\_private\\function_manager.py\u001b[0m in \u001b[0;36m_load_actor_class_from_gcs\u001b[1;34m(self, job_id, actor_creation_function_descriptor)\u001b[0m\n\u001b[0;32m    539\u001b[0m             \u001b[1;32mexcept\u001b[0m \u001b[0mRuntimeError\u001b[0m\u001b[1;33m:\u001b[0m\u001b[1;33m\u001b[0m\u001b[1;33m\u001b[0m\u001b[0m\n\u001b[0;32m    540\u001b[0m                 \u001b[1;31m# We don't hold the function_manager lock, just sleep regularly\u001b[0m\u001b[1;33m\u001b[0m\u001b[1;33m\u001b[0m\u001b[1;33m\u001b[0m\u001b[0m\n\u001b[1;32m--> 541\u001b[1;33m                 \u001b[0mtime\u001b[0m\u001b[1;33m.\u001b[0m\u001b[0msleep\u001b[0m\u001b[1;33m(\u001b[0m\u001b[1;36m0.001\u001b[0m\u001b[1;33m)\u001b[0m\u001b[1;33m\u001b[0m\u001b[1;33m\u001b[0m\u001b[0m\n\u001b[0m\u001b[0;32m    542\u001b[0m \u001b[1;33m\u001b[0m\u001b[0m\n\u001b[0;32m    543\u001b[0m         \u001b[1;31m# Fetch raw data from GCS.\u001b[0m\u001b[1;33m\u001b[0m\u001b[1;33m\u001b[0m\u001b[1;33m\u001b[0m\u001b[0m\n",
      "\u001b[1;31mKeyboardInterrupt\u001b[0m: "
     ]
    }
   ],
   "source": [
    "counter = Counter.options(name=\"CounterActor\", lifetime=\"detached\").remote()\n",
    "counter = ray.get_actor(\"CounterActor\")\n",
    "print(ray.get(counter.get_counter.remote()))"
   ]
  },
  {
   "cell_type": "code",
   "execution_count": 26,
   "id": "ae9ae5a8",
   "metadata": {},
   "outputs": [
    {
     "name": "stdout",
     "output_type": "stream",
     "text": [
      "[2, 4, 6, 8]\n"
     ]
    }
   ],
   "source": [
    "from ray.util import ActorPool\n",
    "\n",
    "@ray.remote\n",
    "class Actor:\n",
    "    def double(self, n):\n",
    "        return n * 2\n",
    "\n",
    "a1, a2 = Actor.remote(), Actor.remote()\n",
    "pool = ActorPool([a1, a2])\n",
    "\n",
    "# pool.map(..) returns a Python generator object ActorPool.map\n",
    "gen = pool.map(lambda a, v: a.double.remote(v), [1, 2, 3, 4])\n",
    "print([v for v in gen])"
   ]
  },
  {
   "cell_type": "markdown",
   "id": "aa7cb70f",
   "metadata": {},
   "source": [
    "Namespaces"
   ]
  },
  {
   "cell_type": "code",
   "execution_count": 27,
   "id": "8fb8c6b5",
   "metadata": {},
   "outputs": [
    {
     "name": "stderr",
     "output_type": "stream",
     "text": [
      "2021-12-05 14:11:38,124\tINFO services.py:1338 -- View the Ray dashboard at \u001b[1m\u001b[32mhttp://127.0.0.1:8265\u001b[39m\u001b[22m\n",
      "2021-12-05 14:11:41,775\tERROR import_thread.py:89 -- ImportThread: [WinError 10054] An existing connection was forcibly closed by the remote host\n",
      "Exception in thread ray_print_logs:\n",
      "Traceback (most recent call last):\n",
      "  File \"D:\\anaconda3\\envs\\yourenvname\\lib\\threading.py\", line 932, in _bootstrap_inner\n",
      "Exception in thread ray_listen_error_messages:\n",
      "Traceback (most recent call last):\n"
     ]
    },
    {
     "data": {
      "text/plain": [
       "{'node_ip_address': '127.0.0.1',\n",
       " 'raylet_ip_address': '127.0.0.1',\n",
       " 'redis_address': '127.0.0.1:6379',\n",
       " 'object_store_address': 'tcp://127.0.0.1:61777',\n",
       " 'raylet_socket_name': 'tcp://127.0.0.1:61624',\n",
       " 'webui_url': '127.0.0.1:8265',\n",
       " 'session_dir': 'C:\\\\Users\\\\James\\\\AppData\\\\Local\\\\Temp\\\\ray\\\\session_2021-12-05_14-11-31_497014_2912',\n",
       " 'metrics_export_port': 56978,\n",
       " 'node_id': 'ee8dfcc48a85aeeb276268f4761f5ad84800a82706255b5c102c2544'}"
      ]
     },
     "execution_count": 27,
     "metadata": {},
     "output_type": "execute_result"
    },
    {
     "name": "stderr",
     "output_type": "stream",
     "text": [
      "  File \"D:\\anaconda3\\envs\\yourenvname\\lib\\threading.py\", line 932, in _bootstrap_inner\n",
      "    self.run()\n",
      "    self.run()\n",
      "  File \"D:\\anaconda3\\envs\\yourenvname\\lib\\threading.py\", line 870, in run\n",
      "  File \"D:\\anaconda3\\envs\\yourenvname\\lib\\threading.py\", line 870, in run\n",
      "    self._target(*self._args, **self._kwargs)\n",
      "  File \"D:\\anaconda3\\envs\\yourenvname\\lib\\site-packages\\ray\\worker.py\", line 439, in print_logs\n",
      "    pubsub_client.subscribe(gcs_utils.LOG_FILE_CHANNEL)\n",
      "  File \"D:\\anaconda3\\envs\\yourenvname\\lib\\site-packages\\redis\\client.py\", line 1377, in subscribe\n",
      "    self._target(*self._args, **self._kwargs)\n",
      "  File \"D:\\anaconda3\\envs\\yourenvname\\lib\\site-packages\\ray\\worker.py\", line 1211, in listen_error_messages_raylet\n",
      "    ret_val = self.execute_command('SUBSCRIBE', *new_channels.keys())\n",
      "  File \"D:\\anaconda3\\envs\\yourenvname\\lib\\site-packages\\redis\\client.py\", line 1253, in execute_command\n",
      "        worker.error_message_pubsub_client.psubscribe(error_pubsub_channel)\n",
      "  File \"D:\\anaconda3\\envs\\yourenvname\\lib\\site-packages\\redis\\client.py\", line 1343, in psubscribe\n",
      "self.connection = self.connection_pool.get_connection(\n",
      "  File \"D:\\anaconda3\\envs\\yourenvname\\lib\\site-packages\\redis\\connection.py\", line 1179, in get_connection\n",
      "    if connection.can_read():\n",
      "  File \"D:\\anaconda3\\envs\\yourenvname\\lib\\site-packages\\redis\\connection.py\", line 743, in can_read\n",
      "    ret_val = self.execute_command('PSUBSCRIBE', *new_patterns.keys())\n",
      "  File \"D:\\anaconda3\\envs\\yourenvname\\lib\\site-packages\\redis\\client.py\", line 1253, in execute_command\n",
      "    return self._parser.can_read(timeout)\n",
      "  File \"D:\\anaconda3\\envs\\yourenvname\\lib\\site-packages\\redis\\connection.py\", line 410, in can_read\n",
      "    self.connection = self.connection_pool.get_connection(\n",
      "    return self.read_from_socket(timeout=timeout,  File \"D:\\anaconda3\\envs\\yourenvname\\lib\\site-packages\\redis\\connection.py\", line 1179, in get_connection\n",
      "\n",
      "  File \"D:\\anaconda3\\envs\\yourenvname\\lib\\site-packages\\redis\\connection.py\", line 421, in read_from_socket\n",
      "    bufflen = self._sock.recv_into(self._buffer)\n",
      "ConnectionResetError: [WinError 10054] An existing connection was forcibly closed by the remote host\n",
      "    if connection.can_read():\n",
      "  File \"D:\\anaconda3\\envs\\yourenvname\\lib\\site-packages\\redis\\connection.py\", line 743, in can_read\n",
      "    return self._parser.can_read(timeout)\n",
      "  File \"D:\\anaconda3\\envs\\yourenvname\\lib\\site-packages\\redis\\connection.py\", line 410, in can_read\n",
      "    return self.read_from_socket(timeout=timeout,\n",
      "  File \"D:\\anaconda3\\envs\\yourenvname\\lib\\site-packages\\redis\\connection.py\", line 421, in read_from_socket\n",
      "    bufflen = self._sock.recv_into(self._buffer)\n",
      "ConnectionResetError: [WinError 10054] An existing connection was forcibly closed by the remote host\n"
     ]
    }
   ],
   "source": [
    "ray.shutdown()\n",
    "ray.init(namespace=\"hello\")\n",
    "# or using ray client\n",
    "#ray.init(\"ray://<head_node_host>:10001\", namespace=\"world\")"
   ]
  },
  {
   "cell_type": "code",
   "execution_count": 30,
   "id": "2f5cfa32",
   "metadata": {},
   "outputs": [
    {
     "name": "stderr",
     "output_type": "stream",
     "text": [
      "2021-12-05 17:42:53,732\tINFO worker.py:852 -- Calling ray.init() again after it has already been called.\n"
     ]
    },
    {
     "ename": "AttributeError",
     "evalue": "__enter__",
     "output_type": "error",
     "traceback": [
      "\u001b[1;31m---------------------------------------------------------------------------\u001b[0m",
      "\u001b[1;31mAttributeError\u001b[0m                            Traceback (most recent call last)",
      "\u001b[1;32m~\\AppData\\Local\\Temp/ipykernel_2912/2638247447.py\u001b[0m in \u001b[0;36m<module>\u001b[1;34m\u001b[0m\n\u001b[0;32m      7\u001b[0m \u001b[1;33m\u001b[0m\u001b[0m\n\u001b[0;32m      8\u001b[0m \u001b[1;31m# Job 1 creates two actors, \"orange\" and \"purple\" in the \"colors\" namespace.\u001b[0m\u001b[1;33m\u001b[0m\u001b[1;33m\u001b[0m\u001b[1;33m\u001b[0m\u001b[0m\n\u001b[1;32m----> 9\u001b[1;33m \u001b[1;32mwith\u001b[0m \u001b[0mray\u001b[0m\u001b[1;33m.\u001b[0m\u001b[0minit\u001b[0m\u001b[1;33m(\u001b[0m\u001b[0mnamespace\u001b[0m\u001b[1;33m=\u001b[0m\u001b[1;34m\"colors\"\u001b[0m\u001b[1;33m,\u001b[0m \u001b[0mignore_reinit_error\u001b[0m\u001b[1;33m=\u001b[0m\u001b[1;32mTrue\u001b[0m\u001b[1;33m)\u001b[0m\u001b[1;33m:\u001b[0m\u001b[1;33m\u001b[0m\u001b[1;33m\u001b[0m\u001b[0m\n\u001b[0m\u001b[0;32m     10\u001b[0m     \u001b[0mActor\u001b[0m\u001b[1;33m.\u001b[0m\u001b[0moptions\u001b[0m\u001b[1;33m(\u001b[0m\u001b[0mname\u001b[0m\u001b[1;33m=\u001b[0m\u001b[1;34m\"orange\"\u001b[0m\u001b[1;33m,\u001b[0m \u001b[0mlifetime\u001b[0m\u001b[1;33m=\u001b[0m\u001b[1;34m\"detached\"\u001b[0m\u001b[1;33m)\u001b[0m\u001b[1;33m\u001b[0m\u001b[1;33m\u001b[0m\u001b[0m\n\u001b[0;32m     11\u001b[0m     \u001b[0mActor\u001b[0m\u001b[1;33m.\u001b[0m\u001b[0moptions\u001b[0m\u001b[1;33m(\u001b[0m\u001b[0mname\u001b[0m\u001b[1;33m=\u001b[0m\u001b[1;34m\"purple\"\u001b[0m\u001b[1;33m,\u001b[0m \u001b[0mlifetime\u001b[0m\u001b[1;33m=\u001b[0m\u001b[1;34m\"detached\"\u001b[0m\u001b[1;33m)\u001b[0m\u001b[1;33m\u001b[0m\u001b[1;33m\u001b[0m\u001b[0m\n",
      "\u001b[1;31mAttributeError\u001b[0m: __enter__"
     ]
    }
   ],
   "source": [
    "# `ray start --head` has been run to launch a local cluster.\n",
    "import ray\n",
    "\n",
    "@ray.remote\n",
    "class Actor:\n",
    "    pass\n",
    "\n",
    "# Job 1 creates two actors, \"orange\" and \"purple\" in the \"colors\" namespace.\n",
    "with ray.init(namespace=\"colors\", ignore_reinit_error=True):\n",
    "    Actor.options(name=\"orange\", lifetime=\"detached\")\n",
    "    Actor.options(name=\"purple\", lifetime=\"detached\")\n",
    "\n",
    "# Job 2 is now connecting to a different namespace.\n",
    "with ray.init(namespace=\"fruits\", ignore_reinit_error=True):\n",
    "  # This fails because \"orange\" was defined in the \"colors\" namespace.\n",
    "    ray.get_actor(\"orange\")\n",
    "  # This succceeds because the name \"orange\" is unused in this namespace.\n",
    "    Actor.options(name=\"orange\", lifetime=\"detached\")\n",
    "    Actor.options(name=\"watermelon\", lifetime=\"detached\")\n",
    "\n",
    "# Job 3 connects to the original \"colors\" namespace\n",
    "context = ray.init(\"ray://localhost:10001\", namespace=\"colors\", ignore_reinit_error=True)\n",
    "# This fails because \"watermelon\" was in the fruits namespace.\n",
    "ray.get_actor(\"watermelon\")\n",
    "# This returns the \"orange\" actor we created in the first job, not the second.\n",
    "ray.get_actor(\"orange\")\n",
    "context.disconnect()\n",
    "# We are manually managing the scope of the connection in this example."
   ]
  },
  {
   "cell_type": "code",
   "execution_count": 34,
   "id": "d51a2b81",
   "metadata": {},
   "outputs": [
    {
     "name": "stderr",
     "output_type": "stream",
     "text": [
      "2021-12-05 17:45:05,863\tINFO worker.py:852 -- Calling ray.init() again after it has already been called.\n",
      "2021-12-05 17:45:26,124\tINFO services.py:1338 -- View the Ray dashboard at \u001b[1m\u001b[32mhttp://127.0.0.1:8265\u001b[39m\u001b[22m\n"
     ]
    }
   ],
   "source": [
    "import ray\n",
    "\n",
    "@ray.remote\n",
    "class Actor:\n",
    "    pass\n",
    "\n",
    "# Job 1 connects to an anonymous namespace by default\n",
    "ray.init(ignore_reinit_error=True)\n",
    "Actor.options(name=\"my_actor\", lifetime=\"detached\")\n",
    "print(ray.get_runtime_context().namespace)\n",
    "ray.shutdown()\n",
    "\n",
    "# Job 2 connects to a _different_ anonymous namespace by default\n",
    "ray.init(ignore_reinit_error=True)\n",
    "# This succeeds because the second job is in its own namespace.\n",
    "Actor.options(name=\"my_actor\", lifetime=\"detached\")\n",
    "ray.shutdown()"
   ]
  },
  {
   "cell_type": "markdown",
   "id": "02b30160",
   "metadata": {},
   "source": [
    "Dependencies"
   ]
  },
  {
   "cell_type": "code",
   "execution_count": 40,
   "id": "62169726",
   "metadata": {},
   "outputs": [
    {
     "name": "stderr",
     "output_type": "stream",
     "text": [
      "2021-12-05 17:49:00,073\tINFO services.py:1338 -- View the Ray dashboard at \u001b[1m\u001b[32mhttp://127.0.0.1:8265\u001b[39m\u001b[22m\n"
     ]
    },
    {
     "ename": "NotImplementedError",
     "evalue": "The 'pip' field in runtime_env is not currently supported on Windows.",
     "output_type": "error",
     "traceback": [
      "\u001b[1;31m---------------------------------------------------------------------------\u001b[0m",
      "\u001b[1;31mNotImplementedError\u001b[0m                       Traceback (most recent call last)",
      "\u001b[1;32m~\\AppData\\Local\\Temp/ipykernel_2912/607867276.py\u001b[0m in \u001b[0;36m<module>\u001b[1;34m\u001b[0m\n\u001b[0;32m      5\u001b[0m \u001b[1;31m# ray.init(address=..., runtime_env=...) to connect to a cluster.\u001b[0m\u001b[1;33m\u001b[0m\u001b[1;33m\u001b[0m\u001b[1;33m\u001b[0m\u001b[0m\n\u001b[0;32m      6\u001b[0m \u001b[0mray\u001b[0m\u001b[1;33m.\u001b[0m\u001b[0mshutdown\u001b[0m\u001b[1;33m(\u001b[0m\u001b[1;33m)\u001b[0m\u001b[1;33m\u001b[0m\u001b[1;33m\u001b[0m\u001b[0m\n\u001b[1;32m----> 7\u001b[1;33m \u001b[0mray\u001b[0m\u001b[1;33m.\u001b[0m\u001b[0minit\u001b[0m\u001b[1;33m(\u001b[0m\u001b[0mruntime_env\u001b[0m\u001b[1;33m=\u001b[0m\u001b[1;33m{\u001b[0m\u001b[1;34m\"pip\"\u001b[0m\u001b[1;33m:\u001b[0m \u001b[1;33m[\u001b[0m\u001b[1;34m\"requests\"\u001b[0m\u001b[1;33m]\u001b[0m\u001b[1;33m}\u001b[0m\u001b[1;33m)\u001b[0m\u001b[1;33m\u001b[0m\u001b[1;33m\u001b[0m\u001b[0m\n\u001b[0m\u001b[0;32m      8\u001b[0m \u001b[1;33m\u001b[0m\u001b[0m\n\u001b[0;32m      9\u001b[0m \u001b[1;33m@\u001b[0m\u001b[0mray\u001b[0m\u001b[1;33m.\u001b[0m\u001b[0mremote\u001b[0m\u001b[1;33m\u001b[0m\u001b[1;33m\u001b[0m\u001b[0m\n",
      "\u001b[1;32mD:\\anaconda3\\envs\\yourenvname\\lib\\site-packages\\ray\\_private\\client_mode_hook.py\u001b[0m in \u001b[0;36mwrapper\u001b[1;34m(*args, **kwargs)\u001b[0m\n\u001b[0;32m    103\u001b[0m             \u001b[1;32mif\u001b[0m \u001b[0mfunc\u001b[0m\u001b[1;33m.\u001b[0m\u001b[0m__name__\u001b[0m \u001b[1;33m!=\u001b[0m \u001b[1;34m\"init\"\u001b[0m \u001b[1;32mor\u001b[0m \u001b[0mis_client_mode_enabled_by_default\u001b[0m\u001b[1;33m:\u001b[0m\u001b[1;33m\u001b[0m\u001b[1;33m\u001b[0m\u001b[0m\n\u001b[0;32m    104\u001b[0m                 \u001b[1;32mreturn\u001b[0m \u001b[0mgetattr\u001b[0m\u001b[1;33m(\u001b[0m\u001b[0mray\u001b[0m\u001b[1;33m,\u001b[0m \u001b[0mfunc\u001b[0m\u001b[1;33m.\u001b[0m\u001b[0m__name__\u001b[0m\u001b[1;33m)\u001b[0m\u001b[1;33m(\u001b[0m\u001b[1;33m*\u001b[0m\u001b[0margs\u001b[0m\u001b[1;33m,\u001b[0m \u001b[1;33m**\u001b[0m\u001b[0mkwargs\u001b[0m\u001b[1;33m)\u001b[0m\u001b[1;33m\u001b[0m\u001b[1;33m\u001b[0m\u001b[0m\n\u001b[1;32m--> 105\u001b[1;33m         \u001b[1;32mreturn\u001b[0m \u001b[0mfunc\u001b[0m\u001b[1;33m(\u001b[0m\u001b[1;33m*\u001b[0m\u001b[0margs\u001b[0m\u001b[1;33m,\u001b[0m \u001b[1;33m**\u001b[0m\u001b[0mkwargs\u001b[0m\u001b[1;33m)\u001b[0m\u001b[1;33m\u001b[0m\u001b[1;33m\u001b[0m\u001b[0m\n\u001b[0m\u001b[0;32m    106\u001b[0m \u001b[1;33m\u001b[0m\u001b[0m\n\u001b[0;32m    107\u001b[0m     \u001b[1;32mreturn\u001b[0m \u001b[0mwrapper\u001b[0m\u001b[1;33m\u001b[0m\u001b[1;33m\u001b[0m\u001b[0m\n",
      "\u001b[1;32mD:\\anaconda3\\envs\\yourenvname\\lib\\site-packages\\ray\\worker.py\u001b[0m in \u001b[0;36minit\u001b[1;34m(address, num_cpus, num_gpus, resources, object_store_memory, local_mode, ignore_reinit_error, include_dashboard, dashboard_host, dashboard_port, job_config, configure_logging, logging_level, logging_format, log_to_driver, namespace, runtime_env, _enable_object_reconstruction, _redis_max_memory, _plasma_directory, _node_ip_address, _driver_object_store_memory, _memory, _redis_password, _temp_dir, _metrics_export_port, _system_config, _tracing_startup_hook, **kwargs)\u001b[0m\n\u001b[0;32m    949\u001b[0m             connect_only=True)\n\u001b[0;32m    950\u001b[0m \u001b[1;33m\u001b[0m\u001b[0m\n\u001b[1;32m--> 951\u001b[1;33m     connect(\n\u001b[0m\u001b[0;32m    952\u001b[0m         \u001b[0m_global_node\u001b[0m\u001b[1;33m,\u001b[0m\u001b[1;33m\u001b[0m\u001b[1;33m\u001b[0m\u001b[0m\n\u001b[0;32m    953\u001b[0m         \u001b[0mmode\u001b[0m\u001b[1;33m=\u001b[0m\u001b[0mdriver_mode\u001b[0m\u001b[1;33m,\u001b[0m\u001b[1;33m\u001b[0m\u001b[1;33m\u001b[0m\u001b[0m\n",
      "\u001b[1;32mD:\\anaconda3\\envs\\yourenvname\\lib\\site-packages\\ray\\worker.py\u001b[0m in \u001b[0;36mconnect\u001b[1;34m(node, mode, log_to_driver, worker, driver_object_store_memory, job_id, namespace, job_config, runtime_env_hash, worker_shim_pid, startup_token, ray_debugger_external)\u001b[0m\n\u001b[0;32m   1477\u001b[0m         \u001b[0mjob_config\u001b[0m\u001b[1;33m.\u001b[0m\u001b[0mset_runtime_env\u001b[0m\u001b[1;33m(\u001b[0m\u001b[0mruntime_env\u001b[0m\u001b[1;33m)\u001b[0m\u001b[1;33m\u001b[0m\u001b[1;33m\u001b[0m\u001b[0m\n\u001b[0;32m   1478\u001b[0m \u001b[1;33m\u001b[0m\u001b[0m\n\u001b[1;32m-> 1479\u001b[1;33m     \u001b[0mserialized_job_config\u001b[0m \u001b[1;33m=\u001b[0m \u001b[0mjob_config\u001b[0m\u001b[1;33m.\u001b[0m\u001b[0mserialize\u001b[0m\u001b[1;33m(\u001b[0m\u001b[1;33m)\u001b[0m\u001b[1;33m\u001b[0m\u001b[1;33m\u001b[0m\u001b[0m\n\u001b[0m\u001b[0;32m   1480\u001b[0m     worker.core_worker = ray._raylet.CoreWorker(\n\u001b[0;32m   1481\u001b[0m         \u001b[0mmode\u001b[0m\u001b[1;33m,\u001b[0m \u001b[0mnode\u001b[0m\u001b[1;33m.\u001b[0m\u001b[0mplasma_store_socket_name\u001b[0m\u001b[1;33m,\u001b[0m \u001b[0mnode\u001b[0m\u001b[1;33m.\u001b[0m\u001b[0mraylet_socket_name\u001b[0m\u001b[1;33m,\u001b[0m \u001b[0mjob_id\u001b[0m\u001b[1;33m,\u001b[0m\u001b[1;33m\u001b[0m\u001b[1;33m\u001b[0m\u001b[0m\n",
      "\u001b[1;32mD:\\anaconda3\\envs\\yourenvname\\lib\\site-packages\\ray\\job_config.py\u001b[0m in \u001b[0;36mserialize\u001b[1;34m(self)\u001b[0m\n\u001b[0;32m     46\u001b[0m     \u001b[1;32mdef\u001b[0m \u001b[0mserialize\u001b[0m\u001b[1;33m(\u001b[0m\u001b[0mself\u001b[0m\u001b[1;33m)\u001b[0m\u001b[1;33m:\u001b[0m\u001b[1;33m\u001b[0m\u001b[1;33m\u001b[0m\u001b[0m\n\u001b[0;32m     47\u001b[0m         \u001b[1;34m\"\"\"Serialize the struct into protobuf string\"\"\"\u001b[0m\u001b[1;33m\u001b[0m\u001b[1;33m\u001b[0m\u001b[0m\n\u001b[1;32m---> 48\u001b[1;33m         \u001b[1;32mreturn\u001b[0m \u001b[0mself\u001b[0m\u001b[1;33m.\u001b[0m\u001b[0mget_proto_job_config\u001b[0m\u001b[1;33m(\u001b[0m\u001b[1;33m)\u001b[0m\u001b[1;33m.\u001b[0m\u001b[0mSerializeToString\u001b[0m\u001b[1;33m(\u001b[0m\u001b[1;33m)\u001b[0m\u001b[1;33m\u001b[0m\u001b[1;33m\u001b[0m\u001b[0m\n\u001b[0m\u001b[0;32m     49\u001b[0m \u001b[1;33m\u001b[0m\u001b[0m\n\u001b[0;32m     50\u001b[0m     \u001b[1;32mdef\u001b[0m \u001b[0mset_runtime_env\u001b[0m\u001b[1;33m(\u001b[0m\u001b[0mself\u001b[0m\u001b[1;33m,\u001b[0m \u001b[0mruntime_env\u001b[0m\u001b[1;33m:\u001b[0m \u001b[0mOptional\u001b[0m\u001b[1;33m[\u001b[0m\u001b[0mDict\u001b[0m\u001b[1;33m[\u001b[0m\u001b[0mstr\u001b[0m\u001b[1;33m,\u001b[0m \u001b[0mAny\u001b[0m\u001b[1;33m]\u001b[0m\u001b[1;33m]\u001b[0m\u001b[1;33m)\u001b[0m \u001b[1;33m->\u001b[0m \u001b[1;32mNone\u001b[0m\u001b[1;33m:\u001b[0m\u001b[1;33m\u001b[0m\u001b[1;33m\u001b[0m\u001b[0m\n",
      "\u001b[1;32mD:\\anaconda3\\envs\\yourenvname\\lib\\site-packages\\ray\\job_config.py\u001b[0m in \u001b[0;36mget_proto_job_config\u001b[1;34m(self)\u001b[0m\n\u001b[0;32m     87\u001b[0m                 \u001b[0mpb\u001b[0m\u001b[1;33m.\u001b[0m\u001b[0mmetadata\u001b[0m\u001b[1;33m[\u001b[0m\u001b[0mk\u001b[0m\u001b[1;33m]\u001b[0m \u001b[1;33m=\u001b[0m \u001b[0mv\u001b[0m\u001b[1;33m\u001b[0m\u001b[1;33m\u001b[0m\u001b[0m\n\u001b[0;32m     88\u001b[0m \u001b[1;33m\u001b[0m\u001b[0m\n\u001b[1;32m---> 89\u001b[1;33m             \u001b[0mparsed_env\u001b[0m\u001b[1;33m,\u001b[0m \u001b[0meager_install\u001b[0m \u001b[1;33m=\u001b[0m \u001b[0mself\u001b[0m\u001b[1;33m.\u001b[0m\u001b[0m_validate_runtime_env\u001b[0m\u001b[1;33m(\u001b[0m\u001b[1;33m)\u001b[0m\u001b[1;33m\u001b[0m\u001b[1;33m\u001b[0m\u001b[0m\n\u001b[0m\u001b[0;32m     90\u001b[0m             \u001b[0mpb\u001b[0m\u001b[1;33m.\u001b[0m\u001b[0mruntime_env\u001b[0m\u001b[1;33m.\u001b[0m\u001b[0muris\u001b[0m\u001b[1;33m[\u001b[0m\u001b[1;33m:\u001b[0m\u001b[1;33m]\u001b[0m \u001b[1;33m=\u001b[0m \u001b[0mparsed_env\u001b[0m\u001b[1;33m.\u001b[0m\u001b[0mget_uris\u001b[0m\u001b[1;33m(\u001b[0m\u001b[1;33m)\u001b[0m\u001b[1;33m\u001b[0m\u001b[1;33m\u001b[0m\u001b[0m\n\u001b[0;32m     91\u001b[0m             \u001b[0mpb\u001b[0m\u001b[1;33m.\u001b[0m\u001b[0mruntime_env\u001b[0m\u001b[1;33m.\u001b[0m\u001b[0mserialized_runtime_env\u001b[0m \u001b[1;33m=\u001b[0m \u001b[0mparsed_env\u001b[0m\u001b[1;33m.\u001b[0m\u001b[0mserialize\u001b[0m\u001b[1;33m(\u001b[0m\u001b[1;33m)\u001b[0m\u001b[1;33m\u001b[0m\u001b[1;33m\u001b[0m\u001b[0m\n",
      "\u001b[1;32mD:\\anaconda3\\envs\\yourenvname\\lib\\site-packages\\ray\\job_config.py\u001b[0m in \u001b[0;36m_validate_runtime_env\u001b[1;34m(self)\u001b[0m\n\u001b[0;32m     71\u001b[0m         \u001b[1;32mif\u001b[0m \u001b[1;32mnot\u001b[0m \u001b[0misinstance\u001b[0m\u001b[1;33m(\u001b[0m\u001b[0meager_install\u001b[0m\u001b[1;33m,\u001b[0m \u001b[0mbool\u001b[0m\u001b[1;33m)\u001b[0m\u001b[1;33m:\u001b[0m\u001b[1;33m\u001b[0m\u001b[1;33m\u001b[0m\u001b[0m\n\u001b[0;32m     72\u001b[0m             \u001b[1;32mraise\u001b[0m \u001b[0mTypeError\u001b[0m\u001b[1;33m(\u001b[0m\u001b[1;34m\"eager_install must be a boolean.\"\u001b[0m\u001b[1;33m)\u001b[0m\u001b[1;33m\u001b[0m\u001b[1;33m\u001b[0m\u001b[0m\n\u001b[1;32m---> 73\u001b[1;33m         \u001b[1;32mreturn\u001b[0m \u001b[0mParsedRuntimeEnv\u001b[0m\u001b[1;33m(\u001b[0m\u001b[0mself\u001b[0m\u001b[1;33m.\u001b[0m\u001b[0mruntime_env\u001b[0m\u001b[1;33m)\u001b[0m\u001b[1;33m,\u001b[0m \u001b[0meager_install\u001b[0m\u001b[1;33m\u001b[0m\u001b[1;33m\u001b[0m\u001b[0m\n\u001b[0m\u001b[0;32m     74\u001b[0m \u001b[1;33m\u001b[0m\u001b[0m\n\u001b[0;32m     75\u001b[0m     \u001b[1;32mdef\u001b[0m \u001b[0mget_proto_job_config\u001b[0m\u001b[1;33m(\u001b[0m\u001b[0mself\u001b[0m\u001b[1;33m)\u001b[0m\u001b[1;33m:\u001b[0m\u001b[1;33m\u001b[0m\u001b[1;33m\u001b[0m\u001b[0m\n",
      "\u001b[1;32mD:\\anaconda3\\envs\\yourenvname\\lib\\site-packages\\ray\\_private\\runtime_env\\validation.py\u001b[0m in \u001b[0;36m__init__\u001b[1;34m(self, runtime_env, _validate)\u001b[0m\n\u001b[0;32m    297\u001b[0m             \u001b[0moption_val\u001b[0m \u001b[1;33m=\u001b[0m \u001b[0mruntime_env\u001b[0m\u001b[1;33m.\u001b[0m\u001b[0mget\u001b[0m\u001b[1;33m(\u001b[0m\u001b[0moption\u001b[0m\u001b[1;33m)\u001b[0m\u001b[1;33m\u001b[0m\u001b[1;33m\u001b[0m\u001b[0m\n\u001b[0;32m    298\u001b[0m             \u001b[1;32mif\u001b[0m \u001b[0moption_val\u001b[0m \u001b[1;32mis\u001b[0m \u001b[1;32mnot\u001b[0m \u001b[1;32mNone\u001b[0m\u001b[1;33m:\u001b[0m\u001b[1;33m\u001b[0m\u001b[1;33m\u001b[0m\u001b[0m\n\u001b[1;32m--> 299\u001b[1;33m                 \u001b[0mvalidated_option_val\u001b[0m \u001b[1;33m=\u001b[0m \u001b[0mvalidate_fn\u001b[0m\u001b[1;33m(\u001b[0m\u001b[0moption_val\u001b[0m\u001b[1;33m)\u001b[0m\u001b[1;33m\u001b[0m\u001b[1;33m\u001b[0m\u001b[0m\n\u001b[0m\u001b[0;32m    300\u001b[0m                 \u001b[1;32mif\u001b[0m \u001b[0mvalidated_option_val\u001b[0m \u001b[1;32mis\u001b[0m \u001b[1;32mnot\u001b[0m \u001b[1;32mNone\u001b[0m\u001b[1;33m:\u001b[0m\u001b[1;33m\u001b[0m\u001b[1;33m\u001b[0m\u001b[0m\n\u001b[0;32m    301\u001b[0m                     \u001b[0mself\u001b[0m\u001b[1;33m[\u001b[0m\u001b[0moption\u001b[0m\u001b[1;33m]\u001b[0m \u001b[1;33m=\u001b[0m \u001b[0mvalidated_option_val\u001b[0m\u001b[1;33m\u001b[0m\u001b[1;33m\u001b[0m\u001b[0m\n",
      "\u001b[1;32mD:\\anaconda3\\envs\\yourenvname\\lib\\site-packages\\ray\\_private\\runtime_env\\validation.py\u001b[0m in \u001b[0;36mparse_and_validate_pip\u001b[1;34m(pip)\u001b[0m\n\u001b[0;32m    127\u001b[0m     \u001b[0mresult\u001b[0m \u001b[1;33m=\u001b[0m \u001b[1;32mNone\u001b[0m\u001b[1;33m\u001b[0m\u001b[1;33m\u001b[0m\u001b[0m\n\u001b[0;32m    128\u001b[0m     \u001b[1;32mif\u001b[0m \u001b[0msys\u001b[0m\u001b[1;33m.\u001b[0m\u001b[0mplatform\u001b[0m \u001b[1;33m==\u001b[0m \u001b[1;34m\"win32\"\u001b[0m\u001b[1;33m:\u001b[0m\u001b[1;33m\u001b[0m\u001b[1;33m\u001b[0m\u001b[0m\n\u001b[1;32m--> 129\u001b[1;33m         raise NotImplementedError(\"The 'pip' field in runtime_env \"\n\u001b[0m\u001b[0;32m    130\u001b[0m                                   \u001b[1;34m\"is not currently supported on \"\u001b[0m\u001b[1;33m\u001b[0m\u001b[1;33m\u001b[0m\u001b[0m\n\u001b[0;32m    131\u001b[0m                                   \"Windows.\")\n",
      "\u001b[1;31mNotImplementedError\u001b[0m: The 'pip' field in runtime_env is not currently supported on Windows."
     ]
    }
   ],
   "source": [
    "import ray\n",
    "import requests\n",
    "\n",
    "# This example runs on a local machine, but you can also do\n",
    "# ray.init(address=..., runtime_env=...) to connect to a cluster.\n",
    "ray.shutdown()\n",
    "ray.init(runtime_env={\"pip\": [\"requests\"]})\n",
    "\n",
    "@ray.remote\n",
    "def reqs():\n",
    "    return requests.get(\"https://www.ray.io/\")\n",
    "\n",
    "print(ray.get(reqs.remote())) # <Response [200]>"
   ]
  },
  {
   "cell_type": "markdown",
   "id": "dcbf1d96",
   "metadata": {},
   "source": [
    "AsyncIO "
   ]
  },
  {
   "cell_type": "code",
   "execution_count": 41,
   "id": "16e25e6c",
   "metadata": {},
   "outputs": [
    {
     "name": "stderr",
     "output_type": "stream",
     "text": [
      "2021-12-05 17:49:50,196\tINFO services.py:1338 -- View the Ray dashboard at \u001b[1m\u001b[32mhttp://127.0.0.1:8265\u001b[39m\u001b[22m\n"
     ]
    },
    {
     "name": "stdout",
     "output_type": "stream",
     "text": [
      " pid=14712)\u001b[0m started\n",
      " pid=14712)\u001b[0m started\n",
      " pid=14712)\u001b[0m started\n",
      " pid=14712)\u001b[0m started\n",
      " pid=14712)\u001b[0m finished\n",
      " pid=14712)\u001b[0m finished\n",
      " pid=14712)\u001b[0m finished\n",
      " pid=14712)\u001b[0m finished\n",
      " pid=14712)\u001b[0m started\n",
      " pid=14712)\u001b[0m finished\n"
     ]
    }
   ],
   "source": [
    "import ray\n",
    "import asyncio\n",
    "\n",
    "ray.shutdown()\n",
    "ray.init()\n",
    "\n",
    "@ray.remote\n",
    "class AsyncActor:\n",
    "    # multiple invocation of this method can be running in\n",
    "    # the event loop at the same time\n",
    "    async def run_concurrent(self):\n",
    "        print(\"started\")\n",
    "        await asyncio.sleep(2) # concurrent workload here\n",
    "        print(\"finished\")\n",
    "\n",
    "actor = AsyncActor.remote()\n",
    "\n",
    "# regular ray.get\n",
    "ray.get([actor.run_concurrent.remote() for _ in range(4)])\n",
    "\n",
    "# async ray.get\n",
    "await actor.run_concurrent.remote()"
   ]
  },
  {
   "cell_type": "code",
   "execution_count": 42,
   "id": "2f39fbe2",
   "metadata": {},
   "outputs": [
    {
     "data": {
      "text/plain": [
       "({<Task finished name='Task-5' coro=<_wrap_awaitable() done, defined at D:\\anaconda3\\envs\\yourenvname\\lib\\asyncio\\tasks.py:688> result=1>},\n",
       " set())"
      ]
     },
     "execution_count": 42,
     "metadata": {},
     "output_type": "execute_result"
    }
   ],
   "source": [
    "@ray.remote\n",
    "def some_task():\n",
    "    return 1\n",
    "\n",
    "await some_task.remote()\n",
    "await asyncio.wait([some_task.remote()])"
   ]
  },
  {
   "cell_type": "code",
   "execution_count": 45,
   "id": "4c2fd391",
   "metadata": {},
   "outputs": [
    {
     "ename": "NameError",
     "evalue": "name 'concurrent' is not defined",
     "output_type": "error",
     "traceback": [
      "\u001b[1;31m---------------------------------------------------------------------------\u001b[0m",
      "\u001b[1;31mNameError\u001b[0m                                 Traceback (most recent call last)",
      "\u001b[1;32m~\\AppData\\Local\\Temp/ipykernel_2912/2497752781.py\u001b[0m in \u001b[0;36m<module>\u001b[1;34m\u001b[0m\n\u001b[0;32m      1\u001b[0m \u001b[0mrefs\u001b[0m \u001b[1;33m=\u001b[0m \u001b[1;33m[\u001b[0m\u001b[0msome_task\u001b[0m\u001b[1;33m.\u001b[0m\u001b[0mremote\u001b[0m\u001b[1;33m(\u001b[0m\u001b[1;33m)\u001b[0m \u001b[1;32mfor\u001b[0m \u001b[0m_\u001b[0m \u001b[1;32min\u001b[0m \u001b[0mrange\u001b[0m\u001b[1;33m(\u001b[0m\u001b[1;36m4\u001b[0m\u001b[1;33m)\u001b[0m\u001b[1;33m]\u001b[0m\u001b[1;33m\u001b[0m\u001b[1;33m\u001b[0m\u001b[0m\n\u001b[0;32m      2\u001b[0m \u001b[0mfuts\u001b[0m \u001b[1;33m=\u001b[0m \u001b[1;33m[\u001b[0m\u001b[0mref\u001b[0m\u001b[1;33m.\u001b[0m\u001b[0mfuture\u001b[0m\u001b[1;33m(\u001b[0m\u001b[1;33m)\u001b[0m \u001b[1;32mfor\u001b[0m \u001b[0mref\u001b[0m \u001b[1;32min\u001b[0m \u001b[0mrefs\u001b[0m\u001b[1;33m]\u001b[0m\u001b[1;33m\u001b[0m\u001b[1;33m\u001b[0m\u001b[0m\n\u001b[1;32m----> 3\u001b[1;33m \u001b[1;32mfor\u001b[0m \u001b[0mfut\u001b[0m \u001b[1;32min\u001b[0m \u001b[0mconcurrent\u001b[0m\u001b[1;33m.\u001b[0m\u001b[0mfutures\u001b[0m\u001b[1;33m.\u001b[0m\u001b[0mas_completed\u001b[0m\u001b[1;33m(\u001b[0m\u001b[0mfuts\u001b[0m\u001b[1;33m)\u001b[0m\u001b[1;33m:\u001b[0m\u001b[1;33m\u001b[0m\u001b[1;33m\u001b[0m\u001b[0m\n\u001b[0m\u001b[0;32m      4\u001b[0m     \u001b[1;32massert\u001b[0m \u001b[0mfut\u001b[0m\u001b[1;33m.\u001b[0m\u001b[0mdone\u001b[0m\u001b[1;33m(\u001b[0m\u001b[1;33m)\u001b[0m\u001b[1;33m\u001b[0m\u001b[1;33m\u001b[0m\u001b[0m\n\u001b[0;32m      5\u001b[0m     \u001b[0mprint\u001b[0m\u001b[1;33m(\u001b[0m\u001b[0mfut\u001b[0m\u001b[1;33m.\u001b[0m\u001b[0mresult\u001b[0m\u001b[1;33m(\u001b[0m\u001b[1;33m)\u001b[0m\u001b[1;33m)\u001b[0m\u001b[1;33m\u001b[0m\u001b[1;33m\u001b[0m\u001b[0m\n",
      "\u001b[1;31mNameError\u001b[0m: name 'concurrent' is not defined"
     ]
    }
   ],
   "source": [
    "refs = [some_task.remote() for _ in range(4)]\n",
    "futs = [ref.future() for ref in refs]\n",
    "for fut in concurrent.futures.as_completed(futs):\n",
    "    assert fut.done()\n",
    "    print(fut.result())"
   ]
  },
  {
   "cell_type": "code",
   "execution_count": 46,
   "id": "cd0cc370",
   "metadata": {},
   "outputs": [
    {
     "name": "stdout",
     "output_type": "stream",
     "text": [
      " pid=5260)\u001b[0m started\n",
      " pid=5260)\u001b[0m started\n",
      " pid=5260)\u001b[0m started\n",
      " pid=5260)\u001b[0m started\n",
      " pid=5260)\u001b[0m started\n",
      " pid=5260)\u001b[0m started\n",
      " pid=5260)\u001b[0m started\n",
      " pid=5260)\u001b[0m started\n",
      " pid=5260)\u001b[0m started\n",
      " pid=5260)\u001b[0m started\n",
      " pid=5260)\u001b[0m started\n",
      " pid=5260)\u001b[0m started\n",
      " pid=5260)\u001b[0m started\n",
      " pid=5260)\u001b[0m started\n",
      " pid=5260)\u001b[0m started\n",
      " pid=5260)\u001b[0m started\n",
      " pid=5260)\u001b[0m started\n",
      " pid=5260)\u001b[0m started\n",
      " pid=5260)\u001b[0m started\n",
      " pid=5260)\u001b[0m started\n",
      " pid=5260)\u001b[0m started\n",
      " pid=5260)\u001b[0m started\n",
      " pid=5260)\u001b[0m started\n",
      " pid=5260)\u001b[0m started\n",
      " pid=5260)\u001b[0m started\n",
      " pid=5260)\u001b[0m started\n",
      " pid=5260)\u001b[0m started\n",
      " pid=5260)\u001b[0m started\n",
      " pid=5260)\u001b[0m started\n",
      " pid=5260)\u001b[0m started\n",
      " pid=5260)\u001b[0m started\n",
      " pid=5260)\u001b[0m started\n",
      " pid=5260)\u001b[0m started\n",
      " pid=5260)\u001b[0m started\n",
      " pid=5260)\u001b[0m started\n",
      " pid=5260)\u001b[0m started\n",
      " pid=5260)\u001b[0m started\n",
      " pid=5260)\u001b[0m started\n",
      " pid=5260)\u001b[0m started\n",
      " pid=5260)\u001b[0m started\n",
      " pid=5260)\u001b[0m started\n",
      " pid=5260)\u001b[0m started\n",
      " pid=5260)\u001b[0m started\n",
      " pid=5260)\u001b[0m started\n",
      " pid=5260)\u001b[0m started\n",
      " pid=5260)\u001b[0m started\n",
      " pid=5260)\u001b[0m started\n",
      " pid=5260)\u001b[0m started\n",
      " pid=5260)\u001b[0m started\n",
      " pid=5260)\u001b[0m started\n",
      " pid=5260)\u001b[0m ended\n",
      " pid=5260)\u001b[0m ended\n",
      " pid=5260)\u001b[0m ended\n",
      " pid=5260)\u001b[0m ended\n",
      " pid=5260)\u001b[0m ended\n",
      " pid=5260)\u001b[0m ended\n",
      " pid=5260)\u001b[0m ended\n",
      " pid=5260)\u001b[0m ended\n",
      " pid=5260)\u001b[0m ended\n",
      " pid=5260)\u001b[0m ended\n",
      " pid=5260)\u001b[0m ended\n",
      " pid=5260)\u001b[0m ended\n",
      " pid=5260)\u001b[0m ended\n",
      " pid=5260)\u001b[0m ended\n",
      " pid=5260)\u001b[0m ended\n",
      " pid=5260)\u001b[0m ended\n",
      " pid=5260)\u001b[0m ended\n",
      " pid=5260)\u001b[0m ended\n",
      " pid=5260)\u001b[0m ended\n",
      " pid=5260)\u001b[0m ended\n",
      " pid=5260)\u001b[0m ended\n",
      " pid=5260)\u001b[0m ended\n",
      " pid=5260)\u001b[0m ended\n",
      " pid=5260)\u001b[0m ended\n",
      " pid=5260)\u001b[0m ended\n",
      " pid=5260)\u001b[0m ended\n",
      " pid=5260)\u001b[0m ended\n",
      " pid=5260)\u001b[0m ended\n",
      " pid=5260)\u001b[0m ended\n",
      " pid=5260)\u001b[0m ended\n",
      " pid=5260)\u001b[0m ended\n",
      " pid=5260)\u001b[0m ended\n",
      " pid=5260)\u001b[0m ended\n",
      " pid=5260)\u001b[0m ended\n",
      " pid=5260)\u001b[0m ended\n",
      " pid=5260)\u001b[0m ended\n",
      " pid=5260)\u001b[0m ended\n",
      " pid=5260)\u001b[0m ended\n",
      " pid=5260)\u001b[0m ended\n",
      " pid=5260)\u001b[0m ended\n",
      " pid=5260)\u001b[0m ended\n",
      " pid=5260)\u001b[0m ended\n",
      " pid=5260)\u001b[0m ended\n",
      " pid=5260)\u001b[0m ended\n",
      " pid=5260)\u001b[0m ended\n",
      " pid=5260)\u001b[0m ended\n",
      " pid=5260)\u001b[0m ended\n",
      " pid=5260)\u001b[0m ended\n",
      " pid=5260)\u001b[0m ended\n",
      " pid=5260)\u001b[0m ended\n"
     ]
    },
    {
     "data": {
      "text/plain": [
       "[None,\n",
       " None,\n",
       " None,\n",
       " None,\n",
       " None,\n",
       " None,\n",
       " None,\n",
       " None,\n",
       " None,\n",
       " None,\n",
       " None,\n",
       " None,\n",
       " None,\n",
       " None,\n",
       " None,\n",
       " None,\n",
       " None,\n",
       " None,\n",
       " None,\n",
       " None,\n",
       " None,\n",
       " None,\n",
       " None,\n",
       " None,\n",
       " None,\n",
       " None,\n",
       " None,\n",
       " None,\n",
       " None,\n",
       " None,\n",
       " None,\n",
       " None,\n",
       " None,\n",
       " None,\n",
       " None,\n",
       " None,\n",
       " None,\n",
       " None,\n",
       " None,\n",
       " None,\n",
       " None,\n",
       " None,\n",
       " None,\n",
       " None,\n",
       " None,\n",
       " None,\n",
       " None,\n",
       " None,\n",
       " None,\n",
       " None]"
      ]
     },
     "execution_count": 46,
     "metadata": {},
     "output_type": "execute_result"
    }
   ],
   "source": [
    "import asyncio\n",
    "\n",
    "@ray.remote\n",
    "class AsyncActor:\n",
    "    async def run_task(self):\n",
    "        print(\"started\")\n",
    "        await asyncio.sleep(1) # Network, I/O task here\n",
    "        print(\"ended\")\n",
    "\n",
    "actor = AsyncActor.remote()\n",
    "# All 50 tasks should start at once. After 1 second they should all finish.\n",
    "# they should finish at the same time\n",
    "ray.get([actor.run_task.remote() for _ in range(50)])"
   ]
  },
  {
   "cell_type": "code",
   "execution_count": 47,
   "id": "757ba0be",
   "metadata": {},
   "outputs": [
    {
     "name": "stdout",
     "output_type": "stream",
     "text": [
      " pid=7500)\u001b[0m started\n",
      " pid=7500)\u001b[0m started\n",
      " pid=7500)\u001b[0m started\n",
      " pid=7500)\u001b[0m started\n",
      " pid=7500)\u001b[0m started\n",
      " pid=7500)\u001b[0m started\n",
      " pid=7500)\u001b[0m started\n",
      " pid=7500)\u001b[0m started\n",
      " pid=7500)\u001b[0m started\n",
      " pid=7500)\u001b[0m started\n",
      " pid=7500)\u001b[0m ended\n",
      " pid=7500)\u001b[0m ended\n",
      " pid=7500)\u001b[0m ended\n",
      " pid=7500)\u001b[0m ended\n",
      " pid=7500)\u001b[0m ended\n",
      " pid=7500)\u001b[0m ended\n",
      " pid=7500)\u001b[0m ended\n",
      " pid=7500)\u001b[0m ended\n",
      " pid=7500)\u001b[0m ended\n",
      " pid=7500)\u001b[0m ended\n",
      " pid=7500)\u001b[0m started\n",
      " pid=7500)\u001b[0m started\n",
      " pid=7500)\u001b[0m started\n",
      " pid=7500)\u001b[0m started\n",
      " pid=7500)\u001b[0m started\n",
      " pid=7500)\u001b[0m started\n",
      " pid=7500)\u001b[0m started\n",
      " pid=7500)\u001b[0m started\n",
      " pid=7500)\u001b[0m started\n",
      " pid=7500)\u001b[0m started\n",
      " pid=7500)\u001b[0m ended\n",
      " pid=7500)\u001b[0m ended\n",
      " pid=7500)\u001b[0m ended\n",
      " pid=7500)\u001b[0m ended\n",
      " pid=7500)\u001b[0m ended\n",
      " pid=7500)\u001b[0m ended\n",
      " pid=7500)\u001b[0m ended\n",
      " pid=7500)\u001b[0m ended\n",
      " pid=7500)\u001b[0m ended\n",
      " pid=7500)\u001b[0m ended\n",
      " pid=7500)\u001b[0m started\n",
      " pid=7500)\u001b[0m started\n",
      " pid=7500)\u001b[0m started\n",
      " pid=7500)\u001b[0m started\n",
      " pid=7500)\u001b[0m started\n",
      " pid=7500)\u001b[0m started\n",
      " pid=7500)\u001b[0m started\n",
      " pid=7500)\u001b[0m started\n",
      " pid=7500)\u001b[0m started\n",
      " pid=7500)\u001b[0m started\n",
      " pid=7500)\u001b[0m ended\n",
      " pid=7500)\u001b[0m ended\n",
      " pid=7500)\u001b[0m ended\n",
      " pid=7500)\u001b[0m ended\n",
      " pid=7500)\u001b[0m ended\n",
      " pid=7500)\u001b[0m ended\n",
      " pid=7500)\u001b[0m ended\n",
      " pid=7500)\u001b[0m ended\n",
      " pid=7500)\u001b[0m ended\n",
      " pid=7500)\u001b[0m ended\n",
      " pid=7500)\u001b[0m started\n",
      " pid=7500)\u001b[0m started\n",
      " pid=7500)\u001b[0m started\n",
      " pid=7500)\u001b[0m started\n",
      " pid=7500)\u001b[0m started\n",
      " pid=7500)\u001b[0m started\n",
      " pid=7500)\u001b[0m started\n",
      " pid=7500)\u001b[0m started\n",
      " pid=7500)\u001b[0m started\n",
      " pid=7500)\u001b[0m started\n",
      " pid=7500)\u001b[0m ended\n",
      " pid=7500)\u001b[0m ended\n",
      " pid=7500)\u001b[0m ended\n",
      " pid=7500)\u001b[0m ended\n",
      " pid=7500)\u001b[0m ended\n",
      " pid=7500)\u001b[0m ended\n",
      " pid=7500)\u001b[0m ended\n",
      " pid=7500)\u001b[0m started\n",
      " pid=7500)\u001b[0m started\n",
      " pid=7500)\u001b[0m started\n",
      " pid=7500)\u001b[0m started\n",
      " pid=7500)\u001b[0m started\n",
      " pid=7500)\u001b[0m started\n",
      " pid=7500)\u001b[0m started\n",
      " pid=7500)\u001b[0m ended\n",
      " pid=7500)\u001b[0m ended\n",
      " pid=7500)\u001b[0m ended\n",
      " pid=7500)\u001b[0m started\n",
      " pid=7500)\u001b[0m started\n",
      " pid=7500)\u001b[0m started\n"
     ]
    },
    {
     "data": {
      "text/plain": [
       "[None,\n",
       " None,\n",
       " None,\n",
       " None,\n",
       " None,\n",
       " None,\n",
       " None,\n",
       " None,\n",
       " None,\n",
       " None,\n",
       " None,\n",
       " None,\n",
       " None,\n",
       " None,\n",
       " None,\n",
       " None,\n",
       " None,\n",
       " None,\n",
       " None,\n",
       " None,\n",
       " None,\n",
       " None,\n",
       " None,\n",
       " None,\n",
       " None,\n",
       " None,\n",
       " None,\n",
       " None,\n",
       " None,\n",
       " None,\n",
       " None,\n",
       " None,\n",
       " None,\n",
       " None,\n",
       " None,\n",
       " None,\n",
       " None,\n",
       " None,\n",
       " None,\n",
       " None,\n",
       " None,\n",
       " None,\n",
       " None,\n",
       " None,\n",
       " None,\n",
       " None,\n",
       " None,\n",
       " None,\n",
       " None,\n",
       " None]"
      ]
     },
     "execution_count": 47,
     "metadata": {},
     "output_type": "execute_result"
    },
    {
     "name": "stdout",
     "output_type": "stream",
     "text": [
      "\u001b[2m\u001b[36m(AsyncActor\r",
      " pid=7500)\u001b[0m ended\r\n",
      "\u001b[2m\u001b[36m(AsyncActor\r",
      " pid=7500)\u001b[0m ended\r\n",
      "\u001b[2m\u001b[36m(AsyncActor\r",
      " pid=7500)\u001b[0m ended\r\n",
      "\u001b[2m\u001b[36m(AsyncActor\r",
      " pid=7500)\u001b[0m ended\r\n",
      "\u001b[2m\u001b[36m(AsyncActor\r",
      " pid=7500)\u001b[0m ended\r\n",
      "\u001b[2m\u001b[36m(AsyncActor\r",
      " pid=7500)\u001b[0m ended\r\n",
      "\u001b[2m\u001b[36m(AsyncActor\r",
      " pid=7500)\u001b[0m ended\r\n",
      "\u001b[2m\u001b[36m(AsyncActor\r",
      " pid=7500)\u001b[0m ended\r\n",
      "\u001b[2m\u001b[36m(AsyncActor\r",
      " pid=7500)\u001b[0m ended\r\n",
      "\u001b[2m\u001b[36m(AsyncActor\r",
      " pid=7500)\u001b[0m ended\r\n"
     ]
    }
   ],
   "source": [
    "import asyncio\n",
    "\n",
    "@ray.remote\n",
    "class AsyncActor:\n",
    "    async def run_task(self):\n",
    "        print(\"started\")\n",
    "        await asyncio.sleep(1) # Network, I/O task here\n",
    "        print(\"ended\")\n",
    "\n",
    "actor = AsyncActor.options(max_concurrency=10).remote()\n",
    "\n",
    "# Only 10 tasks will be running concurrently. Once 10 finish, the next 10 should run.\n",
    "ray.get([actor.run_task.remote() for _ in range(50)])"
   ]
  },
  {
   "cell_type": "code",
   "execution_count": 48,
   "id": "bdcd4b6a",
   "metadata": {},
   "outputs": [
    {
     "data": {
      "text/plain": [
       "[None, None]"
      ]
     },
     "execution_count": 48,
     "metadata": {},
     "output_type": "execute_result"
    },
    {
     "name": "stdout",
     "output_type": "stream",
     "text": [
      "\u001b[2m\u001b[36m(ThreadedActor\r",
      " pid=14660)\u001b[0m I'm running in a thread!\r\n",
      "\u001b[2m\u001b[36m(ThreadedActor\r",
      " pid=14660)\u001b[0m I'm running in another thread!\r\n"
     ]
    }
   ],
   "source": [
    "@ray.remote\n",
    "class ThreadedActor:\n",
    "    def task_1(self): print(\"I'm running in a thread!\")\n",
    "    def task_2(self): print(\"I'm running in another thread!\")\n",
    "\n",
    "a = ThreadedActor.options(max_concurrency=2).remote()\n",
    "ray.get([a.task_1.remote(), a.task_2.remote()])"
   ]
  },
  {
   "cell_type": "markdown",
   "id": "565be154",
   "metadata": {},
   "source": [
    " Concurrency Per-Method with Concurrency Groups"
   ]
  },
  {
   "cell_type": "code",
   "execution_count": 49,
   "id": "1b3e1634",
   "metadata": {},
   "outputs": [
    {
     "data": {
      "text/plain": [
       "ObjectRef(20d3f3cc944a6233e072e42aac59f1e3af9289fc0100000001000000)"
      ]
     },
     "execution_count": 49,
     "metadata": {},
     "output_type": "execute_result"
    }
   ],
   "source": [
    "@ray.remote(concurrency_groups={\"io\": 2, \"compute\": 4})\n",
    "class AsyncIOActor:\n",
    "    def __init__(self):\n",
    "        pass\n",
    "\n",
    "    @ray.method(concurrency_group=\"io\")\n",
    "    async def f1(self):\n",
    "        pass\n",
    "\n",
    "    @ray.method(concurrency_group=\"io\")\n",
    "    async def f2(self):\n",
    "        pass\n",
    "\n",
    "    @ray.method(concurrency_group=\"compute\")\n",
    "    async def f3(self):\n",
    "        pass\n",
    "\n",
    "    @ray.method(concurrency_group=\"compute\")\n",
    "    async def f4(self):\n",
    "        pass\n",
    "\n",
    "    async def f5(self):\n",
    "        pass\n",
    "\n",
    "a = AsyncIOActor.remote()\n",
    "a.f1.remote()  # executed in the \"io\" group.\n",
    "a.f2.remote()  # executed in the \"io\" group.\n",
    "a.f3.remote()  # executed in the \"compute\" group.\n",
    "a.f4.remote()  # executed in the \"compute\" group.\n",
    "a.f5.remote()  # executed in the default group."
   ]
  },
  {
   "cell_type": "code",
   "execution_count": 51,
   "id": "4bab51bf",
   "metadata": {},
   "outputs": [],
   "source": [
    "@ray.remote(concurrency_groups={\"io\": 2})\n",
    "class AsyncIOActor:\n",
    "    async def f1(self):\n",
    "        pass\n",
    "\n",
    "actor = AsyncIOActor.options(max_concurrency=10).remote()"
   ]
  },
  {
   "cell_type": "markdown",
   "id": "a470d703",
   "metadata": {},
   "source": [
    "GPU"
   ]
  },
  {
   "cell_type": "code",
   "execution_count": 54,
   "id": "8ad84eee",
   "metadata": {},
   "outputs": [
    {
     "data": {
      "text/plain": [
       "ObjectRef(f74e3e0219621f0bffffffffffffffffffffffff0100000001000000)"
      ]
     },
     "execution_count": 54,
     "metadata": {},
     "output_type": "execute_result"
    },
    {
     "name": "stdout",
     "output_type": "stream",
     "text": [
      "\u001b[2m\u001b[36m(use_gpu\r",
      " pid=16760)\u001b[0m ray.get_gpu_ids(): [0]\r\n",
      "\u001b[2m\u001b[36m(use_gpu\r",
      " pid=16760)\u001b[0m CUDA_VISIBLE_DEVICES: 0\r\n"
     ]
    }
   ],
   "source": [
    "import os\n",
    "\n",
    "@ray.remote(num_gpus=1)\n",
    "def use_gpu():\n",
    "    print(\"ray.get_gpu_ids(): {}\".format(ray.get_gpu_ids()))\n",
    "    print(\"CUDA_VISIBLE_DEVICES: {}\".format(os.environ[\"CUDA_VISIBLE_DEVICES\"]))\n",
    "    \n",
    "use_gpu.remote()"
   ]
  },
  {
   "cell_type": "markdown",
   "id": "a1126207",
   "metadata": {},
   "source": [
    "Serialization"
   ]
  },
  {
   "cell_type": "code",
   "execution_count": 64,
   "id": "58890fb1",
   "metadata": {},
   "outputs": [
    {
     "data": {
      "text/plain": [
       "array([0., 0., 0., 0., 0., 0., 0., 0., 0., 0., 0., 0., 0., 0., 0., 0., 0.,\n",
       "       0., 0., 0., 0., 0., 0., 0., 0., 0., 0., 0., 0., 0., 0., 0., 0., 0.,\n",
       "       0., 0., 0., 0., 0., 0., 0., 0.])"
      ]
     },
     "execution_count": 64,
     "metadata": {},
     "output_type": "execute_result"
    }
   ],
   "source": [
    "import numpy as np\n",
    "obj = [np.zeros(42)] * 99\n",
    "l = ray.get(ray.put(obj))\n",
    "l[0]"
   ]
  },
  {
   "cell_type": "code",
   "execution_count": 72,
   "id": "56f8048a",
   "metadata": {},
   "outputs": [
    {
     "name": "stderr",
     "output_type": "stream",
     "text": [
      "2021-12-05 18:06:06,706\tINFO worker.py:852 -- Calling ray.init() again after it has already been called.\n"
     ]
    },
    {
     "name": "stdout",
     "output_type": "stream",
     "text": [
      "<sqlite3.Connection object at 0x000002F2800DF4E0>\n",
      "<sqlite3.Connection object at 0x000002F2800DF030>\n"
     ]
    }
   ],
   "source": [
    "import ray\n",
    "import sqlite3\n",
    "\n",
    "ray.init(ignore_reinit_error=True)\n",
    "\n",
    "class DBConnection:\n",
    "    def __init__(self, path):\n",
    "        self.path = path\n",
    "        self.conn = sqlite3.connect(path)\n",
    "\n",
    "    # without '__reduce__', the instance is unserializable.\n",
    "    def __reduce__(self):\n",
    "        deserializer = DBConnection\n",
    "        serialized_data = (self.path,)\n",
    "        return deserializer, serialized_data\n",
    "\n",
    "original = DBConnection(\"db\")\n",
    "print(original.conn)\n",
    "\n",
    "copied = ray.get(ray.put(original))\n",
    "print(copied.conn)"
   ]
  },
  {
   "cell_type": "markdown",
   "id": "07435405",
   "metadata": {},
   "source": [
    "Memory"
   ]
  },
  {
   "cell_type": "code",
   "execution_count": 78,
   "id": "871dfa1a",
   "metadata": {},
   "outputs": [
    {
     "ename": "ConnectionResetError",
     "evalue": "[WinError 10054] An existing connection was forcibly closed by the remote host",
     "output_type": "error",
     "traceback": [
      "\u001b[1;31m---------------------------------------------------------------------------\u001b[0m",
      "\u001b[1;31mConnectionResetError\u001b[0m                      Traceback (most recent call last)",
      "\u001b[1;32m~\\AppData\\Local\\Temp/ipykernel_2912/2960586386.py\u001b[0m in \u001b[0;36m<module>\u001b[1;34m\u001b[0m\n\u001b[0;32m      4\u001b[0m \u001b[1;33m\u001b[0m\u001b[0m\n\u001b[0;32m      5\u001b[0m \u001b[0ma\u001b[0m \u001b[1;33m=\u001b[0m \u001b[0mray\u001b[0m\u001b[1;33m.\u001b[0m\u001b[0mput\u001b[0m\u001b[1;33m(\u001b[0m\u001b[1;32mNone\u001b[0m\u001b[1;33m)\u001b[0m\u001b[1;33m\u001b[0m\u001b[1;33m\u001b[0m\u001b[0m\n\u001b[1;32m----> 6\u001b[1;33m \u001b[0mb\u001b[0m \u001b[1;33m=\u001b[0m \u001b[0mf\u001b[0m\u001b[1;33m.\u001b[0m\u001b[0mremote\u001b[0m\u001b[1;33m(\u001b[0m\u001b[1;32mNone\u001b[0m\u001b[1;33m)\u001b[0m\u001b[1;33m\u001b[0m\u001b[1;33m\u001b[0m\u001b[0m\n\u001b[0m",
      "\u001b[1;32mD:\\anaconda3\\envs\\yourenvname\\lib\\site-packages\\ray\\remote_function.py\u001b[0m in \u001b[0;36m_remote_proxy\u001b[1;34m(*args, **kwargs)\u001b[0m\n\u001b[0;32m    122\u001b[0m         \u001b[1;33m@\u001b[0m\u001b[0mwraps\u001b[0m\u001b[1;33m(\u001b[0m\u001b[0mfunction\u001b[0m\u001b[1;33m)\u001b[0m\u001b[1;33m\u001b[0m\u001b[1;33m\u001b[0m\u001b[0m\n\u001b[0;32m    123\u001b[0m         \u001b[1;32mdef\u001b[0m \u001b[0m_remote_proxy\u001b[0m\u001b[1;33m(\u001b[0m\u001b[1;33m*\u001b[0m\u001b[0margs\u001b[0m\u001b[1;33m,\u001b[0m \u001b[1;33m**\u001b[0m\u001b[0mkwargs\u001b[0m\u001b[1;33m)\u001b[0m\u001b[1;33m:\u001b[0m\u001b[1;33m\u001b[0m\u001b[1;33m\u001b[0m\u001b[0m\n\u001b[1;32m--> 124\u001b[1;33m             \u001b[1;32mreturn\u001b[0m \u001b[0mself\u001b[0m\u001b[1;33m.\u001b[0m\u001b[0m_remote\u001b[0m\u001b[1;33m(\u001b[0m\u001b[0margs\u001b[0m\u001b[1;33m=\u001b[0m\u001b[0margs\u001b[0m\u001b[1;33m,\u001b[0m \u001b[0mkwargs\u001b[0m\u001b[1;33m=\u001b[0m\u001b[0mkwargs\u001b[0m\u001b[1;33m)\u001b[0m\u001b[1;33m\u001b[0m\u001b[1;33m\u001b[0m\u001b[0m\n\u001b[0m\u001b[0;32m    125\u001b[0m \u001b[1;33m\u001b[0m\u001b[0m\n\u001b[0;32m    126\u001b[0m         \u001b[0mself\u001b[0m\u001b[1;33m.\u001b[0m\u001b[0mremote\u001b[0m \u001b[1;33m=\u001b[0m \u001b[0m_remote_proxy\u001b[0m\u001b[1;33m\u001b[0m\u001b[1;33m\u001b[0m\u001b[0m\n",
      "\u001b[1;32mD:\\anaconda3\\envs\\yourenvname\\lib\\site-packages\\ray\\util\\tracing\\tracing_helper.py\u001b[0m in \u001b[0;36m_invocation_remote_span\u001b[1;34m(self, args, kwargs, *_args, **_kwargs)\u001b[0m\n\u001b[0;32m    293\u001b[0m             \u001b[1;32mif\u001b[0m \u001b[0mkwargs\u001b[0m \u001b[1;32mis\u001b[0m \u001b[1;32mnot\u001b[0m \u001b[1;32mNone\u001b[0m\u001b[1;33m:\u001b[0m\u001b[1;33m\u001b[0m\u001b[1;33m\u001b[0m\u001b[0m\n\u001b[0;32m    294\u001b[0m                 \u001b[1;32massert\u001b[0m \u001b[1;34m\"_ray_trace_ctx\"\u001b[0m \u001b[1;32mnot\u001b[0m \u001b[1;32min\u001b[0m \u001b[0mkwargs\u001b[0m\u001b[1;33m\u001b[0m\u001b[1;33m\u001b[0m\u001b[0m\n\u001b[1;32m--> 295\u001b[1;33m             \u001b[1;32mreturn\u001b[0m \u001b[0mmethod\u001b[0m\u001b[1;33m(\u001b[0m\u001b[0mself\u001b[0m\u001b[1;33m,\u001b[0m \u001b[0margs\u001b[0m\u001b[1;33m,\u001b[0m \u001b[0mkwargs\u001b[0m\u001b[1;33m,\u001b[0m \u001b[1;33m*\u001b[0m\u001b[0m_args\u001b[0m\u001b[1;33m,\u001b[0m \u001b[1;33m**\u001b[0m\u001b[0m_kwargs\u001b[0m\u001b[1;33m)\u001b[0m\u001b[1;33m\u001b[0m\u001b[1;33m\u001b[0m\u001b[0m\n\u001b[0m\u001b[0;32m    296\u001b[0m \u001b[1;33m\u001b[0m\u001b[0m\n\u001b[0;32m    297\u001b[0m         \u001b[1;32massert\u001b[0m \u001b[1;34m\"_ray_trace_ctx\"\u001b[0m \u001b[1;32mnot\u001b[0m \u001b[1;32min\u001b[0m \u001b[0mkwargs\u001b[0m\u001b[1;33m\u001b[0m\u001b[1;33m\u001b[0m\u001b[0m\n",
      "\u001b[1;32mD:\\anaconda3\\envs\\yourenvname\\lib\\site-packages\\ray\\remote_function.py\u001b[0m in \u001b[0;36m_remote\u001b[1;34m(self, args, kwargs, num_returns, num_cpus, num_gpus, memory, object_store_memory, accelerator_type, resources, max_retries, retry_exceptions, placement_group, placement_group_bundle_index, placement_group_capture_child_tasks, runtime_env, name)\u001b[0m\n\u001b[0;32m    271\u001b[0m \u001b[1;33m\u001b[0m\u001b[0m\n\u001b[0;32m    272\u001b[0m             \u001b[0mself\u001b[0m\u001b[1;33m.\u001b[0m\u001b[0m_last_export_session_and_job\u001b[0m \u001b[1;33m=\u001b[0m \u001b[0mworker\u001b[0m\u001b[1;33m.\u001b[0m\u001b[0mcurrent_session_and_job\u001b[0m\u001b[1;33m\u001b[0m\u001b[1;33m\u001b[0m\u001b[0m\n\u001b[1;32m--> 273\u001b[1;33m             \u001b[0mworker\u001b[0m\u001b[1;33m.\u001b[0m\u001b[0mfunction_actor_manager\u001b[0m\u001b[1;33m.\u001b[0m\u001b[0mexport\u001b[0m\u001b[1;33m(\u001b[0m\u001b[0mself\u001b[0m\u001b[1;33m)\u001b[0m\u001b[1;33m\u001b[0m\u001b[1;33m\u001b[0m\u001b[0m\n\u001b[0m\u001b[0;32m    274\u001b[0m \u001b[1;33m\u001b[0m\u001b[0m\n\u001b[0;32m    275\u001b[0m         \u001b[0mkwargs\u001b[0m \u001b[1;33m=\u001b[0m \u001b[1;33m{\u001b[0m\u001b[1;33m}\u001b[0m \u001b[1;32mif\u001b[0m \u001b[0mkwargs\u001b[0m \u001b[1;32mis\u001b[0m \u001b[1;32mNone\u001b[0m \u001b[1;32melse\u001b[0m \u001b[0mkwargs\u001b[0m\u001b[1;33m\u001b[0m\u001b[1;33m\u001b[0m\u001b[0m\n",
      "\u001b[1;32mD:\\anaconda3\\envs\\yourenvname\\lib\\site-packages\\ray\\_private\\function_manager.py\u001b[0m in \u001b[0;36mexport\u001b[1;34m(self, remote_function)\u001b[0m\n\u001b[0;32m    168\u001b[0m         self._worker.gcs_client.internal_kv_put(key, val, True,\n\u001b[0;32m    169\u001b[0m                                                 KV_NAMESPACE_FUNCTION_TABLE)\n\u001b[1;32m--> 170\u001b[1;33m         \u001b[0mself\u001b[0m\u001b[1;33m.\u001b[0m\u001b[0m_worker\u001b[0m\u001b[1;33m.\u001b[0m\u001b[0mredis_client\u001b[0m\u001b[1;33m.\u001b[0m\u001b[0mrpush\u001b[0m\u001b[1;33m(\u001b[0m\u001b[1;34m\"Exports\"\u001b[0m\u001b[1;33m,\u001b[0m \u001b[0mkey\u001b[0m\u001b[1;33m)\u001b[0m\u001b[1;33m\u001b[0m\u001b[1;33m\u001b[0m\u001b[0m\n\u001b[0m\u001b[0;32m    171\u001b[0m \u001b[1;33m\u001b[0m\u001b[0m\n\u001b[0;32m    172\u001b[0m     \u001b[1;32mdef\u001b[0m \u001b[0mfetch_and_register_remote_function\u001b[0m\u001b[1;33m(\u001b[0m\u001b[0mself\u001b[0m\u001b[1;33m,\u001b[0m \u001b[0mkey\u001b[0m\u001b[1;33m)\u001b[0m\u001b[1;33m:\u001b[0m\u001b[1;33m\u001b[0m\u001b[1;33m\u001b[0m\u001b[0m\n",
      "\u001b[1;32mD:\\anaconda3\\envs\\yourenvname\\lib\\site-packages\\redis\\commands\\core.py\u001b[0m in \u001b[0;36mrpush\u001b[1;34m(self, name, *values)\u001b[0m\n\u001b[0;32m   1807\u001b[0m         \u001b[0mFor\u001b[0m \u001b[0mmore\u001b[0m \u001b[0minformation\u001b[0m \u001b[0mcheck\u001b[0m \u001b[0mhttps\u001b[0m\u001b[1;33m:\u001b[0m\u001b[1;33m//\u001b[0m\u001b[0mredis\u001b[0m\u001b[1;33m.\u001b[0m\u001b[0mio\u001b[0m\u001b[1;33m/\u001b[0m\u001b[0mcommands\u001b[0m\u001b[1;33m/\u001b[0m\u001b[0mrpush\u001b[0m\u001b[1;33m\u001b[0m\u001b[1;33m\u001b[0m\u001b[0m\n\u001b[0;32m   1808\u001b[0m         \"\"\"\n\u001b[1;32m-> 1809\u001b[1;33m         \u001b[1;32mreturn\u001b[0m \u001b[0mself\u001b[0m\u001b[1;33m.\u001b[0m\u001b[0mexecute_command\u001b[0m\u001b[1;33m(\u001b[0m\u001b[1;34m'RPUSH'\u001b[0m\u001b[1;33m,\u001b[0m \u001b[0mname\u001b[0m\u001b[1;33m,\u001b[0m \u001b[1;33m*\u001b[0m\u001b[0mvalues\u001b[0m\u001b[1;33m)\u001b[0m\u001b[1;33m\u001b[0m\u001b[1;33m\u001b[0m\u001b[0m\n\u001b[0m\u001b[0;32m   1810\u001b[0m \u001b[1;33m\u001b[0m\u001b[0m\n\u001b[0;32m   1811\u001b[0m     \u001b[1;32mdef\u001b[0m \u001b[0mrpushx\u001b[0m\u001b[1;33m(\u001b[0m\u001b[0mself\u001b[0m\u001b[1;33m,\u001b[0m \u001b[0mname\u001b[0m\u001b[1;33m,\u001b[0m \u001b[0mvalue\u001b[0m\u001b[1;33m)\u001b[0m\u001b[1;33m:\u001b[0m\u001b[1;33m\u001b[0m\u001b[1;33m\u001b[0m\u001b[0m\n",
      "\u001b[1;32mD:\\anaconda3\\envs\\yourenvname\\lib\\site-packages\\redis\\client.py\u001b[0m in \u001b[0;36mexecute_command\u001b[1;34m(self, *args, **options)\u001b[0m\n\u001b[0;32m   1066\u001b[0m         \u001b[0mpool\u001b[0m \u001b[1;33m=\u001b[0m \u001b[0mself\u001b[0m\u001b[1;33m.\u001b[0m\u001b[0mconnection_pool\u001b[0m\u001b[1;33m\u001b[0m\u001b[1;33m\u001b[0m\u001b[0m\n\u001b[0;32m   1067\u001b[0m         \u001b[0mcommand_name\u001b[0m \u001b[1;33m=\u001b[0m \u001b[0margs\u001b[0m\u001b[1;33m[\u001b[0m\u001b[1;36m0\u001b[0m\u001b[1;33m]\u001b[0m\u001b[1;33m\u001b[0m\u001b[1;33m\u001b[0m\u001b[0m\n\u001b[1;32m-> 1068\u001b[1;33m         \u001b[0mconn\u001b[0m \u001b[1;33m=\u001b[0m \u001b[0mself\u001b[0m\u001b[1;33m.\u001b[0m\u001b[0mconnection\u001b[0m \u001b[1;32mor\u001b[0m \u001b[0mpool\u001b[0m\u001b[1;33m.\u001b[0m\u001b[0mget_connection\u001b[0m\u001b[1;33m(\u001b[0m\u001b[0mcommand_name\u001b[0m\u001b[1;33m,\u001b[0m \u001b[1;33m**\u001b[0m\u001b[0moptions\u001b[0m\u001b[1;33m)\u001b[0m\u001b[1;33m\u001b[0m\u001b[1;33m\u001b[0m\u001b[0m\n\u001b[0m\u001b[0;32m   1069\u001b[0m \u001b[1;33m\u001b[0m\u001b[0m\n\u001b[0;32m   1070\u001b[0m         \u001b[1;32mtry\u001b[0m\u001b[1;33m:\u001b[0m\u001b[1;33m\u001b[0m\u001b[1;33m\u001b[0m\u001b[0m\n",
      "\u001b[1;32mD:\\anaconda3\\envs\\yourenvname\\lib\\site-packages\\redis\\connection.py\u001b[0m in \u001b[0;36mget_connection\u001b[1;34m(self, command_name, *keys, **options)\u001b[0m\n\u001b[0;32m   1177\u001b[0m             \u001b[1;31m# closed. either way, reconnect and verify everything is good.\u001b[0m\u001b[1;33m\u001b[0m\u001b[1;33m\u001b[0m\u001b[1;33m\u001b[0m\u001b[0m\n\u001b[0;32m   1178\u001b[0m             \u001b[1;32mtry\u001b[0m\u001b[1;33m:\u001b[0m\u001b[1;33m\u001b[0m\u001b[1;33m\u001b[0m\u001b[0m\n\u001b[1;32m-> 1179\u001b[1;33m                 \u001b[1;32mif\u001b[0m \u001b[0mconnection\u001b[0m\u001b[1;33m.\u001b[0m\u001b[0mcan_read\u001b[0m\u001b[1;33m(\u001b[0m\u001b[1;33m)\u001b[0m\u001b[1;33m:\u001b[0m\u001b[1;33m\u001b[0m\u001b[1;33m\u001b[0m\u001b[0m\n\u001b[0m\u001b[0;32m   1180\u001b[0m                     \u001b[1;32mraise\u001b[0m \u001b[0mConnectionError\u001b[0m\u001b[1;33m(\u001b[0m\u001b[1;34m'Connection has data'\u001b[0m\u001b[1;33m)\u001b[0m\u001b[1;33m\u001b[0m\u001b[1;33m\u001b[0m\u001b[0m\n\u001b[0;32m   1181\u001b[0m             \u001b[1;32mexcept\u001b[0m \u001b[0mConnectionError\u001b[0m\u001b[1;33m:\u001b[0m\u001b[1;33m\u001b[0m\u001b[1;33m\u001b[0m\u001b[0m\n",
      "\u001b[1;32mD:\\anaconda3\\envs\\yourenvname\\lib\\site-packages\\redis\\connection.py\u001b[0m in \u001b[0;36mcan_read\u001b[1;34m(self, timeout)\u001b[0m\n\u001b[0;32m    741\u001b[0m         \u001b[1;32mif\u001b[0m \u001b[1;32mnot\u001b[0m \u001b[0msock\u001b[0m\u001b[1;33m:\u001b[0m\u001b[1;33m\u001b[0m\u001b[1;33m\u001b[0m\u001b[0m\n\u001b[0;32m    742\u001b[0m             \u001b[0mself\u001b[0m\u001b[1;33m.\u001b[0m\u001b[0mconnect\u001b[0m\u001b[1;33m(\u001b[0m\u001b[1;33m)\u001b[0m\u001b[1;33m\u001b[0m\u001b[1;33m\u001b[0m\u001b[0m\n\u001b[1;32m--> 743\u001b[1;33m         \u001b[1;32mreturn\u001b[0m \u001b[0mself\u001b[0m\u001b[1;33m.\u001b[0m\u001b[0m_parser\u001b[0m\u001b[1;33m.\u001b[0m\u001b[0mcan_read\u001b[0m\u001b[1;33m(\u001b[0m\u001b[0mtimeout\u001b[0m\u001b[1;33m)\u001b[0m\u001b[1;33m\u001b[0m\u001b[1;33m\u001b[0m\u001b[0m\n\u001b[0m\u001b[0;32m    744\u001b[0m \u001b[1;33m\u001b[0m\u001b[0m\n\u001b[0;32m    745\u001b[0m     \u001b[1;32mdef\u001b[0m \u001b[0mread_response\u001b[0m\u001b[1;33m(\u001b[0m\u001b[0mself\u001b[0m\u001b[1;33m)\u001b[0m\u001b[1;33m:\u001b[0m\u001b[1;33m\u001b[0m\u001b[1;33m\u001b[0m\u001b[0m\n",
      "\u001b[1;32mD:\\anaconda3\\envs\\yourenvname\\lib\\site-packages\\redis\\connection.py\u001b[0m in \u001b[0;36mcan_read\u001b[1;34m(self, timeout)\u001b[0m\n\u001b[0;32m    408\u001b[0m             \u001b[0mself\u001b[0m\u001b[1;33m.\u001b[0m\u001b[0m_next_response\u001b[0m \u001b[1;33m=\u001b[0m \u001b[0mself\u001b[0m\u001b[1;33m.\u001b[0m\u001b[0m_reader\u001b[0m\u001b[1;33m.\u001b[0m\u001b[0mgets\u001b[0m\u001b[1;33m(\u001b[0m\u001b[1;33m)\u001b[0m\u001b[1;33m\u001b[0m\u001b[1;33m\u001b[0m\u001b[0m\n\u001b[0;32m    409\u001b[0m             \u001b[1;32mif\u001b[0m \u001b[0mself\u001b[0m\u001b[1;33m.\u001b[0m\u001b[0m_next_response\u001b[0m \u001b[1;32mis\u001b[0m \u001b[1;32mFalse\u001b[0m\u001b[1;33m:\u001b[0m\u001b[1;33m\u001b[0m\u001b[1;33m\u001b[0m\u001b[0m\n\u001b[1;32m--> 410\u001b[1;33m                 return self.read_from_socket(timeout=timeout,\n\u001b[0m\u001b[0;32m    411\u001b[0m                                              raise_on_timeout=False)\n\u001b[0;32m    412\u001b[0m         \u001b[1;32mreturn\u001b[0m \u001b[1;32mTrue\u001b[0m\u001b[1;33m\u001b[0m\u001b[1;33m\u001b[0m\u001b[0m\n",
      "\u001b[1;32mD:\\anaconda3\\envs\\yourenvname\\lib\\site-packages\\redis\\connection.py\u001b[0m in \u001b[0;36mread_from_socket\u001b[1;34m(self, timeout, raise_on_timeout)\u001b[0m\n\u001b[0;32m    419\u001b[0m                 \u001b[0msock\u001b[0m\u001b[1;33m.\u001b[0m\u001b[0msettimeout\u001b[0m\u001b[1;33m(\u001b[0m\u001b[0mtimeout\u001b[0m\u001b[1;33m)\u001b[0m\u001b[1;33m\u001b[0m\u001b[1;33m\u001b[0m\u001b[0m\n\u001b[0;32m    420\u001b[0m             \u001b[1;32mif\u001b[0m \u001b[0mHIREDIS_USE_BYTE_BUFFER\u001b[0m\u001b[1;33m:\u001b[0m\u001b[1;33m\u001b[0m\u001b[1;33m\u001b[0m\u001b[0m\n\u001b[1;32m--> 421\u001b[1;33m                 \u001b[0mbufflen\u001b[0m \u001b[1;33m=\u001b[0m \u001b[0mself\u001b[0m\u001b[1;33m.\u001b[0m\u001b[0m_sock\u001b[0m\u001b[1;33m.\u001b[0m\u001b[0mrecv_into\u001b[0m\u001b[1;33m(\u001b[0m\u001b[0mself\u001b[0m\u001b[1;33m.\u001b[0m\u001b[0m_buffer\u001b[0m\u001b[1;33m)\u001b[0m\u001b[1;33m\u001b[0m\u001b[1;33m\u001b[0m\u001b[0m\n\u001b[0m\u001b[0;32m    422\u001b[0m                 \u001b[1;32mif\u001b[0m \u001b[0mbufflen\u001b[0m \u001b[1;33m==\u001b[0m \u001b[1;36m0\u001b[0m\u001b[1;33m:\u001b[0m\u001b[1;33m\u001b[0m\u001b[1;33m\u001b[0m\u001b[0m\n\u001b[0;32m    423\u001b[0m                     \u001b[1;32mraise\u001b[0m \u001b[0mConnectionError\u001b[0m\u001b[1;33m(\u001b[0m\u001b[0mSERVER_CLOSED_CONNECTION_ERROR\u001b[0m\u001b[1;33m)\u001b[0m\u001b[1;33m\u001b[0m\u001b[1;33m\u001b[0m\u001b[0m\n",
      "\u001b[1;31mConnectionResetError\u001b[0m: [WinError 10054] An existing connection was forcibly closed by the remote host"
     ]
    }
   ],
   "source": [
    "@ray.remote\n",
    "def f(arg):\n",
    "    return arg\n",
    "\n",
    "a = ray.put(None)\n",
    "b = f.remote(None)\n"
   ]
  },
  {
   "cell_type": "code",
   "execution_count": 79,
   "id": "f0d773c9",
   "metadata": {},
   "outputs": [
    {
     "data": {
      "text/plain": [
       "array([0.])"
      ]
     },
     "execution_count": 79,
     "metadata": {},
     "output_type": "execute_result"
    }
   ],
   "source": [
    "a = ray.put(np.zeros(1))\n",
    "b = ray.get(a)\n",
    "del a\n",
    "b"
   ]
  },
  {
   "cell_type": "markdown",
   "id": "6a9cf857",
   "metadata": {},
   "source": [
    "Placement"
   ]
  },
  {
   "cell_type": "code",
   "execution_count": 85,
   "id": "4acc6d92",
   "metadata": {},
   "outputs": [
    {
     "name": "stderr",
     "output_type": "stream",
     "text": [
      "2021-12-05 18:10:22,434\tINFO worker.py:852 -- Calling ray.init() again after it has already been called.\n"
     ]
    }
   ],
   "source": [
    "# Import placement group APIs.\n",
    "from ray.util.placement_group import (\n",
    "    placement_group,\n",
    "    placement_group_table,\n",
    "    remove_placement_group\n",
    ")\n",
    "\n",
    "# Initialize Ray.\n",
    "ray.init(num_gpus=2, resources={\"extra_resource\": 2}, ignore_reinit_error=True)\n",
    "\n",
    "bundle1 = {\"GPU\": 2}\n",
    "bundle2 = {\"extra_resource\": 2}\n",
    "\n",
    "pg = placement_group([bundle1, bundle2], strategy=\"STRICT_PACK\")"
   ]
  },
  {
   "cell_type": "code",
   "execution_count": 83,
   "id": "ab7d4085",
   "metadata": {},
   "outputs": [
    {
     "name": "stderr",
     "output_type": "stream",
     "text": [
      "2021-12-05 18:09:58,292\tINFO worker.py:852 -- Calling ray.init() again after it has already been called.\n"
     ]
    }
   ],
   "source": [
    "import ray\n",
    "from pprint import pprint\n",
    "\n",
    "# Import placement group APIs.\n",
    "from ray.util.placement_group import (\n",
    "    placement_group,\n",
    "    placement_group_table,\n",
    "    remove_placement_group\n",
    ")\n",
    "\n",
    "ray.init(num_gpus=2, resources={\"extra_resource\": 2}, ignore_reinit_error=True)"
   ]
  },
  {
   "cell_type": "code",
   "execution_count": 89,
   "id": "963425cb",
   "metadata": {},
   "outputs": [
    {
     "name": "stderr",
     "output_type": "stream",
     "text": [
      "2021-12-05 18:11:25,837\tINFO worker.py:852 -- Calling ray.init() again after it has already been called.\n",
      "2021-12-05 18:11:35,863\tWARNING worker.py:1245 -- This worker was asked to execute a function that it does not have registered. You may have to restart Ray.\n"
     ]
    },
    {
     "ename": "KeyboardInterrupt",
     "evalue": "",
     "output_type": "error",
     "traceback": [
      "\u001b[1;31m---------------------------------------------------------------------------\u001b[0m",
      "\u001b[1;31mKeyboardInterrupt\u001b[0m                         Traceback (most recent call last)",
      "\u001b[1;32m~\\AppData\\Local\\Temp/ipykernel_2912/1558025536.py\u001b[0m in \u001b[0;36m<module>\u001b[1;34m\u001b[0m\n\u001b[0;32m      4\u001b[0m \u001b[1;31m# Create a placement group.\u001b[0m\u001b[1;33m\u001b[0m\u001b[1;33m\u001b[0m\u001b[1;33m\u001b[0m\u001b[0m\n\u001b[0;32m      5\u001b[0m \u001b[0mpg\u001b[0m \u001b[1;33m=\u001b[0m \u001b[0mplacement_group\u001b[0m\u001b[1;33m(\u001b[0m\u001b[1;33m[\u001b[0m\u001b[1;33m{\u001b[0m\u001b[1;34m\"CPU\"\u001b[0m\u001b[1;33m:\u001b[0m \u001b[1;36m2\u001b[0m\u001b[1;33m}\u001b[0m\u001b[1;33m]\u001b[0m\u001b[1;33m)\u001b[0m\u001b[1;33m\u001b[0m\u001b[1;33m\u001b[0m\u001b[0m\n\u001b[1;32m----> 6\u001b[1;33m \u001b[0mray\u001b[0m\u001b[1;33m.\u001b[0m\u001b[0mget\u001b[0m\u001b[1;33m(\u001b[0m\u001b[0mpg\u001b[0m\u001b[1;33m.\u001b[0m\u001b[0mready\u001b[0m\u001b[1;33m(\u001b[0m\u001b[1;33m)\u001b[0m\u001b[1;33m)\u001b[0m\u001b[1;33m\u001b[0m\u001b[1;33m\u001b[0m\u001b[0m\n\u001b[0m\u001b[0;32m      7\u001b[0m \u001b[1;33m\u001b[0m\u001b[0m\n\u001b[0;32m      8\u001b[0m \u001b[1;31m# Now, 2 CPUs are not available anymore because they are pre-reserved by the placement group.\u001b[0m\u001b[1;33m\u001b[0m\u001b[1;33m\u001b[0m\u001b[1;33m\u001b[0m\u001b[0m\n",
      "\u001b[1;32mD:\\anaconda3\\envs\\yourenvname\\lib\\site-packages\\ray\\_private\\client_mode_hook.py\u001b[0m in \u001b[0;36mwrapper\u001b[1;34m(*args, **kwargs)\u001b[0m\n\u001b[0;32m    103\u001b[0m             \u001b[1;32mif\u001b[0m \u001b[0mfunc\u001b[0m\u001b[1;33m.\u001b[0m\u001b[0m__name__\u001b[0m \u001b[1;33m!=\u001b[0m \u001b[1;34m\"init\"\u001b[0m \u001b[1;32mor\u001b[0m \u001b[0mis_client_mode_enabled_by_default\u001b[0m\u001b[1;33m:\u001b[0m\u001b[1;33m\u001b[0m\u001b[1;33m\u001b[0m\u001b[0m\n\u001b[0;32m    104\u001b[0m                 \u001b[1;32mreturn\u001b[0m \u001b[0mgetattr\u001b[0m\u001b[1;33m(\u001b[0m\u001b[0mray\u001b[0m\u001b[1;33m,\u001b[0m \u001b[0mfunc\u001b[0m\u001b[1;33m.\u001b[0m\u001b[0m__name__\u001b[0m\u001b[1;33m)\u001b[0m\u001b[1;33m(\u001b[0m\u001b[1;33m*\u001b[0m\u001b[0margs\u001b[0m\u001b[1;33m,\u001b[0m \u001b[1;33m**\u001b[0m\u001b[0mkwargs\u001b[0m\u001b[1;33m)\u001b[0m\u001b[1;33m\u001b[0m\u001b[1;33m\u001b[0m\u001b[0m\n\u001b[1;32m--> 105\u001b[1;33m         \u001b[1;32mreturn\u001b[0m \u001b[0mfunc\u001b[0m\u001b[1;33m(\u001b[0m\u001b[1;33m*\u001b[0m\u001b[0margs\u001b[0m\u001b[1;33m,\u001b[0m \u001b[1;33m**\u001b[0m\u001b[0mkwargs\u001b[0m\u001b[1;33m)\u001b[0m\u001b[1;33m\u001b[0m\u001b[1;33m\u001b[0m\u001b[0m\n\u001b[0m\u001b[0;32m    106\u001b[0m \u001b[1;33m\u001b[0m\u001b[0m\n\u001b[0;32m    107\u001b[0m     \u001b[1;32mreturn\u001b[0m \u001b[0mwrapper\u001b[0m\u001b[1;33m\u001b[0m\u001b[1;33m\u001b[0m\u001b[0m\n",
      "\u001b[1;32mD:\\anaconda3\\envs\\yourenvname\\lib\\site-packages\\ray\\worker.py\u001b[0m in \u001b[0;36mget\u001b[1;34m(object_refs, timeout)\u001b[0m\n\u001b[0;32m   1704\u001b[0m \u001b[1;33m\u001b[0m\u001b[0m\n\u001b[0;32m   1705\u001b[0m         \u001b[1;31m# TODO(ujvl): Consider how to allow user to retrieve the ready objects.\u001b[0m\u001b[1;33m\u001b[0m\u001b[1;33m\u001b[0m\u001b[1;33m\u001b[0m\u001b[0m\n\u001b[1;32m-> 1706\u001b[1;33m         values, debugger_breakpoint = worker.get_objects(\n\u001b[0m\u001b[0;32m   1707\u001b[0m             object_refs, timeout=timeout)\n\u001b[0;32m   1708\u001b[0m         \u001b[1;32mfor\u001b[0m \u001b[0mi\u001b[0m\u001b[1;33m,\u001b[0m \u001b[0mvalue\u001b[0m \u001b[1;32min\u001b[0m \u001b[0menumerate\u001b[0m\u001b[1;33m(\u001b[0m\u001b[0mvalues\u001b[0m\u001b[1;33m)\u001b[0m\u001b[1;33m:\u001b[0m\u001b[1;33m\u001b[0m\u001b[1;33m\u001b[0m\u001b[0m\n",
      "\u001b[1;32mD:\\anaconda3\\envs\\yourenvname\\lib\\site-packages\\ray\\worker.py\u001b[0m in \u001b[0;36mget_objects\u001b[1;34m(self, object_refs, timeout)\u001b[0m\n\u001b[0;32m    351\u001b[0m \u001b[1;33m\u001b[0m\u001b[0m\n\u001b[0;32m    352\u001b[0m         \u001b[0mtimeout_ms\u001b[0m \u001b[1;33m=\u001b[0m \u001b[0mint\u001b[0m\u001b[1;33m(\u001b[0m\u001b[0mtimeout\u001b[0m \u001b[1;33m*\u001b[0m \u001b[1;36m1000\u001b[0m\u001b[1;33m)\u001b[0m \u001b[1;32mif\u001b[0m \u001b[0mtimeout\u001b[0m \u001b[1;32melse\u001b[0m \u001b[1;33m-\u001b[0m\u001b[1;36m1\u001b[0m\u001b[1;33m\u001b[0m\u001b[1;33m\u001b[0m\u001b[0m\n\u001b[1;32m--> 353\u001b[1;33m         data_metadata_pairs = self.core_worker.get_objects(\n\u001b[0m\u001b[0;32m    354\u001b[0m             object_refs, self.current_task_id, timeout_ms)\n\u001b[0;32m    355\u001b[0m         \u001b[0mdebugger_breakpoint\u001b[0m \u001b[1;33m=\u001b[0m \u001b[1;34mb\"\"\u001b[0m\u001b[1;33m\u001b[0m\u001b[1;33m\u001b[0m\u001b[0m\n",
      "\u001b[1;32mpython\\ray\\_raylet.pyx\u001b[0m in \u001b[0;36mray._raylet.CoreWorker.get_objects\u001b[1;34m()\u001b[0m\n",
      "\u001b[1;32mpython\\ray\\_raylet.pyx\u001b[0m in \u001b[0;36mray._raylet.check_status\u001b[1;34m()\u001b[0m\n",
      "\u001b[1;31mKeyboardInterrupt\u001b[0m: "
     ]
    }
   ],
   "source": [
    "# Two \"CPU\"s are available.\n",
    "ray.init(num_cpus=2, ignore_reinit_error = True)\n",
    "\n",
    "# Create a placement group.\n",
    "pg = placement_group([{\"CPU\": 2}])\n",
    "ray.get(pg.ready())\n",
    "\n",
    "# Now, 2 CPUs are not available anymore because they are pre-reserved by the placement group.\n",
    "@ray.remote(num_cpus=2)\n",
    "def f():\n",
    "    return True\n",
    "\n",
    "# Won't be scheduled because there are no 2 cpus.\n",
    "f.remote()\n",
    "\n",
    "# Will be scheduled because 2 cpus are reserved by the placement group.\n",
    "f.options(placement_group=pg).remote()"
   ]
  },
  {
   "cell_type": "code",
   "execution_count": 90,
   "id": "e4a96f4e",
   "metadata": {},
   "outputs": [
    {
     "name": "stdout",
     "output_type": "stream",
     "text": [
      "{'bundles': {0: {'CPU': 2.0}},\n",
      " 'name': '',\n",
      " 'placement_group_id': '82c7fb6b47eca35dc0746796f80c22d4',\n",
      " 'state': 'REMOVED',\n",
      " 'stats': {'end_to_end_creation_latency_ms': 8.758,\n",
      "           'highest_retry_delay_ms': 0.0,\n",
      "           'scheduling_attempt': 1,\n",
      "           'scheduling_latency_ms': 8.486,\n",
      "           'scheduling_state': 'REMOVED'},\n",
      " 'strategy': 'PACK'}\n"
     ]
    }
   ],
   "source": [
    "# This API is asynchronous.\n",
    "remove_placement_group(pg)\n",
    "\n",
    "# Wait until placement group is killed.\n",
    "import time\n",
    "time.sleep(1)\n",
    "# Check the placement group has died.\n",
    "pprint(placement_group_table(pg))\n",
    "\n",
    "\"\"\"\n",
    "{'bundles': {0: {'GPU': 2.0}, 1: {'extra_resource': 2.0}},\n",
    "'name': 'unnamed_group',\n",
    "'placement_group_id': '40816b6ad474a6942b0edb45809b39c3',\n",
    "'state': 'REMOVED',\n",
    "'strategy': 'STRICT_PACK'}\n",
    "\"\"\"\n",
    "\n",
    "ray.shutdown()"
   ]
  },
  {
   "cell_type": "markdown",
   "id": "6cf7ef83",
   "metadata": {},
   "source": [
    "Debugging"
   ]
  },
  {
   "cell_type": "code",
   "execution_count": 94,
   "id": "c9c8d8e6",
   "metadata": {},
   "outputs": [
    {
     "name": "stderr",
     "output_type": "stream",
     "text": [
      "2021-12-05 18:20:04,613\tINFO worker.py:852 -- Calling ray.init() again after it has already been called.\n"
     ]
    },
    {
     "name": "stdout",
     "output_type": "stream",
     "text": [
      "         734 function calls (714 primitive calls) in 0.032 seconds\n",
      "\n",
      "   Ordered by: standard name\n",
      "\n",
      "   ncalls  tottime  percall  cumtime  percall filename:lineno(function)\n",
      "        1    0.000    0.000    0.031    0.031 1435182158.py:3(ex1)\n",
      "        1    0.000    0.000    0.031    0.031 <string>:1(<module>)\n",
      "        5    0.000    0.000    0.000    0.000 __init__.py:183(dumps)\n",
      "       10    0.000    0.000    0.000    0.000 _collections_abc.py:657(get)\n",
      "    20/10    0.000    0.000    0.000    0.000 client_mode_hook.py:110(client_mode_should_convert)\n",
      "    15/10    0.000    0.000    0.030    0.003 client_mode_hook.py:98(wrapper)\n",
      "        5    0.000    0.000    0.000    0.000 conda.py:206(get_uri)\n",
      "    15/10    0.000    0.000    0.000    0.000 copy.py:128(deepcopy)\n",
      "        5    0.000    0.000    0.000    0.000 copy.py:182(_deepcopy_atomic)\n",
      "        5    0.000    0.000    0.000    0.000 copy.py:226(_deepcopy_dict)\n",
      "       10    0.000    0.000    0.000    0.000 copy.py:242(_keep_alive)\n",
      "        5    0.000    0.000    0.000    0.000 copy.py:258(_reconstruct)\n",
      "       10    0.000    0.000    0.000    0.000 copy.py:263(<genexpr>)\n",
      "        5    0.000    0.000    0.000    0.000 copyreg.py:90(__newobj__)\n",
      "        5    0.000    0.000    0.000    0.000 encoder.py:104(__init__)\n",
      "        5    0.000    0.000    0.000    0.000 encoder.py:182(encode)\n",
      "        5    0.000    0.000    0.000    0.000 encoder.py:204(iterencode)\n",
      "       10    0.000    0.000    0.000    0.000 os.py:670(__getitem__)\n",
      "       10    0.000    0.000    0.000    0.000 os.py:734(check_str)\n",
      "       10    0.000    0.000    0.000    0.000 os.py:740(encodekey)\n",
      "        5    0.000    0.000    0.000    0.000 placement_group.py:328(check_placement_group_index)\n",
      "        5    0.000    0.000    0.000    0.000 placement_group.py:37(empty)\n",
      "        5    0.000    0.000    0.000    0.000 placement_group.py:387(configure_placement_group_based_on_context)\n",
      "        5    0.000    0.000    0.000    0.000 placement_group.py:41(__init__)\n",
      "        5    0.000    0.000    0.000    0.000 placement_group.py:47(is_empty)\n",
      "        5    0.000    0.000    0.000    0.000 profiling.py:11(__exit__)\n",
      "        5    0.000    0.000    0.000    0.000 profiling.py:19(profile)\n",
      "        5    0.000    0.000    0.000    0.000 profiling.py:8(__enter__)\n",
      "        5    0.000    0.000    0.001    0.000 remote_function.py:122(_remote_proxy)\n",
      "        5    0.000    0.000    0.001    0.000 remote_function.py:202(_remote)\n",
      "        5    0.000    0.000    0.001    0.000 remote_function.py:315(invocation)\n",
      "        5    0.000    0.000    0.001    0.000 serialization.py:168(_deserialize_msgpack_data)\n",
      "        5    0.000    0.000    0.001    0.000 serialization.py:187(_deserialize_object)\n",
      "        5    0.000    0.000    0.001    0.000 serialization.py:269(deserialize_objects)\n",
      "        5    0.000    0.000    0.000    0.000 tracing_helper.py:112(is_tracing_enabled)\n",
      "        5    0.000    0.000    0.001    0.000 tracing_helper.py:282(_invocation_remote_span)\n",
      "        5    0.000    0.000    0.000    0.000 utils.py:299(resources_from_resource_arguments)\n",
      "        5    0.000    0.000    0.000    0.000 validation.py:348(get_uris)\n",
      "        5    0.000    0.000    0.000    0.000 validation.py:369(serialize)\n",
      "        5    0.000    0.000    0.000    0.000 validation.py:374(override_task_or_actor_runtime_env)\n",
      "        5    0.000    0.000    0.000    0.000 validation.py:407(<genexpr>)\n",
      "       10    0.000    0.000    0.000    0.000 worker.py:1305(is_initialized)\n",
      "       20    0.000    0.000    0.000    0.000 worker.py:138(connected)\n",
      "       15    0.000    0.000    0.000    0.000 worker.py:153(current_job_id)\n",
      "        5    0.000    0.000    0.030    0.006 worker.py:1646(get)\n",
      "        5    0.000    0.000    0.000    0.000 worker.py:165(current_task_id)\n",
      "        5    0.000    0.000    0.000    0.000 worker.py:185(should_capture_child_tasks_in_placement_group)\n",
      "        5    0.000    0.000    0.000    0.000 worker.py:189(current_session_and_job)\n",
      "        5    0.000    0.000    0.000    0.000 worker.py:201(get_serialization_context)\n",
      "       10    0.000    0.000    0.000    0.000 worker.py:223(check_connected)\n",
      "        5    0.000    0.000    0.001    0.000 worker.py:318(deserialize_objects)\n",
      "        5    0.000    0.000    0.030    0.006 worker.py:328(get_objects)\n",
      "        5    0.000    0.000    0.000    0.000 {built-in method __new__ of type object at 0x00007FF89C79CC90}\n",
      "        5    0.000    0.000    0.000    0.000 {built-in method builtins.all}\n",
      "        1    0.000    0.000    0.032    0.032 {built-in method builtins.exec}\n",
      "       10    0.000    0.000    0.000    0.000 {built-in method builtins.getattr}\n",
      "       25    0.000    0.000    0.000    0.000 {built-in method builtins.hasattr}\n",
      "       45    0.000    0.000    0.000    0.000 {built-in method builtins.id}\n",
      "       65    0.000    0.000    0.000    0.000 {built-in method builtins.isinstance}\n",
      "        5    0.000    0.000    0.000    0.000 {built-in method builtins.issubclass}\n",
      "       25    0.000    0.000    0.000    0.000 {built-in method builtins.len}\n",
      "        5    0.000    0.000    0.000    0.000 {built-in method loads}\n",
      "        5    0.000    0.000    0.000    0.000 {built-in method nil}\n",
      "        5    0.000    0.000    0.000    0.000 {method '__reduce_ex__' of 'object' objects}\n",
      "       15    0.000    0.000    0.000    0.000 {method 'append' of 'list' objects}\n",
      "        5    0.000    0.000    0.000    0.000 {method 'current_actor_is_asyncio' of 'ray._raylet.CoreWorker' objects}\n",
      "        1    0.000    0.000    0.000    0.000 {method 'disable' of '_lsprof.Profiler' objects}\n",
      "       55    0.000    0.000    0.000    0.000 {method 'get' of 'dict' objects}\n",
      "       15    0.000    0.000    0.000    0.000 {method 'get_current_job_id' of 'ray._raylet.CoreWorker' objects}\n",
      "        5    0.000    0.000    0.000    0.000 {method 'get_current_runtime_env' of 'ray._raylet.CoreWorker' objects}\n",
      "        5    0.000    0.000    0.000    0.000 {method 'get_current_task_id' of 'ray._raylet.CoreWorker' objects}\n",
      "        5    0.029    0.006    0.029    0.006 {method 'get_objects' of 'ray._raylet.CoreWorker' objects}\n",
      "       10    0.000    0.000    0.000    0.000 {method 'is_nil' of 'ray._raylet.PlacementGroupID' objects}\n",
      "        5    0.000    0.000    0.000    0.000 {method 'items' of 'dict' objects}\n",
      "        5    0.000    0.000    0.000    0.000 {method 'join' of 'str' objects}\n",
      "        5    0.000    0.000    0.000    0.000 {method 'pop' of 'list' objects}\n",
      "        5    0.000    0.000    0.000    0.000 {method 'should_capture_child_tasks_in_placement_group' of 'ray._raylet.CoreWorker' objects}\n",
      "       10    0.000    0.000    0.000    0.000 {method 'split' of 'bytes' objects}\n",
      "        5    0.000    0.000    0.000    0.000 {method 'submit_task' of 'ray._raylet.CoreWorker' objects}\n",
      "       10    0.000    0.000    0.000    0.000 {method 'update' of 'dict' objects}\n",
      "       10    0.000    0.000    0.000    0.000 {method 'upper' of 'str' objects}\n",
      "        5    0.000    0.000    0.000    0.000 {method 'values' of 'dict' objects}\n",
      "        5    0.000    0.000    0.000    0.000 {ray._raylet.split_buffer}\n",
      "\n",
      "\n"
     ]
    }
   ],
   "source": [
    "import cProfile  # Added import statement\n",
    "\n",
    "def ex1():\n",
    "    list1 = []\n",
    "    for i in range(5):\n",
    "        list1.append(ray.get(some_task.remote()))\n",
    "\n",
    "def main():\n",
    "    ray.init(ignore_reinit_error=True)\n",
    "    cProfile.run('ex1()')  # Modified call to ex1\n",
    "\n",
    "if __name__ == \"__main__\":\n",
    "    main()"
   ]
  },
  {
   "cell_type": "code",
   "execution_count": 98,
   "id": "19e696d0",
   "metadata": {},
   "outputs": [
    {
     "name": "stderr",
     "output_type": "stream",
     "text": [
      "2021-12-05 18:20:50,867\tINFO worker.py:852 -- Calling ray.init() again after it has already been called.\n"
     ]
    },
    {
     "name": "stdout",
     "output_type": "stream",
     "text": [
      "         9460 function calls (9450 primitive calls) in 2.543 seconds\n",
      "\n",
      "   Ordered by: standard name\n",
      "\n",
      "   ncalls  tottime  percall  cumtime  percall filename:lineno(function)\n",
      "        1    0.000    0.000    2.543    2.543 1627753386.py:11(ex4)\n",
      "        1    0.000    0.000    2.543    2.543 <string>:1(<module>)\n",
      "      269    0.000    0.000    0.000    0.000 <string>:1(__new__)\n",
      "        1    0.000    0.000    0.000    0.000 __init__.py:1276(disable)\n",
      "        1    0.000    0.000    0.000    0.000 __init__.py:1424(debug)\n",
      "        1    0.000    0.000    0.000    0.000 __init__.py:1675(getEffectiveLevel)\n",
      "        1    0.000    0.000    0.000    0.000 __init__.py:1689(isEnabledFor)\n",
      "        2    0.000    0.000    0.000    0.000 __init__.py:183(dumps)\n",
      "        1    0.000    0.000    0.000    0.000 __init__.py:218(_acquireLock)\n",
      "        1    0.000    0.000    0.000    0.000 __init__.py:227(_releaseLock)\n",
      "       13    0.000    0.000    0.000    0.000 __init__.py:889(__missing__)\n",
      "       27    0.000    0.000    0.000    0.000 __init__.py:892(__getitem__)\n",
      "        1    0.000    0.000    0.000    0.000 _channel.py:1219(__new__)\n",
      "        1    0.000    0.000    0.000    0.000 _channel.py:1223(with_wait_for_ready)\n",
      "        1    0.000    0.000    0.000    0.000 _channel.py:135(_handle_event)\n",
      "        1    0.000    0.000    0.000    0.000 _channel.py:829(_start_unary_request)\n",
      "        1    0.000    0.000    0.000    0.000 _channel.py:84(_deadline)\n",
      "        1    0.000    0.000    0.000    0.000 _channel.py:841(_end_unary_response_blocking)\n",
      "        1    0.000    0.000    0.000    0.000 _channel.py:873(_determine_deadline)\n",
      "        1    0.000    0.000    0.000    0.000 _channel.py:897(_prepare)\n",
      "        1    0.000    0.000    0.004    0.004 _channel.py:919(_blocking)\n",
      "        1    0.000    0.000    0.004    0.004 _channel.py:937(__call__)\n",
      "        1    0.000    0.000    0.000    0.000 _channel.py:95(__init__)\n",
      "        2    0.000    0.000    0.000    0.000 _collections_abc.py:657(get)\n",
      "        2    0.000    0.000    0.000    0.000 _common.py:81(_transform)\n",
      "        1    0.000    0.000    0.000    0.000 _common.py:92(serialize)\n",
      "        1    0.000    0.000    0.000    0.000 _common.py:96(deserialize)\n",
      "        1    0.000    0.000    0.000    0.000 _compression.py:42(augment_metadata)\n",
      "        5    0.000    0.000    0.000    0.000 actor.py:119(remote)\n",
      "        5    0.000    0.000    0.000    0.000 actor.py:142(_remote)\n",
      "        5    0.000    0.000    0.000    0.000 actor.py:152(invocation)\n",
      "        1    0.000    0.000    0.016    0.016 actor.py:439(remote)\n",
      "        1    0.000    0.000    0.016    0.016 actor.py:528(_remote)\n",
      "        1    0.000    0.000    0.000    0.000 actor.py:845(__init__)\n",
      "        1    0.000    0.000    0.000    0.000 actor.py:885(__del__)\n",
      "        5    0.000    0.000    0.000    0.000 actor.py:894(_actor_method_call)\n",
      "        3    0.000    0.000    0.000    0.000 actor.py:91(__init__)\n",
      "        1    0.000    0.000    0.000    0.000 backoff.py:8(reset)\n",
      "        1    0.000    0.000    0.000    0.000 client.py:1042(_send_command_parse_response)\n",
      "        1    0.000    0.000    0.001    0.001 client.py:1064(execute_command)\n",
      "        1    0.000    0.000    0.000    0.000 client.py:1072(<lambda>)\n",
      "        1    0.000    0.000    0.000    0.000 client.py:1081(parse_response)\n",
      "        1    0.000    0.000    0.000    0.000 client.py:53(__contains__)\n",
      "        1    0.000    0.000    0.000    0.000 client.py:59(__getitem__)\n",
      "        1    0.000    0.000    0.000    0.000 client.py:644(<lambda>)\n",
      "      4/2    0.000    0.000    0.000    0.000 client_mode_hook.py:110(client_mode_should_convert)\n",
      "      3/2    0.000    0.000    2.527    1.264 client_mode_hook.py:98(wrapper)\n",
      "        2    0.000    0.000    0.000    0.000 cloudpickle.py:111(_get_or_create_tracker_id)\n",
      "       23    0.000    0.000    0.000    0.000 cloudpickle.py:187(_is_registered_pickle_by_value)\n",
      "       27    0.000    0.000    0.000    0.000 cloudpickle.py:201(_whichmodule)\n",
      "       31    0.000    0.000    0.000    0.000 cloudpickle.py:247(_should_pickle_by_reference)\n",
      "       27    0.000    0.000    0.000    0.000 cloudpickle.py:284(_lookup_module_and_qualname)\n",
      "        6    0.000    0.000    0.000    0.000 cloudpickle.py:324(_extract_code_globals)\n",
      "        2    0.000    0.000    0.000    0.000 cloudpickle.py:334(<dictcomp>)\n",
      "        6    0.001    0.000    0.001    0.000 cloudpickle.py:352(_find_imported_submodules)\n",
      "        3    0.000    0.000    0.000    0.000 cloudpickle.py:518(_walk_global_ops)\n",
      "        2    0.000    0.000    0.000    0.000 cloudpickle.py:529(_extract_class_dict)\n",
      "        3    0.000    0.000    0.000    0.000 cloudpickle.py:698(_get_cell_contents)\n",
      "        3    0.000    0.000    0.000    0.000 cloudpickle.py:796(_make_empty_cell)\n",
      "        2    0.000    0.000    0.000    0.000 cloudpickle.py:945(_get_bases)\n",
      "        2    0.000    0.000    0.000    0.000 cloudpickle_fast.py:112(_class_getnewargs)\n",
      "        6    0.000    0.000    0.002    0.000 cloudpickle_fast.py:139(_function_getstate)\n",
      "        6    0.000    0.000    0.000    0.000 cloudpickle_fast.py:158(<dictcomp>)\n",
      "        2    0.000    0.000    0.000    0.000 cloudpickle_fast.py:178(_class_getstate)\n",
      "        4    0.000    0.000    0.000    0.000 cloudpickle_fast.py:249(_code_reduce)\n",
      "        6    0.000    0.000    0.000    0.000 cloudpickle_fast.py:284(_cell_reduce)\n",
      "        4    0.000    0.000    0.000    0.000 cloudpickle_fast.py:358(_module_reduce)\n",
      "        2    0.000    0.000    0.000    0.000 cloudpickle_fast.py:391(_dynamic_class_reduce)\n",
      "       12    0.000    0.000    0.000    0.000 cloudpickle_fast.py:411(_class_reduce)\n",
      "        6    0.000    0.000    0.002    0.000 cloudpickle_fast.py:561(_dynamic_function_reduce)\n",
      "       17    0.000    0.000    0.002    0.000 cloudpickle_fast.py:568(_function_reduce)\n",
      "        6    0.000    0.000    0.000    0.000 cloudpickle_fast.py:585(_function_getnewargs)\n",
      "        2    0.000    0.000    0.003    0.001 cloudpickle_fast.py:59(dumps)\n",
      "        6    0.000    0.000    0.000    0.000 cloudpickle_fast.py:613(<genexpr>)\n",
      "        2    0.000    0.000    0.003    0.001 cloudpickle_fast.py:618(dump)\n",
      "        2    0.000    0.000    0.000    0.000 cloudpickle_fast.py:652(__init__)\n",
      "       55    0.000    0.000    0.002    0.000 cloudpickle_fast.py:664(reducer_override)\n",
      "        1    0.000    0.000    0.000    0.000 conda.py:206(get_uri)\n",
      "        2    0.000    0.000    0.000    0.000 connection.py:1114(_checkpid)\n",
      "        1    0.000    0.000    0.000    0.000 connection.py:1161(get_connection)\n",
      "        1    0.000    0.000    0.000    0.000 connection.py:1210(release)\n",
      "        1    0.000    0.000    0.000    0.000 connection.py:1231(owns_connection)\n",
      "        1    0.000    0.000    0.000    0.000 connection.py:403(can_read)\n",
      "        2    0.000    0.000    0.000    0.000 connection.py:414(read_from_socket)\n",
      "        1    0.000    0.000    0.000    0.000 connection.py:452(read_response)\n",
      "        1    0.000    0.000    0.000    0.000 connection.py:562(connect)\n",
      "        1    0.000    0.000    0.000    0.000 connection.py:700(check_health)\n",
      "        1    0.000    0.000    0.000    0.000 connection.py:705(send_packed_command)\n",
      "        1    0.000    0.000    0.000    0.000 connection.py:733(send_command)\n",
      "        1    0.000    0.000    0.000    0.000 connection.py:738(can_read)\n",
      "        1    0.000    0.000    0.000    0.000 connection.py:745(read_response)\n",
      "        1    0.000    0.000    0.000    0.000 connection.py:768(pack_command)\n",
      "        3    0.000    0.000    0.000    0.000 connection.py:96(encode)\n",
      "      3/2    0.000    0.000    0.000    0.000 copy.py:128(deepcopy)\n",
      "        1    0.000    0.000    0.000    0.000 copy.py:182(_deepcopy_atomic)\n",
      "        1    0.000    0.000    0.000    0.000 copy.py:226(_deepcopy_dict)\n",
      "        2    0.000    0.000    0.000    0.000 copy.py:242(_keep_alive)\n",
      "        1    0.000    0.000    0.000    0.000 copy.py:258(_reconstruct)\n",
      "        2    0.000    0.000    0.000    0.000 copy.py:263(<genexpr>)\n",
      "        1    0.000    0.000    0.000    0.000 copyreg.py:90(__newobj__)\n",
      "        1    0.000    0.000    0.001    0.001 core.py:1803(rpush)\n",
      "        2    0.000    0.000    0.000    0.000 dis.py:128(_get_code_object)\n",
      "      256    0.002    0.000    0.003    0.000 dis.py:223(_disassemble)\n",
      "        2    0.000    0.000    0.000    0.000 dis.py:261(get_instructions)\n",
      "       15    0.000    0.000    0.000    0.000 dis.py:283(_get_const_info)\n",
      "      117    0.000    0.000    0.000    0.000 dis.py:295(_get_name_info)\n",
      "      276    0.001    0.000    0.003    0.000 dis.py:311(_get_instructions_bytes)\n",
      "        5    0.000    0.000    0.007    0.001 dis.py:365(disassemble)\n",
      "        5    0.000    0.000    0.007    0.001 dis.py:372(_disassemble_recursive)\n",
      "        5    0.001    0.000    0.006    0.001 dis.py:383(_disassemble_bytes)\n",
      "      552    0.001    0.000    0.001    0.000 dis.py:419(_unpack_opargs)\n",
      "      7/1    0.000    0.000    0.007    0.007 dis.py:43(dis)\n",
      "        7    0.000    0.000    0.000    0.000 dis.py:430(findlabels)\n",
      "       68    0.000    0.000    0.000    0.000 dis.py:449(findlinestarts)\n",
      "        1    0.000    0.000    0.000    0.000 encoder.py:104(__init__)\n",
      "        2    0.000    0.000    0.000    0.000 encoder.py:182(encode)\n",
      "        2    0.000    0.000    0.000    0.000 encoder.py:204(iterencode)\n",
      "        2    0.000    0.000    0.000    0.000 enum.py:738(__reduce_ex__)\n",
      "        1    0.000    0.000    0.005    0.005 function_manager.py:355(_publish_actor_class_to_key)\n",
      "        1    0.000    0.000    0.015    0.015 function_manager.py:372(export_actor_class)\n",
      "        1    0.000    0.000    0.007    0.007 function_manager.py:89(compute_collision_identifier)\n",
      "       29    0.000    0.000    0.000    0.000 functools.py:429(_unwrap_partial)\n",
      "        1    0.000    0.000    0.004    0.004 gcs_utils.py:125(wrapper)\n",
      "        1    0.000    0.000    0.000    0.000 gcs_utils.py:189(_make_key)\n",
      "        1    0.000    0.000    0.004    0.004 gcs_utils.py:242(internal_kv_put)\n",
      "       29    0.000    0.000    0.000    0.000 inspect.py:158(isfunction)\n",
      "       29    0.000    0.000    0.000    0.000 inspect.py:171(_has_code_flag)\n",
      "       29    0.000    0.000    0.000    0.000 inspect.py:189(iscoroutinefunction)\n",
      "        6    0.000    0.000    0.000    0.000 inspect.py:2529(__reduce__)\n",
      "       18    0.000    0.000    0.000    0.000 inspect.py:2539(name)\n",
      "       12    0.000    0.000    0.000    0.000 inspect.py:2543(default)\n",
      "       36    0.000    0.000    0.000    0.000 inspect.py:2551(kind)\n",
      "        6    0.000    0.000    0.000    0.000 inspect.py:2631(__init__)\n",
      "        6    0.000    0.000    0.000    0.000 inspect.py:2772(__init__)\n",
      "        6    0.000    0.000    0.000    0.000 inspect.py:2857(parameters)\n",
      "        6    0.000    0.000    0.000    0.000 inspect.py:2901(_bind)\n",
      "        6    0.000    0.000    0.000    0.000 inspect.py:3032(bind)\n",
      "        3    0.000    0.000    0.000    0.000 inspect.py:3046(__reduce__)\n",
      "        1    0.000    0.000    0.000    0.000 inspect.py:325(getmembers)\n",
      "        1    0.000    0.000    0.000    0.000 inspect.py:487(getmro)\n",
      "        1    0.000    0.000    0.000    0.000 inspect.py:72(isclass)\n",
      "       29    0.000    0.000    0.000    0.000 inspect.py:80(ismethod)\n",
      "        2    0.000    0.000    0.000    0.000 os.py:670(__getitem__)\n",
      "        2    0.000    0.000    0.000    0.000 os.py:734(check_str)\n",
      "        2    0.000    0.000    0.000    0.000 os.py:740(encodekey)\n",
      "       21    0.000    0.000    0.000    0.000 pickle.py:322(_getattribute)\n",
      "        1    0.000    0.000    0.000    0.000 placement_group.py:328(check_placement_group_index)\n",
      "        1    0.000    0.000    0.000    0.000 placement_group.py:37(empty)\n",
      "        1    0.000    0.000    0.000    0.000 placement_group.py:387(configure_placement_group_based_on_context)\n",
      "        1    0.000    0.000    0.000    0.000 placement_group.py:41(__init__)\n",
      "        1    0.000    0.000    0.000    0.000 placement_group.py:47(is_empty)\n",
      "        1    0.000    0.000    0.000    0.000 profiling.py:11(__exit__)\n",
      "        1    0.000    0.000    0.000    0.000 profiling.py:19(profile)\n",
      "        1    0.000    0.000    0.000    0.000 profiling.py:8(__enter__)\n",
      "        1    0.000    0.000    0.000    0.000 retry.py:21(call_with_retry)\n",
      "        5    0.000    0.000    0.000    0.000 serialization.py:168(_deserialize_msgpack_data)\n",
      "        5    0.000    0.000    0.000    0.000 serialization.py:187(_deserialize_object)\n",
      "        1    0.000    0.000    0.001    0.001 serialization.py:269(deserialize_objects)\n",
      "        6    0.000    0.000    0.000    0.000 signature.py:82(flatten_args)\n",
      "        1    0.000    0.000    0.000    0.000 threading.py:222(__init__)\n",
      "        3    0.000    0.000    0.000    0.000 threading.py:246(__enter__)\n",
      "        3    0.000    0.000    0.000    0.000 threading.py:249(__exit__)\n",
      "        1    0.000    0.000    0.000    0.000 threading.py:341(notify)\n",
      "        1    0.000    0.000    0.000    0.000 threading.py:364(notify_all)\n",
      "        1    0.000    0.000    0.000    0.000 threading.py:81(RLock)\n",
      "        6    0.000    0.000    0.000    0.000 tracing_helper.py:112(is_tracing_enabled)\n",
      "        1    0.000    0.000    0.016    0.016 tracing_helper.py:357(_invocation_actor_class_remote_span)\n",
      "        5    0.000    0.000    0.000    0.000 tracing_helper.py:397(_start_span)\n",
      "        1    0.000    0.000    0.000    0.000 tracing_helper.py:42(__getattr__)\n",
      "        1    0.000    0.000    0.000    0.000 utils.py:299(resources_from_resource_arguments)\n",
      "        1    0.000    0.000    0.000    0.000 utils.py:619(check_oversized_function)\n",
      "        2    0.000    0.000    0.000    0.000 uuid.py:132(__init__)\n",
      "        2    0.000    0.000    0.000    0.000 uuid.py:327(hex)\n",
      "        2    0.000    0.000    0.000    0.000 uuid.py:780(uuid4)\n",
      "        1    0.000    0.000    0.000    0.000 validation.py:348(get_uris)\n",
      "        1    0.000    0.000    0.000    0.000 validation.py:369(serialize)\n",
      "        1    0.000    0.000    0.000    0.000 validation.py:374(override_task_or_actor_runtime_env)\n",
      "        1    0.000    0.000    0.000    0.000 validation.py:407(<genexpr>)\n",
      "        2    0.000    0.000    0.000    0.000 weakref.py:159(__setitem__)\n",
      "        2    0.000    0.000    0.000    0.000 weakref.py:323(__new__)\n",
      "        2    0.000    0.000    0.000    0.000 weakref.py:328(__init__)\n",
      "        4    0.000    0.000    0.000    0.000 weakref.py:395(__setitem__)\n",
      "        8    0.000    0.000    0.000    0.000 weakref.py:419(get)\n",
      "        2    0.000    0.000    0.000    0.000 worker.py:1305(is_initialized)\n",
      "        6    0.000    0.000    0.000    0.000 worker.py:138(connected)\n",
      "        1    0.000    0.000    0.000    0.000 worker.py:148(load_code_from_local)\n",
      "        9    0.000    0.000    0.000    0.000 worker.py:153(current_job_id)\n",
      "        1    0.000    0.000    2.527    2.527 worker.py:1646(get)\n",
      "        1    0.000    0.000    0.000    0.000 worker.py:165(current_task_id)\n",
      "        1    0.000    0.000    0.000    0.000 worker.py:185(should_capture_child_tasks_in_placement_group)\n",
      "        3    0.000    0.000    0.000    0.000 worker.py:189(current_session_and_job)\n",
      "        1    0.000    0.000    0.000    0.000 worker.py:201(get_serialization_context)\n",
      "        3    0.000    0.000    0.000    0.000 worker.py:223(check_connected)\n",
      "        1    0.000    0.000    0.001    0.001 worker.py:318(deserialize_objects)\n",
      "        1    0.000    0.000    2.527    2.527 worker.py:328(get_objects)\n",
      "        1    0.000    0.000    0.000    0.000 {built-in method FromString}\n",
      "      273    0.000    0.000    0.000    0.000 {built-in method __new__ of type object at 0x00007FF89C79CC90}\n",
      "        1    0.000    0.000    0.000    0.000 {built-in method _hashlib.openssl_sha1}\n",
      "        1    0.000    0.000    0.000    0.000 {built-in method builtins.all}\n",
      "        1    0.000    0.000    0.000    0.000 {built-in method builtins.dir}\n",
      "        1    0.000    0.000    2.543    2.543 {built-in method builtins.exec}\n",
      "      108    0.000    0.000    0.000    0.000 {built-in method builtins.getattr}\n",
      "       80    0.000    0.000    0.000    0.000 {built-in method builtins.hasattr}\n",
      "       15    0.000    0.000    0.000    0.000 {built-in method builtins.id}\n",
      "      265    0.000    0.000    0.000    0.000 {built-in method builtins.isinstance}\n",
      "       74    0.000    0.000    0.000    0.000 {built-in method builtins.issubclass}\n",
      "       12    0.000    0.000    0.000    0.000 {built-in method builtins.iter}\n",
      "      208    0.000    0.000    0.000    0.000 {built-in method builtins.len}\n",
      "        5    0.000    0.000    0.000    0.000 {built-in method builtins.max}\n",
      "       12    0.000    0.000    0.000    0.000 {built-in method builtins.next}\n",
      "      322    0.000    0.000    0.000    0.000 {built-in method builtins.print}\n",
      "      461    0.000    0.000    0.000    0.000 {built-in method builtins.repr}\n",
      "        3    0.000    0.000    0.000    0.000 {built-in method builtins.setattr}\n",
      "        2    0.000    0.000    0.000    0.000 {built-in method builtins.sorted}\n",
      "        2    0.000    0.000    0.000    0.000 {built-in method from_bytes}\n",
      "        5    0.000    0.000    0.000    0.000 {built-in method loads}\n",
      "        1    0.000    0.000    0.000    0.000 {built-in method nil}\n",
      "        2    0.000    0.000    0.000    0.000 {built-in method nt.getpid}\n",
      "        2    0.000    0.000    0.000    0.000 {built-in method nt.urandom}\n",
      "        1    0.000    0.000    0.000    0.000 {function CaseInsensitiveDict.__contains__ at 0x000002F2D5B3BB80}\n",
      "        1    0.000    0.000    0.000    0.000 {function CaseInsensitiveDict.__getitem__ at 0x000002F2D5B3BCA0}\n",
      "        2    0.000    0.000    0.003    0.001 {function CloudPickler.dump at 0x000002F2D6FCEB80}\n",
      "        1    0.000    0.000    0.000    0.000 {grpc._cython.cygrpc.get_deadline_from_context}\n",
      "        1    0.000    0.000    0.000    0.000 {grpc._cython.cygrpc.get_fork_epoch}\n",
      "        1    0.000    0.000    0.000    0.000 {method 'SerializeToString' of 'google.protobuf.pyext._message.CMessage' objects}\n",
      "        3    0.000    0.000    0.000    0.000 {method '__enter__' of '_thread.RLock' objects}\n",
      "        3    0.000    0.000    0.000    0.000 {method '__exit__' of '_thread.RLock' objects}\n",
      "        1    0.000    0.000    0.000    0.000 {method '__reduce_ex__' of 'object' objects}\n",
      "        1    0.000    0.000    0.000    0.000 {method '_is_owned' of '_thread.RLock' objects}\n",
      "        1    0.000    0.000    0.000    0.000 {method 'acquire' of '_thread.RLock' objects}\n",
      "       30    0.000    0.000    0.000    0.000 {method 'add' of 'set' objects}\n",
      "     1629    0.000    0.000    0.000    0.000 {method 'append' of 'list' objects}\n",
      "        2    0.000    0.000    0.000    0.000 {method 'binary' of 'ray._raylet.JobID' objects}\n",
      "        1    0.000    0.000    0.000    0.000 {method 'binary' of 'ray._raylet.UniqueID' objects}\n",
      "        1    0.000    0.000    0.000    0.000 {method 'code' of 'grpc._cython.cygrpc.ReceiveStatusOnClientOperation' objects}\n",
      "        1    0.000    0.000    0.000    0.000 {method 'copy' of 'dict' objects}\n",
      "        2    0.000    0.000    0.000    0.000 {method 'count' of 'list' objects}\n",
      "        1    0.000    0.000    0.000    0.000 {method 'create_actor' of 'ray._raylet.CoreWorker' objects}\n",
      "        1    0.000    0.000    0.000    0.000 {method 'current_actor_is_asyncio' of 'ray._raylet.CoreWorker' objects}\n",
      "        1    0.000    0.000    0.000    0.000 {method 'details' of 'grpc._cython.cygrpc.ReceiveStatusOnClientOperation' objects}\n",
      "        1    0.000    0.000    0.000    0.000 {method 'digest' of '_hashlib.HASH' objects}\n",
      "        1    0.000    0.000    0.000    0.000 {method 'disable' of '_lsprof.Profiler' objects}\n",
      "        8    0.000    0.000    0.000    0.000 {method 'encode' of 'str' objects}\n",
      "        1    0.000    0.000    0.000    0.000 {method 'error_string' of 'grpc._cython.cygrpc.ReceiveStatusOnClientOperation' objects}\n",
      "        1    0.000    0.000    0.000    0.000 {method 'extend' of 'list' objects}\n",
      "        1    0.000    0.000    0.000    0.000 {method 'feed' of 'hiredis.Reader' objects}\n",
      "        2    0.000    0.000    0.000    0.000 {method 'format' of 'str' objects}\n",
      "      315    0.000    0.000    0.000    0.000 {method 'get' of 'dict' objects}\n",
      "        2    0.000    0.000    0.000    0.000 {method 'get' of 'mappingproxy' objects}\n",
      "        9    0.000    0.000    0.000    0.000 {method 'get_current_job_id' of 'ray._raylet.CoreWorker' objects}\n",
      "        1    0.000    0.000    0.000    0.000 {method 'get_current_runtime_env' of 'ray._raylet.CoreWorker' objects}\n",
      "        1    0.000    0.000    0.000    0.000 {method 'get_current_task_id' of 'ray._raylet.CoreWorker' objects}\n",
      "        1    2.526    2.526    2.526    2.526 {method 'get_objects' of 'ray._raylet.CoreWorker' objects}\n",
      "        3    0.000    0.000    0.000    0.000 {method 'gets' of 'hiredis.Reader' objects}\n",
      "        2    0.000    0.000    0.000    0.000 {method 'getvalue' of '_io.BytesIO' objects}\n",
      "        1    0.000    0.000    0.000    0.000 {method 'getvalue' of '_io.StringIO' objects}\n",
      "        1    0.000    0.000    0.000    0.000 {method 'initial_metadata' of 'grpc._cython.cygrpc.ReceiveInitialMetadataOperation' objects}\n",
      "        1    0.000    0.000    0.000    0.000 {method 'is_nil' of 'ray._raylet.JobID' objects}\n",
      "        2    0.000    0.000    0.000    0.000 {method 'is_nil' of 'ray._raylet.PlacementGroupID' objects}\n",
      "        9    0.000    0.000    0.000    0.000 {method 'items' of 'dict' objects}\n",
      "        3    0.000    0.000    0.000    0.000 {method 'items' of 'mappingproxy' objects}\n",
      "        5    0.000    0.000    0.000    0.000 {method 'join' of 'bytes' objects}\n",
      "      258    0.000    0.000    0.000    0.000 {method 'join' of 'str' objects}\n",
      "        2    0.000    0.000    0.000    0.000 {method 'keys' of 'dict' objects}\n",
      "      256    0.000    0.000    0.000    0.000 {method 'ljust' of 'str' objects}\n",
      "        1    0.000    0.000    0.000    0.000 {method 'message' of 'grpc._cython.cygrpc.ReceiveMessageOperation' objects}\n",
      "        1    0.003    0.003    0.003    0.003 {method 'next_event' of 'grpc._cython.cygrpc.SegregatedCall' objects}\n",
      "       12    0.000    0.000    0.000    0.000 {method 'pop' of 'dict' objects}\n",
      "        6    0.000    0.000    0.000    0.000 {method 'pop' of 'list' objects}\n",
      "        2    0.000    0.000    0.000    0.000 {method 'recv_into' of '_socket.socket' objects}\n",
      "        1    0.000    0.000    0.000    0.000 {method 'release' of '_thread.RLock' objects}\n",
      "        7    0.000    0.000    0.000    0.000 {method 'remove' of 'set' objects}\n",
      "        1    0.000    0.000    0.000    0.000 {method 'remove_actor_handle_reference' of 'ray._raylet.CoreWorker' objects}\n",
      "      440    0.000    0.000    0.000    0.000 {method 'rjust' of 'str' objects}\n",
      "       57    0.000    0.000    0.000    0.000 {method 'rsplit' of 'str' objects}\n",
      "      256    0.000    0.000    0.000    0.000 {method 'rstrip' of 'str' objects}\n",
      "        1    0.000    0.000    0.000    0.000 {method 'segregated_call' of 'grpc._cython.cygrpc.Channel' objects}\n",
      "        1    0.000    0.000    0.000    0.000 {method 'sendall' of '_socket.socket' objects}\n",
      "        6    0.000    0.000    0.000    0.000 {method 'setdefault' of 'dict' objects}\n",
      "        2    0.000    0.000    0.000    0.000 {method 'settimeout' of '_socket.socket' objects}\n",
      "        1    0.000    0.000    0.000    0.000 {method 'should_capture_child_tasks_in_placement_group' of 'ray._raylet.CoreWorker' objects}\n",
      "        1    0.000    0.000    0.000    0.000 {method 'sort' of 'list' objects}\n",
      "       11    0.000    0.000    0.000    0.000 {method 'split' of 'bytes' objects}\n",
      "      174    0.000    0.000    0.000    0.000 {method 'split' of 'str' objects}\n",
      "     1599    0.000    0.000    0.000    0.000 {method 'startswith' of 'str' objects}\n",
      "        5    0.000    0.000    0.000    0.000 {method 'submit_actor_task' of 'ray._raylet.CoreWorker' objects}\n",
      "        1    0.000    0.000    0.000    0.000 {method 'trailing_metadata' of 'grpc._cython.cygrpc.ReceiveStatusOnClientOperation' objects}\n",
      "        1    0.000    0.000    0.000    0.000 {method 'type' of 'grpc._cython.cygrpc.ReceiveInitialMetadataOperation' objects}\n",
      "        1    0.000    0.000    0.000    0.000 {method 'type' of 'grpc._cython.cygrpc.ReceiveMessageOperation' objects}\n",
      "        1    0.000    0.000    0.000    0.000 {method 'type' of 'grpc._cython.cygrpc.ReceiveStatusOnClientOperation' objects}\n",
      "        1    0.000    0.000    0.000    0.000 {method 'type' of 'grpc._cython.cygrpc.SendCloseFromClientOperation' objects}\n",
      "        1    0.000    0.000    0.000    0.000 {method 'type' of 'grpc._cython.cygrpc.SendInitialMetadataOperation' objects}\n",
      "        1    0.000    0.000    0.000    0.000 {method 'type' of 'grpc._cython.cygrpc.SendMessageOperation' objects}\n",
      "        2    0.000    0.000    0.000    0.000 {method 'update' of 'dict' objects}\n",
      "        4    0.000    0.000    0.000    0.000 {method 'upper' of 'str' objects}\n",
      "       12    0.000    0.000    0.000    0.000 {method 'values' of 'dict' objects}\n",
      "        9    0.000    0.000    0.000    0.000 {method 'values' of 'mappingproxy' objects}\n",
      "        5    0.000    0.000    0.000    0.000 {ray._raylet.split_buffer}\n",
      "\n",
      "\n"
     ]
    }
   ],
   "source": [
    "# Our actor\n",
    "@ray.remote\n",
    "class Sleeper(object):\n",
    "    def __init__(self):\n",
    "        self.sleepValue = 0.5\n",
    "\n",
    "    # Equivalent to func(), but defined within an actor\n",
    "    def actor_func(self):\n",
    "        time.sleep(self.sleepValue)\n",
    "        \n",
    "def ex4():\n",
    "    # This is suboptimal in Ray, and should only be used for the sake of this example\n",
    "    actor_example = Sleeper.remote()\n",
    "\n",
    "    five_results = []\n",
    "    for i in range(5):\n",
    "        five_results.append(actor_example.actor_func.remote())\n",
    "\n",
    "    # Wait until the end to call ray.get()\n",
    "    ray.get(five_results)\n",
    "    \n",
    "def main():\n",
    "    ray.init(ignore_reinit_error=True)\n",
    "    cProfile.run('ex4()')\n",
    "\n",
    "if __name__ == \"__main__\":\n",
    "    main()"
   ]
  },
  {
   "cell_type": "markdown",
   "id": "5d0a0c47",
   "metadata": {},
   "source": [
    "Fault tolerance"
   ]
  },
  {
   "cell_type": "code",
   "execution_count": 100,
   "id": "21515662",
   "metadata": {},
   "outputs": [
    {
     "name": "stderr",
     "output_type": "stream",
     "text": [
      "2021-12-05 18:21:54,002\tINFO worker.py:852 -- Calling ray.init() again after it has already been called.\n"
     ]
    },
    {
     "name": "stdout",
     "output_type": "stream",
     "text": [
      "SUCCESS\n",
      "SUCCESS\n",
      "SUCCESS\n"
     ]
    }
   ],
   "source": [
    "import numpy as np\n",
    "import os\n",
    "import ray\n",
    "import time\n",
    "\n",
    "ray.init(ignore_reinit_error=True)\n",
    "\n",
    "@ray.remote(max_retries=1)\n",
    "def potentially_fail(failure_probability):\n",
    "    time.sleep(0.2)\n",
    "    if np.random.random() < failure_probability:\n",
    "        os._exit(0)\n",
    "    return 0\n",
    "\n",
    "for _ in range(3):\n",
    "    try:\n",
    "        # If this task crashes, Ray will retry it up to one additional\n",
    "        # time. If either of the attempts succeeds, the call to ray.get\n",
    "        # below will return normally. Otherwise, it will raise an\n",
    "        # exception.\n",
    "        ray.get(potentially_fail.remote(0.5))\n",
    "        print('SUCCESS')\n",
    "    except ray.exceptions.WorkerCrashedError:\n",
    "        print('FAILURE')"
   ]
  },
  {
   "cell_type": "code",
   "execution_count": 101,
   "id": "e479f0e2",
   "metadata": {},
   "outputs": [
    {
     "name": "stderr",
     "output_type": "stream",
     "text": [
      "2021-12-05 18:22:17,451\tINFO worker.py:852 -- Calling ray.init() again after it has already been called.\n"
     ]
    },
    {
     "name": "stdout",
     "output_type": "stream",
     "text": [
      "1\n",
      "2\n",
      "3\n",
      "4\n",
      "5\n",
      "6\n",
      "7\n",
      "8\n",
      "9\n",
      "FAILURE\n",
      "1\n",
      "2\n",
      "3\n",
      "4\n",
      "5\n",
      "6\n",
      "7\n",
      "8\n",
      "9\n",
      "FAILURE\n",
      "1\n",
      "2\n",
      "3\n",
      "4\n",
      "5\n",
      "6\n",
      "7\n",
      "8\n",
      "9\n",
      "FAILURE\n",
      "1\n",
      "2\n",
      "3\n",
      "4\n",
      "5\n",
      "6\n",
      "7\n",
      "8\n",
      "9\n",
      "FAILURE\n",
      "1\n",
      "2\n",
      "3\n",
      "4\n",
      "5\n",
      "6\n",
      "7\n",
      "8\n",
      "9\n",
      "FAILURE\n",
      "1\n",
      "2\n",
      "3\n",
      "4\n",
      "5\n",
      "6\n",
      "7\n",
      "8\n",
      "9\n",
      "FAILURE\n",
      "FAILURE\n",
      "FAILURE\n",
      "FAILURE\n",
      "FAILURE\n",
      "FAILURE\n",
      "FAILURE\n",
      "FAILURE\n",
      "FAILURE\n",
      "FAILURE\n",
      "FAILURE\n",
      "FAILURE\n",
      "FAILURE\n",
      "FAILURE\n",
      "FAILURE\n",
      "FAILURE\n",
      "FAILURE\n",
      "FAILURE\n",
      "FAILURE\n",
      "FAILURE\n",
      "FAILURE\n",
      "FAILURE\n",
      "FAILURE\n",
      "FAILURE\n",
      "FAILURE\n",
      "FAILURE\n",
      "FAILURE\n",
      "FAILURE\n",
      "FAILURE\n",
      "FAILURE\n",
      "FAILURE\n",
      "FAILURE\n",
      "FAILURE\n",
      "FAILURE\n",
      "FAILURE\n",
      "FAILURE\n",
      "FAILURE\n",
      "FAILURE\n",
      "FAILURE\n",
      "FAILURE\n",
      "FAILURE\n"
     ]
    }
   ],
   "source": [
    "import os\n",
    "import ray\n",
    "import time\n",
    "\n",
    "ray.init(ignore_reinit_error=True)\n",
    "\n",
    "@ray.remote(max_restarts=5)\n",
    "class Actor:\n",
    "    def __init__(self):\n",
    "        self.counter = 0\n",
    "\n",
    "    def increment_and_possibly_fail(self):\n",
    "        self.counter += 1\n",
    "        time.sleep(0.2)\n",
    "        if self.counter == 10:\n",
    "            os._exit(0)\n",
    "        return self.counter\n",
    "\n",
    "actor = Actor.remote()\n",
    "\n",
    "# The actor will be restarted up to 5 times. After that, methods will\n",
    "# always raise a `RayActorError` exception. The actor is restarted by\n",
    "# rerunning its constructor. Methods that were sent or executing when the\n",
    "# actor died will also raise a `RayActorError` exception.\n",
    "for _ in range(100):\n",
    "    try:\n",
    "        counter = ray.get(actor.increment_and_possibly_fail.remote())\n",
    "        print(counter)\n",
    "    except ray.exceptions.RayActorError:\n",
    "        print('FAILURE')"
   ]
  },
  {
   "cell_type": "code",
   "execution_count": 103,
   "id": "7d8cfb84",
   "metadata": {},
   "outputs": [
    {
     "name": "stderr",
     "output_type": "stream",
     "text": [
      "2021-12-05 18:22:47,801\tINFO worker.py:852 -- Calling ray.init() again after it has already been called.\n"
     ]
    },
    {
     "name": "stdout",
     "output_type": "stream",
     "text": [
      "1\n",
      "2\n",
      "3\n",
      "4\n",
      "5\n",
      "6\n",
      "7\n",
      "8\n",
      "9\n",
      "10\n",
      "1\n",
      "2\n",
      "3\n",
      "4\n",
      "5\n",
      "6\n",
      "7\n",
      "8\n",
      "9\n",
      "10\n",
      "1\n",
      "2\n",
      "3\n",
      "4\n",
      "5\n",
      "6\n",
      "7\n",
      "8\n",
      "9\n",
      "10\n",
      "1\n",
      "2\n",
      "3\n",
      "4\n",
      "5\n",
      "6\n",
      "7\n",
      "8\n",
      "9\n",
      "10\n",
      "1\n",
      "2\n",
      "3\n",
      "4\n",
      "5\n",
      "6\n",
      "7\n",
      "8\n",
      "9\n",
      "10\n",
      "1\n",
      "2\n",
      "3\n",
      "4\n",
      "5\n",
      "6\n",
      "7\n",
      "8\n",
      "9\n",
      "10\n"
     ]
    }
   ],
   "source": [
    "import os\n",
    "import ray\n",
    "\n",
    "ray.init(ignore_reinit_error=True)\n",
    "\n",
    "@ray.remote(max_restarts=5, max_task_retries=-1)\n",
    "class Actor:\n",
    "    def __init__(self):\n",
    "        self.counter = 0\n",
    "\n",
    "    def increment_and_possibly_fail(self):\n",
    "        # Exit after every 10 tasks.\n",
    "        if self.counter == 10:\n",
    "            os._exit(0)\n",
    "        self.counter += 1\n",
    "        return self.counter\n",
    "\n",
    "actor = Actor.remote()\n",
    "\n",
    "# The actor will be reconstructed up to 5 times. The actor is\n",
    "# reconstructed by rerunning its constructor. Methods that were\n",
    "# executing when the actor died will be retried and will not\n",
    "# raise a `RayActorError`. Retried methods may execute twice, once\n",
    "# on the failed actor and a second time on the restarted actor.\n",
    "for _ in range(50):\n",
    "    counter = ray.get(actor.increment_and_possibly_fail.remote())\n",
    "    print(counter)  # Prints the sequence 1-10 5 times.\n",
    "\n",
    "# After the actor has been restarted 5 times, all subsequent methods will\n",
    "# raise a `RayActorError`.\n",
    "for _ in range(10):\n",
    "    try:\n",
    "        counter = ray.get(actor.increment_and_possibly_fail.remote())\n",
    "        print(counter)  # Unreachable.\n",
    "    except ray.exceptions.RayActorError:\n",
    "        print('FAILURE')  # Prints 10 times."
   ]
  },
  {
   "cell_type": "markdown",
   "id": "2a525648",
   "metadata": {},
   "source": [
    "Job Submission"
   ]
  },
  {
   "cell_type": "code",
   "execution_count": 104,
   "id": "a75eba7d",
   "metadata": {},
   "outputs": [],
   "source": [
    "from ray.dashboard.modules.job.sdk import JobSubmissionClient\n",
    "\n",
    "client = JobSubmissionClient(\"http://127.0.0.1:8265\")"
   ]
  },
  {
   "cell_type": "code",
   "execution_count": 106,
   "id": "cc6d7339",
   "metadata": {},
   "outputs": [
    {
     "ename": "RuntimeError",
     "evalue": "Request failed with status code 404: Job 1 does not exist.",
     "output_type": "error",
     "traceback": [
      "\u001b[1;31m---------------------------------------------------------------------------\u001b[0m",
      "\u001b[1;31mRuntimeError\u001b[0m                              Traceback (most recent call last)",
      "\u001b[1;32m~\\AppData\\Local\\Temp/ipykernel_2912/383212139.py\u001b[0m in \u001b[0;36m<module>\u001b[1;34m\u001b[0m\n\u001b[0;32m     14\u001b[0m \u001b[1;33m\u001b[0m\u001b[0m\n\u001b[0;32m     15\u001b[0m \u001b[1;33m\u001b[0m\u001b[0m\n\u001b[1;32m---> 16\u001b[1;33m \u001b[0mwait_until_finish\u001b[0m\u001b[1;33m(\u001b[0m\u001b[0mjob_id\u001b[0m\u001b[1;33m)\u001b[0m\u001b[1;33m\u001b[0m\u001b[1;33m\u001b[0m\u001b[0m\n\u001b[0m\u001b[0;32m     17\u001b[0m \u001b[0mlogs\u001b[0m \u001b[1;33m=\u001b[0m \u001b[0mclient\u001b[0m\u001b[1;33m.\u001b[0m\u001b[0mget_job_logs\u001b[0m\u001b[1;33m(\u001b[0m\u001b[0mjob_id\u001b[0m\u001b[1;33m)\u001b[0m\u001b[1;33m\u001b[0m\u001b[1;33m\u001b[0m\u001b[0m\n",
      "\u001b[1;32m~\\AppData\\Local\\Temp/ipykernel_2912/383212139.py\u001b[0m in \u001b[0;36mwait_until_finish\u001b[1;34m(job_id)\u001b[0m\n\u001b[0;32m      6\u001b[0m     \u001b[0mtimeout\u001b[0m \u001b[1;33m=\u001b[0m \u001b[1;36m5\u001b[0m\u001b[1;33m\u001b[0m\u001b[1;33m\u001b[0m\u001b[0m\n\u001b[0;32m      7\u001b[0m     \u001b[1;32mwhile\u001b[0m \u001b[0mtime\u001b[0m\u001b[1;33m.\u001b[0m\u001b[0mtime\u001b[0m\u001b[1;33m(\u001b[0m\u001b[1;33m)\u001b[0m \u001b[1;33m-\u001b[0m \u001b[0mstart\u001b[0m \u001b[1;33m<=\u001b[0m \u001b[0mtimeout\u001b[0m\u001b[1;33m:\u001b[0m\u001b[1;33m\u001b[0m\u001b[1;33m\u001b[0m\u001b[0m\n\u001b[1;32m----> 8\u001b[1;33m         \u001b[0mstatus_info\u001b[0m \u001b[1;33m=\u001b[0m \u001b[0mclient\u001b[0m\u001b[1;33m.\u001b[0m\u001b[0mget_job_status\u001b[0m\u001b[1;33m(\u001b[0m\u001b[0mjob_id\u001b[0m\u001b[1;33m)\u001b[0m\u001b[1;33m\u001b[0m\u001b[1;33m\u001b[0m\u001b[0m\n\u001b[0m\u001b[0;32m      9\u001b[0m         \u001b[0mstatus\u001b[0m \u001b[1;33m=\u001b[0m \u001b[0mstatus_info\u001b[0m\u001b[1;33m.\u001b[0m\u001b[0mstatus\u001b[0m\u001b[1;33m\u001b[0m\u001b[1;33m\u001b[0m\u001b[0m\n\u001b[0;32m     10\u001b[0m         \u001b[0mprint\u001b[0m\u001b[1;33m(\u001b[0m\u001b[1;34mf\"status: {status}\"\u001b[0m\u001b[1;33m)\u001b[0m\u001b[1;33m\u001b[0m\u001b[1;33m\u001b[0m\u001b[0m\n",
      "\u001b[1;32mD:\\anaconda3\\envs\\yourenvname\\lib\\site-packages\\ray\\dashboard\\modules\\job\\sdk.py\u001b[0m in \u001b[0;36mget_job_status\u001b[1;34m(self, job_id)\u001b[0m\n\u001b[0;32m    235\u001b[0m                 status=response.status, message=response.message)\n\u001b[0;32m    236\u001b[0m         \u001b[1;32melse\u001b[0m\u001b[1;33m:\u001b[0m\u001b[1;33m\u001b[0m\u001b[1;33m\u001b[0m\u001b[0m\n\u001b[1;32m--> 237\u001b[1;33m             \u001b[0mself\u001b[0m\u001b[1;33m.\u001b[0m\u001b[0m_raise_error\u001b[0m\u001b[1;33m(\u001b[0m\u001b[0mr\u001b[0m\u001b[1;33m)\u001b[0m\u001b[1;33m\u001b[0m\u001b[1;33m\u001b[0m\u001b[0m\n\u001b[0m\u001b[0;32m    238\u001b[0m \u001b[1;33m\u001b[0m\u001b[0m\n\u001b[0;32m    239\u001b[0m     \u001b[1;32mdef\u001b[0m \u001b[0mget_job_logs\u001b[0m\u001b[1;33m(\u001b[0m\u001b[0mself\u001b[0m\u001b[1;33m,\u001b[0m \u001b[0mjob_id\u001b[0m\u001b[1;33m:\u001b[0m \u001b[0mstr\u001b[0m\u001b[1;33m)\u001b[0m \u001b[1;33m->\u001b[0m \u001b[0mstr\u001b[0m\u001b[1;33m:\u001b[0m\u001b[1;33m\u001b[0m\u001b[1;33m\u001b[0m\u001b[0m\n",
      "\u001b[1;32mD:\\anaconda3\\envs\\yourenvname\\lib\\site-packages\\ray\\dashboard\\modules\\job\\sdk.py\u001b[0m in \u001b[0;36m_raise_error\u001b[1;34m(self, r)\u001b[0m\n\u001b[0;32m    107\u001b[0m \u001b[1;33m\u001b[0m\u001b[0m\n\u001b[0;32m    108\u001b[0m     \u001b[1;32mdef\u001b[0m \u001b[0m_raise_error\u001b[0m\u001b[1;33m(\u001b[0m\u001b[0mself\u001b[0m\u001b[1;33m,\u001b[0m \u001b[0mr\u001b[0m\u001b[1;33m:\u001b[0m \u001b[1;34m\"requests.Response\"\u001b[0m\u001b[1;33m)\u001b[0m\u001b[1;33m:\u001b[0m\u001b[1;33m\u001b[0m\u001b[1;33m\u001b[0m\u001b[0m\n\u001b[1;32m--> 109\u001b[1;33m         raise RuntimeError(\n\u001b[0m\u001b[0;32m    110\u001b[0m             f\"Request failed with status code {r.status_code}: {r.text}.\")\n\u001b[0;32m    111\u001b[0m \u001b[1;33m\u001b[0m\u001b[0m\n",
      "\u001b[1;31mRuntimeError\u001b[0m: Request failed with status code 404: Job 1 does not exist."
     ]
    }
   ],
   "source": [
    "from ray.dashboard.modules.job.common import JobStatus, JobStatusInfo\n",
    "\n",
    "job_id = 1\n",
    "def wait_until_finish(job_id):\n",
    "    start = time.time()\n",
    "    timeout = 5\n",
    "    while time.time() - start <= timeout:\n",
    "        status_info = client.get_job_status(job_id)\n",
    "        status = status_info.status\n",
    "        print(f\"status: {status}\")\n",
    "        if status in {JobStatus.SUCCEEDED, JobStatus.STOPPED, JobStatus.FAILED}:\n",
    "            break\n",
    "        time.sleep(1)\n",
    "\n",
    "\n",
    "wait_until_finish(job_id)\n",
    "logs = client.get_job_logs(job_id)"
   ]
  },
  {
   "cell_type": "markdown",
   "id": "b45c2061",
   "metadata": {},
   "source": [
    "Patterns"
   ]
  },
  {
   "cell_type": "code",
   "execution_count": 108,
   "id": "99b3452f",
   "metadata": {},
   "outputs": [
    {
     "name": "stderr",
     "output_type": "stream",
     "text": [
      "2021-12-05 18:29:39,046\tINFO worker.py:852 -- Calling ray.init() again after it has already been called.\n"
     ]
    },
    {
     "name": "stdout",
     "output_type": "stream",
     "text": [
      "['done', 'done', 'done']\n"
     ]
    }
   ],
   "source": [
    "@ray.remote(num_cpus=1)\n",
    "class Worker:\n",
    "    def work(self):\n",
    "        return \"done\"\n",
    "\n",
    "@ray.remote(num_cpus=1)\n",
    "class Supervisor:\n",
    "    def __init__(self):\n",
    "        self.workers = [Worker.remote() for _ in range(3)]\n",
    "    def work(self):\n",
    "        return ray.get([w.work.remote() for w in self.workers])\n",
    "\n",
    "ray.init(ignore_reinit_error=True)\n",
    "sup = Supervisor.remote()\n",
    "print(ray.get(sup.work.remote()))  # outputs ['done', 'done', 'done']"
   ]
  },
  {
   "cell_type": "code",
   "execution_count": 109,
   "id": "772d0f34",
   "metadata": {},
   "outputs": [
    {
     "ename": "KeyboardInterrupt",
     "evalue": "",
     "output_type": "error",
     "traceback": [
      "\u001b[1;31m---------------------------------------------------------------------------\u001b[0m",
      "\u001b[1;31mKeyboardInterrupt\u001b[0m                         Traceback (most recent call last)",
      "\u001b[1;32m~\\AppData\\Local\\Temp/ipykernel_2912/4126877015.py\u001b[0m in \u001b[0;36m<module>\u001b[1;34m\u001b[0m\n\u001b[0;32m      5\u001b[0m \u001b[0mitems\u001b[0m \u001b[1;33m=\u001b[0m \u001b[0mlist\u001b[0m\u001b[1;33m(\u001b[0m\u001b[0mrange\u001b[0m\u001b[1;33m(\u001b[0m\u001b[1;36m100\u001b[0m\u001b[1;33m)\u001b[0m\u001b[1;33m)\u001b[0m\u001b[1;33m\u001b[0m\u001b[1;33m\u001b[0m\u001b[0m\n\u001b[0;32m      6\u001b[0m \u001b[0mmap_func\u001b[0m \u001b[1;33m=\u001b[0m \u001b[1;32mlambda\u001b[0m \u001b[0mi\u001b[0m \u001b[1;33m:\u001b[0m \u001b[0mi\u001b[0m\u001b[1;33m*\u001b[0m\u001b[1;36m2\u001b[0m\u001b[1;33m\u001b[0m\u001b[1;33m\u001b[0m\u001b[0m\n\u001b[1;32m----> 7\u001b[1;33m \u001b[0moutput\u001b[0m \u001b[1;33m=\u001b[0m \u001b[0mray\u001b[0m\u001b[1;33m.\u001b[0m\u001b[0mget\u001b[0m\u001b[1;33m(\u001b[0m\u001b[1;33m[\u001b[0m\u001b[0mmap\u001b[0m\u001b[1;33m.\u001b[0m\u001b[0mremote\u001b[0m\u001b[1;33m(\u001b[0m\u001b[0mi\u001b[0m\u001b[1;33m,\u001b[0m \u001b[0mmap_func\u001b[0m\u001b[1;33m)\u001b[0m \u001b[1;32mfor\u001b[0m \u001b[0mi\u001b[0m \u001b[1;32min\u001b[0m \u001b[0mitems\u001b[0m\u001b[1;33m]\u001b[0m\u001b[1;33m)\u001b[0m\u001b[1;33m\u001b[0m\u001b[1;33m\u001b[0m\u001b[0m\n\u001b[0m\u001b[0;32m      8\u001b[0m \u001b[1;33m\u001b[0m\u001b[0m\n\u001b[0;32m      9\u001b[0m \u001b[1;33m@\u001b[0m\u001b[0mray\u001b[0m\u001b[1;33m.\u001b[0m\u001b[0mremote\u001b[0m\u001b[1;33m\u001b[0m\u001b[1;33m\u001b[0m\u001b[0m\n",
      "\u001b[1;32mD:\\anaconda3\\envs\\yourenvname\\lib\\site-packages\\ray\\_private\\client_mode_hook.py\u001b[0m in \u001b[0;36mwrapper\u001b[1;34m(*args, **kwargs)\u001b[0m\n\u001b[0;32m    103\u001b[0m             \u001b[1;32mif\u001b[0m \u001b[0mfunc\u001b[0m\u001b[1;33m.\u001b[0m\u001b[0m__name__\u001b[0m \u001b[1;33m!=\u001b[0m \u001b[1;34m\"init\"\u001b[0m \u001b[1;32mor\u001b[0m \u001b[0mis_client_mode_enabled_by_default\u001b[0m\u001b[1;33m:\u001b[0m\u001b[1;33m\u001b[0m\u001b[1;33m\u001b[0m\u001b[0m\n\u001b[0;32m    104\u001b[0m                 \u001b[1;32mreturn\u001b[0m \u001b[0mgetattr\u001b[0m\u001b[1;33m(\u001b[0m\u001b[0mray\u001b[0m\u001b[1;33m,\u001b[0m \u001b[0mfunc\u001b[0m\u001b[1;33m.\u001b[0m\u001b[0m__name__\u001b[0m\u001b[1;33m)\u001b[0m\u001b[1;33m(\u001b[0m\u001b[1;33m*\u001b[0m\u001b[0margs\u001b[0m\u001b[1;33m,\u001b[0m \u001b[1;33m**\u001b[0m\u001b[0mkwargs\u001b[0m\u001b[1;33m)\u001b[0m\u001b[1;33m\u001b[0m\u001b[1;33m\u001b[0m\u001b[0m\n\u001b[1;32m--> 105\u001b[1;33m         \u001b[1;32mreturn\u001b[0m \u001b[0mfunc\u001b[0m\u001b[1;33m(\u001b[0m\u001b[1;33m*\u001b[0m\u001b[0margs\u001b[0m\u001b[1;33m,\u001b[0m \u001b[1;33m**\u001b[0m\u001b[0mkwargs\u001b[0m\u001b[1;33m)\u001b[0m\u001b[1;33m\u001b[0m\u001b[1;33m\u001b[0m\u001b[0m\n\u001b[0m\u001b[0;32m    106\u001b[0m \u001b[1;33m\u001b[0m\u001b[0m\n\u001b[0;32m    107\u001b[0m     \u001b[1;32mreturn\u001b[0m \u001b[0mwrapper\u001b[0m\u001b[1;33m\u001b[0m\u001b[1;33m\u001b[0m\u001b[0m\n",
      "\u001b[1;32mD:\\anaconda3\\envs\\yourenvname\\lib\\site-packages\\ray\\worker.py\u001b[0m in \u001b[0;36mget\u001b[1;34m(object_refs, timeout)\u001b[0m\n\u001b[0;32m   1704\u001b[0m \u001b[1;33m\u001b[0m\u001b[0m\n\u001b[0;32m   1705\u001b[0m         \u001b[1;31m# TODO(ujvl): Consider how to allow user to retrieve the ready objects.\u001b[0m\u001b[1;33m\u001b[0m\u001b[1;33m\u001b[0m\u001b[1;33m\u001b[0m\u001b[0m\n\u001b[1;32m-> 1706\u001b[1;33m         values, debugger_breakpoint = worker.get_objects(\n\u001b[0m\u001b[0;32m   1707\u001b[0m             object_refs, timeout=timeout)\n\u001b[0;32m   1708\u001b[0m         \u001b[1;32mfor\u001b[0m \u001b[0mi\u001b[0m\u001b[1;33m,\u001b[0m \u001b[0mvalue\u001b[0m \u001b[1;32min\u001b[0m \u001b[0menumerate\u001b[0m\u001b[1;33m(\u001b[0m\u001b[0mvalues\u001b[0m\u001b[1;33m)\u001b[0m\u001b[1;33m:\u001b[0m\u001b[1;33m\u001b[0m\u001b[1;33m\u001b[0m\u001b[0m\n",
      "\u001b[1;32mD:\\anaconda3\\envs\\yourenvname\\lib\\site-packages\\ray\\worker.py\u001b[0m in \u001b[0;36mget_objects\u001b[1;34m(self, object_refs, timeout)\u001b[0m\n\u001b[0;32m    351\u001b[0m \u001b[1;33m\u001b[0m\u001b[0m\n\u001b[0;32m    352\u001b[0m         \u001b[0mtimeout_ms\u001b[0m \u001b[1;33m=\u001b[0m \u001b[0mint\u001b[0m\u001b[1;33m(\u001b[0m\u001b[0mtimeout\u001b[0m \u001b[1;33m*\u001b[0m \u001b[1;36m1000\u001b[0m\u001b[1;33m)\u001b[0m \u001b[1;32mif\u001b[0m \u001b[0mtimeout\u001b[0m \u001b[1;32melse\u001b[0m \u001b[1;33m-\u001b[0m\u001b[1;36m1\u001b[0m\u001b[1;33m\u001b[0m\u001b[1;33m\u001b[0m\u001b[0m\n\u001b[1;32m--> 353\u001b[1;33m         data_metadata_pairs = self.core_worker.get_objects(\n\u001b[0m\u001b[0;32m    354\u001b[0m             object_refs, self.current_task_id, timeout_ms)\n\u001b[0;32m    355\u001b[0m         \u001b[0mdebugger_breakpoint\u001b[0m \u001b[1;33m=\u001b[0m \u001b[1;34mb\"\"\u001b[0m\u001b[1;33m\u001b[0m\u001b[1;33m\u001b[0m\u001b[0m\n",
      "\u001b[1;32mpython\\ray\\_raylet.pyx\u001b[0m in \u001b[0;36mray._raylet.CoreWorker.get_objects\u001b[1;34m()\u001b[0m\n",
      "\u001b[1;32mpython\\ray\\_raylet.pyx\u001b[0m in \u001b[0;36mray._raylet.check_status\u001b[1;34m()\u001b[0m\n",
      "\u001b[1;31mKeyboardInterrupt\u001b[0m: "
     ]
    }
   ],
   "source": [
    "@ray.remote\n",
    "def map(obj, f):\n",
    "    return f(obj)\n",
    "\n",
    "items = list(range(100))\n",
    "map_func = lambda i : i*2\n",
    "output = ray.get([map.remote(i, map_func) for i in items])\n",
    "\n",
    "@ray.remote\n",
    "def map(obj, f):\n",
    "    return f(obj)\n",
    "@ray.remote\n",
    "def sum_results(*elements):\n",
    "    return np.sum(elements)\n",
    "\n",
    "items = list(range(100))\n",
    "map_func = lambda i : i*2\n",
    "remote_elements = [map.remote(i, map_func) for i in items]\n",
    "\n",
    "# simple reduce\n",
    "remote_final_sum = sum_results.remote(*remote_elements)\n",
    "result = ray.get(remote_final_sum)\n",
    "\n",
    "# tree reduce\n",
    "intermediate_results = [sum_results.remote(\n",
    "    *remote_elements[i * 20: (i + 1) * 20]) for i in range(5)]\n",
    "remote_final_sum = sum_results.remote(*intermediate_results)\n",
    "result = ray.get(remote_final_sum)"
   ]
  },
  {
   "cell_type": "code",
   "execution_count": 110,
   "id": "f2c5d1f9",
   "metadata": {},
   "outputs": [
    {
     "name": "stdout",
     "output_type": "stream",
     "text": [
      "7\n"
     ]
    }
   ],
   "source": [
    "import ray\n",
    "\n",
    "@ray.remote\n",
    "class GlobalVarActor:\n",
    "    def __init__(self):\n",
    "        self.global_v = 3\n",
    "    def set_global_v(self, v):\n",
    "        self.global_v = v\n",
    "    def get_global_v(self):\n",
    "        return self.global_v\n",
    "\n",
    "@ray.remote\n",
    "class A:\n",
    "    def __init__(self, global_v_registry):\n",
    "        self.global_v_registry = global_v_registry\n",
    "    def f(self):\n",
    "        return ray.get(self.global_v_registry.get_global_v.remote()) + 3\n",
    "\n",
    "global_v_registry = GlobalVarActor.remote()\n",
    "actor = A.remote(global_v_registry)\n",
    "ray.get(global_v_registry.set_global_v.remote(4))\n",
    "# This will print 7 correctly.\n",
    "print(ray.get(actor.f.remote()))"
   ]
  }
 ],
 "metadata": {
  "kernelspec": {
   "display_name": "Python 3 (ipykernel)",
   "language": "python",
   "name": "python3"
  },
  "language_info": {
   "codemirror_mode": {
    "name": "ipython",
    "version": 3
   },
   "file_extension": ".py",
   "mimetype": "text/x-python",
   "name": "python",
   "nbconvert_exporter": "python",
   "pygments_lexer": "ipython3",
   "version": "3.8.12"
  }
 },
 "nbformat": 4,
 "nbformat_minor": 5
}
