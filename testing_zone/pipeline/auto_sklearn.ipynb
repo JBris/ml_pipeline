{
 "cells": [
  {
   "cell_type": "markdown",
   "id": "e81d5074",
   "metadata": {},
   "source": [
    "Classification"
   ]
  },
  {
   "cell_type": "code",
   "execution_count": 70,
   "id": "f246f746",
   "metadata": {},
   "outputs": [
    {
     "name": "stdout",
     "output_type": "stream",
     "text": [
      "Collecting matplotlib\n",
      "  Downloading matplotlib-3.5.0-cp38-cp38-manylinux_2_5_x86_64.manylinux1_x86_64.whl (11.3 MB)\n",
      "     |████████████████████████████████| 11.3 MB 3.7 MB/s            \n",
      "\u001b[?25hCollecting cycler>=0.10\n",
      "  Downloading cycler-0.11.0-py3-none-any.whl (6.4 kB)\n",
      "Collecting setuptools-scm>=4\n",
      "  Downloading setuptools_scm-6.3.2-py3-none-any.whl (33 kB)\n",
      "Requirement already satisfied: packaging>=20.0 in /usr/local/lib/python3.8/dist-packages (from matplotlib) (21.2)\n",
      "Collecting fonttools>=4.22.0\n",
      "  Downloading fonttools-4.28.3-py3-none-any.whl (884 kB)\n",
      "     |████████████████████████████████| 884 kB 3.5 MB/s            3.5 MB/s eta 0:00:01\n",
      "\u001b[?25hRequirement already satisfied: numpy>=1.17 in /usr/local/lib/python3.8/dist-packages (from matplotlib) (1.21.4)\n",
      "Requirement already satisfied: pyparsing>=2.2.1 in /usr/local/lib/python3.8/dist-packages (from matplotlib) (2.4.7)\n",
      "Collecting kiwisolver>=1.0.1\n",
      "  Downloading kiwisolver-1.3.2-cp38-cp38-manylinux_2_5_x86_64.manylinux1_x86_64.whl (1.2 MB)\n",
      "     |████████████████████████████████| 1.2 MB 1.0 MB/s            \n",
      "\u001b[?25hRequirement already satisfied: python-dateutil>=2.7 in /usr/local/lib/python3.8/dist-packages (from matplotlib) (2.8.2)\n",
      "Collecting pillow>=6.2.0\n",
      "  Downloading Pillow-8.4.0-cp38-cp38-manylinux_2_17_x86_64.manylinux2014_x86_64.whl (3.1 MB)\n",
      "     |████████████████████████████████| 3.1 MB 5.2 MB/s            �██████▉           | 2.0 MB 5.2 MB/s eta 0:00:01\n",
      "\u001b[?25hRequirement already satisfied: six>=1.5 in /usr/local/lib/python3.8/dist-packages (from python-dateutil>=2.7->matplotlib) (1.16.0)\n",
      "Requirement already satisfied: tomli>=1.0.0 in /usr/local/lib/python3.8/dist-packages (from setuptools-scm>=4->matplotlib) (1.2.2)\n",
      "Requirement already satisfied: setuptools in /usr/local/lib/python3.8/dist-packages (from setuptools-scm>=4->matplotlib) (58.5.3)\n",
      "Installing collected packages: setuptools-scm, pillow, kiwisolver, fonttools, cycler, matplotlib\n",
      "Successfully installed cycler-0.11.0 fonttools-4.28.3 kiwisolver-1.3.2 matplotlib-3.5.0 pillow-8.4.0 setuptools-scm-6.3.2\n",
      "\u001b[33mWARNING: Running pip as the 'root' user can result in broken permissions and conflicting behaviour with the system package manager. It is recommended to use a virtual environment instead: https://pip.pypa.io/warnings/venv\u001b[0m\n"
     ]
    }
   ],
   "source": [
    "! pip install matplotlib"
   ]
  },
  {
   "cell_type": "code",
   "execution_count": 71,
   "id": "34527748",
   "metadata": {},
   "outputs": [],
   "source": [
    "import autosklearn.classification\n",
    "import autosklearn.regression\n",
    "import sklearn.model_selection\n",
    "import sklearn.datasets\n",
    "import sklearn.metrics\n",
    "import matplotlib.pyplot as plt\n",
    "\n",
    "X, y = sklearn.datasets.make_classification(n_samples = 50, n_features = 4)\n",
    "X_train, X_test, y_train, y_test = sklearn.model_selection.train_test_split(X, y, random_state=1)"
   ]
  },
  {
   "cell_type": "code",
   "execution_count": 30,
   "id": "4182b0c4",
   "metadata": {},
   "outputs": [
    {
     "data": {
      "text/plain": [
       "AutoSklearnClassifier(n_jobs=-1, per_run_time_limit=15,\n",
       "                      resampling_strategy_arguments={'train_size ': 0.75},\n",
       "                      time_left_for_this_task=60)"
      ]
     },
     "execution_count": 30,
     "metadata": {},
     "output_type": "execute_result"
    }
   ],
   "source": [
    "automl = autosklearn.classification.AutoSklearnClassifier(\n",
    "    time_left_for_this_task = 60, per_run_time_limit = 15, initial_configurations_via_metalearning = 25, ensemble_size = 50, \n",
    "    resampling_strategy = \"holdout\", resampling_strategy_arguments = {\"train_size \": 0.75}, n_jobs = -1)\n",
    "automl.fit(X_train, y_train)"
   ]
  },
  {
   "cell_type": "code",
   "execution_count": 31,
   "id": "16d3d0e9",
   "metadata": {},
   "outputs": [
    {
     "name": "stdout",
     "output_type": "stream",
     "text": [
      "Accuracy score 0.7692307692307693\n"
     ]
    }
   ],
   "source": [
    "y_hat = automl.predict(X_test)\n",
    "print(\"Accuracy score\", sklearn.metrics.accuracy_score(y_test, y_hat))"
   ]
  },
  {
   "cell_type": "code",
   "execution_count": 32,
   "id": "762822a0",
   "metadata": {},
   "outputs": [
    {
     "name": "stdout",
     "output_type": "stream",
     "text": [
      "          rank  ensemble_weight               type      cost   duration\n",
      "model_id                                                               \n",
      "4            1             0.16      random_forest  0.153846   5.519397\n",
      "7            2             0.30                mlp  0.153846   5.547785\n",
      "8            3             0.10                mlp  0.153846   6.132545\n",
      "3            4             0.12         libsvm_svc  0.230769   3.689941\n",
      "5            5             0.08  gradient_boosting  0.230769   1.521920\n",
      "2            6             0.14      random_forest  0.307692  12.337079\n",
      "6            7             0.10      decision_tree  0.307692   1.947133\n"
     ]
    }
   ],
   "source": [
    "print(automl.leaderboard())"
   ]
  },
  {
   "cell_type": "code",
   "execution_count": 33,
   "id": "23f3c31d",
   "metadata": {},
   "outputs": [
    {
     "name": "stdout",
     "output_type": "stream",
     "text": [
      "[(0.300000, SimpleClassificationPipeline({'balancing:strategy': 'weighting', 'classifier:__choice__': 'mlp', 'data_preprocessor:__choice__': 'feature_type', 'feature_preprocessor:__choice__': 'feature_agglomeration', 'classifier:mlp:activation': 'tanh', 'classifier:mlp:alpha': 0.00021148999718383549, 'classifier:mlp:batch_size': 'auto', 'classifier:mlp:beta_1': 0.9, 'classifier:mlp:beta_2': 0.999, 'classifier:mlp:early_stopping': 'train', 'classifier:mlp:epsilon': 1e-08, 'classifier:mlp:hidden_layer_depth': 3, 'classifier:mlp:learning_rate_init': 0.0007452270241186694, 'classifier:mlp:n_iter_no_change': 32, 'classifier:mlp:num_nodes_per_layer': 113, 'classifier:mlp:shuffle': 'True', 'classifier:mlp:solver': 'adam', 'classifier:mlp:tol': 0.0001, 'data_preprocessor:feature_type:categorical_transformer:categorical_encoding:__choice__': 'one_hot_encoding', 'data_preprocessor:feature_type:categorical_transformer:category_coalescence:__choice__': 'no_coalescense', 'data_preprocessor:feature_type:numerical_transformer:imputation:strategy': 'most_frequent', 'data_preprocessor:feature_type:numerical_transformer:rescaling:__choice__': 'standardize', 'feature_preprocessor:feature_agglomeration:affinity': 'euclidean', 'feature_preprocessor:feature_agglomeration:linkage': 'complete', 'feature_preprocessor:feature_agglomeration:n_clusters': 247, 'feature_preprocessor:feature_agglomeration:pooling_func': 'max'},\n",
      "dataset_properties={\n",
      "  'task': 1,\n",
      "  'sparse': False,\n",
      "  'multilabel': False,\n",
      "  'multiclass': False,\n",
      "  'target_type': 'classification',\n",
      "  'signed': False})),\n",
      "(0.160000, SimpleClassificationPipeline({'balancing:strategy': 'none', 'classifier:__choice__': 'random_forest', 'data_preprocessor:__choice__': 'feature_type', 'feature_preprocessor:__choice__': 'random_trees_embedding', 'classifier:random_forest:bootstrap': 'True', 'classifier:random_forest:criterion': 'entropy', 'classifier:random_forest:max_depth': 'None', 'classifier:random_forest:max_features': 0.5, 'classifier:random_forest:max_leaf_nodes': 'None', 'classifier:random_forest:min_impurity_decrease': 0.0, 'classifier:random_forest:min_samples_leaf': 1, 'classifier:random_forest:min_samples_split': 2, 'classifier:random_forest:min_weight_fraction_leaf': 0.0, 'data_preprocessor:feature_type:categorical_transformer:categorical_encoding:__choice__': 'no_encoding', 'data_preprocessor:feature_type:categorical_transformer:category_coalescence:__choice__': 'no_coalescense', 'data_preprocessor:feature_type:numerical_transformer:imputation:strategy': 'median', 'data_preprocessor:feature_type:numerical_transformer:rescaling:__choice__': 'quantile_transformer', 'feature_preprocessor:random_trees_embedding:bootstrap': 'True', 'feature_preprocessor:random_trees_embedding:max_depth': 5, 'feature_preprocessor:random_trees_embedding:max_leaf_nodes': 'None', 'feature_preprocessor:random_trees_embedding:min_samples_leaf': 1, 'feature_preprocessor:random_trees_embedding:min_samples_split': 2, 'feature_preprocessor:random_trees_embedding:min_weight_fraction_leaf': 1.0, 'feature_preprocessor:random_trees_embedding:n_estimators': 10, 'data_preprocessor:feature_type:numerical_transformer:rescaling:quantile_transformer:n_quantiles': 937, 'data_preprocessor:feature_type:numerical_transformer:rescaling:quantile_transformer:output_distribution': 'uniform'},\n",
      "dataset_properties={\n",
      "  'task': 1,\n",
      "  'sparse': False,\n",
      "  'multilabel': False,\n",
      "  'multiclass': False,\n",
      "  'target_type': 'classification',\n",
      "  'signed': False})),\n",
      "(0.140000, SimpleClassificationPipeline({'balancing:strategy': 'none', 'classifier:__choice__': 'random_forest', 'data_preprocessor:__choice__': 'feature_type', 'feature_preprocessor:__choice__': 'no_preprocessing', 'classifier:random_forest:bootstrap': 'True', 'classifier:random_forest:criterion': 'gini', 'classifier:random_forest:max_depth': 'None', 'classifier:random_forest:max_features': 0.5, 'classifier:random_forest:max_leaf_nodes': 'None', 'classifier:random_forest:min_impurity_decrease': 0.0, 'classifier:random_forest:min_samples_leaf': 1, 'classifier:random_forest:min_samples_split': 2, 'classifier:random_forest:min_weight_fraction_leaf': 0.0, 'data_preprocessor:feature_type:categorical_transformer:categorical_encoding:__choice__': 'one_hot_encoding', 'data_preprocessor:feature_type:categorical_transformer:category_coalescence:__choice__': 'minority_coalescer', 'data_preprocessor:feature_type:numerical_transformer:imputation:strategy': 'mean', 'data_preprocessor:feature_type:numerical_transformer:rescaling:__choice__': 'standardize', 'data_preprocessor:feature_type:categorical_transformer:category_coalescence:minority_coalescer:minimum_fraction': 0.01},\n",
      "dataset_properties={\n",
      "  'task': 1,\n",
      "  'sparse': False,\n",
      "  'multilabel': False,\n",
      "  'multiclass': False,\n",
      "  'target_type': 'classification',\n",
      "  'signed': False})),\n",
      "(0.120000, SimpleClassificationPipeline({'balancing:strategy': 'none', 'classifier:__choice__': 'libsvm_svc', 'data_preprocessor:__choice__': 'feature_type', 'feature_preprocessor:__choice__': 'feature_agglomeration', 'classifier:libsvm_svc:C': 1198.7850746967626, 'classifier:libsvm_svc:gamma': 0.015219182148092949, 'classifier:libsvm_svc:kernel': 'rbf', 'classifier:libsvm_svc:max_iter': -1, 'classifier:libsvm_svc:shrinking': 'True', 'classifier:libsvm_svc:tol': 0.040610448809956276, 'data_preprocessor:feature_type:categorical_transformer:categorical_encoding:__choice__': 'no_encoding', 'data_preprocessor:feature_type:categorical_transformer:category_coalescence:__choice__': 'no_coalescense', 'data_preprocessor:feature_type:numerical_transformer:imputation:strategy': 'median', 'data_preprocessor:feature_type:numerical_transformer:rescaling:__choice__': 'standardize', 'feature_preprocessor:feature_agglomeration:affinity': 'cosine', 'feature_preprocessor:feature_agglomeration:linkage': 'average', 'feature_preprocessor:feature_agglomeration:n_clusters': 242, 'feature_preprocessor:feature_agglomeration:pooling_func': 'median'},\n",
      "dataset_properties={\n",
      "  'task': 1,\n",
      "  'sparse': False,\n",
      "  'multilabel': False,\n",
      "  'multiclass': False,\n",
      "  'target_type': 'classification',\n",
      "  'signed': False})),\n",
      "(0.100000, SimpleClassificationPipeline({'balancing:strategy': 'weighting', 'classifier:__choice__': 'mlp', 'data_preprocessor:__choice__': 'feature_type', 'feature_preprocessor:__choice__': 'fast_ica', 'classifier:mlp:activation': 'relu', 'classifier:mlp:alpha': 0.02847755502162456, 'classifier:mlp:batch_size': 'auto', 'classifier:mlp:beta_1': 0.9, 'classifier:mlp:beta_2': 0.999, 'classifier:mlp:early_stopping': 'train', 'classifier:mlp:epsilon': 1e-08, 'classifier:mlp:hidden_layer_depth': 2, 'classifier:mlp:learning_rate_init': 0.000421568792103947, 'classifier:mlp:n_iter_no_change': 32, 'classifier:mlp:num_nodes_per_layer': 123, 'classifier:mlp:shuffle': 'True', 'classifier:mlp:solver': 'adam', 'classifier:mlp:tol': 0.0001, 'data_preprocessor:feature_type:categorical_transformer:categorical_encoding:__choice__': 'no_encoding', 'data_preprocessor:feature_type:categorical_transformer:category_coalescence:__choice__': 'no_coalescense', 'data_preprocessor:feature_type:numerical_transformer:imputation:strategy': 'median', 'data_preprocessor:feature_type:numerical_transformer:rescaling:__choice__': 'minmax', 'feature_preprocessor:fast_ica:algorithm': 'parallel', 'feature_preprocessor:fast_ica:fun': 'exp', 'feature_preprocessor:fast_ica:whiten': 'False'},\n",
      "dataset_properties={\n",
      "  'task': 1,\n",
      "  'sparse': False,\n",
      "  'multilabel': False,\n",
      "  'multiclass': False,\n",
      "  'target_type': 'classification',\n",
      "  'signed': False})),\n",
      "(0.100000, SimpleClassificationPipeline({'balancing:strategy': 'weighting', 'classifier:__choice__': 'decision_tree', 'data_preprocessor:__choice__': 'feature_type', 'feature_preprocessor:__choice__': 'no_preprocessing', 'classifier:decision_tree:criterion': 'gini', 'classifier:decision_tree:max_depth_factor': 1.6785057002915527, 'classifier:decision_tree:max_features': 1.0, 'classifier:decision_tree:max_leaf_nodes': 'None', 'classifier:decision_tree:min_impurity_decrease': 0.0, 'classifier:decision_tree:min_samples_leaf': 4, 'classifier:decision_tree:min_samples_split': 20, 'classifier:decision_tree:min_weight_fraction_leaf': 0.0, 'data_preprocessor:feature_type:categorical_transformer:categorical_encoding:__choice__': 'one_hot_encoding', 'data_preprocessor:feature_type:categorical_transformer:category_coalescence:__choice__': 'no_coalescense', 'data_preprocessor:feature_type:numerical_transformer:imputation:strategy': 'mean', 'data_preprocessor:feature_type:numerical_transformer:rescaling:__choice__': 'normalize'},\n",
      "dataset_properties={\n",
      "  'task': 1,\n",
      "  'sparse': False,\n",
      "  'multilabel': False,\n",
      "  'multiclass': False,\n",
      "  'target_type': 'classification',\n",
      "  'signed': False})),\n",
      "(0.080000, SimpleClassificationPipeline({'balancing:strategy': 'weighting', 'classifier:__choice__': 'gradient_boosting', 'data_preprocessor:__choice__': 'feature_type', 'feature_preprocessor:__choice__': 'feature_agglomeration', 'classifier:gradient_boosting:early_stop': 'off', 'classifier:gradient_boosting:l2_regularization': 4.821686883442146e-05, 'classifier:gradient_boosting:learning_rate': 0.10161621495242192, 'classifier:gradient_boosting:loss': 'auto', 'classifier:gradient_boosting:max_bins': 255, 'classifier:gradient_boosting:max_depth': 'None', 'classifier:gradient_boosting:max_leaf_nodes': 535, 'classifier:gradient_boosting:min_samples_leaf': 10, 'classifier:gradient_boosting:scoring': 'loss', 'classifier:gradient_boosting:tol': 1e-07, 'data_preprocessor:feature_type:categorical_transformer:categorical_encoding:__choice__': 'no_encoding', 'data_preprocessor:feature_type:categorical_transformer:category_coalescence:__choice__': 'no_coalescense', 'data_preprocessor:feature_type:numerical_transformer:imputation:strategy': 'most_frequent', 'data_preprocessor:feature_type:numerical_transformer:rescaling:__choice__': 'quantile_transformer', 'feature_preprocessor:feature_agglomeration:affinity': 'manhattan', 'feature_preprocessor:feature_agglomeration:linkage': 'complete', 'feature_preprocessor:feature_agglomeration:n_clusters': 364, 'feature_preprocessor:feature_agglomeration:pooling_func': 'mean', 'data_preprocessor:feature_type:numerical_transformer:rescaling:quantile_transformer:n_quantiles': 1000, 'data_preprocessor:feature_type:numerical_transformer:rescaling:quantile_transformer:output_distribution': 'uniform'},\n",
      "dataset_properties={\n",
      "  'task': 1,\n",
      "  'sparse': False,\n",
      "  'multilabel': False,\n",
      "  'multiclass': False,\n",
      "  'target_type': 'classification',\n",
      "  'signed': False})),\n",
      "]\n"
     ]
    }
   ],
   "source": [
    "print(automl.show_models())"
   ]
  },
  {
   "cell_type": "markdown",
   "id": "88f543dc",
   "metadata": {},
   "source": [
    "Regression"
   ]
  },
  {
   "cell_type": "code",
   "execution_count": 39,
   "id": "774cdf16",
   "metadata": {},
   "outputs": [],
   "source": [
    "X, y = sklearn.datasets.make_regression(n_samples = 50, n_features = 4)\n",
    "X_train, X_test, y_train, y_test = sklearn.model_selection.train_test_split(X, y, random_state=1)"
   ]
  },
  {
   "cell_type": "code",
   "execution_count": 40,
   "id": "66d42e42",
   "metadata": {},
   "outputs": [
    {
     "data": {
      "text/plain": [
       "AutoSklearnRegressor(n_jobs=-1, per_run_time_limit=15,\n",
       "                     resampling_strategy_arguments={'train_size ': 0.75},\n",
       "                     time_left_for_this_task=60)"
      ]
     },
     "execution_count": 40,
     "metadata": {},
     "output_type": "execute_result"
    }
   ],
   "source": [
    "automl = autosklearn.regression.AutoSklearnRegressor(\n",
    "    time_left_for_this_task = 60, per_run_time_limit = 15, initial_configurations_via_metalearning = 25, ensemble_size = 50, \n",
    "    resampling_strategy = \"holdout\", resampling_strategy_arguments = {\"train_size \": 0.75}, n_jobs = -1)\n",
    "automl.fit(X_train, y_train)"
   ]
  },
  {
   "cell_type": "code",
   "execution_count": 41,
   "id": "710f7c04",
   "metadata": {},
   "outputs": [
    {
     "name": "stdout",
     "output_type": "stream",
     "text": [
      "          rank  ensemble_weight            type          cost  duration\n",
      "model_id                                                               \n",
      "7            1              1.0  ard_regression  4.440892e-16  1.189296\n"
     ]
    }
   ],
   "source": [
    "print(automl.leaderboard())"
   ]
  },
  {
   "cell_type": "code",
   "execution_count": 42,
   "id": "bc1f0bb2",
   "metadata": {},
   "outputs": [
    {
     "name": "stdout",
     "output_type": "stream",
     "text": [
      "          rank  ensemble_weight            type          cost  duration\n",
      "model_id                                                               \n",
      "7            1              1.0  ard_regression  4.440892e-16  1.189296\n"
     ]
    }
   ],
   "source": [
    "print(automl.leaderboard())"
   ]
  },
  {
   "cell_type": "code",
   "execution_count": 43,
   "id": "09a4d330",
   "metadata": {},
   "outputs": [
    {
     "name": "stdout",
     "output_type": "stream",
     "text": [
      "[(1.000000, SimpleRegressionPipeline({'data_preprocessor:__choice__': 'feature_type', 'feature_preprocessor:__choice__': 'polynomial', 'regressor:__choice__': 'ard_regression', 'data_preprocessor:feature_type:categorical_transformer:categorical_encoding:__choice__': 'one_hot_encoding', 'data_preprocessor:feature_type:categorical_transformer:category_coalescence:__choice__': 'no_coalescense', 'data_preprocessor:feature_type:numerical_transformer:imputation:strategy': 'most_frequent', 'data_preprocessor:feature_type:numerical_transformer:rescaling:__choice__': 'standardize', 'feature_preprocessor:polynomial:degree': 2, 'feature_preprocessor:polynomial:include_bias': 'True', 'feature_preprocessor:polynomial:interaction_only': 'False', 'regressor:ard_regression:alpha_1': 0.0003701926442639788, 'regressor:ard_regression:alpha_2': 2.2118001735899097e-07, 'regressor:ard_regression:fit_intercept': 'True', 'regressor:ard_regression:lambda_1': 1.2037591637980971e-06, 'regressor:ard_regression:lambda_2': 4.358378124977852e-09, 'regressor:ard_regression:n_iter': 300, 'regressor:ard_regression:threshold_lambda': 1136.5286041327277, 'regressor:ard_regression:tol': 0.021944240404849075},\n",
      "dataset_properties={\n",
      "  'task': 4,\n",
      "  'sparse': False,\n",
      "  'multioutput': False,\n",
      "  'target_type': 'regression',\n",
      "  'signed': False})),\n",
      "]\n"
     ]
    }
   ],
   "source": [
    "print(automl.show_models())"
   ]
  },
  {
   "cell_type": "code",
   "execution_count": 44,
   "id": "5ab00082",
   "metadata": {},
   "outputs": [
    {
     "name": "stdout",
     "output_type": "stream",
     "text": [
      "Train R2 score: 0.9999999999999991\n",
      "Test R2 score: 0.9999999999999994\n"
     ]
    }
   ],
   "source": [
    "train_predictions = automl.predict(X_train)\n",
    "print(\"Train R2 score:\", sklearn.metrics.r2_score(y_train, train_predictions))\n",
    "test_predictions = automl.predict(X_test)\n",
    "print(\"Test R2 score:\", sklearn.metrics.r2_score(y_test, test_predictions))"
   ]
  },
  {
   "cell_type": "code",
   "execution_count": 45,
   "id": "8a99b381",
   "metadata": {},
   "outputs": [
    {
     "ename": "NameError",
     "evalue": "name 'plt' is not defined",
     "output_type": "error",
     "traceback": [
      "\u001b[0;31m---------------------------------------------------------------------------\u001b[0m",
      "\u001b[0;31mNameError\u001b[0m                                 Traceback (most recent call last)",
      "\u001b[0;32m/tmp/ipykernel_116/4124124705.py\u001b[0m in \u001b[0;36m<module>\u001b[0;34m\u001b[0m\n\u001b[0;32m----> 1\u001b[0;31m \u001b[0mplt\u001b[0m\u001b[0;34m.\u001b[0m\u001b[0mscatter\u001b[0m\u001b[0;34m(\u001b[0m\u001b[0mtrain_predictions\u001b[0m\u001b[0;34m,\u001b[0m \u001b[0my_train\u001b[0m\u001b[0;34m,\u001b[0m \u001b[0mlabel\u001b[0m\u001b[0;34m=\u001b[0m\u001b[0;34m\"Train samples\"\u001b[0m\u001b[0;34m,\u001b[0m \u001b[0mc\u001b[0m\u001b[0;34m=\u001b[0m\u001b[0;34m'#d95f02'\u001b[0m\u001b[0;34m)\u001b[0m\u001b[0;34m\u001b[0m\u001b[0;34m\u001b[0m\u001b[0m\n\u001b[0m\u001b[1;32m      2\u001b[0m \u001b[0mplt\u001b[0m\u001b[0;34m.\u001b[0m\u001b[0mscatter\u001b[0m\u001b[0;34m(\u001b[0m\u001b[0mtest_predictions\u001b[0m\u001b[0;34m,\u001b[0m \u001b[0my_test\u001b[0m\u001b[0;34m,\u001b[0m \u001b[0mlabel\u001b[0m\u001b[0;34m=\u001b[0m\u001b[0;34m\"Test samples\"\u001b[0m\u001b[0;34m,\u001b[0m \u001b[0mc\u001b[0m\u001b[0;34m=\u001b[0m\u001b[0;34m'#7570b3'\u001b[0m\u001b[0;34m)\u001b[0m\u001b[0;34m\u001b[0m\u001b[0;34m\u001b[0m\u001b[0m\n\u001b[1;32m      3\u001b[0m \u001b[0mplt\u001b[0m\u001b[0;34m.\u001b[0m\u001b[0mxlabel\u001b[0m\u001b[0;34m(\u001b[0m\u001b[0;34m\"Predicted value\"\u001b[0m\u001b[0;34m)\u001b[0m\u001b[0;34m\u001b[0m\u001b[0;34m\u001b[0m\u001b[0m\n\u001b[1;32m      4\u001b[0m \u001b[0mplt\u001b[0m\u001b[0;34m.\u001b[0m\u001b[0mylabel\u001b[0m\u001b[0;34m(\u001b[0m\u001b[0;34m\"True value\"\u001b[0m\u001b[0;34m)\u001b[0m\u001b[0;34m\u001b[0m\u001b[0;34m\u001b[0m\u001b[0m\n\u001b[1;32m      5\u001b[0m \u001b[0mplt\u001b[0m\u001b[0;34m.\u001b[0m\u001b[0mlegend\u001b[0m\u001b[0;34m(\u001b[0m\u001b[0;34m)\u001b[0m\u001b[0;34m\u001b[0m\u001b[0;34m\u001b[0m\u001b[0m\n",
      "\u001b[0;31mNameError\u001b[0m: name 'plt' is not defined"
     ]
    }
   ],
   "source": [
    "plt.scatter(train_predictions, y_train, label=\"Train samples\", c='#d95f02')\n",
    "plt.scatter(test_predictions, y_test, label=\"Test samples\", c='#7570b3')\n",
    "plt.xlabel(\"Predicted value\")\n",
    "plt.ylabel(\"True value\")\n",
    "plt.legend()\n",
    "plt.plot([30, 400], [30, 400], c='k', zorder=0)\n",
    "plt.xlim([30, 400])\n",
    "plt.ylim([30, 400])\n",
    "plt.tight_layout()\n",
    "plt.show()"
   ]
  },
  {
   "cell_type": "markdown",
   "id": "7985ba15",
   "metadata": {},
   "source": [
    "Multi-output Regression"
   ]
  },
  {
   "cell_type": "code",
   "execution_count": 47,
   "id": "83fd7888",
   "metadata": {},
   "outputs": [],
   "source": [
    "import numpy as numpy\n",
    "\n",
    "from sklearn.datasets import make_regression\n",
    "from sklearn.metrics import r2_score\n",
    "from sklearn.model_selection import train_test_split\n",
    "\n",
    "from autosklearn.regression import AutoSklearnRegressor"
   ]
  },
  {
   "cell_type": "code",
   "execution_count": 48,
   "id": "e7061712",
   "metadata": {},
   "outputs": [],
   "source": [
    "X, y = make_regression(n_samples=100, n_features=3, n_informative=5, n_targets=3)\n",
    "\n",
    "X_train, X_test, y_train, y_test = train_test_split(X, y, random_state=1)"
   ]
  },
  {
   "cell_type": "code",
   "execution_count": 49,
   "id": "a4e8cd33",
   "metadata": {},
   "outputs": [
    {
     "name": "stdout",
     "output_type": "stream",
     "text": [
      "[WARNING] [2021-12-04 11:50:44,115:Client-AutoMLSMBO(1)::691e097f-54f8-11ec-8074-0242ac110002] Could not find meta-data directory /usr/local/lib/python3.8/dist-packages/autosklearn/metalearning/files/r2_multioutput.regression_dense\n"
     ]
    },
    {
     "data": {
      "text/plain": [
       "AutoSklearnRegressor(n_jobs=-1, per_run_time_limit=15,\n",
       "                     resampling_strategy_arguments={'train_size ': 0.75},\n",
       "                     time_left_for_this_task=60)"
      ]
     },
     "execution_count": 49,
     "metadata": {},
     "output_type": "execute_result"
    }
   ],
   "source": [
    "automl = autosklearn.regression.AutoSklearnRegressor(\n",
    "    time_left_for_this_task = 60, per_run_time_limit = 15, initial_configurations_via_metalearning = 25, ensemble_size = 50, \n",
    "    resampling_strategy = \"holdout\", resampling_strategy_arguments = {\"train_size \": 0.75}, n_jobs = -1)\n",
    "automl.fit(X_train, y_train)"
   ]
  },
  {
   "cell_type": "code",
   "execution_count": 50,
   "id": "98ba8ab2",
   "metadata": {},
   "outputs": [
    {
     "name": "stdout",
     "output_type": "stream",
     "text": [
      "          rank  ensemble_weight              type      cost  duration\n",
      "model_id                                                             \n",
      "10           1              1.0  gaussian_process  0.000252   0.85009\n"
     ]
    }
   ],
   "source": [
    "print(automl.leaderboard())"
   ]
  },
  {
   "cell_type": "code",
   "execution_count": 51,
   "id": "bd38b5f8",
   "metadata": {},
   "outputs": [
    {
     "name": "stdout",
     "output_type": "stream",
     "text": [
      "[(1.000000, SimpleRegressionPipeline({'data_preprocessor:__choice__': 'feature_type', 'feature_preprocessor:__choice__': 'pca', 'regressor:__choice__': 'gaussian_process', 'data_preprocessor:feature_type:categorical_transformer:categorical_encoding:__choice__': 'one_hot_encoding', 'data_preprocessor:feature_type:categorical_transformer:category_coalescence:__choice__': 'minority_coalescer', 'data_preprocessor:feature_type:numerical_transformer:imputation:strategy': 'mean', 'data_preprocessor:feature_type:numerical_transformer:rescaling:__choice__': 'standardize', 'feature_preprocessor:pca:keep_variance': 0.8383155747444035, 'feature_preprocessor:pca:whiten': 'False', 'regressor:gaussian_process:alpha': 0.0010554870012299713, 'regressor:gaussian_process:thetaL': 6.289877951311878e-06, 'regressor:gaussian_process:thetaU': 634.2617702295277, 'data_preprocessor:feature_type:categorical_transformer:category_coalescence:minority_coalescer:minimum_fraction': 0.3420173510738614},\n",
      "dataset_properties={\n",
      "  'task': 5,\n",
      "  'sparse': False,\n",
      "  'multioutput': True,\n",
      "  'target_type': 'regression',\n",
      "  'signed': False})),\n",
      "]\n"
     ]
    }
   ],
   "source": [
    "print(automl.show_models())"
   ]
  },
  {
   "cell_type": "code",
   "execution_count": 52,
   "id": "8c3a17de",
   "metadata": {},
   "outputs": [
    {
     "name": "stdout",
     "output_type": "stream",
     "text": [
      "R2 score: 0.998432687497716\n"
     ]
    }
   ],
   "source": [
    "predictions = automl.predict(X_test)\n",
    "print(\"R2 score:\", r2_score(y_test, predictions))"
   ]
  },
  {
   "cell_type": "code",
   "execution_count": 53,
   "id": "f370fd53",
   "metadata": {},
   "outputs": [
    {
     "name": "stdout",
     "output_type": "stream",
     "text": [
      "Configuration space object:\n",
      "  Hyperparameters:\n",
      "    data_preprocessor:__choice__, Type: Categorical, Choices: {feature_type}, Default: feature_type\n",
      "    data_preprocessor:feature_type:categorical_transformer:categorical_encoding:__choice__, Type: Categorical, Choices: {encoding, no_encoding, one_hot_encoding}, Default: one_hot_encoding\n",
      "    data_preprocessor:feature_type:categorical_transformer:category_coalescence:__choice__, Type: Categorical, Choices: {minority_coalescer, no_coalescense}, Default: minority_coalescer\n",
      "    data_preprocessor:feature_type:categorical_transformer:category_coalescence:minority_coalescer:minimum_fraction, Type: UniformFloat, Range: [0.0001, 0.5], Default: 0.01, on log-scale\n",
      "    data_preprocessor:feature_type:numerical_transformer:imputation:strategy, Type: Categorical, Choices: {mean, median, most_frequent}, Default: mean\n",
      "    data_preprocessor:feature_type:numerical_transformer:rescaling:__choice__, Type: Categorical, Choices: {minmax, none, normalize, power_transformer, quantile_transformer, robust_scaler, standardize}, Default: standardize\n",
      "    data_preprocessor:feature_type:numerical_transformer:rescaling:quantile_transformer:n_quantiles, Type: UniformInteger, Range: [10, 2000], Default: 1000\n",
      "    data_preprocessor:feature_type:numerical_transformer:rescaling:quantile_transformer:output_distribution, Type: Categorical, Choices: {uniform, normal}, Default: uniform\n",
      "    data_preprocessor:feature_type:numerical_transformer:rescaling:robust_scaler:q_max, Type: UniformFloat, Range: [0.7, 0.999], Default: 0.75\n",
      "    data_preprocessor:feature_type:numerical_transformer:rescaling:robust_scaler:q_min, Type: UniformFloat, Range: [0.001, 0.3], Default: 0.25\n",
      "    feature_preprocessor:__choice__, Type: Categorical, Choices: {extra_trees_preproc_for_regression, fast_ica, feature_agglomeration, kernel_pca, kitchen_sinks, no_preprocessing, nystroem_sampler, pca, polynomial, random_trees_embedding}, Default: no_preprocessing\n",
      "    feature_preprocessor:extra_trees_preproc_for_regression:bootstrap, Type: Categorical, Choices: {True, False}, Default: False\n",
      "    feature_preprocessor:extra_trees_preproc_for_regression:criterion, Type: Categorical, Choices: {mse, friedman_mse, mae}, Default: mse\n",
      "    feature_preprocessor:extra_trees_preproc_for_regression:max_depth, Type: Constant, Value: None\n",
      "    feature_preprocessor:extra_trees_preproc_for_regression:max_features, Type: UniformFloat, Range: [0.1, 1.0], Default: 1.0\n",
      "    feature_preprocessor:extra_trees_preproc_for_regression:max_leaf_nodes, Type: Constant, Value: None\n",
      "    feature_preprocessor:extra_trees_preproc_for_regression:min_samples_leaf, Type: UniformInteger, Range: [1, 20], Default: 1\n",
      "    feature_preprocessor:extra_trees_preproc_for_regression:min_samples_split, Type: UniformInteger, Range: [2, 20], Default: 2\n",
      "    feature_preprocessor:extra_trees_preproc_for_regression:min_weight_fraction_leaf, Type: Constant, Value: 0.0\n",
      "    feature_preprocessor:extra_trees_preproc_for_regression:n_estimators, Type: Constant, Value: 100\n",
      "    feature_preprocessor:fast_ica:algorithm, Type: Categorical, Choices: {parallel, deflation}, Default: parallel\n",
      "    feature_preprocessor:fast_ica:fun, Type: Categorical, Choices: {logcosh, exp, cube}, Default: logcosh\n",
      "    feature_preprocessor:fast_ica:n_components, Type: UniformInteger, Range: [10, 2000], Default: 100\n",
      "    feature_preprocessor:fast_ica:whiten, Type: Categorical, Choices: {False, True}, Default: False\n",
      "    feature_preprocessor:feature_agglomeration:affinity, Type: Categorical, Choices: {euclidean, manhattan, cosine}, Default: euclidean\n",
      "    feature_preprocessor:feature_agglomeration:linkage, Type: Categorical, Choices: {ward, complete, average}, Default: ward\n",
      "    feature_preprocessor:feature_agglomeration:n_clusters, Type: UniformInteger, Range: [2, 400], Default: 25\n",
      "    feature_preprocessor:feature_agglomeration:pooling_func, Type: Categorical, Choices: {mean, median, max}, Default: mean\n",
      "    feature_preprocessor:kernel_pca:coef0, Type: UniformFloat, Range: [-1.0, 1.0], Default: 0.0\n",
      "    feature_preprocessor:kernel_pca:degree, Type: UniformInteger, Range: [2, 5], Default: 3\n",
      "    feature_preprocessor:kernel_pca:gamma, Type: UniformFloat, Range: [3.0517578125e-05, 8.0], Default: 0.01, on log-scale\n",
      "    feature_preprocessor:kernel_pca:kernel, Type: Categorical, Choices: {poly, rbf, sigmoid, cosine}, Default: rbf\n",
      "    feature_preprocessor:kernel_pca:n_components, Type: UniformInteger, Range: [10, 2000], Default: 100\n",
      "    feature_preprocessor:kitchen_sinks:gamma, Type: UniformFloat, Range: [3.0517578125e-05, 8.0], Default: 1.0, on log-scale\n",
      "    feature_preprocessor:kitchen_sinks:n_components, Type: UniformInteger, Range: [50, 10000], Default: 100, on log-scale\n",
      "    feature_preprocessor:nystroem_sampler:coef0, Type: UniformFloat, Range: [-1.0, 1.0], Default: 0.0\n",
      "    feature_preprocessor:nystroem_sampler:degree, Type: UniformInteger, Range: [2, 5], Default: 3\n",
      "    feature_preprocessor:nystroem_sampler:gamma, Type: UniformFloat, Range: [3.0517578125e-05, 8.0], Default: 0.1, on log-scale\n",
      "    feature_preprocessor:nystroem_sampler:kernel, Type: Categorical, Choices: {poly, rbf, sigmoid, cosine}, Default: rbf\n",
      "    feature_preprocessor:nystroem_sampler:n_components, Type: UniformInteger, Range: [50, 10000], Default: 100, on log-scale\n",
      "    feature_preprocessor:pca:keep_variance, Type: UniformFloat, Range: [0.5, 0.9999], Default: 0.9999\n",
      "    feature_preprocessor:pca:whiten, Type: Categorical, Choices: {False, True}, Default: False\n",
      "    feature_preprocessor:polynomial:degree, Type: UniformInteger, Range: [2, 3], Default: 2\n",
      "    feature_preprocessor:polynomial:include_bias, Type: Categorical, Choices: {True, False}, Default: True\n",
      "    feature_preprocessor:polynomial:interaction_only, Type: Categorical, Choices: {False, True}, Default: False\n",
      "    feature_preprocessor:random_trees_embedding:bootstrap, Type: Categorical, Choices: {True, False}, Default: True\n",
      "    feature_preprocessor:random_trees_embedding:max_depth, Type: UniformInteger, Range: [2, 10], Default: 5\n",
      "    feature_preprocessor:random_trees_embedding:max_leaf_nodes, Type: Constant, Value: None\n",
      "    feature_preprocessor:random_trees_embedding:min_samples_leaf, Type: UniformInteger, Range: [1, 20], Default: 1\n",
      "    feature_preprocessor:random_trees_embedding:min_samples_split, Type: UniformInteger, Range: [2, 20], Default: 2\n",
      "    feature_preprocessor:random_trees_embedding:min_weight_fraction_leaf, Type: Constant, Value: 1.0\n",
      "    feature_preprocessor:random_trees_embedding:n_estimators, Type: UniformInteger, Range: [10, 100], Default: 10\n",
      "    regressor:__choice__, Type: Categorical, Choices: {decision_tree, extra_trees, gaussian_process, k_nearest_neighbors, random_forest}, Default: random_forest\n",
      "    regressor:decision_tree:criterion, Type: Categorical, Choices: {mse, friedman_mse, mae}, Default: mse\n",
      "    regressor:decision_tree:max_depth_factor, Type: UniformFloat, Range: [0.0, 2.0], Default: 0.5\n",
      "    regressor:decision_tree:max_features, Type: Constant, Value: 1.0\n",
      "    regressor:decision_tree:max_leaf_nodes, Type: Constant, Value: None\n",
      "    regressor:decision_tree:min_impurity_decrease, Type: Constant, Value: 0.0\n",
      "    regressor:decision_tree:min_samples_leaf, Type: UniformInteger, Range: [1, 20], Default: 1\n",
      "    regressor:decision_tree:min_samples_split, Type: UniformInteger, Range: [2, 20], Default: 2\n",
      "    regressor:decision_tree:min_weight_fraction_leaf, Type: Constant, Value: 0.0\n",
      "    regressor:extra_trees:bootstrap, Type: Categorical, Choices: {True, False}, Default: False\n",
      "    regressor:extra_trees:criterion, Type: Categorical, Choices: {mse, friedman_mse, mae}, Default: mse\n",
      "    regressor:extra_trees:max_depth, Type: Constant, Value: None\n",
      "    regressor:extra_trees:max_features, Type: UniformFloat, Range: [0.1, 1.0], Default: 1.0\n",
      "    regressor:extra_trees:max_leaf_nodes, Type: Constant, Value: None\n",
      "    regressor:extra_trees:min_impurity_decrease, Type: Constant, Value: 0.0\n",
      "    regressor:extra_trees:min_samples_leaf, Type: UniformInteger, Range: [1, 20], Default: 1\n",
      "    regressor:extra_trees:min_samples_split, Type: UniformInteger, Range: [2, 20], Default: 2\n",
      "    regressor:extra_trees:min_weight_fraction_leaf, Type: Constant, Value: 0.0\n",
      "    regressor:gaussian_process:alpha, Type: UniformFloat, Range: [1e-14, 1.0], Default: 1e-08, on log-scale\n",
      "    regressor:gaussian_process:thetaL, Type: UniformFloat, Range: [1e-10, 0.001], Default: 1e-06, on log-scale\n",
      "    regressor:gaussian_process:thetaU, Type: UniformFloat, Range: [1.0, 100000.0], Default: 100000.0, on log-scale\n",
      "    regressor:k_nearest_neighbors:n_neighbors, Type: UniformInteger, Range: [1, 100], Default: 1, on log-scale\n",
      "    regressor:k_nearest_neighbors:p, Type: Categorical, Choices: {1, 2}, Default: 2\n",
      "    regressor:k_nearest_neighbors:weights, Type: Categorical, Choices: {uniform, distance}, Default: uniform\n",
      "    regressor:random_forest:bootstrap, Type: Categorical, Choices: {True, False}, Default: True\n",
      "    regressor:random_forest:criterion, Type: Categorical, Choices: {mse, friedman_mse, mae}, Default: mse\n",
      "    regressor:random_forest:max_depth, Type: Constant, Value: None\n",
      "    regressor:random_forest:max_features, Type: UniformFloat, Range: [0.1, 1.0], Default: 1.0\n",
      "    regressor:random_forest:max_leaf_nodes, Type: Constant, Value: None\n",
      "    regressor:random_forest:min_impurity_decrease, Type: Constant, Value: 0.0\n",
      "    regressor:random_forest:min_samples_leaf, Type: UniformInteger, Range: [1, 20], Default: 1\n",
      "    regressor:random_forest:min_samples_split, Type: UniformInteger, Range: [2, 20], Default: 2\n",
      "    regressor:random_forest:min_weight_fraction_leaf, Type: Constant, Value: 0.0\n",
      "  Conditions:\n",
      "    data_preprocessor:feature_type:categorical_transformer:categorical_encoding:__choice__ | data_preprocessor:__choice__ == 'feature_type'\n",
      "    data_preprocessor:feature_type:categorical_transformer:category_coalescence:__choice__ | data_preprocessor:__choice__ == 'feature_type'\n",
      "    data_preprocessor:feature_type:categorical_transformer:category_coalescence:minority_coalescer:minimum_fraction | data_preprocessor:feature_type:categorical_transformer:category_coalescence:__choice__ == 'minority_coalescer'\n",
      "    data_preprocessor:feature_type:numerical_transformer:imputation:strategy | data_preprocessor:__choice__ == 'feature_type'\n",
      "    data_preprocessor:feature_type:numerical_transformer:rescaling:__choice__ | data_preprocessor:__choice__ == 'feature_type'\n",
      "    data_preprocessor:feature_type:numerical_transformer:rescaling:quantile_transformer:n_quantiles | data_preprocessor:feature_type:numerical_transformer:rescaling:__choice__ == 'quantile_transformer'\n",
      "    data_preprocessor:feature_type:numerical_transformer:rescaling:quantile_transformer:output_distribution | data_preprocessor:feature_type:numerical_transformer:rescaling:__choice__ == 'quantile_transformer'\n",
      "    data_preprocessor:feature_type:numerical_transformer:rescaling:robust_scaler:q_max | data_preprocessor:feature_type:numerical_transformer:rescaling:__choice__ == 'robust_scaler'\n",
      "    data_preprocessor:feature_type:numerical_transformer:rescaling:robust_scaler:q_min | data_preprocessor:feature_type:numerical_transformer:rescaling:__choice__ == 'robust_scaler'\n",
      "    feature_preprocessor:extra_trees_preproc_for_regression:bootstrap | feature_preprocessor:__choice__ == 'extra_trees_preproc_for_regression'\n",
      "    feature_preprocessor:extra_trees_preproc_for_regression:criterion | feature_preprocessor:__choice__ == 'extra_trees_preproc_for_regression'\n",
      "    feature_preprocessor:extra_trees_preproc_for_regression:max_depth | feature_preprocessor:__choice__ == 'extra_trees_preproc_for_regression'\n",
      "    feature_preprocessor:extra_trees_preproc_for_regression:max_features | feature_preprocessor:__choice__ == 'extra_trees_preproc_for_regression'\n",
      "    feature_preprocessor:extra_trees_preproc_for_regression:max_leaf_nodes | feature_preprocessor:__choice__ == 'extra_trees_preproc_for_regression'\n",
      "    feature_preprocessor:extra_trees_preproc_for_regression:min_samples_leaf | feature_preprocessor:__choice__ == 'extra_trees_preproc_for_regression'\n",
      "    feature_preprocessor:extra_trees_preproc_for_regression:min_samples_split | feature_preprocessor:__choice__ == 'extra_trees_preproc_for_regression'\n",
      "    feature_preprocessor:extra_trees_preproc_for_regression:min_weight_fraction_leaf | feature_preprocessor:__choice__ == 'extra_trees_preproc_for_regression'\n",
      "    feature_preprocessor:extra_trees_preproc_for_regression:n_estimators | feature_preprocessor:__choice__ == 'extra_trees_preproc_for_regression'\n",
      "    feature_preprocessor:fast_ica:algorithm | feature_preprocessor:__choice__ == 'fast_ica'\n",
      "    feature_preprocessor:fast_ica:fun | feature_preprocessor:__choice__ == 'fast_ica'\n",
      "    feature_preprocessor:fast_ica:n_components | feature_preprocessor:fast_ica:whiten == 'True'\n",
      "    feature_preprocessor:fast_ica:whiten | feature_preprocessor:__choice__ == 'fast_ica'\n",
      "    feature_preprocessor:feature_agglomeration:affinity | feature_preprocessor:__choice__ == 'feature_agglomeration'\n",
      "    feature_preprocessor:feature_agglomeration:linkage | feature_preprocessor:__choice__ == 'feature_agglomeration'\n",
      "    feature_preprocessor:feature_agglomeration:n_clusters | feature_preprocessor:__choice__ == 'feature_agglomeration'\n",
      "    feature_preprocessor:feature_agglomeration:pooling_func | feature_preprocessor:__choice__ == 'feature_agglomeration'\n",
      "    feature_preprocessor:kernel_pca:coef0 | feature_preprocessor:kernel_pca:kernel in {'poly', 'sigmoid'}\n",
      "    feature_preprocessor:kernel_pca:degree | feature_preprocessor:kernel_pca:kernel == 'poly'\n",
      "    feature_preprocessor:kernel_pca:gamma | feature_preprocessor:kernel_pca:kernel in {'poly', 'rbf'}\n",
      "    feature_preprocessor:kernel_pca:kernel | feature_preprocessor:__choice__ == 'kernel_pca'\n",
      "    feature_preprocessor:kernel_pca:n_components | feature_preprocessor:__choice__ == 'kernel_pca'\n",
      "    feature_preprocessor:kitchen_sinks:gamma | feature_preprocessor:__choice__ == 'kitchen_sinks'\n",
      "    feature_preprocessor:kitchen_sinks:n_components | feature_preprocessor:__choice__ == 'kitchen_sinks'\n",
      "    feature_preprocessor:nystroem_sampler:coef0 | feature_preprocessor:nystroem_sampler:kernel in {'poly', 'sigmoid'}\n",
      "    feature_preprocessor:nystroem_sampler:degree | feature_preprocessor:nystroem_sampler:kernel == 'poly'\n",
      "    feature_preprocessor:nystroem_sampler:gamma | feature_preprocessor:nystroem_sampler:kernel in {'poly', 'rbf', 'sigmoid'}\n",
      "    feature_preprocessor:nystroem_sampler:kernel | feature_preprocessor:__choice__ == 'nystroem_sampler'\n",
      "    feature_preprocessor:nystroem_sampler:n_components | feature_preprocessor:__choice__ == 'nystroem_sampler'\n",
      "    feature_preprocessor:pca:keep_variance | feature_preprocessor:__choice__ == 'pca'\n",
      "    feature_preprocessor:pca:whiten | feature_preprocessor:__choice__ == 'pca'\n",
      "    feature_preprocessor:polynomial:degree | feature_preprocessor:__choice__ == 'polynomial'\n",
      "    feature_preprocessor:polynomial:include_bias | feature_preprocessor:__choice__ == 'polynomial'\n",
      "    feature_preprocessor:polynomial:interaction_only | feature_preprocessor:__choice__ == 'polynomial'\n",
      "    feature_preprocessor:random_trees_embedding:bootstrap | feature_preprocessor:__choice__ == 'random_trees_embedding'\n",
      "    feature_preprocessor:random_trees_embedding:max_depth | feature_preprocessor:__choice__ == 'random_trees_embedding'\n",
      "    feature_preprocessor:random_trees_embedding:max_leaf_nodes | feature_preprocessor:__choice__ == 'random_trees_embedding'\n",
      "    feature_preprocessor:random_trees_embedding:min_samples_leaf | feature_preprocessor:__choice__ == 'random_trees_embedding'\n",
      "    feature_preprocessor:random_trees_embedding:min_samples_split | feature_preprocessor:__choice__ == 'random_trees_embedding'\n",
      "    feature_preprocessor:random_trees_embedding:min_weight_fraction_leaf | feature_preprocessor:__choice__ == 'random_trees_embedding'\n",
      "    feature_preprocessor:random_trees_embedding:n_estimators | feature_preprocessor:__choice__ == 'random_trees_embedding'\n",
      "    regressor:decision_tree:criterion | regressor:__choice__ == 'decision_tree'\n",
      "    regressor:decision_tree:max_depth_factor | regressor:__choice__ == 'decision_tree'\n",
      "    regressor:decision_tree:max_features | regressor:__choice__ == 'decision_tree'\n",
      "    regressor:decision_tree:max_leaf_nodes | regressor:__choice__ == 'decision_tree'\n",
      "    regressor:decision_tree:min_impurity_decrease | regressor:__choice__ == 'decision_tree'\n",
      "    regressor:decision_tree:min_samples_leaf | regressor:__choice__ == 'decision_tree'\n",
      "    regressor:decision_tree:min_samples_split | regressor:__choice__ == 'decision_tree'\n",
      "    regressor:decision_tree:min_weight_fraction_leaf | regressor:__choice__ == 'decision_tree'\n",
      "    regressor:extra_trees:bootstrap | regressor:__choice__ == 'extra_trees'\n",
      "    regressor:extra_trees:criterion | regressor:__choice__ == 'extra_trees'\n",
      "    regressor:extra_trees:max_depth | regressor:__choice__ == 'extra_trees'\n",
      "    regressor:extra_trees:max_features | regressor:__choice__ == 'extra_trees'\n",
      "    regressor:extra_trees:max_leaf_nodes | regressor:__choice__ == 'extra_trees'\n",
      "    regressor:extra_trees:min_impurity_decrease | regressor:__choice__ == 'extra_trees'\n",
      "    regressor:extra_trees:min_samples_leaf | regressor:__choice__ == 'extra_trees'\n",
      "    regressor:extra_trees:min_samples_split | regressor:__choice__ == 'extra_trees'\n",
      "    regressor:extra_trees:min_weight_fraction_leaf | regressor:__choice__ == 'extra_trees'\n",
      "    regressor:gaussian_process:alpha | regressor:__choice__ == 'gaussian_process'\n",
      "    regressor:gaussian_process:thetaL | regressor:__choice__ == 'gaussian_process'\n",
      "    regressor:gaussian_process:thetaU | regressor:__choice__ == 'gaussian_process'\n",
      "    regressor:k_nearest_neighbors:n_neighbors | regressor:__choice__ == 'k_nearest_neighbors'\n",
      "    regressor:k_nearest_neighbors:p | regressor:__choice__ == 'k_nearest_neighbors'\n",
      "    regressor:k_nearest_neighbors:weights | regressor:__choice__ == 'k_nearest_neighbors'\n",
      "    regressor:random_forest:bootstrap | regressor:__choice__ == 'random_forest'\n",
      "    regressor:random_forest:criterion | regressor:__choice__ == 'random_forest'\n",
      "    regressor:random_forest:max_depth | regressor:__choice__ == 'random_forest'\n",
      "    regressor:random_forest:max_features | regressor:__choice__ == 'random_forest'\n",
      "    regressor:random_forest:max_leaf_nodes | regressor:__choice__ == 'random_forest'\n",
      "    regressor:random_forest:min_impurity_decrease | regressor:__choice__ == 'random_forest'\n",
      "    regressor:random_forest:min_samples_leaf | regressor:__choice__ == 'random_forest'\n",
      "    regressor:random_forest:min_samples_split | regressor:__choice__ == 'random_forest'\n",
      "    regressor:random_forest:min_weight_fraction_leaf | regressor:__choice__ == 'random_forest'\n",
      "  Forbidden Clauses:\n",
      "    (Forbidden: feature_preprocessor:feature_agglomeration:affinity in {'cosine', 'manhattan'} && Forbidden: feature_preprocessor:feature_agglomeration:linkage == 'ward')\n",
      "    (Forbidden: feature_preprocessor:__choice__ == 'random_trees_embedding' && Forbidden: regressor:__choice__ == 'gaussian_process')\n",
      "    (Forbidden: regressor:__choice__ == 'decision_tree' && Forbidden: feature_preprocessor:__choice__ == 'kitchen_sinks')\n",
      "    (Forbidden: regressor:__choice__ == 'decision_tree' && Forbidden: feature_preprocessor:__choice__ == 'kernel_pca')\n",
      "    (Forbidden: regressor:__choice__ == 'decision_tree' && Forbidden: feature_preprocessor:__choice__ == 'nystroem_sampler')\n",
      "    (Forbidden: regressor:__choice__ == 'extra_trees' && Forbidden: feature_preprocessor:__choice__ == 'kitchen_sinks')\n",
      "    (Forbidden: regressor:__choice__ == 'extra_trees' && Forbidden: feature_preprocessor:__choice__ == 'kernel_pca')\n",
      "    (Forbidden: regressor:__choice__ == 'extra_trees' && Forbidden: feature_preprocessor:__choice__ == 'nystroem_sampler')\n",
      "    (Forbidden: regressor:__choice__ == 'gaussian_process' && Forbidden: feature_preprocessor:__choice__ == 'kitchen_sinks')\n",
      "    (Forbidden: regressor:__choice__ == 'gaussian_process' && Forbidden: feature_preprocessor:__choice__ == 'kernel_pca')\n",
      "    (Forbidden: regressor:__choice__ == 'gaussian_process' && Forbidden: feature_preprocessor:__choice__ == 'nystroem_sampler')\n",
      "    (Forbidden: regressor:__choice__ == 'k_nearest_neighbors' && Forbidden: feature_preprocessor:__choice__ == 'kitchen_sinks')\n",
      "    (Forbidden: regressor:__choice__ == 'k_nearest_neighbors' && Forbidden: feature_preprocessor:__choice__ == 'kernel_pca')\n",
      "    (Forbidden: regressor:__choice__ == 'k_nearest_neighbors' && Forbidden: feature_preprocessor:__choice__ == 'nystroem_sampler')\n",
      "    (Forbidden: regressor:__choice__ == 'random_forest' && Forbidden: feature_preprocessor:__choice__ == 'kitchen_sinks')\n",
      "    (Forbidden: regressor:__choice__ == 'random_forest' && Forbidden: feature_preprocessor:__choice__ == 'kernel_pca')\n",
      "    (Forbidden: regressor:__choice__ == 'random_forest' && Forbidden: feature_preprocessor:__choice__ == 'nystroem_sampler')\n",
      "\n"
     ]
    }
   ],
   "source": [
    "print(automl.get_configuration_space(X_train, y_train))"
   ]
  },
  {
   "cell_type": "markdown",
   "id": "f8a2be55",
   "metadata": {},
   "source": [
    "Interpretable models"
   ]
  },
  {
   "cell_type": "code",
   "execution_count": 56,
   "id": "f0256cbb",
   "metadata": {},
   "outputs": [],
   "source": [
    "X, y = sklearn.datasets.make_classification(n_samples = 50, n_features = 4)\n",
    "X_train, X_test, y_train, y_test = sklearn.model_selection.train_test_split(X, y, random_state=1)"
   ]
  },
  {
   "cell_type": "code",
   "execution_count": 57,
   "id": "6bb37967",
   "metadata": {},
   "outputs": [
    {
     "name": "stdout",
     "output_type": "stream",
     "text": [
      "adaboost\n",
      "bernoulli_nb\n",
      "decision_tree\n",
      "extra_trees\n",
      "gaussian_nb\n",
      "gradient_boosting\n",
      "k_nearest_neighbors\n",
      "lda\n",
      "liblinear_svc\n",
      "libsvm_svc\n",
      "mlp\n",
      "multinomial_nb\n",
      "passive_aggressive\n",
      "qda\n",
      "random_forest\n",
      "sgd\n"
     ]
    }
   ],
   "source": [
    "from autosklearn.pipeline.components.classification import ClassifierChoice\n",
    "\n",
    "for name in ClassifierChoice.get_components():\n",
    "    print(name)"
   ]
  },
  {
   "cell_type": "code",
   "execution_count": 58,
   "id": "8a81481e",
   "metadata": {},
   "outputs": [
    {
     "name": "stdout",
     "output_type": "stream",
     "text": [
      "densifier\n",
      "extra_trees_preproc_for_classification\n",
      "extra_trees_preproc_for_regression\n",
      "fast_ica\n",
      "feature_agglomeration\n",
      "kernel_pca\n",
      "kitchen_sinks\n",
      "liblinear_svc_preprocessor\n",
      "no_preprocessing\n",
      "nystroem_sampler\n",
      "pca\n",
      "polynomial\n",
      "random_trees_embedding\n",
      "select_percentile_classification\n",
      "select_percentile_regression\n",
      "select_rates_classification\n",
      "select_rates_regression\n",
      "truncatedSVD\n"
     ]
    }
   ],
   "source": [
    "from autosklearn.pipeline.components.feature_preprocessing import FeaturePreprocessorChoice\n",
    "\n",
    "for name in FeaturePreprocessorChoice.get_components():\n",
    "    print(name)"
   ]
  },
  {
   "cell_type": "code",
   "execution_count": 59,
   "id": "a206a536",
   "metadata": {},
   "outputs": [
    {
     "name": "stdout",
     "output_type": "stream",
     "text": [
      "[WARNING] [2021-12-04 11:56:29,167:Client-AutoMLSMBO(1)::367d2f4b-54f9-11ec-8074-0242ac110002] Configuration 358 not found\n",
      "[WARNING] [2021-12-04 11:56:29,169:Client-AutoMLSMBO(1)::367d2f4b-54f9-11ec-8074-0242ac110002] Configuration 560 not found\n",
      "[WARNING] [2021-12-04 11:56:29,169:Client-AutoMLSMBO(1)::367d2f4b-54f9-11ec-8074-0242ac110002] Configuration 345 not found\n",
      "[WARNING] [2021-12-04 11:56:29,169:Client-AutoMLSMBO(1)::367d2f4b-54f9-11ec-8074-0242ac110002] Configuration 149 not found\n",
      "[WARNING] [2021-12-04 11:56:29,169:Client-AutoMLSMBO(1)::367d2f4b-54f9-11ec-8074-0242ac110002] Configuration 184 not found\n",
      "[WARNING] [2021-12-04 11:56:29,169:Client-AutoMLSMBO(1)::367d2f4b-54f9-11ec-8074-0242ac110002] Configuration 75 not found\n",
      "[WARNING] [2021-12-04 11:56:29,169:Client-AutoMLSMBO(1)::367d2f4b-54f9-11ec-8074-0242ac110002] Configuration 663 not found\n",
      "[WARNING] [2021-12-04 11:56:29,169:Client-AutoMLSMBO(1)::367d2f4b-54f9-11ec-8074-0242ac110002] Configuration 590 not found\n",
      "[WARNING] [2021-12-04 11:56:29,169:Client-AutoMLSMBO(1)::367d2f4b-54f9-11ec-8074-0242ac110002] Configuration 329 not found\n",
      "[WARNING] [2021-12-04 11:56:29,169:Client-AutoMLSMBO(1)::367d2f4b-54f9-11ec-8074-0242ac110002] Configuration 222 not found\n",
      "[WARNING] [2021-12-04 11:56:29,169:Client-AutoMLSMBO(1)::367d2f4b-54f9-11ec-8074-0242ac110002] Configuration 32 not found\n",
      "[WARNING] [2021-12-04 11:56:29,169:Client-AutoMLSMBO(1)::367d2f4b-54f9-11ec-8074-0242ac110002] Configuration 61 not found\n",
      "[WARNING] [2021-12-04 11:56:29,169:Client-AutoMLSMBO(1)::367d2f4b-54f9-11ec-8074-0242ac110002] Configuration 440 not found\n",
      "[WARNING] [2021-12-04 11:56:29,169:Client-AutoMLSMBO(1)::367d2f4b-54f9-11ec-8074-0242ac110002] Configuration 332 not found\n",
      "[WARNING] [2021-12-04 11:56:29,169:Client-AutoMLSMBO(1)::367d2f4b-54f9-11ec-8074-0242ac110002] Configuration 9 not found\n",
      "[WARNING] [2021-12-04 11:56:29,169:Client-AutoMLSMBO(1)::367d2f4b-54f9-11ec-8074-0242ac110002] Configuration 566 not found\n",
      "[WARNING] [2021-12-04 11:56:29,169:Client-AutoMLSMBO(1)::367d2f4b-54f9-11ec-8074-0242ac110002] Configuration 476 not found\n",
      "[WARNING] [2021-12-04 11:56:29,169:Client-AutoMLSMBO(1)::367d2f4b-54f9-11ec-8074-0242ac110002] Configuration 257 not found\n",
      "[WARNING] [2021-12-04 11:56:29,169:Client-AutoMLSMBO(1)::367d2f4b-54f9-11ec-8074-0242ac110002] Configuration 211 not found\n",
      "[WARNING] [2021-12-04 11:56:29,169:Client-AutoMLSMBO(1)::367d2f4b-54f9-11ec-8074-0242ac110002] Configuration 188 not found\n",
      "[WARNING] [2021-12-04 11:56:29,169:Client-AutoMLSMBO(1)::367d2f4b-54f9-11ec-8074-0242ac110002] Configuration 347 not found\n",
      "[WARNING] [2021-12-04 11:56:29,169:Client-AutoMLSMBO(1)::367d2f4b-54f9-11ec-8074-0242ac110002] Configuration 81 not found\n",
      "[WARNING] [2021-12-04 11:56:29,169:Client-AutoMLSMBO(1)::367d2f4b-54f9-11ec-8074-0242ac110002] Configuration 546 not found\n",
      "[WARNING] [2021-12-04 11:56:29,169:Client-AutoMLSMBO(1)::367d2f4b-54f9-11ec-8074-0242ac110002] Configuration 460 not found\n",
      "[WARNING] [2021-12-04 11:56:29,169:Client-AutoMLSMBO(1)::367d2f4b-54f9-11ec-8074-0242ac110002] Configuration 585 not found\n",
      "[WARNING] [2021-12-04 11:56:29,170:Client-AutoMLSMBO(1)::367d2f4b-54f9-11ec-8074-0242ac110002] Configuration 473 not found\n",
      "[WARNING] [2021-12-04 11:56:29,170:Client-AutoMLSMBO(1)::367d2f4b-54f9-11ec-8074-0242ac110002] Configuration 407 not found\n",
      "[WARNING] [2021-12-04 11:56:29,170:Client-AutoMLSMBO(1)::367d2f4b-54f9-11ec-8074-0242ac110002] Configuration 67 not found\n",
      "[WARNING] [2021-12-04 11:56:29,170:Client-AutoMLSMBO(1)::367d2f4b-54f9-11ec-8074-0242ac110002] Configuration 176 not found\n",
      "[WARNING] [2021-12-04 11:56:29,170:Client-AutoMLSMBO(1)::367d2f4b-54f9-11ec-8074-0242ac110002] Configuration 230 not found\n",
      "[WARNING] [2021-12-04 11:56:29,170:Client-AutoMLSMBO(1)::367d2f4b-54f9-11ec-8074-0242ac110002] Configuration 532 not found\n",
      "[WARNING] [2021-12-04 11:56:29,170:Client-AutoMLSMBO(1)::367d2f4b-54f9-11ec-8074-0242ac110002] Configuration 327 not found\n",
      "[WARNING] [2021-12-04 11:56:29,170:Client-AutoMLSMBO(1)::367d2f4b-54f9-11ec-8074-0242ac110002] Configuration 393 not found\n",
      "[WARNING] [2021-12-04 11:56:29,170:Client-AutoMLSMBO(1)::367d2f4b-54f9-11ec-8074-0242ac110002] Configuration 454 not found\n",
      "[WARNING] [2021-12-04 11:56:29,170:Client-AutoMLSMBO(1)::367d2f4b-54f9-11ec-8074-0242ac110002] Configuration 1 not found\n",
      "[WARNING] [2021-12-04 11:56:29,170:Client-AutoMLSMBO(1)::367d2f4b-54f9-11ec-8074-0242ac110002] Configuration 576 not found\n",
      "[WARNING] [2021-12-04 11:56:29,170:Client-AutoMLSMBO(1)::367d2f4b-54f9-11ec-8074-0242ac110002] Configuration 659 not found\n",
      "[WARNING] [2021-12-04 11:56:29,170:Client-AutoMLSMBO(1)::367d2f4b-54f9-11ec-8074-0242ac110002] Configuration 624 not found\n",
      "[WARNING] [2021-12-04 11:56:29,170:Client-AutoMLSMBO(1)::367d2f4b-54f9-11ec-8074-0242ac110002] Configuration 227 not found\n",
      "[WARNING] [2021-12-04 11:56:29,170:Client-AutoMLSMBO(1)::367d2f4b-54f9-11ec-8074-0242ac110002] Configuration 492 not found\n",
      "[WARNING] [2021-12-04 11:56:29,170:Client-AutoMLSMBO(1)::367d2f4b-54f9-11ec-8074-0242ac110002] Configuration 91 not found\n",
      "[WARNING] [2021-12-04 11:56:29,170:Client-AutoMLSMBO(1)::367d2f4b-54f9-11ec-8074-0242ac110002] Configuration 22 not found\n",
      "[WARNING] [2021-12-04 11:56:29,170:Client-AutoMLSMBO(1)::367d2f4b-54f9-11ec-8074-0242ac110002] Configuration 283 not found\n",
      "[WARNING] [2021-12-04 11:56:29,170:Client-AutoMLSMBO(1)::367d2f4b-54f9-11ec-8074-0242ac110002] Configuration 138 not found\n",
      "[WARNING] [2021-12-04 11:56:29,170:Client-AutoMLSMBO(1)::367d2f4b-54f9-11ec-8074-0242ac110002] Configuration 147 not found\n",
      "[WARNING] [2021-12-04 11:56:29,170:Client-AutoMLSMBO(1)::367d2f4b-54f9-11ec-8074-0242ac110002] Configuration 191 not found\n",
      "[WARNING] [2021-12-04 11:56:29,170:Client-AutoMLSMBO(1)::367d2f4b-54f9-11ec-8074-0242ac110002] Configuration 702 not found\n",
      "[WARNING] [2021-12-04 11:56:29,170:Client-AutoMLSMBO(1)::367d2f4b-54f9-11ec-8074-0242ac110002] Configuration 162 not found\n",
      "[WARNING] [2021-12-04 11:56:29,170:Client-AutoMLSMBO(1)::367d2f4b-54f9-11ec-8074-0242ac110002] Configuration 315 not found\n",
      "[WARNING] [2021-12-04 11:56:29,170:Client-AutoMLSMBO(1)::367d2f4b-54f9-11ec-8074-0242ac110002] Configuration 467 not found\n",
      "[WARNING] [2021-12-04 11:56:29,170:Client-AutoMLSMBO(1)::367d2f4b-54f9-11ec-8074-0242ac110002] Configuration 506 not found\n",
      "[WARNING] [2021-12-04 11:56:29,170:Client-AutoMLSMBO(1)::367d2f4b-54f9-11ec-8074-0242ac110002] Configuration 601 not found\n",
      "[WARNING] [2021-12-04 11:56:29,170:Client-AutoMLSMBO(1)::367d2f4b-54f9-11ec-8074-0242ac110002] Configuration 145 not found\n",
      "[WARNING] [2021-12-04 11:56:29,170:Client-AutoMLSMBO(1)::367d2f4b-54f9-11ec-8074-0242ac110002] Configuration 108 not found\n",
      "[WARNING] [2021-12-04 11:56:29,170:Client-AutoMLSMBO(1)::367d2f4b-54f9-11ec-8074-0242ac110002] Configuration 631 not found\n",
      "[WARNING] [2021-12-04 11:56:29,170:Client-AutoMLSMBO(1)::367d2f4b-54f9-11ec-8074-0242ac110002] Configuration 7 not found\n",
      "[WARNING] [2021-12-04 11:56:29,170:Client-AutoMLSMBO(1)::367d2f4b-54f9-11ec-8074-0242ac110002] Configuration 220 not found\n",
      "[WARNING] [2021-12-04 11:56:29,170:Client-AutoMLSMBO(1)::367d2f4b-54f9-11ec-8074-0242ac110002] Configuration 338 not found\n",
      "[WARNING] [2021-12-04 11:56:29,170:Client-AutoMLSMBO(1)::367d2f4b-54f9-11ec-8074-0242ac110002] Configuration 43 not found\n",
      "[WARNING] [2021-12-04 11:56:29,170:Client-AutoMLSMBO(1)::367d2f4b-54f9-11ec-8074-0242ac110002] Configuration 71 not found\n",
      "[WARNING] [2021-12-04 11:56:29,170:Client-AutoMLSMBO(1)::367d2f4b-54f9-11ec-8074-0242ac110002] Configuration 518 not found\n",
      "[WARNING] [2021-12-04 11:56:29,171:Client-AutoMLSMBO(1)::367d2f4b-54f9-11ec-8074-0242ac110002] Configuration 521 not found\n",
      "[WARNING] [2021-12-04 11:56:29,171:Client-AutoMLSMBO(1)::367d2f4b-54f9-11ec-8074-0242ac110002] Configuration 674 not found\n",
      "[WARNING] [2021-12-04 11:56:29,171:Client-AutoMLSMBO(1)::367d2f4b-54f9-11ec-8074-0242ac110002] Configuration 282 not found\n",
      "[WARNING] [2021-12-04 11:56:29,171:Client-AutoMLSMBO(1)::367d2f4b-54f9-11ec-8074-0242ac110002] Configuration 690 not found\n",
      "[WARNING] [2021-12-04 11:56:29,171:Client-AutoMLSMBO(1)::367d2f4b-54f9-11ec-8074-0242ac110002] Configuration 694 not found\n",
      "[WARNING] [2021-12-04 11:56:29,171:Client-AutoMLSMBO(1)::367d2f4b-54f9-11ec-8074-0242ac110002] Configuration 386 not found\n",
      "[WARNING] [2021-12-04 11:56:29,171:Client-AutoMLSMBO(1)::367d2f4b-54f9-11ec-8074-0242ac110002] Configuration 414 not found\n",
      "[WARNING] [2021-12-04 11:56:29,171:Client-AutoMLSMBO(1)::367d2f4b-54f9-11ec-8074-0242ac110002] Configuration 254 not found\n",
      "[WARNING] [2021-12-04 11:56:29,171:Client-AutoMLSMBO(1)::367d2f4b-54f9-11ec-8074-0242ac110002] Configuration 426 not found\n",
      "[WARNING] [2021-12-04 11:56:29,171:Client-AutoMLSMBO(1)::367d2f4b-54f9-11ec-8074-0242ac110002] Configuration 37 not found\n",
      "[WARNING] [2021-12-04 11:56:29,171:Client-AutoMLSMBO(1)::367d2f4b-54f9-11ec-8074-0242ac110002] Configuration 579 not found\n",
      "[WARNING] [2021-12-04 11:56:29,171:Client-AutoMLSMBO(1)::367d2f4b-54f9-11ec-8074-0242ac110002] Configuration 238 not found\n",
      "[WARNING] [2021-12-04 11:56:29,171:Client-AutoMLSMBO(1)::367d2f4b-54f9-11ec-8074-0242ac110002] Configuration 367 not found\n",
      "[WARNING] [2021-12-04 11:56:29,171:Client-AutoMLSMBO(1)::367d2f4b-54f9-11ec-8074-0242ac110002] Configuration 206 not found\n",
      "[WARNING] [2021-12-04 11:56:29,171:Client-AutoMLSMBO(1)::367d2f4b-54f9-11ec-8074-0242ac110002] Configuration 657 not found\n",
      "[WARNING] [2021-12-04 11:56:29,171:Client-AutoMLSMBO(1)::367d2f4b-54f9-11ec-8074-0242ac110002] Configuration 266 not found\n",
      "[WARNING] [2021-12-04 11:56:29,171:Client-AutoMLSMBO(1)::367d2f4b-54f9-11ec-8074-0242ac110002] Configuration 131 not found\n",
      "[WARNING] [2021-12-04 11:56:29,171:Client-AutoMLSMBO(1)::367d2f4b-54f9-11ec-8074-0242ac110002] Configuration 536 not found\n",
      "[WARNING] [2021-12-04 11:56:29,171:Client-AutoMLSMBO(1)::367d2f4b-54f9-11ec-8074-0242ac110002] Configuration 687 not found\n",
      "[WARNING] [2021-12-04 11:56:29,171:Client-AutoMLSMBO(1)::367d2f4b-54f9-11ec-8074-0242ac110002] Configuration 648 not found\n",
      "[WARNING] [2021-12-04 11:56:29,172:Client-AutoMLSMBO(1)::367d2f4b-54f9-11ec-8074-0242ac110002] Configuration 160 not found\n",
      "[WARNING] [2021-12-04 11:56:29,172:Client-AutoMLSMBO(1)::367d2f4b-54f9-11ec-8074-0242ac110002] Configuration 555 not found\n",
      "[WARNING] [2021-12-04 11:56:29,172:Client-AutoMLSMBO(1)::367d2f4b-54f9-11ec-8074-0242ac110002] Configuration 14 not found\n",
      "[WARNING] [2021-12-04 11:56:29,172:Client-AutoMLSMBO(1)::367d2f4b-54f9-11ec-8074-0242ac110002] Configuration 701 not found\n",
      "[WARNING] [2021-12-04 11:56:29,172:Client-AutoMLSMBO(1)::367d2f4b-54f9-11ec-8074-0242ac110002] Configuration 563 not found\n",
      "[WARNING] [2021-12-04 11:56:29,172:Client-AutoMLSMBO(1)::367d2f4b-54f9-11ec-8074-0242ac110002] Configuration 197 not found\n",
      "[WARNING] [2021-12-04 11:56:29,172:Client-AutoMLSMBO(1)::367d2f4b-54f9-11ec-8074-0242ac110002] Configuration 251 not found\n",
      "[WARNING] [2021-12-04 11:56:29,172:Client-AutoMLSMBO(1)::367d2f4b-54f9-11ec-8074-0242ac110002] Configuration 388 not found\n",
      "[WARNING] [2021-12-04 11:56:29,172:Client-AutoMLSMBO(1)::367d2f4b-54f9-11ec-8074-0242ac110002] Configuration 28 not found\n",
      "[WARNING] [2021-12-04 11:56:29,172:Client-AutoMLSMBO(1)::367d2f4b-54f9-11ec-8074-0242ac110002] Configuration 214 not found\n",
      "[WARNING] [2021-12-04 11:56:29,172:Client-AutoMLSMBO(1)::367d2f4b-54f9-11ec-8074-0242ac110002] Configuration 444 not found\n",
      "[WARNING] [2021-12-04 11:56:29,172:Client-AutoMLSMBO(1)::367d2f4b-54f9-11ec-8074-0242ac110002] Configuration 97 not found\n",
      "[WARNING] [2021-12-04 11:56:29,172:Client-AutoMLSMBO(1)::367d2f4b-54f9-11ec-8074-0242ac110002] Configuration 53 not found\n",
      "[WARNING] [2021-12-04 11:56:29,172:Client-AutoMLSMBO(1)::367d2f4b-54f9-11ec-8074-0242ac110002] Configuration 262 not found\n",
      "[WARNING] [2021-12-04 11:56:29,172:Client-AutoMLSMBO(1)::367d2f4b-54f9-11ec-8074-0242ac110002] Configuration 608 not found\n",
      "[WARNING] [2021-12-04 11:56:29,172:Client-AutoMLSMBO(1)::367d2f4b-54f9-11ec-8074-0242ac110002] Configuration 369 not found\n",
      "[WARNING] [2021-12-04 11:56:29,172:Client-AutoMLSMBO(1)::367d2f4b-54f9-11ec-8074-0242ac110002] Configuration 574 not found\n",
      "[WARNING] [2021-12-04 11:56:29,172:Client-AutoMLSMBO(1)::367d2f4b-54f9-11ec-8074-0242ac110002] Configuration 48 not found\n",
      "[WARNING] [2021-12-04 11:56:29,172:Client-AutoMLSMBO(1)::367d2f4b-54f9-11ec-8074-0242ac110002] Configuration 264 not found\n",
      "[WARNING] [2021-12-04 11:56:29,172:Client-AutoMLSMBO(1)::367d2f4b-54f9-11ec-8074-0242ac110002] Configuration 382 not found\n",
      "[WARNING] [2021-12-04 11:56:29,172:Client-AutoMLSMBO(1)::367d2f4b-54f9-11ec-8074-0242ac110002] Configuration 670 not found\n",
      "[WARNING] [2021-12-04 11:56:29,172:Client-AutoMLSMBO(1)::367d2f4b-54f9-11ec-8074-0242ac110002] Configuration 430 not found\n",
      "[WARNING] [2021-12-04 11:56:29,172:Client-AutoMLSMBO(1)::367d2f4b-54f9-11ec-8074-0242ac110002] Configuration 129 not found\n",
      "[WARNING] [2021-12-04 11:56:29,172:Client-AutoMLSMBO(1)::367d2f4b-54f9-11ec-8074-0242ac110002] Configuration 357 not found\n",
      "[WARNING] [2021-12-04 11:56:29,172:Client-AutoMLSMBO(1)::367d2f4b-54f9-11ec-8074-0242ac110002] Configuration 595 not found\n",
      "[WARNING] [2021-12-04 11:56:29,172:Client-AutoMLSMBO(1)::367d2f4b-54f9-11ec-8074-0242ac110002] Configuration 683 not found\n",
      "[WARNING] [2021-12-04 11:56:29,172:Client-AutoMLSMBO(1)::367d2f4b-54f9-11ec-8074-0242ac110002] Configuration 193 not found\n",
      "[WARNING] [2021-12-04 11:56:29,172:Client-AutoMLSMBO(1)::367d2f4b-54f9-11ec-8074-0242ac110002] Configuration 470 not found\n",
      "[WARNING] [2021-12-04 11:56:29,172:Client-AutoMLSMBO(1)::367d2f4b-54f9-11ec-8074-0242ac110002] Configuration 613 not found\n",
      "[WARNING] [2021-12-04 11:56:29,172:Client-AutoMLSMBO(1)::367d2f4b-54f9-11ec-8074-0242ac110002] Configuration 617 not found\n",
      "[WARNING] [2021-12-04 11:56:29,172:Client-AutoMLSMBO(1)::367d2f4b-54f9-11ec-8074-0242ac110002] Configuration 83 not found\n",
      "[WARNING] [2021-12-04 11:56:29,172:Client-AutoMLSMBO(1)::367d2f4b-54f9-11ec-8074-0242ac110002] Configuration 112 not found\n",
      "[WARNING] [2021-12-04 11:56:29,172:Client-AutoMLSMBO(1)::367d2f4b-54f9-11ec-8074-0242ac110002] Configuration 124 not found\n",
      "[WARNING] [2021-12-04 11:56:29,173:Client-AutoMLSMBO(1)::367d2f4b-54f9-11ec-8074-0242ac110002] Configuration 485 not found\n",
      "[WARNING] [2021-12-04 11:56:29,173:Client-AutoMLSMBO(1)::367d2f4b-54f9-11ec-8074-0242ac110002] Configuration 204 not found\n",
      "[WARNING] [2021-12-04 11:56:29,173:Client-AutoMLSMBO(1)::367d2f4b-54f9-11ec-8074-0242ac110002] Configuration 378 not found\n",
      "[WARNING] [2021-12-04 11:56:29,173:Client-AutoMLSMBO(1)::367d2f4b-54f9-11ec-8074-0242ac110002] Configuration 422 not found\n",
      "[WARNING] [2021-12-04 11:56:29,173:Client-AutoMLSMBO(1)::367d2f4b-54f9-11ec-8074-0242ac110002] Configuration 40 not found\n",
      "[WARNING] [2021-12-04 11:56:29,173:Client-AutoMLSMBO(1)::367d2f4b-54f9-11ec-8074-0242ac110002] Configuration 340 not found\n",
      "[WARNING] [2021-12-04 11:56:29,173:Client-AutoMLSMBO(1)::367d2f4b-54f9-11ec-8074-0242ac110002] Configuration 524 not found\n",
      "[WARNING] [2021-12-04 11:56:29,173:Client-AutoMLSMBO(1)::367d2f4b-54f9-11ec-8074-0242ac110002] Configuration 293 not found\n",
      "[WARNING] [2021-12-04 11:56:29,173:Client-AutoMLSMBO(1)::367d2f4b-54f9-11ec-8074-0242ac110002] Configuration 270 not found\n",
      "[WARNING] [2021-12-04 11:56:29,173:Client-AutoMLSMBO(1)::367d2f4b-54f9-11ec-8074-0242ac110002] Configuration 676 not found\n",
      "[WARNING] [2021-12-04 11:56:29,173:Client-AutoMLSMBO(1)::367d2f4b-54f9-11ec-8074-0242ac110002] Configuration 512 not found\n",
      "[WARNING] [2021-12-04 11:56:29,173:Client-AutoMLSMBO(1)::367d2f4b-54f9-11ec-8074-0242ac110002] Configuration 277 not found\n",
      "[WARNING] [2021-12-04 11:56:29,173:Client-AutoMLSMBO(1)::367d2f4b-54f9-11ec-8074-0242ac110002] Configuration 247 not found\n",
      "[WARNING] [2021-12-04 11:56:29,173:Client-AutoMLSMBO(1)::367d2f4b-54f9-11ec-8074-0242ac110002] Configuration 154 not found\n",
      "[WARNING] [2021-12-04 11:56:29,173:Client-AutoMLSMBO(1)::367d2f4b-54f9-11ec-8074-0242ac110002] Configuration 707 not found\n",
      "[WARNING] [2021-12-04 11:56:29,173:Client-AutoMLSMBO(1)::367d2f4b-54f9-11ec-8074-0242ac110002] Configuration 88 not found\n",
      "[WARNING] [2021-12-04 11:56:29,173:Client-AutoMLSMBO(1)::367d2f4b-54f9-11ec-8074-0242ac110002] Configuration 434 not found\n",
      "[WARNING] [2021-12-04 11:56:29,173:Client-AutoMLSMBO(1)::367d2f4b-54f9-11ec-8074-0242ac110002] Configuration 237 not found\n",
      "[WARNING] [2021-12-04 11:56:29,173:Client-AutoMLSMBO(1)::367d2f4b-54f9-11ec-8074-0242ac110002] Configuration 172 not found\n",
      "[WARNING] [2021-12-04 11:56:29,173:Client-AutoMLSMBO(1)::367d2f4b-54f9-11ec-8074-0242ac110002] Configuration 114 not found\n",
      "[WARNING] [2021-12-04 11:56:29,173:Client-AutoMLSMBO(1)::367d2f4b-54f9-11ec-8074-0242ac110002] Configuration 571 not found\n",
      "[WARNING] [2021-12-04 11:56:29,173:Client-AutoMLSMBO(1)::367d2f4b-54f9-11ec-8074-0242ac110002] Configuration 615 not found\n",
      "[WARNING] [2021-12-04 11:56:29,173:Client-AutoMLSMBO(1)::367d2f4b-54f9-11ec-8074-0242ac110002] Configuration 445 not found\n",
      "[WARNING] [2021-12-04 11:56:29,173:Client-AutoMLSMBO(1)::367d2f4b-54f9-11ec-8074-0242ac110002] Configuration 647 not found\n",
      "[WARNING] [2021-12-04 11:56:29,173:Client-AutoMLSMBO(1)::367d2f4b-54f9-11ec-8074-0242ac110002] Configuration 494 not found\n",
      "[WARNING] [2021-12-04 11:56:29,173:Client-AutoMLSMBO(1)::367d2f4b-54f9-11ec-8074-0242ac110002] Configuration 232 not found\n",
      "[WARNING] [2021-12-04 11:56:29,173:Client-AutoMLSMBO(1)::367d2f4b-54f9-11ec-8074-0242ac110002] Configuration 17 not found\n",
      "[WARNING] [2021-12-04 11:56:29,173:Client-AutoMLSMBO(1)::367d2f4b-54f9-11ec-8074-0242ac110002] Configuration 587 not found\n",
      "[WARNING] [2021-12-04 11:56:29,173:Client-AutoMLSMBO(1)::367d2f4b-54f9-11ec-8074-0242ac110002] Configuration 653 not found\n",
      "[WARNING] [2021-12-04 11:56:29,173:Client-AutoMLSMBO(1)::367d2f4b-54f9-11ec-8074-0242ac110002] Configuration 183 not found\n",
      "[WARNING] [2021-12-04 11:56:29,173:Client-AutoMLSMBO(1)::367d2f4b-54f9-11ec-8074-0242ac110002] Configuration 25 not found\n",
      "[WARNING] [2021-12-04 11:56:29,174:Client-AutoMLSMBO(1)::367d2f4b-54f9-11ec-8074-0242ac110002] Configuration 69 not found\n",
      "[WARNING] [2021-12-04 11:56:29,174:Client-AutoMLSMBO(1)::367d2f4b-54f9-11ec-8074-0242ac110002] Configuration 142 not found\n",
      "[WARNING] [2021-12-04 11:56:29,174:Client-AutoMLSMBO(1)::367d2f4b-54f9-11ec-8074-0242ac110002] Configuration 437 not found\n",
      "[WARNING] [2021-12-04 11:56:29,174:Client-AutoMLSMBO(1)::367d2f4b-54f9-11ec-8074-0242ac110002] Configuration 99 not found\n",
      "[WARNING] [2021-12-04 11:56:29,174:Client-AutoMLSMBO(1)::367d2f4b-54f9-11ec-8074-0242ac110002] Configuration 310 not found\n",
      "[WARNING] [2021-12-04 11:56:29,174:Client-AutoMLSMBO(1)::367d2f4b-54f9-11ec-8074-0242ac110002] Configuration 121 not found\n",
      "[WARNING] [2021-12-04 11:56:29,174:Client-AutoMLSMBO(1)::367d2f4b-54f9-11ec-8074-0242ac110002] Configuration 635 not found\n",
      "[WARNING] [2021-12-04 11:56:29,174:Client-AutoMLSMBO(1)::367d2f4b-54f9-11ec-8074-0242ac110002] Configuration 288 not found\n",
      "[WARNING] [2021-12-04 11:56:29,174:Client-AutoMLSMBO(1)::367d2f4b-54f9-11ec-8074-0242ac110002] Configuration 628 not found\n",
      "[WARNING] [2021-12-04 11:56:29,174:Client-AutoMLSMBO(1)::367d2f4b-54f9-11ec-8074-0242ac110002] Configuration 56 not found\n",
      "[WARNING] [2021-12-04 11:56:29,174:Client-AutoMLSMBO(1)::367d2f4b-54f9-11ec-8074-0242ac110002] Configuration 298 not found\n",
      "[WARNING] [2021-12-04 11:56:29,174:Client-AutoMLSMBO(1)::367d2f4b-54f9-11ec-8074-0242ac110002] Configuration 173 not found\n",
      "[WARNING] [2021-12-04 11:56:29,174:Client-AutoMLSMBO(1)::367d2f4b-54f9-11ec-8074-0242ac110002] Configuration 515 not found\n",
      "[WARNING] [2021-12-04 11:56:29,174:Client-AutoMLSMBO(1)::367d2f4b-54f9-11ec-8074-0242ac110002] Configuration 302 not found\n",
      "[WARNING] [2021-12-04 11:56:29,174:Client-AutoMLSMBO(1)::367d2f4b-54f9-11ec-8074-0242ac110002] Configuration 461 not found\n",
      "[WARNING] [2021-12-04 11:56:29,174:Client-AutoMLSMBO(1)::367d2f4b-54f9-11ec-8074-0242ac110002] Configuration 486 not found\n",
      "[WARNING] [2021-12-04 11:56:29,174:Client-AutoMLSMBO(1)::367d2f4b-54f9-11ec-8074-0242ac110002] Configuration 412 not found\n",
      "[WARNING] [2021-12-04 11:56:29,174:Client-AutoMLSMBO(1)::367d2f4b-54f9-11ec-8074-0242ac110002] Configuration 480 not found\n",
      "[WARNING] [2021-12-04 11:56:29,174:Client-AutoMLSMBO(1)::367d2f4b-54f9-11ec-8074-0242ac110002] Configuration 553 not found\n",
      "[WARNING] [2021-12-04 11:56:29,174:Client-AutoMLSMBO(1)::367d2f4b-54f9-11ec-8074-0242ac110002] Configuration 395 not found\n",
      "[WARNING] [2021-12-04 11:56:29,174:Client-AutoMLSMBO(1)::367d2f4b-54f9-11ec-8074-0242ac110002] Configuration 543 not found\n",
      "[WARNING] [2021-12-04 11:56:29,174:Client-AutoMLSMBO(1)::367d2f4b-54f9-11ec-8074-0242ac110002] Configuration 19 not found\n",
      "[WARNING] [2021-12-04 11:56:29,174:Client-AutoMLSMBO(1)::367d2f4b-54f9-11ec-8074-0242ac110002] Configuration 243 not found\n",
      "[WARNING] [2021-12-04 11:56:29,174:Client-AutoMLSMBO(1)::367d2f4b-54f9-11ec-8074-0242ac110002] Configuration 403 not found\n",
      "[WARNING] [2021-12-04 11:56:29,174:Client-AutoMLSMBO(1)::367d2f4b-54f9-11ec-8074-0242ac110002] Configuration 528 not found\n",
      "[WARNING] [2021-12-04 11:56:29,174:Client-AutoMLSMBO(1)::367d2f4b-54f9-11ec-8074-0242ac110002] Configuration 448 not found\n",
      "[WARNING] [2021-12-04 11:56:29,174:Client-AutoMLSMBO(1)::367d2f4b-54f9-11ec-8074-0242ac110002] Configuration 313 not found\n",
      "[WARNING] [2021-12-04 11:56:29,175:Client-AutoMLSMBO(1)::367d2f4b-54f9-11ec-8074-0242ac110002] Configuration 165 not found\n",
      "[WARNING] [2021-12-04 11:56:29,175:Client-AutoMLSMBO(1)::367d2f4b-54f9-11ec-8074-0242ac110002] Configuration 622 not found\n",
      "[WARNING] [2021-12-04 11:56:29,175:Client-AutoMLSMBO(1)::367d2f4b-54f9-11ec-8074-0242ac110002] Configuration 509 not found\n",
      "[WARNING] [2021-12-04 11:56:29,175:Client-AutoMLSMBO(1)::367d2f4b-54f9-11ec-8074-0242ac110002] Configuration 640 not found\n",
      "[WARNING] [2021-12-04 11:56:29,175:Client-AutoMLSMBO(1)::367d2f4b-54f9-11ec-8074-0242ac110002] Configuration 171 not found\n",
      "[WARNING] [2021-12-04 11:56:29,175:Client-AutoMLSMBO(1)::367d2f4b-54f9-11ec-8074-0242ac110002] Configuration 363 not found\n",
      "[WARNING] [2021-12-04 11:56:29,175:Client-AutoMLSMBO(1)::367d2f4b-54f9-11ec-8074-0242ac110002] Configuration 199 not found\n",
      "[WARNING] [2021-12-04 11:56:29,175:Client-AutoMLSMBO(1)::367d2f4b-54f9-11ec-8074-0242ac110002] Configuration 548 not found\n",
      "[WARNING] [2021-12-04 11:56:29,175:Client-AutoMLSMBO(1)::367d2f4b-54f9-11ec-8074-0242ac110002] Configuration 499 not found\n",
      "[WARNING] [2021-12-04 11:56:29,175:Client-AutoMLSMBO(1)::367d2f4b-54f9-11ec-8074-0242ac110002] Configuration 643 not found\n",
      "[WARNING] [2021-12-04 11:56:29,175:Client-AutoMLSMBO(1)::367d2f4b-54f9-11ec-8074-0242ac110002] Configuration 596 not found\n",
      "[WARNING] [2021-12-04 11:56:29,175:Client-AutoMLSMBO(1)::367d2f4b-54f9-11ec-8074-0242ac110002] Configuration 58 not found\n",
      "[WARNING] [2021-12-04 11:56:29,175:Client-AutoMLSMBO(1)::367d2f4b-54f9-11ec-8074-0242ac110002] Configuration 419 not found\n",
      "[WARNING] [2021-12-04 11:56:29,175:Client-AutoMLSMBO(1)::367d2f4b-54f9-11ec-8074-0242ac110002] Configuration 317 not found\n",
      "[WARNING] [2021-12-04 11:56:29,175:Client-AutoMLSMBO(1)::367d2f4b-54f9-11ec-8074-0242ac110002] Configuration 322 not found\n",
      "[WARNING] [2021-12-04 11:56:29,175:Client-AutoMLSMBO(1)::367d2f4b-54f9-11ec-8074-0242ac110002] Configuration 304 not found\n",
      "[WARNING] [2021-12-04 11:56:29,175:Client-AutoMLSMBO(1)::367d2f4b-54f9-11ec-8074-0242ac110002] Configuration 503 not found\n",
      "[WARNING] [2021-12-04 11:56:29,175:Client-AutoMLSMBO(1)::367d2f4b-54f9-11ec-8074-0242ac110002] Configuration 538 not found\n",
      "[WARNING] [2021-12-04 11:56:29,175:Client-AutoMLSMBO(1)::367d2f4b-54f9-11ec-8074-0242ac110002] Configuration 375 not found\n",
      "[WARNING] [2021-12-04 11:56:29,175:Client-AutoMLSMBO(1)::367d2f4b-54f9-11ec-8074-0242ac110002] Configuration 120 not found\n",
      "[WARNING] [2021-12-04 11:56:29,175:Client-AutoMLSMBO(1)::367d2f4b-54f9-11ec-8074-0242ac110002] Configuration 86 not found\n",
      "[WARNING] [2021-12-04 11:56:29,175:Client-AutoMLSMBO(1)::367d2f4b-54f9-11ec-8074-0242ac110002] Configuration 452 not found\n",
      "[WARNING] [2021-12-04 11:56:29,175:Client-AutoMLSMBO(1)::367d2f4b-54f9-11ec-8074-0242ac110002] Configuration 291 not found\n",
      "[WARNING] [2021-12-04 11:56:29,175:Client-AutoMLSMBO(1)::367d2f4b-54f9-11ec-8074-0242ac110002] Configuration 102 not found\n",
      "[WARNING] [2021-12-04 11:56:29,175:Client-AutoMLSMBO(1)::367d2f4b-54f9-11ec-8074-0242ac110002] Configuration 275 not found\n",
      "[WARNING] [2021-12-04 11:56:29,175:Client-AutoMLSMBO(1)::367d2f4b-54f9-11ec-8074-0242ac110002] Configuration 150 not found\n"
     ]
    },
    {
     "data": {
      "text/plain": [
       "AutoSklearnClassifier(ensemble_size=1,\n",
       "                      include={'classifier': ['decision_tree', 'lda', 'sgd'],\n",
       "                               'feature_preprocessor': ['no_preprocessing',\n",
       "                                                        'polynomial',\n",
       "                                                        'select_percentile_classification']},\n",
       "                      n_jobs=-1, per_run_time_limit=15,\n",
       "                      resampling_strategy_arguments={'train_size ': 0.75},\n",
       "                      time_left_for_this_task=60)"
      ]
     },
     "execution_count": 59,
     "metadata": {},
     "output_type": "execute_result"
    }
   ],
   "source": [
    "automl = autosklearn.classification.AutoSklearnClassifier(\n",
    "    time_left_for_this_task = 60, per_run_time_limit = 15, initial_configurations_via_metalearning = 25, ensemble_size = 1, \n",
    "    resampling_strategy = \"holdout\", resampling_strategy_arguments = {\"train_size \": 0.75}, n_jobs = -1,\n",
    "    include={\n",
    "        'classifier': [\n",
    "            'decision_tree', 'lda', 'sgd'\n",
    "        ],\n",
    "        'feature_preprocessor': [\n",
    "            'no_preprocessing', 'polynomial', 'select_percentile_classification'\n",
    "        ]\n",
    "    })\n",
    "automl.fit(X_train, y_train)"
   ]
  },
  {
   "cell_type": "code",
   "execution_count": 60,
   "id": "8b939e08",
   "metadata": {},
   "outputs": [
    {
     "name": "stdout",
     "output_type": "stream",
     "text": [
      "[(1.000000, SimpleClassificationPipeline({'balancing:strategy': 'weighting', 'classifier:__choice__': 'sgd', 'data_preprocessor:__choice__': 'feature_type', 'feature_preprocessor:__choice__': 'polynomial', 'classifier:sgd:alpha': 0.0018367485569817758, 'classifier:sgd:average': 'True', 'classifier:sgd:fit_intercept': 'True', 'classifier:sgd:learning_rate': 'constant', 'classifier:sgd:loss': 'modified_huber', 'classifier:sgd:penalty': 'l1', 'classifier:sgd:tol': 5.2594585460405347e-05, 'data_preprocessor:feature_type:categorical_transformer:categorical_encoding:__choice__': 'one_hot_encoding', 'data_preprocessor:feature_type:categorical_transformer:category_coalescence:__choice__': 'no_coalescense', 'data_preprocessor:feature_type:numerical_transformer:imputation:strategy': 'most_frequent', 'data_preprocessor:feature_type:numerical_transformer:rescaling:__choice__': 'normalize', 'feature_preprocessor:polynomial:degree': 3, 'feature_preprocessor:polynomial:include_bias': 'True', 'feature_preprocessor:polynomial:interaction_only': 'True', 'classifier:sgd:epsilon': 0.06935467259367672, 'classifier:sgd:eta0': 3.0158489869733344e-07},\n",
      "dataset_properties={\n",
      "  'task': 1,\n",
      "  'sparse': False,\n",
      "  'multilabel': False,\n",
      "  'multiclass': False,\n",
      "  'target_type': 'classification',\n",
      "  'signed': False})),\n",
      "]\n"
     ]
    }
   ],
   "source": [
    "print(automl.show_models())"
   ]
  },
  {
   "cell_type": "code",
   "execution_count": 62,
   "id": "5318170e",
   "metadata": {},
   "outputs": [
    {
     "name": "stdout",
     "output_type": "stream",
     "text": [
      "          rank  ensemble_weight type      cost  duration\n",
      "model_id                                                \n",
      "7            1              1.0  sgd  0.076923  0.927739\n"
     ]
    }
   ],
   "source": [
    "print(automl.leaderboard())"
   ]
  },
  {
   "cell_type": "code",
   "execution_count": 61,
   "id": "55666d4e",
   "metadata": {},
   "outputs": [
    {
     "name": "stdout",
     "output_type": "stream",
     "text": [
      "Accuracy score: 1.0\n"
     ]
    }
   ],
   "source": [
    "predictions = automl.predict(X_test)\n",
    "print(\"Accuracy score:\", sklearn.metrics.accuracy_score(y_test, predictions))"
   ]
  },
  {
   "cell_type": "markdown",
   "id": "3cf1ee48",
   "metadata": {},
   "source": [
    "Model Explanation"
   ]
  },
  {
   "cell_type": "code",
   "execution_count": 64,
   "id": "5a6ef62e",
   "metadata": {},
   "outputs": [],
   "source": [
    "import sklearn.datasets\n",
    "from sklearn.inspection import plot_partial_dependence, permutation_importance\n",
    "import autosklearn.classification"
   ]
  },
  {
   "cell_type": "code",
   "execution_count": 66,
   "id": "b3ef0a31",
   "metadata": {},
   "outputs": [],
   "source": [
    "dataset = sklearn.datasets.fetch_openml(data_id=40922)\n",
    "\n",
    "# Note: To speed up the example, we subsample the dataset\n",
    "dataset.data = dataset.data.sample(n=100, random_state=1, axis=\"index\")\n",
    "dataset.target = dataset.target[dataset.data.index]\n",
    "\n",
    "X_train, X_test, y_train, y_test = sklearn.model_selection.train_test_split(\n",
    "    dataset.data, dataset.target, test_size=0.3, random_state=1\n",
    ")"
   ]
  },
  {
   "cell_type": "code",
   "execution_count": 67,
   "id": "9e824a77",
   "metadata": {},
   "outputs": [
    {
     "name": "stdout",
     "output_type": "stream",
     "text": [
      "Train score 1.0\n",
      "Test score 0.7666666666666667\n"
     ]
    }
   ],
   "source": [
    "automl = autosklearn.classification.AutoSklearnClassifier(\n",
    "    time_left_for_this_task = 60, per_run_time_limit = 15, initial_configurations_via_metalearning = 25, ensemble_size = 50, \n",
    "    resampling_strategy = \"holdout\", resampling_strategy_arguments = {\"train_size \": 0.75}, n_jobs = -1)\n",
    "automl.fit(X_train, y_train)\n",
    "\n",
    "s = automl.score(X_train, y_train)\n",
    "print(f\"Train score {s}\")\n",
    "s = automl.score(X_test, y_test)\n",
    "print(f\"Test score {s}\")"
   ]
  },
  {
   "cell_type": "code",
   "execution_count": 74,
   "id": "dcd51b3a",
   "metadata": {},
   "outputs": [
    {
     "ename": "ValueError",
     "evalue": "X has 4 features, but ColumnTransformer is expecting 6 features as input.",
     "output_type": "error",
     "traceback": [
      "\u001b[0;31m---------------------------------------------------------------------------\u001b[0m",
      "\u001b[0;31mValueError\u001b[0m                                Traceback (most recent call last)",
      "\u001b[0;32m/tmp/ipykernel_116/281339870.py\u001b[0m in \u001b[0;36m<module>\u001b[0;34m\u001b[0m\n\u001b[0;32m----> 1\u001b[0;31m \u001b[0mr\u001b[0m \u001b[0;34m=\u001b[0m \u001b[0mpermutation_importance\u001b[0m\u001b[0;34m(\u001b[0m\u001b[0mautoml\u001b[0m\u001b[0;34m,\u001b[0m \u001b[0mX_test\u001b[0m\u001b[0;34m,\u001b[0m \u001b[0my_test\u001b[0m\u001b[0;34m,\u001b[0m \u001b[0mn_repeats\u001b[0m\u001b[0;34m=\u001b[0m\u001b[0;36m10\u001b[0m\u001b[0;34m,\u001b[0m \u001b[0mrandom_state\u001b[0m\u001b[0;34m=\u001b[0m\u001b[0;36m0\u001b[0m\u001b[0;34m)\u001b[0m\u001b[0;34m\u001b[0m\u001b[0;34m\u001b[0m\u001b[0m\n\u001b[0m\u001b[1;32m      2\u001b[0m \u001b[0msort_idx\u001b[0m \u001b[0;34m=\u001b[0m \u001b[0mr\u001b[0m\u001b[0;34m.\u001b[0m\u001b[0mimportances_mean\u001b[0m\u001b[0;34m.\u001b[0m\u001b[0margsort\u001b[0m\u001b[0;34m(\u001b[0m\u001b[0;34m)\u001b[0m\u001b[0;34m[\u001b[0m\u001b[0;34m:\u001b[0m\u001b[0;34m:\u001b[0m\u001b[0;34m-\u001b[0m\u001b[0;36m1\u001b[0m\u001b[0;34m]\u001b[0m\u001b[0;34m\u001b[0m\u001b[0;34m\u001b[0m\u001b[0m\n\u001b[1;32m      3\u001b[0m \u001b[0;34m\u001b[0m\u001b[0m\n\u001b[1;32m      4\u001b[0m plt.boxplot(r.importances[sort_idx].T,\n\u001b[1;32m      5\u001b[0m             labels=[dataset.feature_names[i] for i in sort_idx])\n",
      "\u001b[0;32m/usr/local/lib/python3.8/dist-packages/sklearn/utils/validation.py\u001b[0m in \u001b[0;36minner_f\u001b[0;34m(*args, **kwargs)\u001b[0m\n\u001b[1;32m     61\u001b[0m             \u001b[0mextra_args\u001b[0m \u001b[0;34m=\u001b[0m \u001b[0mlen\u001b[0m\u001b[0;34m(\u001b[0m\u001b[0margs\u001b[0m\u001b[0;34m)\u001b[0m \u001b[0;34m-\u001b[0m \u001b[0mlen\u001b[0m\u001b[0;34m(\u001b[0m\u001b[0mall_args\u001b[0m\u001b[0;34m)\u001b[0m\u001b[0;34m\u001b[0m\u001b[0;34m\u001b[0m\u001b[0m\n\u001b[1;32m     62\u001b[0m             \u001b[0;32mif\u001b[0m \u001b[0mextra_args\u001b[0m \u001b[0;34m<=\u001b[0m \u001b[0;36m0\u001b[0m\u001b[0;34m:\u001b[0m\u001b[0;34m\u001b[0m\u001b[0;34m\u001b[0m\u001b[0m\n\u001b[0;32m---> 63\u001b[0;31m                 \u001b[0;32mreturn\u001b[0m \u001b[0mf\u001b[0m\u001b[0;34m(\u001b[0m\u001b[0;34m*\u001b[0m\u001b[0margs\u001b[0m\u001b[0;34m,\u001b[0m \u001b[0;34m**\u001b[0m\u001b[0mkwargs\u001b[0m\u001b[0;34m)\u001b[0m\u001b[0;34m\u001b[0m\u001b[0;34m\u001b[0m\u001b[0m\n\u001b[0m\u001b[1;32m     64\u001b[0m \u001b[0;34m\u001b[0m\u001b[0m\n\u001b[1;32m     65\u001b[0m             \u001b[0;31m# extra_args > 0\u001b[0m\u001b[0;34m\u001b[0m\u001b[0;34m\u001b[0m\u001b[0;34m\u001b[0m\u001b[0m\n",
      "\u001b[0;32m/usr/local/lib/python3.8/dist-packages/sklearn/inspection/_permutation_importance.py\u001b[0m in \u001b[0;36mpermutation_importance\u001b[0;34m(estimator, X, y, scoring, n_repeats, n_jobs, random_state, sample_weight)\u001b[0m\n\u001b[1;32m    145\u001b[0m \u001b[0;34m\u001b[0m\u001b[0m\n\u001b[1;32m    146\u001b[0m     \u001b[0mscorer\u001b[0m \u001b[0;34m=\u001b[0m \u001b[0mcheck_scoring\u001b[0m\u001b[0;34m(\u001b[0m\u001b[0mestimator\u001b[0m\u001b[0;34m,\u001b[0m \u001b[0mscoring\u001b[0m\u001b[0;34m=\u001b[0m\u001b[0mscoring\u001b[0m\u001b[0;34m)\u001b[0m\u001b[0;34m\u001b[0m\u001b[0;34m\u001b[0m\u001b[0m\n\u001b[0;32m--> 147\u001b[0;31m     \u001b[0mbaseline_score\u001b[0m \u001b[0;34m=\u001b[0m \u001b[0m_weights_scorer\u001b[0m\u001b[0;34m(\u001b[0m\u001b[0mscorer\u001b[0m\u001b[0;34m,\u001b[0m \u001b[0mestimator\u001b[0m\u001b[0;34m,\u001b[0m \u001b[0mX\u001b[0m\u001b[0;34m,\u001b[0m \u001b[0my\u001b[0m\u001b[0;34m,\u001b[0m \u001b[0msample_weight\u001b[0m\u001b[0;34m)\u001b[0m\u001b[0;34m\u001b[0m\u001b[0;34m\u001b[0m\u001b[0m\n\u001b[0m\u001b[1;32m    148\u001b[0m \u001b[0;34m\u001b[0m\u001b[0m\n\u001b[1;32m    149\u001b[0m     scores = Parallel(n_jobs=n_jobs)(delayed(_calculate_permutation_scores)(\n",
      "\u001b[0;32m/usr/local/lib/python3.8/dist-packages/sklearn/inspection/_permutation_importance.py\u001b[0m in \u001b[0;36m_weights_scorer\u001b[0;34m(scorer, estimator, X, y, sample_weight)\u001b[0m\n\u001b[1;32m     14\u001b[0m     \u001b[0;32mif\u001b[0m \u001b[0msample_weight\u001b[0m \u001b[0;32mis\u001b[0m \u001b[0;32mnot\u001b[0m \u001b[0;32mNone\u001b[0m\u001b[0;34m:\u001b[0m\u001b[0;34m\u001b[0m\u001b[0;34m\u001b[0m\u001b[0m\n\u001b[1;32m     15\u001b[0m         \u001b[0;32mreturn\u001b[0m \u001b[0mscorer\u001b[0m\u001b[0;34m(\u001b[0m\u001b[0mestimator\u001b[0m\u001b[0;34m,\u001b[0m \u001b[0mX\u001b[0m\u001b[0;34m,\u001b[0m \u001b[0my\u001b[0m\u001b[0;34m,\u001b[0m \u001b[0msample_weight\u001b[0m\u001b[0;34m)\u001b[0m\u001b[0;34m\u001b[0m\u001b[0;34m\u001b[0m\u001b[0m\n\u001b[0;32m---> 16\u001b[0;31m     \u001b[0;32mreturn\u001b[0m \u001b[0mscorer\u001b[0m\u001b[0;34m(\u001b[0m\u001b[0mestimator\u001b[0m\u001b[0;34m,\u001b[0m \u001b[0mX\u001b[0m\u001b[0;34m,\u001b[0m \u001b[0my\u001b[0m\u001b[0;34m)\u001b[0m\u001b[0;34m\u001b[0m\u001b[0;34m\u001b[0m\u001b[0m\n\u001b[0m\u001b[1;32m     17\u001b[0m \u001b[0;34m\u001b[0m\u001b[0m\n\u001b[1;32m     18\u001b[0m \u001b[0;34m\u001b[0m\u001b[0m\n",
      "\u001b[0;32m/usr/local/lib/python3.8/dist-packages/sklearn/metrics/_scorer.py\u001b[0m in \u001b[0;36m_passthrough_scorer\u001b[0;34m(estimator, *args, **kwargs)\u001b[0m\n\u001b[1;32m    395\u001b[0m \u001b[0;32mdef\u001b[0m \u001b[0m_passthrough_scorer\u001b[0m\u001b[0;34m(\u001b[0m\u001b[0mestimator\u001b[0m\u001b[0;34m,\u001b[0m \u001b[0;34m*\u001b[0m\u001b[0margs\u001b[0m\u001b[0;34m,\u001b[0m \u001b[0;34m**\u001b[0m\u001b[0mkwargs\u001b[0m\u001b[0;34m)\u001b[0m\u001b[0;34m:\u001b[0m\u001b[0;34m\u001b[0m\u001b[0;34m\u001b[0m\u001b[0m\n\u001b[1;32m    396\u001b[0m     \u001b[0;34m\"\"\"Function that wraps estimator.score\"\"\"\u001b[0m\u001b[0;34m\u001b[0m\u001b[0;34m\u001b[0m\u001b[0m\n\u001b[0;32m--> 397\u001b[0;31m     \u001b[0;32mreturn\u001b[0m \u001b[0mestimator\u001b[0m\u001b[0;34m.\u001b[0m\u001b[0mscore\u001b[0m\u001b[0;34m(\u001b[0m\u001b[0;34m*\u001b[0m\u001b[0margs\u001b[0m\u001b[0;34m,\u001b[0m \u001b[0;34m**\u001b[0m\u001b[0mkwargs\u001b[0m\u001b[0;34m)\u001b[0m\u001b[0;34m\u001b[0m\u001b[0;34m\u001b[0m\u001b[0m\n\u001b[0m\u001b[1;32m    398\u001b[0m \u001b[0;34m\u001b[0m\u001b[0m\n\u001b[1;32m    399\u001b[0m \u001b[0;34m\u001b[0m\u001b[0m\n",
      "\u001b[0;32m/usr/local/lib/python3.8/dist-packages/autosklearn/estimators.py\u001b[0m in \u001b[0;36mscore\u001b[0;34m(self, X, y)\u001b[0m\n\u001b[1;32m    490\u001b[0m \u001b[0;34m\u001b[0m\u001b[0m\n\u001b[1;32m    491\u001b[0m     \u001b[0;32mdef\u001b[0m \u001b[0mscore\u001b[0m\u001b[0;34m(\u001b[0m\u001b[0mself\u001b[0m\u001b[0;34m,\u001b[0m \u001b[0mX\u001b[0m\u001b[0;34m,\u001b[0m \u001b[0my\u001b[0m\u001b[0;34m)\u001b[0m\u001b[0;34m:\u001b[0m\u001b[0;34m\u001b[0m\u001b[0;34m\u001b[0m\u001b[0m\n\u001b[0;32m--> 492\u001b[0;31m         \u001b[0;32mreturn\u001b[0m \u001b[0mself\u001b[0m\u001b[0;34m.\u001b[0m\u001b[0mautoml_\u001b[0m\u001b[0;34m.\u001b[0m\u001b[0mscore\u001b[0m\u001b[0;34m(\u001b[0m\u001b[0mX\u001b[0m\u001b[0;34m,\u001b[0m \u001b[0my\u001b[0m\u001b[0;34m)\u001b[0m\u001b[0;34m\u001b[0m\u001b[0;34m\u001b[0m\u001b[0m\n\u001b[0m\u001b[1;32m    493\u001b[0m \u001b[0;34m\u001b[0m\u001b[0m\n\u001b[1;32m    494\u001b[0m     \u001b[0;32mdef\u001b[0m \u001b[0mshow_models\u001b[0m\u001b[0;34m(\u001b[0m\u001b[0mself\u001b[0m\u001b[0;34m)\u001b[0m\u001b[0;34m:\u001b[0m\u001b[0;34m\u001b[0m\u001b[0;34m\u001b[0m\u001b[0m\n",
      "\u001b[0;32m/usr/local/lib/python3.8/dist-packages/autosklearn/automl.py\u001b[0m in \u001b[0;36mscore\u001b[0;34m(self, X, y)\u001b[0m\n\u001b[1;32m   1586\u001b[0m         \u001b[0;31m# check for changing input types on successive\u001b[0m\u001b[0;34m\u001b[0m\u001b[0;34m\u001b[0m\u001b[0;34m\u001b[0m\u001b[0m\n\u001b[1;32m   1587\u001b[0m         \u001b[0;31m# input validator calls\u001b[0m\u001b[0;34m\u001b[0m\u001b[0;34m\u001b[0m\u001b[0;34m\u001b[0m\u001b[0m\n\u001b[0;32m-> 1588\u001b[0;31m         \u001b[0mprediction\u001b[0m \u001b[0;34m=\u001b[0m \u001b[0mself\u001b[0m\u001b[0;34m.\u001b[0m\u001b[0mpredict\u001b[0m\u001b[0;34m(\u001b[0m\u001b[0mX\u001b[0m\u001b[0;34m)\u001b[0m\u001b[0;34m\u001b[0m\u001b[0;34m\u001b[0m\u001b[0m\n\u001b[0m\u001b[1;32m   1589\u001b[0m \u001b[0;34m\u001b[0m\u001b[0m\n\u001b[1;32m   1590\u001b[0m         \u001b[0;31m# Make sure that input is valid\u001b[0m\u001b[0;34m\u001b[0m\u001b[0;34m\u001b[0m\u001b[0;34m\u001b[0m\u001b[0m\n",
      "\u001b[0;32m/usr/local/lib/python3.8/dist-packages/autosklearn/automl.py\u001b[0m in \u001b[0;36mpredict\u001b[0;34m(self, X, batch_size, n_jobs)\u001b[0m\n\u001b[1;32m   1946\u001b[0m \u001b[0;34m\u001b[0m\u001b[0m\n\u001b[1;32m   1947\u001b[0m     \u001b[0;32mdef\u001b[0m \u001b[0mpredict\u001b[0m\u001b[0;34m(\u001b[0m\u001b[0mself\u001b[0m\u001b[0;34m,\u001b[0m \u001b[0mX\u001b[0m\u001b[0;34m,\u001b[0m \u001b[0mbatch_size\u001b[0m\u001b[0;34m=\u001b[0m\u001b[0;32mNone\u001b[0m\u001b[0;34m,\u001b[0m \u001b[0mn_jobs\u001b[0m\u001b[0;34m=\u001b[0m\u001b[0;36m1\u001b[0m\u001b[0;34m)\u001b[0m\u001b[0;34m:\u001b[0m\u001b[0;34m\u001b[0m\u001b[0;34m\u001b[0m\u001b[0m\n\u001b[0;32m-> 1948\u001b[0;31m         predicted_probabilities = super().predict(X, batch_size=batch_size,\n\u001b[0m\u001b[1;32m   1949\u001b[0m                                                   n_jobs=n_jobs)\n\u001b[1;32m   1950\u001b[0m \u001b[0;34m\u001b[0m\u001b[0m\n",
      "\u001b[0;32m/usr/local/lib/python3.8/dist-packages/autosklearn/automl.py\u001b[0m in \u001b[0;36mpredict\u001b[0;34m(self, X, batch_size, n_jobs)\u001b[0m\n\u001b[1;32m   1422\u001b[0m                 \u001b[0;32mraise\u001b[0m \u001b[0mValueError\u001b[0m\u001b[0;34m(\u001b[0m\u001b[0;34m'Found no fitted models!'\u001b[0m\u001b[0;34m)\u001b[0m\u001b[0;34m\u001b[0m\u001b[0;34m\u001b[0m\u001b[0m\n\u001b[1;32m   1423\u001b[0m \u001b[0;34m\u001b[0m\u001b[0m\n\u001b[0;32m-> 1424\u001b[0;31m         all_predictions = joblib.Parallel(n_jobs=n_jobs)(\n\u001b[0m\u001b[1;32m   1425\u001b[0m             joblib.delayed(_model_predict)(\n\u001b[1;32m   1426\u001b[0m                 \u001b[0mmodel\u001b[0m\u001b[0;34m=\u001b[0m\u001b[0mmodels\u001b[0m\u001b[0;34m[\u001b[0m\u001b[0midentifier\u001b[0m\u001b[0;34m]\u001b[0m\u001b[0;34m,\u001b[0m\u001b[0;34m\u001b[0m\u001b[0;34m\u001b[0m\u001b[0m\n",
      "\u001b[0;32m/usr/local/lib/python3.8/dist-packages/joblib/parallel.py\u001b[0m in \u001b[0;36m__call__\u001b[0;34m(self, iterable)\u001b[0m\n\u001b[1;32m   1041\u001b[0m             \u001b[0;31m# remaining jobs.\u001b[0m\u001b[0;34m\u001b[0m\u001b[0;34m\u001b[0m\u001b[0;34m\u001b[0m\u001b[0m\n\u001b[1;32m   1042\u001b[0m             \u001b[0mself\u001b[0m\u001b[0;34m.\u001b[0m\u001b[0m_iterating\u001b[0m \u001b[0;34m=\u001b[0m \u001b[0;32mFalse\u001b[0m\u001b[0;34m\u001b[0m\u001b[0;34m\u001b[0m\u001b[0m\n\u001b[0;32m-> 1043\u001b[0;31m             \u001b[0;32mif\u001b[0m \u001b[0mself\u001b[0m\u001b[0;34m.\u001b[0m\u001b[0mdispatch_one_batch\u001b[0m\u001b[0;34m(\u001b[0m\u001b[0miterator\u001b[0m\u001b[0;34m)\u001b[0m\u001b[0;34m:\u001b[0m\u001b[0;34m\u001b[0m\u001b[0;34m\u001b[0m\u001b[0m\n\u001b[0m\u001b[1;32m   1044\u001b[0m                 \u001b[0mself\u001b[0m\u001b[0;34m.\u001b[0m\u001b[0m_iterating\u001b[0m \u001b[0;34m=\u001b[0m \u001b[0mself\u001b[0m\u001b[0;34m.\u001b[0m\u001b[0m_original_iterator\u001b[0m \u001b[0;32mis\u001b[0m \u001b[0;32mnot\u001b[0m \u001b[0;32mNone\u001b[0m\u001b[0;34m\u001b[0m\u001b[0;34m\u001b[0m\u001b[0m\n\u001b[1;32m   1045\u001b[0m \u001b[0;34m\u001b[0m\u001b[0m\n",
      "\u001b[0;32m/usr/local/lib/python3.8/dist-packages/joblib/parallel.py\u001b[0m in \u001b[0;36mdispatch_one_batch\u001b[0;34m(self, iterator)\u001b[0m\n\u001b[1;32m    859\u001b[0m                 \u001b[0;32mreturn\u001b[0m \u001b[0;32mFalse\u001b[0m\u001b[0;34m\u001b[0m\u001b[0;34m\u001b[0m\u001b[0m\n\u001b[1;32m    860\u001b[0m             \u001b[0;32melse\u001b[0m\u001b[0;34m:\u001b[0m\u001b[0;34m\u001b[0m\u001b[0;34m\u001b[0m\u001b[0m\n\u001b[0;32m--> 861\u001b[0;31m                 \u001b[0mself\u001b[0m\u001b[0;34m.\u001b[0m\u001b[0m_dispatch\u001b[0m\u001b[0;34m(\u001b[0m\u001b[0mtasks\u001b[0m\u001b[0;34m)\u001b[0m\u001b[0;34m\u001b[0m\u001b[0;34m\u001b[0m\u001b[0m\n\u001b[0m\u001b[1;32m    862\u001b[0m                 \u001b[0;32mreturn\u001b[0m \u001b[0;32mTrue\u001b[0m\u001b[0;34m\u001b[0m\u001b[0;34m\u001b[0m\u001b[0m\n\u001b[1;32m    863\u001b[0m \u001b[0;34m\u001b[0m\u001b[0m\n",
      "\u001b[0;32m/usr/local/lib/python3.8/dist-packages/joblib/parallel.py\u001b[0m in \u001b[0;36m_dispatch\u001b[0;34m(self, batch)\u001b[0m\n\u001b[1;32m    777\u001b[0m         \u001b[0;32mwith\u001b[0m \u001b[0mself\u001b[0m\u001b[0;34m.\u001b[0m\u001b[0m_lock\u001b[0m\u001b[0;34m:\u001b[0m\u001b[0;34m\u001b[0m\u001b[0;34m\u001b[0m\u001b[0m\n\u001b[1;32m    778\u001b[0m             \u001b[0mjob_idx\u001b[0m \u001b[0;34m=\u001b[0m \u001b[0mlen\u001b[0m\u001b[0;34m(\u001b[0m\u001b[0mself\u001b[0m\u001b[0;34m.\u001b[0m\u001b[0m_jobs\u001b[0m\u001b[0;34m)\u001b[0m\u001b[0;34m\u001b[0m\u001b[0;34m\u001b[0m\u001b[0m\n\u001b[0;32m--> 779\u001b[0;31m             \u001b[0mjob\u001b[0m \u001b[0;34m=\u001b[0m \u001b[0mself\u001b[0m\u001b[0;34m.\u001b[0m\u001b[0m_backend\u001b[0m\u001b[0;34m.\u001b[0m\u001b[0mapply_async\u001b[0m\u001b[0;34m(\u001b[0m\u001b[0mbatch\u001b[0m\u001b[0;34m,\u001b[0m \u001b[0mcallback\u001b[0m\u001b[0;34m=\u001b[0m\u001b[0mcb\u001b[0m\u001b[0;34m)\u001b[0m\u001b[0;34m\u001b[0m\u001b[0;34m\u001b[0m\u001b[0m\n\u001b[0m\u001b[1;32m    780\u001b[0m             \u001b[0;31m# A job can complete so quickly than its callback is\u001b[0m\u001b[0;34m\u001b[0m\u001b[0;34m\u001b[0m\u001b[0;34m\u001b[0m\u001b[0m\n\u001b[1;32m    781\u001b[0m             \u001b[0;31m# called before we get here, causing self._jobs to\u001b[0m\u001b[0;34m\u001b[0m\u001b[0;34m\u001b[0m\u001b[0;34m\u001b[0m\u001b[0m\n",
      "\u001b[0;32m/usr/local/lib/python3.8/dist-packages/joblib/_parallel_backends.py\u001b[0m in \u001b[0;36mapply_async\u001b[0;34m(self, func, callback)\u001b[0m\n\u001b[1;32m    206\u001b[0m     \u001b[0;32mdef\u001b[0m \u001b[0mapply_async\u001b[0m\u001b[0;34m(\u001b[0m\u001b[0mself\u001b[0m\u001b[0;34m,\u001b[0m \u001b[0mfunc\u001b[0m\u001b[0;34m,\u001b[0m \u001b[0mcallback\u001b[0m\u001b[0;34m=\u001b[0m\u001b[0;32mNone\u001b[0m\u001b[0;34m)\u001b[0m\u001b[0;34m:\u001b[0m\u001b[0;34m\u001b[0m\u001b[0;34m\u001b[0m\u001b[0m\n\u001b[1;32m    207\u001b[0m         \u001b[0;34m\"\"\"Schedule a func to be run\"\"\"\u001b[0m\u001b[0;34m\u001b[0m\u001b[0;34m\u001b[0m\u001b[0m\n\u001b[0;32m--> 208\u001b[0;31m         \u001b[0mresult\u001b[0m \u001b[0;34m=\u001b[0m \u001b[0mImmediateResult\u001b[0m\u001b[0;34m(\u001b[0m\u001b[0mfunc\u001b[0m\u001b[0;34m)\u001b[0m\u001b[0;34m\u001b[0m\u001b[0;34m\u001b[0m\u001b[0m\n\u001b[0m\u001b[1;32m    209\u001b[0m         \u001b[0;32mif\u001b[0m \u001b[0mcallback\u001b[0m\u001b[0;34m:\u001b[0m\u001b[0;34m\u001b[0m\u001b[0;34m\u001b[0m\u001b[0m\n\u001b[1;32m    210\u001b[0m             \u001b[0mcallback\u001b[0m\u001b[0;34m(\u001b[0m\u001b[0mresult\u001b[0m\u001b[0;34m)\u001b[0m\u001b[0;34m\u001b[0m\u001b[0;34m\u001b[0m\u001b[0m\n",
      "\u001b[0;32m/usr/local/lib/python3.8/dist-packages/joblib/_parallel_backends.py\u001b[0m in \u001b[0;36m__init__\u001b[0;34m(self, batch)\u001b[0m\n\u001b[1;32m    570\u001b[0m         \u001b[0;31m# Don't delay the application, to avoid keeping the input\u001b[0m\u001b[0;34m\u001b[0m\u001b[0;34m\u001b[0m\u001b[0;34m\u001b[0m\u001b[0m\n\u001b[1;32m    571\u001b[0m         \u001b[0;31m# arguments in memory\u001b[0m\u001b[0;34m\u001b[0m\u001b[0;34m\u001b[0m\u001b[0;34m\u001b[0m\u001b[0m\n\u001b[0;32m--> 572\u001b[0;31m         \u001b[0mself\u001b[0m\u001b[0;34m.\u001b[0m\u001b[0mresults\u001b[0m \u001b[0;34m=\u001b[0m \u001b[0mbatch\u001b[0m\u001b[0;34m(\u001b[0m\u001b[0;34m)\u001b[0m\u001b[0;34m\u001b[0m\u001b[0;34m\u001b[0m\u001b[0m\n\u001b[0m\u001b[1;32m    573\u001b[0m \u001b[0;34m\u001b[0m\u001b[0m\n\u001b[1;32m    574\u001b[0m     \u001b[0;32mdef\u001b[0m \u001b[0mget\u001b[0m\u001b[0;34m(\u001b[0m\u001b[0mself\u001b[0m\u001b[0;34m)\u001b[0m\u001b[0;34m:\u001b[0m\u001b[0;34m\u001b[0m\u001b[0;34m\u001b[0m\u001b[0m\n",
      "\u001b[0;32m/usr/local/lib/python3.8/dist-packages/joblib/parallel.py\u001b[0m in \u001b[0;36m__call__\u001b[0;34m(self)\u001b[0m\n\u001b[1;32m    260\u001b[0m         \u001b[0;31m# change the default number of processes to -1\u001b[0m\u001b[0;34m\u001b[0m\u001b[0;34m\u001b[0m\u001b[0;34m\u001b[0m\u001b[0m\n\u001b[1;32m    261\u001b[0m         \u001b[0;32mwith\u001b[0m \u001b[0mparallel_backend\u001b[0m\u001b[0;34m(\u001b[0m\u001b[0mself\u001b[0m\u001b[0;34m.\u001b[0m\u001b[0m_backend\u001b[0m\u001b[0;34m,\u001b[0m \u001b[0mn_jobs\u001b[0m\u001b[0;34m=\u001b[0m\u001b[0mself\u001b[0m\u001b[0;34m.\u001b[0m\u001b[0m_n_jobs\u001b[0m\u001b[0;34m)\u001b[0m\u001b[0;34m:\u001b[0m\u001b[0;34m\u001b[0m\u001b[0;34m\u001b[0m\u001b[0m\n\u001b[0;32m--> 262\u001b[0;31m             return [func(*args, **kwargs)\n\u001b[0m\u001b[1;32m    263\u001b[0m                     for func, args, kwargs in self.items]\n\u001b[1;32m    264\u001b[0m \u001b[0;34m\u001b[0m\u001b[0m\n",
      "\u001b[0;32m/usr/local/lib/python3.8/dist-packages/joblib/parallel.py\u001b[0m in \u001b[0;36m<listcomp>\u001b[0;34m(.0)\u001b[0m\n\u001b[1;32m    260\u001b[0m         \u001b[0;31m# change the default number of processes to -1\u001b[0m\u001b[0;34m\u001b[0m\u001b[0;34m\u001b[0m\u001b[0;34m\u001b[0m\u001b[0m\n\u001b[1;32m    261\u001b[0m         \u001b[0;32mwith\u001b[0m \u001b[0mparallel_backend\u001b[0m\u001b[0;34m(\u001b[0m\u001b[0mself\u001b[0m\u001b[0;34m.\u001b[0m\u001b[0m_backend\u001b[0m\u001b[0;34m,\u001b[0m \u001b[0mn_jobs\u001b[0m\u001b[0;34m=\u001b[0m\u001b[0mself\u001b[0m\u001b[0;34m.\u001b[0m\u001b[0m_n_jobs\u001b[0m\u001b[0;34m)\u001b[0m\u001b[0;34m:\u001b[0m\u001b[0;34m\u001b[0m\u001b[0;34m\u001b[0m\u001b[0m\n\u001b[0;32m--> 262\u001b[0;31m             return [func(*args, **kwargs)\n\u001b[0m\u001b[1;32m    263\u001b[0m                     for func, args, kwargs in self.items]\n\u001b[1;32m    264\u001b[0m \u001b[0;34m\u001b[0m\u001b[0m\n",
      "\u001b[0;32m/usr/local/lib/python3.8/dist-packages/autosklearn/automl.py\u001b[0m in \u001b[0;36m_model_predict\u001b[0;34m(model, X, task, batch_size, logger)\u001b[0m\n\u001b[1;32m    144\u001b[0m                 \u001b[0mprediction\u001b[0m \u001b[0;34m=\u001b[0m \u001b[0mpredict_func\u001b[0m\u001b[0;34m(\u001b[0m\u001b[0mX_\u001b[0m\u001b[0;34m,\u001b[0m \u001b[0mbatch_size\u001b[0m\u001b[0;34m=\u001b[0m\u001b[0mbatch_size\u001b[0m\u001b[0;34m)\u001b[0m\u001b[0;34m\u001b[0m\u001b[0;34m\u001b[0m\u001b[0m\n\u001b[1;32m    145\u001b[0m             \u001b[0;32melse\u001b[0m\u001b[0;34m:\u001b[0m\u001b[0;34m\u001b[0m\u001b[0;34m\u001b[0m\u001b[0m\n\u001b[0;32m--> 146\u001b[0;31m                 \u001b[0mprediction\u001b[0m \u001b[0;34m=\u001b[0m \u001b[0mpredict_func\u001b[0m\u001b[0;34m(\u001b[0m\u001b[0mX_\u001b[0m\u001b[0;34m)\u001b[0m\u001b[0;34m\u001b[0m\u001b[0;34m\u001b[0m\u001b[0m\n\u001b[0m\u001b[1;32m    147\u001b[0m \u001b[0;34m\u001b[0m\u001b[0m\n\u001b[1;32m    148\u001b[0m     \u001b[0;31m# Check that probability values lie between 0 and 1.\u001b[0m\u001b[0;34m\u001b[0m\u001b[0;34m\u001b[0m\u001b[0;34m\u001b[0m\u001b[0m\n",
      "\u001b[0;32m/usr/local/lib/python3.8/dist-packages/autosklearn/pipeline/classification.py\u001b[0m in \u001b[0;36mpredict_proba\u001b[0;34m(self, X, batch_size)\u001b[0m\n\u001b[1;32m    133\u001b[0m         \"\"\"\n\u001b[1;32m    134\u001b[0m         \u001b[0;32mif\u001b[0m \u001b[0mbatch_size\u001b[0m \u001b[0;32mis\u001b[0m \u001b[0;32mNone\u001b[0m\u001b[0;34m:\u001b[0m\u001b[0;34m\u001b[0m\u001b[0;34m\u001b[0m\u001b[0m\n\u001b[0;32m--> 135\u001b[0;31m             \u001b[0;32mreturn\u001b[0m \u001b[0msuper\u001b[0m\u001b[0;34m(\u001b[0m\u001b[0;34m)\u001b[0m\u001b[0;34m.\u001b[0m\u001b[0mpredict_proba\u001b[0m\u001b[0;34m(\u001b[0m\u001b[0mX\u001b[0m\u001b[0;34m)\u001b[0m\u001b[0;34m\u001b[0m\u001b[0;34m\u001b[0m\u001b[0m\n\u001b[0m\u001b[1;32m    136\u001b[0m \u001b[0;34m\u001b[0m\u001b[0m\n\u001b[1;32m    137\u001b[0m         \u001b[0;32melse\u001b[0m\u001b[0;34m:\u001b[0m\u001b[0;34m\u001b[0m\u001b[0;34m\u001b[0m\u001b[0m\n",
      "\u001b[0;32m/usr/local/lib/python3.8/dist-packages/sklearn/utils/metaestimators.py\u001b[0m in \u001b[0;36m<lambda>\u001b[0;34m(*args, **kwargs)\u001b[0m\n\u001b[1;32m    118\u001b[0m \u001b[0;34m\u001b[0m\u001b[0m\n\u001b[1;32m    119\u001b[0m         \u001b[0;31m# lambda, but not partial, allows help() to work with update_wrapper\u001b[0m\u001b[0;34m\u001b[0m\u001b[0;34m\u001b[0m\u001b[0;34m\u001b[0m\u001b[0m\n\u001b[0;32m--> 120\u001b[0;31m         \u001b[0mout\u001b[0m \u001b[0;34m=\u001b[0m \u001b[0;32mlambda\u001b[0m \u001b[0;34m*\u001b[0m\u001b[0margs\u001b[0m\u001b[0;34m,\u001b[0m \u001b[0;34m**\u001b[0m\u001b[0mkwargs\u001b[0m\u001b[0;34m:\u001b[0m \u001b[0mself\u001b[0m\u001b[0;34m.\u001b[0m\u001b[0mfn\u001b[0m\u001b[0;34m(\u001b[0m\u001b[0mobj\u001b[0m\u001b[0;34m,\u001b[0m \u001b[0;34m*\u001b[0m\u001b[0margs\u001b[0m\u001b[0;34m,\u001b[0m \u001b[0;34m**\u001b[0m\u001b[0mkwargs\u001b[0m\u001b[0;34m)\u001b[0m\u001b[0;34m\u001b[0m\u001b[0;34m\u001b[0m\u001b[0m\n\u001b[0m\u001b[1;32m    121\u001b[0m         \u001b[0;31m# update the docstring of the returned function\u001b[0m\u001b[0;34m\u001b[0m\u001b[0;34m\u001b[0m\u001b[0;34m\u001b[0m\u001b[0m\n\u001b[1;32m    122\u001b[0m         \u001b[0mupdate_wrapper\u001b[0m\u001b[0;34m(\u001b[0m\u001b[0mout\u001b[0m\u001b[0;34m,\u001b[0m \u001b[0mself\u001b[0m\u001b[0;34m.\u001b[0m\u001b[0mfn\u001b[0m\u001b[0;34m)\u001b[0m\u001b[0;34m\u001b[0m\u001b[0;34m\u001b[0m\u001b[0m\n",
      "\u001b[0;32m/usr/local/lib/python3.8/dist-packages/sklearn/pipeline.py\u001b[0m in \u001b[0;36mpredict_proba\u001b[0;34m(self, X)\u001b[0m\n\u001b[1;32m    472\u001b[0m         \u001b[0mXt\u001b[0m \u001b[0;34m=\u001b[0m \u001b[0mX\u001b[0m\u001b[0;34m\u001b[0m\u001b[0;34m\u001b[0m\u001b[0m\n\u001b[1;32m    473\u001b[0m         \u001b[0;32mfor\u001b[0m \u001b[0m_\u001b[0m\u001b[0;34m,\u001b[0m \u001b[0mname\u001b[0m\u001b[0;34m,\u001b[0m \u001b[0mtransform\u001b[0m \u001b[0;32min\u001b[0m \u001b[0mself\u001b[0m\u001b[0;34m.\u001b[0m\u001b[0m_iter\u001b[0m\u001b[0;34m(\u001b[0m\u001b[0mwith_final\u001b[0m\u001b[0;34m=\u001b[0m\u001b[0;32mFalse\u001b[0m\u001b[0;34m)\u001b[0m\u001b[0;34m:\u001b[0m\u001b[0;34m\u001b[0m\u001b[0;34m\u001b[0m\u001b[0m\n\u001b[0;32m--> 474\u001b[0;31m             \u001b[0mXt\u001b[0m \u001b[0;34m=\u001b[0m \u001b[0mtransform\u001b[0m\u001b[0;34m.\u001b[0m\u001b[0mtransform\u001b[0m\u001b[0;34m(\u001b[0m\u001b[0mXt\u001b[0m\u001b[0;34m)\u001b[0m\u001b[0;34m\u001b[0m\u001b[0;34m\u001b[0m\u001b[0m\n\u001b[0m\u001b[1;32m    475\u001b[0m         \u001b[0;32mreturn\u001b[0m \u001b[0mself\u001b[0m\u001b[0;34m.\u001b[0m\u001b[0msteps\u001b[0m\u001b[0;34m[\u001b[0m\u001b[0;34m-\u001b[0m\u001b[0;36m1\u001b[0m\u001b[0;34m]\u001b[0m\u001b[0;34m[\u001b[0m\u001b[0;34m-\u001b[0m\u001b[0;36m1\u001b[0m\u001b[0;34m]\u001b[0m\u001b[0;34m.\u001b[0m\u001b[0mpredict_proba\u001b[0m\u001b[0;34m(\u001b[0m\u001b[0mXt\u001b[0m\u001b[0;34m)\u001b[0m\u001b[0;34m\u001b[0m\u001b[0;34m\u001b[0m\u001b[0m\n\u001b[1;32m    476\u001b[0m \u001b[0;34m\u001b[0m\u001b[0m\n",
      "\u001b[0;32m/usr/local/lib/python3.8/dist-packages/autosklearn/pipeline/components/data_preprocessing/__init__.py\u001b[0m in \u001b[0;36mtransform\u001b[0;34m(self, X)\u001b[0m\n\u001b[1;32m    127\u001b[0m \u001b[0;34m\u001b[0m\u001b[0m\n\u001b[1;32m    128\u001b[0m     \u001b[0;32mdef\u001b[0m \u001b[0mtransform\u001b[0m\u001b[0;34m(\u001b[0m\u001b[0mself\u001b[0m\u001b[0;34m,\u001b[0m \u001b[0mX\u001b[0m\u001b[0;34m:\u001b[0m \u001b[0mPIPELINE_DATA_DTYPE\u001b[0m\u001b[0;34m)\u001b[0m \u001b[0;34m->\u001b[0m \u001b[0mPIPELINE_DATA_DTYPE\u001b[0m\u001b[0;34m:\u001b[0m\u001b[0;34m\u001b[0m\u001b[0;34m\u001b[0m\u001b[0m\n\u001b[0;32m--> 129\u001b[0;31m         \u001b[0;32mreturn\u001b[0m \u001b[0mself\u001b[0m\u001b[0;34m.\u001b[0m\u001b[0mchoice\u001b[0m\u001b[0;34m.\u001b[0m\u001b[0mtransform\u001b[0m\u001b[0;34m(\u001b[0m\u001b[0mX\u001b[0m\u001b[0;34m)\u001b[0m\u001b[0;34m\u001b[0m\u001b[0;34m\u001b[0m\u001b[0m\n\u001b[0m\u001b[1;32m    130\u001b[0m \u001b[0;34m\u001b[0m\u001b[0m\n\u001b[1;32m    131\u001b[0m     def set_hyperparameters(self, configuration: ConfigurationSpace,\n",
      "\u001b[0;32m/usr/local/lib/python3.8/dist-packages/autosklearn/pipeline/components/data_preprocessing/feature_type.py\u001b[0m in \u001b[0;36mtransform\u001b[0;34m(self, X)\u001b[0m\n\u001b[1;32m    156\u001b[0m                              \u001b[0;34m\"while trying to fit the model.\"\u001b[0m\u001b[0;34m\u001b[0m\u001b[0;34m\u001b[0m\u001b[0m\n\u001b[1;32m    157\u001b[0m                              )\n\u001b[0;32m--> 158\u001b[0;31m         \u001b[0;32mreturn\u001b[0m \u001b[0mself\u001b[0m\u001b[0;34m.\u001b[0m\u001b[0mcolumn_transformer\u001b[0m\u001b[0;34m.\u001b[0m\u001b[0mtransform\u001b[0m\u001b[0;34m(\u001b[0m\u001b[0mX\u001b[0m\u001b[0;34m)\u001b[0m\u001b[0;34m\u001b[0m\u001b[0;34m\u001b[0m\u001b[0m\n\u001b[0m\u001b[1;32m    159\u001b[0m \u001b[0;34m\u001b[0m\u001b[0m\n\u001b[1;32m    160\u001b[0m     \u001b[0;34m@\u001b[0m\u001b[0mstaticmethod\u001b[0m\u001b[0;34m\u001b[0m\u001b[0;34m\u001b[0m\u001b[0m\n",
      "\u001b[0;32m/usr/local/lib/python3.8/dist-packages/sklearn/compose/_column_transformer.py\u001b[0m in \u001b[0;36mtransform\u001b[0;34m(self, X)\u001b[0m\n\u001b[1;32m    554\u001b[0m             \u001b[0mX_feature_names\u001b[0m \u001b[0;34m=\u001b[0m \u001b[0;32mNone\u001b[0m\u001b[0;34m\u001b[0m\u001b[0;34m\u001b[0m\u001b[0m\n\u001b[1;32m    555\u001b[0m \u001b[0;34m\u001b[0m\u001b[0m\n\u001b[0;32m--> 556\u001b[0;31m         \u001b[0mself\u001b[0m\u001b[0;34m.\u001b[0m\u001b[0m_check_n_features\u001b[0m\u001b[0;34m(\u001b[0m\u001b[0mX\u001b[0m\u001b[0;34m,\u001b[0m \u001b[0mreset\u001b[0m\u001b[0;34m=\u001b[0m\u001b[0;32mFalse\u001b[0m\u001b[0;34m)\u001b[0m\u001b[0;34m\u001b[0m\u001b[0;34m\u001b[0m\u001b[0m\n\u001b[0m\u001b[1;32m    557\u001b[0m         if (self._feature_names_in is not None and\n\u001b[1;32m    558\u001b[0m             \u001b[0mX_feature_names\u001b[0m \u001b[0;32mis\u001b[0m \u001b[0;32mnot\u001b[0m \u001b[0;32mNone\u001b[0m \u001b[0;32mand\u001b[0m\u001b[0;34m\u001b[0m\u001b[0;34m\u001b[0m\u001b[0m\n",
      "\u001b[0;32m/usr/local/lib/python3.8/dist-packages/sklearn/base.py\u001b[0m in \u001b[0;36m_check_n_features\u001b[0;34m(self, X, reset)\u001b[0m\n\u001b[1;32m    363\u001b[0m \u001b[0;34m\u001b[0m\u001b[0m\n\u001b[1;32m    364\u001b[0m         \u001b[0;32mif\u001b[0m \u001b[0mn_features\u001b[0m \u001b[0;34m!=\u001b[0m \u001b[0mself\u001b[0m\u001b[0;34m.\u001b[0m\u001b[0mn_features_in_\u001b[0m\u001b[0;34m:\u001b[0m\u001b[0;34m\u001b[0m\u001b[0;34m\u001b[0m\u001b[0m\n\u001b[0;32m--> 365\u001b[0;31m             raise ValueError(\n\u001b[0m\u001b[1;32m    366\u001b[0m                 \u001b[0;34mf\"X has {n_features} features, but {self.__class__.__name__} \"\u001b[0m\u001b[0;34m\u001b[0m\u001b[0;34m\u001b[0m\u001b[0m\n\u001b[1;32m    367\u001b[0m                 f\"is expecting {self.n_features_in_} features as input.\")\n",
      "\u001b[0;31mValueError\u001b[0m: X has 4 features, but ColumnTransformer is expecting 6 features as input."
     ]
    }
   ],
   "source": [
    "r = permutation_importance(automl, X_test, y_test, n_repeats=10, random_state=0)\n",
    "sort_idx = r.importances_mean.argsort()[::-1]\n",
    "\n",
    "plt.boxplot(r.importances[sort_idx].T,\n",
    "            labels=[dataset.feature_names[i] for i in sort_idx])\n",
    "\n",
    "plt.xticks(rotation=90)\n",
    "plt.tight_layout()\n",
    "plt.show()\n",
    "\n",
    "for i in sort_idx[::-1]:\n",
    "    print(f\"{dataset.feature_names[i]:10s}: {r.importances_mean[i]:.3f} +/- \"\n",
    "          f\"{r.importances_std[i]:.3f}\")"
   ]
  },
  {
   "cell_type": "code",
   "execution_count": 73,
   "id": "841d12da",
   "metadata": {},
   "outputs": [
    {
     "data": {
      "image/png": "[encoded data removed]",
      "text/plain": [
       "<Figure size 432x288 with 3 Axes>"
      ]
     },
     "metadata": {
      "needs_background": "light"
     },
     "output_type": "display_data"
    }
   ],
   "source": [
    "features = [1, 2]\n",
    "plot_partial_dependence(automl, dataset.data,\n",
    "                        features=features,\n",
    "                        grid_resolution=5,\n",
    "                        kind=\"both\",\n",
    "                        feature_names=dataset.feature_names)\n",
    "plt.tight_layout()\n",
    "plt.show()"
   ]
  },
  {
   "cell_type": "code",
   "execution_count": 72,
   "id": "84535d00",
   "metadata": {},
   "outputs": [
    {
     "data": {
      "image/png": "[encoded data removed]",
      "text/plain": [
       "<Figure size 432x288 with 2 Axes>"
      ]
     },
     "metadata": {
      "needs_background": "light"
     },
     "output_type": "display_data"
    }
   ],
   "source": [
    "features = [[1, 2]]\n",
    "plot_partial_dependence(automl, dataset.data,\n",
    "                        features=features,\n",
    "                        grid_resolution=5,\n",
    "                        feature_names=dataset.feature_names)\n",
    "plt.tight_layout()\n",
    "plt.show()"
   ]
  },
  {
   "cell_type": "markdown",
   "id": "d0fc9c76",
   "metadata": {},
   "source": [
    "Successive Halving"
   ]
  },
  {
   "cell_type": "code",
   "execution_count": null,
   "id": "03d6a425",
   "metadata": {},
   "outputs": [],
   "source": [
    "import sklearn.model_selection\n",
    "import sklearn.datasets\n",
    "import sklearn.metrics\n",
    "\n",
    "import autosklearn.classification"
   ]
  },
  {
   "cell_type": "code",
   "execution_count": 75,
   "id": "63fab94b",
   "metadata": {},
   "outputs": [],
   "source": [
    "def get_smac_object_callback(budget_type):\n",
    "    def get_smac_object(\n",
    "        scenario_dict,\n",
    "        seed,\n",
    "        ta,\n",
    "        ta_kwargs,\n",
    "        metalearning_configurations,\n",
    "        n_jobs,\n",
    "        dask_client,\n",
    "    ):\n",
    "        from smac.facade.smac_ac_facade import SMAC4AC\n",
    "        from smac.intensification.successive_halving import SuccessiveHalving\n",
    "        from smac.runhistory.runhistory2epm import RunHistory2EPM4LogCost\n",
    "        from smac.scenario.scenario import Scenario\n",
    "\n",
    "        if n_jobs > 1 or (dask_client and len(dask_client.nthreads()) > 1):\n",
    "            raise ValueError(\"Please make sure to guard the code invoking Auto-sklearn by \"\n",
    "                             \"`if __name__ == '__main__'` and remove this exception.\")\n",
    "\n",
    "        scenario = Scenario(scenario_dict)\n",
    "        if len(metalearning_configurations) > 0:\n",
    "            default_config = scenario.cs.get_default_configuration()\n",
    "            initial_configurations = [default_config] + metalearning_configurations\n",
    "        else:\n",
    "            initial_configurations = None\n",
    "        rh2EPM = RunHistory2EPM4LogCost\n",
    "\n",
    "        ta_kwargs['budget_type'] = budget_type\n",
    "\n",
    "        return SMAC4AC(\n",
    "            scenario=scenario,\n",
    "            rng=seed,\n",
    "            runhistory2epm=rh2EPM,\n",
    "            tae_runner=ta,\n",
    "            tae_runner_kwargs=ta_kwargs,\n",
    "            initial_configurations=initial_configurations,\n",
    "            run_id=seed,\n",
    "            intensifier=SuccessiveHalving,\n",
    "            intensifier_kwargs={\n",
    "                'initial_budget': 5.0,\n",
    "                'max_budget': 10,\n",
    "                'eta': 2,\n",
    "                'min_chall': 1\n",
    "            },\n",
    "            n_jobs=n_jobs,\n",
    "            dask_client=dask_client,\n",
    "        )\n",
    "    return get_smac_object"
   ]
  },
  {
   "cell_type": "code",
   "execution_count": 76,
   "id": "1fd42b89",
   "metadata": {},
   "outputs": [],
   "source": [
    "X, y = sklearn.datasets.load_breast_cancer(return_X_y=True)\n",
    "dataset.data = dataset.data.sample(n = 100, random_state=1, axis=\"index\")\n",
    "dataset.target = dataset.target[dataset.data.index]\n",
    "\n",
    "X_train, X_test, y_train, y_test = sklearn.model_selection.train_test_split(\n",
    "    dataset.data, dataset.target, test_size=0.3, random_state=1\n",
    ")"
   ]
  },
  {
   "cell_type": "code",
   "execution_count": 77,
   "id": "cf59a571",
   "metadata": {},
   "outputs": [
    {
     "name": "stdout",
     "output_type": "stream",
     "text": [
      "[WARNING] [2021-12-04 12:08:13,508:Client-AutoMLSMBO(1)::breast_cancer] Configuration 176 not found\n",
      "[WARNING] [2021-12-04 12:08:13,508:Client-AutoMLSMBO(1)::breast_cancer] Configuration 476 not found\n",
      "[WARNING] [2021-12-04 12:08:13,509:Client-AutoMLSMBO(1)::breast_cancer] Configuration 663 not found\n",
      "[WARNING] [2021-12-04 12:08:13,509:Client-AutoMLSMBO(1)::breast_cancer] Configuration 492 not found\n",
      "[WARNING] [2021-12-04 12:08:13,510:Client-AutoMLSMBO(1)::breast_cancer] Configuration 184 not found\n",
      "[WARNING] [2021-12-04 12:08:13,509:Client-AutoMLSMBO(1)::breast_cancer] Configuration 32 not found\n",
      "[WARNING] [2021-12-04 12:08:13,509:Client-AutoMLSMBO(1)::breast_cancer] Configuration 91 not found\n",
      "[WARNING] [2021-12-04 12:08:13,510:Client-AutoMLSMBO(1)::breast_cancer] Configuration 22 not found\n",
      "[WARNING] [2021-12-04 12:08:13,510:Client-AutoMLSMBO(1)::breast_cancer] Configuration 257 not found\n",
      "[WARNING] [2021-12-04 12:08:13,510:Client-AutoMLSMBO(1)::breast_cancer] Configuration 440 not found\n",
      "[WARNING] [2021-12-04 12:08:13,510:Client-AutoMLSMBO(1)::breast_cancer] Configuration 560 not found\n",
      "[WARNING] [2021-12-04 12:08:13,510:Client-AutoMLSMBO(1)::breast_cancer] Configuration 332 not found\n",
      "[WARNING] [2021-12-04 12:08:13,510:Client-AutoMLSMBO(1)::breast_cancer] Configuration 61 not found\n",
      "[WARNING] [2021-12-04 12:08:13,510:Client-AutoMLSMBO(1)::breast_cancer] Configuration 546 not found\n",
      "[WARNING] [2021-12-04 12:08:13,510:Client-AutoMLSMBO(1)::breast_cancer] Configuration 407 not found\n",
      "[WARNING] [2021-12-04 12:08:13,510:Client-AutoMLSMBO(1)::breast_cancer] Configuration 162 not found\n",
      "[WARNING] [2021-12-04 12:08:13,510:Client-AutoMLSMBO(1)::breast_cancer] Configuration 702 not found\n",
      "[WARNING] [2021-12-04 12:08:13,510:Client-AutoMLSMBO(1)::breast_cancer] Configuration 345 not found\n",
      "[WARNING] [2021-12-04 12:08:13,510:Client-AutoMLSMBO(1)::breast_cancer] Configuration 358 not found\n",
      "[WARNING] [2021-12-04 12:08:13,510:Client-AutoMLSMBO(1)::breast_cancer] Configuration 329 not found\n",
      "[WARNING] [2021-12-04 12:08:13,510:Client-AutoMLSMBO(1)::breast_cancer] Configuration 399 not found\n",
      "[WARNING] [2021-12-04 12:08:13,510:Client-AutoMLSMBO(1)::breast_cancer] Configuration 149 not found\n",
      "[WARNING] [2021-12-04 12:08:13,510:Client-AutoMLSMBO(1)::breast_cancer] Configuration 601 not found\n",
      "[WARNING] [2021-12-04 12:08:13,510:Client-AutoMLSMBO(1)::breast_cancer] Configuration 188 not found\n",
      "[WARNING] [2021-12-04 12:08:13,510:Client-AutoMLSMBO(1)::breast_cancer] Configuration 631 not found\n",
      "[WARNING] [2021-12-04 12:08:13,510:Client-AutoMLSMBO(1)::breast_cancer] Configuration 222 not found\n",
      "[WARNING] [2021-12-04 12:08:13,511:Client-AutoMLSMBO(1)::breast_cancer] Configuration 220 not found\n",
      "[WARNING] [2021-12-04 12:08:13,511:Client-AutoMLSMBO(1)::breast_cancer] Configuration 7 not found\n",
      "[WARNING] [2021-12-04 12:08:13,511:Client-AutoMLSMBO(1)::breast_cancer] Configuration 590 not found\n",
      "[WARNING] [2021-12-04 12:08:13,511:Client-AutoMLSMBO(1)::breast_cancer] Configuration 108 not found\n",
      "[WARNING] [2021-12-04 12:08:13,511:Client-AutoMLSMBO(1)::breast_cancer] Configuration 327 not found\n",
      "[WARNING] [2021-12-04 12:08:13,511:Client-AutoMLSMBO(1)::breast_cancer] Configuration 9 not found\n",
      "[WARNING] [2021-12-04 12:08:13,511:Client-AutoMLSMBO(1)::breast_cancer] Configuration 71 not found\n",
      "[WARNING] [2021-12-04 12:08:13,511:Client-AutoMLSMBO(1)::breast_cancer] Configuration 211 not found\n",
      "[WARNING] [2021-12-04 12:08:13,511:Client-AutoMLSMBO(1)::breast_cancer] Configuration 460 not found\n",
      "[WARNING] [2021-12-04 12:08:13,511:Client-AutoMLSMBO(1)::breast_cancer] Configuration 585 not found\n",
      "[WARNING] [2021-12-04 12:08:13,511:Client-AutoMLSMBO(1)::breast_cancer] Configuration 147 not found\n",
      "[WARNING] [2021-12-04 12:08:13,511:Client-AutoMLSMBO(1)::breast_cancer] Configuration 473 not found\n",
      "[WARNING] [2021-12-04 12:08:13,511:Client-AutoMLSMBO(1)::breast_cancer] Configuration 347 not found\n",
      "[WARNING] [2021-12-04 12:08:13,511:Client-AutoMLSMBO(1)::breast_cancer] Configuration 386 not found\n",
      "[WARNING] [2021-12-04 12:08:13,511:Client-AutoMLSMBO(1)::breast_cancer] Configuration 694 not found\n",
      "[WARNING] [2021-12-04 12:08:13,511:Client-AutoMLSMBO(1)::breast_cancer] Configuration 81 not found\n",
      "[WARNING] [2021-12-04 12:08:13,511:Client-AutoMLSMBO(1)::breast_cancer] Configuration 315 not found\n",
      "[WARNING] [2021-12-04 12:08:13,511:Client-AutoMLSMBO(1)::breast_cancer] Configuration 230 not found\n",
      "[WARNING] [2021-12-04 12:08:13,511:Client-AutoMLSMBO(1)::breast_cancer] Configuration 690 not found\n",
      "[WARNING] [2021-12-04 12:08:13,511:Client-AutoMLSMBO(1)::breast_cancer] Configuration 67 not found\n",
      "[WARNING] [2021-12-04 12:08:13,511:Client-AutoMLSMBO(1)::breast_cancer] Configuration 426 not found\n",
      "[WARNING] [2021-12-04 12:08:13,511:Client-AutoMLSMBO(1)::breast_cancer] Configuration 254 not found\n",
      "[WARNING] [2021-12-04 12:08:13,511:Client-AutoMLSMBO(1)::breast_cancer] Configuration 138 not found\n"
     ]
    },
    {
     "name": "stderr",
     "output_type": "stream",
     "text": [
      "/usr/local/lib/python3.8/dist-packages/smac/intensification/parallel_scheduling.py:152: UserWarning: SuccessiveHalving is intended to be used with more than 1 worker but num_workers=1\n",
      "  warnings.warn(\"{} is intended to be used \"\n"
     ]
    },
    {
     "name": "stdout",
     "output_type": "stream",
     "text": [
      "[WARNING] [2021-12-04 12:08:13,511:Client-AutoMLSMBO(1)::breast_cancer] Configuration 227 not found\n",
      "[WARNING] [2021-12-04 12:08:13,511:Client-AutoMLSMBO(1)::breast_cancer] Configuration 506 not found\n",
      "[WARNING] [2021-12-04 12:08:13,511:Client-AutoMLSMBO(1)::breast_cancer] Configuration 454 not found\n",
      "[WARNING] [2021-12-04 12:08:13,512:Client-AutoMLSMBO(1)::breast_cancer] Configuration 532 not found\n",
      "[WARNING] [2021-12-04 12:08:13,512:Client-AutoMLSMBO(1)::breast_cancer] Configuration 1 not found\n",
      "[WARNING] [2021-12-04 12:08:13,512:Client-AutoMLSMBO(1)::breast_cancer] Configuration 238 not found\n",
      "[WARNING] [2021-12-04 12:08:13,512:Client-AutoMLSMBO(1)::breast_cancer] Configuration 191 not found\n",
      "[WARNING] [2021-12-04 12:08:13,512:Client-AutoMLSMBO(1)::breast_cancer] Configuration 576 not found\n",
      "[WARNING] [2021-12-04 12:08:13,512:Client-AutoMLSMBO(1)::breast_cancer] Configuration 518 not found\n",
      "[WARNING] [2021-12-04 12:08:13,512:Client-AutoMLSMBO(1)::breast_cancer] Configuration 393 not found\n",
      "[WARNING] [2021-12-04 12:08:13,512:Client-AutoMLSMBO(1)::breast_cancer] Configuration 624 not found\n",
      "[WARNING] [2021-12-04 12:08:13,512:Client-AutoMLSMBO(1)::breast_cancer] Configuration 282 not found\n",
      "[WARNING] [2021-12-04 12:08:13,512:Client-AutoMLSMBO(1)::breast_cancer] Configuration 206 not found\n",
      "[WARNING] [2021-12-04 12:08:13,512:Client-AutoMLSMBO(1)::breast_cancer] Configuration 283 not found\n",
      "[WARNING] [2021-12-04 12:08:13,512:Client-AutoMLSMBO(1)::breast_cancer] Configuration 605 not found\n",
      "[WARNING] [2021-12-04 12:08:13,512:Client-AutoMLSMBO(1)::breast_cancer] Configuration 367 not found\n",
      "[WARNING] [2021-12-04 12:08:13,512:Client-AutoMLSMBO(1)::breast_cancer] Configuration 657 not found\n",
      "[WARNING] [2021-12-04 12:08:13,512:Client-AutoMLSMBO(1)::breast_cancer] Configuration 579 not found\n",
      "[WARNING] [2021-12-04 12:08:13,512:Client-AutoMLSMBO(1)::breast_cancer] Configuration 266 not found\n",
      "[WARNING] [2021-12-04 12:08:13,512:Client-AutoMLSMBO(1)::breast_cancer] Configuration 414 not found\n",
      "[WARNING] [2021-12-04 12:08:13,512:Client-AutoMLSMBO(1)::breast_cancer] Configuration 648 not found\n",
      "[WARNING] [2021-12-04 12:08:13,512:Client-AutoMLSMBO(1)::breast_cancer] Configuration 701 not found\n",
      "[WARNING] [2021-12-04 12:08:13,512:Client-AutoMLSMBO(1)::breast_cancer] Configuration 521 not found\n",
      "[WARNING] [2021-12-04 12:08:13,512:Client-AutoMLSMBO(1)::breast_cancer] Configuration 145 not found\n",
      "[WARNING] [2021-12-04 12:08:13,512:Client-AutoMLSMBO(1)::breast_cancer] Configuration 680 not found\n",
      "[WARNING] [2021-12-04 12:08:13,512:Client-AutoMLSMBO(1)::breast_cancer] Configuration 28 not found\n",
      "[WARNING] [2021-12-04 12:08:13,512:Client-AutoMLSMBO(1)::breast_cancer] Configuration 338 not found\n",
      "[WARNING] [2021-12-04 12:08:13,512:Client-AutoMLSMBO(1)::breast_cancer] Configuration 43 not found\n",
      "[WARNING] [2021-12-04 12:08:13,512:Client-AutoMLSMBO(1)::breast_cancer] Configuration 262 not found\n",
      "[WARNING] [2021-12-04 12:08:13,512:Client-AutoMLSMBO(1)::breast_cancer] Configuration 674 not found\n",
      "[WARNING] [2021-12-04 12:08:13,512:Client-AutoMLSMBO(1)::breast_cancer] Configuration 563 not found\n",
      "[WARNING] [2021-12-04 12:08:13,512:Client-AutoMLSMBO(1)::breast_cancer] Configuration 369 not found\n",
      "[WARNING] [2021-12-04 12:08:13,512:Client-AutoMLSMBO(1)::breast_cancer] Configuration 574 not found\n",
      "[WARNING] [2021-12-04 12:08:13,512:Client-AutoMLSMBO(1)::breast_cancer] Configuration 160 not found\n",
      "[WARNING] [2021-12-04 12:08:13,512:Client-AutoMLSMBO(1)::breast_cancer] Configuration 14 not found\n",
      "[WARNING] [2021-12-04 12:08:13,513:Client-AutoMLSMBO(1)::breast_cancer] Configuration 53 not found\n",
      "[WARNING] [2021-12-04 12:08:13,513:Client-AutoMLSMBO(1)::breast_cancer] Configuration 444 not found\n",
      "[WARNING] [2021-12-04 12:08:13,513:Client-AutoMLSMBO(1)::breast_cancer] Configuration 214 not found\n",
      "[WARNING] [2021-12-04 12:08:13,513:Client-AutoMLSMBO(1)::breast_cancer] Configuration 264 not found\n",
      "[WARNING] [2021-12-04 12:08:13,513:Client-AutoMLSMBO(1)::breast_cancer] Configuration 382 not found\n",
      "[WARNING] [2021-12-04 12:08:13,513:Client-AutoMLSMBO(1)::breast_cancer] Configuration 430 not found\n",
      "[WARNING] [2021-12-04 12:08:13,513:Client-AutoMLSMBO(1)::breast_cancer] Configuration 357 not found\n",
      "[WARNING] [2021-12-04 12:08:13,513:Client-AutoMLSMBO(1)::breast_cancer] Configuration 48 not found\n",
      "[WARNING] [2021-12-04 12:08:13,513:Client-AutoMLSMBO(1)::breast_cancer] Configuration 555 not found\n",
      "[WARNING] [2021-12-04 12:08:13,513:Client-AutoMLSMBO(1)::breast_cancer] Configuration 536 not found\n",
      "[WARNING] [2021-12-04 12:08:13,513:Client-AutoMLSMBO(1)::breast_cancer] Configuration 388 not found\n",
      "[WARNING] [2021-12-04 12:08:13,513:Client-AutoMLSMBO(1)::breast_cancer] Configuration 197 not found\n",
      "[WARNING] [2021-12-04 12:08:13,513:Client-AutoMLSMBO(1)::breast_cancer] Configuration 97 not found\n",
      "[WARNING] [2021-12-04 12:08:13,513:Client-AutoMLSMBO(1)::breast_cancer] Configuration 687 not found\n",
      "[WARNING] [2021-12-04 12:08:13,513:Client-AutoMLSMBO(1)::breast_cancer] Configuration 131 not found\n",
      "[WARNING] [2021-12-04 12:08:13,513:Client-AutoMLSMBO(1)::breast_cancer] Configuration 352 not found\n",
      "[WARNING] [2021-12-04 12:08:13,513:Client-AutoMLSMBO(1)::breast_cancer] Configuration 40 not found\n",
      "[WARNING] [2021-12-04 12:08:13,513:Client-AutoMLSMBO(1)::breast_cancer] Configuration 193 not found\n",
      "[WARNING] [2021-12-04 12:08:13,513:Client-AutoMLSMBO(1)::breast_cancer] Configuration 422 not found\n",
      "[WARNING] [2021-12-04 12:08:13,513:Client-AutoMLSMBO(1)::breast_cancer] Configuration 270 not found\n",
      "[WARNING] [2021-12-04 12:08:13,513:Client-AutoMLSMBO(1)::breast_cancer] Configuration 512 not found\n",
      "[WARNING] [2021-12-04 12:08:13,513:Client-AutoMLSMBO(1)::breast_cancer] Configuration 676 not found\n",
      "[WARNING] [2021-12-04 12:08:13,513:Client-AutoMLSMBO(1)::breast_cancer] Configuration 470 not found\n",
      "[WARNING] [2021-12-04 12:08:13,514:Client-AutoMLSMBO(1)::breast_cancer] Configuration 129 not found\n",
      "[WARNING] [2021-12-04 12:08:13,513:Client-AutoMLSMBO(1)::breast_cancer] Configuration 595 not found\n",
      "[WARNING] [2021-12-04 12:08:13,513:Client-AutoMLSMBO(1)::breast_cancer] Configuration 204 not found\n",
      "[WARNING] [2021-12-04 12:08:13,513:Client-AutoMLSMBO(1)::breast_cancer] Configuration 378 not found\n",
      "[WARNING] [2021-12-04 12:08:13,514:Client-AutoMLSMBO(1)::breast_cancer] Configuration 293 not found\n",
      "[WARNING] [2021-12-04 12:08:13,514:Client-AutoMLSMBO(1)::breast_cancer] Configuration 114 not found\n",
      "[WARNING] [2021-12-04 12:08:13,514:Client-AutoMLSMBO(1)::breast_cancer] Configuration 154 not found\n",
      "[WARNING] [2021-12-04 12:08:13,514:Client-AutoMLSMBO(1)::breast_cancer] Configuration 485 not found\n",
      "[WARNING] [2021-12-04 12:08:13,514:Client-AutoMLSMBO(1)::breast_cancer] Configuration 247 not found\n",
      "[WARNING] [2021-12-04 12:08:13,514:Client-AutoMLSMBO(1)::breast_cancer] Configuration 88 not found\n",
      "[WARNING] [2021-12-04 12:08:13,514:Client-AutoMLSMBO(1)::breast_cancer] Configuration 83 not found\n",
      "[WARNING] [2021-12-04 12:08:13,514:Client-AutoMLSMBO(1)::breast_cancer] Configuration 172 not found\n",
      "[WARNING] [2021-12-04 12:08:13,514:Client-AutoMLSMBO(1)::breast_cancer] Configuration 613 not found\n",
      "[WARNING] [2021-12-04 12:08:13,532:Client-AutoMLSMBO(1)::breast_cancer] Configuration 277 not found\n",
      "[WARNING] [2021-12-04 12:08:13,532:Client-AutoMLSMBO(1)::breast_cancer] Configuration 237 not found\n",
      "[WARNING] [2021-12-04 12:08:13,532:Client-AutoMLSMBO(1)::breast_cancer] Configuration 683 not found\n",
      "[WARNING] [2021-12-04 12:08:13,532:Client-AutoMLSMBO(1)::breast_cancer] Configuration 524 not found\n",
      "[WARNING] [2021-12-04 12:08:13,532:Client-AutoMLSMBO(1)::breast_cancer] Configuration 232 not found\n",
      "[WARNING] [2021-12-04 12:08:13,533:Client-AutoMLSMBO(1)::breast_cancer] Configuration 124 not found\n",
      "[WARNING] [2021-12-04 12:08:13,533:Client-AutoMLSMBO(1)::breast_cancer] Configuration 112 not found\n",
      "[WARNING] [2021-12-04 12:08:13,533:Client-AutoMLSMBO(1)::breast_cancer] Configuration 434 not found\n",
      "[WARNING] [2021-12-04 12:08:13,533:Client-AutoMLSMBO(1)::breast_cancer] Configuration 707 not found\n",
      "[WARNING] [2021-12-04 12:08:13,533:Client-AutoMLSMBO(1)::breast_cancer] Configuration 571 not found\n",
      "[WARNING] [2021-12-04 12:08:13,533:Client-AutoMLSMBO(1)::breast_cancer] Configuration 587 not found\n",
      "[WARNING] [2021-12-04 12:08:13,533:Client-AutoMLSMBO(1)::breast_cancer] Configuration 653 not found\n",
      "[WARNING] [2021-12-04 12:08:13,533:Client-AutoMLSMBO(1)::breast_cancer] Configuration 615 not found\n",
      "[WARNING] [2021-12-04 12:08:13,533:Client-AutoMLSMBO(1)::breast_cancer] Configuration 647 not found\n",
      "[WARNING] [2021-12-04 12:08:13,533:Client-AutoMLSMBO(1)::breast_cancer] Configuration 494 not found\n",
      "[WARNING] [2021-12-04 12:08:13,533:Client-AutoMLSMBO(1)::breast_cancer] Configuration 69 not found\n",
      "[WARNING] [2021-12-04 12:08:13,533:Client-AutoMLSMBO(1)::breast_cancer] Configuration 437 not found\n",
      "[WARNING] [2021-12-04 12:08:13,533:Client-AutoMLSMBO(1)::breast_cancer] Configuration 142 not found\n",
      "[WARNING] [2021-12-04 12:08:13,533:Client-AutoMLSMBO(1)::breast_cancer] Configuration 310 not found\n",
      "[WARNING] [2021-12-04 12:08:13,533:Client-AutoMLSMBO(1)::breast_cancer] Configuration 635 not found\n",
      "[WARNING] [2021-12-04 12:08:13,533:Client-AutoMLSMBO(1)::breast_cancer] Configuration 99 not found\n",
      "[WARNING] [2021-12-04 12:08:13,533:Client-AutoMLSMBO(1)::breast_cancer] Configuration 17 not found\n",
      "[WARNING] [2021-12-04 12:08:13,533:Client-AutoMLSMBO(1)::breast_cancer] Configuration 515 not found\n",
      "[WARNING] [2021-12-04 12:08:13,533:Client-AutoMLSMBO(1)::breast_cancer] Configuration 445 not found\n",
      "[WARNING] [2021-12-04 12:08:13,533:Client-AutoMLSMBO(1)::breast_cancer] Configuration 302 not found\n",
      "[WARNING] [2021-12-04 12:08:13,533:Client-AutoMLSMBO(1)::breast_cancer] Configuration 461 not found\n",
      "[WARNING] [2021-12-04 12:08:13,533:Client-AutoMLSMBO(1)::breast_cancer] Configuration 173 not found\n",
      "[WARNING] [2021-12-04 12:08:13,533:Client-AutoMLSMBO(1)::breast_cancer] Configuration 412 not found\n",
      "[WARNING] [2021-12-04 12:08:13,533:Client-AutoMLSMBO(1)::breast_cancer] Configuration 25 not found\n",
      "[WARNING] [2021-12-04 12:08:13,534:Client-AutoMLSMBO(1)::breast_cancer] Configuration 288 not found\n",
      "[WARNING] [2021-12-04 12:08:13,534:Client-AutoMLSMBO(1)::breast_cancer] Configuration 395 not found\n",
      "[WARNING] [2021-12-04 12:08:13,591:Client-AutoMLSMBO(1)::breast_cancer] Configuration 121 not found\n",
      "[WARNING] [2021-12-04 12:08:13,591:Client-AutoMLSMBO(1)::breast_cancer] Configuration 56 not found\n",
      "[WARNING] [2021-12-04 12:08:13,591:Client-AutoMLSMBO(1)::breast_cancer] Configuration 298 not found\n",
      "[WARNING] [2021-12-04 12:08:13,591:Client-AutoMLSMBO(1)::breast_cancer] Configuration 553 not found\n",
      "[WARNING] [2021-12-04 12:08:13,591:Client-AutoMLSMBO(1)::breast_cancer] Configuration 313 not found\n",
      "[WARNING] [2021-12-04 12:08:13,591:Client-AutoMLSMBO(1)::breast_cancer] Configuration 165 not found\n",
      "[WARNING] [2021-12-04 12:08:13,591:Client-AutoMLSMBO(1)::breast_cancer] Configuration 486 not found\n",
      "[WARNING] [2021-12-04 12:08:13,591:Client-AutoMLSMBO(1)::breast_cancer] Configuration 480 not found\n",
      "[WARNING] [2021-12-04 12:08:13,591:Client-AutoMLSMBO(1)::breast_cancer] Configuration 243 not found\n",
      "[WARNING] [2021-12-04 12:08:13,591:Client-AutoMLSMBO(1)::breast_cancer] Configuration 543 not found\n",
      "[WARNING] [2021-12-04 12:08:13,591:Client-AutoMLSMBO(1)::breast_cancer] Configuration 19 not found\n",
      "[WARNING] [2021-12-04 12:08:13,591:Client-AutoMLSMBO(1)::breast_cancer] Configuration 363 not found\n",
      "[WARNING] [2021-12-04 12:08:13,592:Client-AutoMLSMBO(1)::breast_cancer] Configuration 622 not found\n",
      "[WARNING] [2021-12-04 12:08:13,592:Client-AutoMLSMBO(1)::breast_cancer] Configuration 528 not found\n",
      "[WARNING] [2021-12-04 12:08:13,592:Client-AutoMLSMBO(1)::breast_cancer] Configuration 403 not found\n",
      "[WARNING] [2021-12-04 12:08:13,592:Client-AutoMLSMBO(1)::breast_cancer] Configuration 448 not found\n",
      "[WARNING] [2021-12-04 12:08:13,595:Client-AutoMLSMBO(1)::breast_cancer] Configuration 499 not found\n",
      "[WARNING] [2021-12-04 12:08:13,595:Client-AutoMLSMBO(1)::breast_cancer] Configuration 548 not found\n",
      "[WARNING] [2021-12-04 12:08:13,597:Client-AutoMLSMBO(1)::breast_cancer] Configuration 509 not found\n",
      "[WARNING] [2021-12-04 12:08:13,597:Client-AutoMLSMBO(1)::breast_cancer] Configuration 171 not found\n",
      "[WARNING] [2021-12-04 12:08:13,597:Client-AutoMLSMBO(1)::breast_cancer] Configuration 640 not found\n",
      "[WARNING] [2021-12-04 12:08:13,597:Client-AutoMLSMBO(1)::breast_cancer] Configuration 58 not found\n",
      "[WARNING] [2021-12-04 12:08:13,597:Client-AutoMLSMBO(1)::breast_cancer] Configuration 317 not found\n",
      "[WARNING] [2021-12-04 12:08:13,597:Client-AutoMLSMBO(1)::breast_cancer] Configuration 419 not found\n",
      "[WARNING] [2021-12-04 12:08:13,597:Client-AutoMLSMBO(1)::breast_cancer] Configuration 304 not found\n",
      "[WARNING] [2021-12-04 12:08:13,597:Client-AutoMLSMBO(1)::breast_cancer] Configuration 643 not found\n",
      "[WARNING] [2021-12-04 12:08:13,598:Client-AutoMLSMBO(1)::breast_cancer] Configuration 375 not found\n",
      "[WARNING] [2021-12-04 12:08:13,598:Client-AutoMLSMBO(1)::breast_cancer] Configuration 322 not found\n",
      "[WARNING] [2021-12-04 12:08:13,598:Client-AutoMLSMBO(1)::breast_cancer] Configuration 538 not found\n",
      "[WARNING] [2021-12-04 12:08:13,598:Client-AutoMLSMBO(1)::breast_cancer] Configuration 86 not found\n",
      "[WARNING] [2021-12-04 12:08:13,598:Client-AutoMLSMBO(1)::breast_cancer] Configuration 120 not found\n",
      "[WARNING] [2021-12-04 12:08:13,598:Client-AutoMLSMBO(1)::breast_cancer] Configuration 452 not found\n",
      "[WARNING] [2021-12-04 12:08:13,598:Client-AutoMLSMBO(1)::breast_cancer] Configuration 291 not found\n",
      "[WARNING] [2021-12-04 12:08:13,598:Client-AutoMLSMBO(1)::breast_cancer] Configuration 275 not found\n"
     ]
    },
    {
     "data": {
      "text/plain": [
       "AutoSklearnClassifier(get_smac_object_callback=<function get_smac_object_callback.<locals>.get_smac_object at 0x7f760d20e280>,\n",
       "                      include={'classifier': ['extra_trees',\n",
       "                                              'gradient_boosting',\n",
       "                                              'random_forest', 'sgd',\n",
       "                                              'passive_aggressive'],\n",
       "                               'feature_preprocessor': ['no_preprocessing']},\n",
       "                      n_jobs=-1, per_run_time_limit=10,\n",
       "                      resampling_strategy_arguments={'train_size': 0.67},\n",
       "                      time_left_for_this_task=40)"
      ]
     },
     "execution_count": 77,
     "metadata": {},
     "output_type": "execute_result"
    }
   ],
   "source": [
    "automl = autosklearn.classification.AutoSklearnClassifier(\n",
    "    time_left_for_this_task=40,\n",
    "    per_run_time_limit=10,\n",
    "    n_jobs = -1,\n",
    "    disable_evaluator_output=False,\n",
    "    # 'holdout' with 'train_size'=0.67 is the default argument setting\n",
    "    # for AutoSklearnClassifier. It is explicitly specified in this example\n",
    "    # for demonstrational purpose.\n",
    "    resampling_strategy='holdout',\n",
    "    resampling_strategy_arguments={'train_size': 0.67},\n",
    "    include={\n",
    "        'classifier': [\n",
    "            'extra_trees', 'gradient_boosting', 'random_forest',\n",
    "            'sgd', 'passive_aggressive'\n",
    "        ],\n",
    "        'feature_preprocessor': ['no_preprocessing']\n",
    "    },\n",
    "    get_smac_object_callback=get_smac_object_callback('iterations'),\n",
    ")\n",
    "automl.fit(X_train, y_train, dataset_name='breast_cancer')"
   ]
  },
  {
   "cell_type": "code",
   "execution_count": 81,
   "id": "0bee9437",
   "metadata": {},
   "outputs": [
    {
     "name": "stdout",
     "output_type": "stream",
     "text": [
      "          rank  ensemble_weight                type      cost  duration\n",
      "model_id                                                               \n",
      "3            1             0.08       random_forest  0.083333  1.176703\n",
      "9            2             0.06         extra_trees  0.083333  0.953279\n",
      "11           3             0.06   gradient_boosting  0.083333  1.421382\n",
      "2            4             0.06       random_forest  0.125000  4.567762\n",
      "5            5             0.12   gradient_boosting  0.125000  1.531363\n",
      "6            6             0.12   gradient_boosting  0.125000  0.777610\n",
      "8            7             0.04       random_forest  0.125000  0.906675\n",
      "7            8             0.02                 sgd  0.166667  0.664538\n",
      "4            9             0.10  passive_aggressive  0.250000  0.997079\n",
      "10          10             0.12   gradient_boosting  0.375000  1.474922\n"
     ]
    }
   ],
   "source": [
    "print(automl.leaderboard())"
   ]
  },
  {
   "cell_type": "code",
   "execution_count": 80,
   "id": "53f9fd28",
   "metadata": {},
   "outputs": [
    {
     "name": "stdout",
     "output_type": "stream",
     "text": [
      "auto-sklearn results:\n",
      "  Dataset name: breast_cancer\n",
      "  Metric: accuracy\n",
      "  Best validation score: 0.916667\n",
      "  Number of target algorithm runs: 15\n",
      "  Number of successful target algorithm runs: 14\n",
      "  Number of crashed target algorithm runs: 0\n",
      "  Number of target algorithms that exceeded the time limit: 1\n",
      "  Number of target algorithms that exceeded the memory limit: 0\n",
      "\n",
      "Accuracy score 0.9333333333333333\n"
     ]
    }
   ],
   "source": [
    "predictions = automl.predict(X_test)\n",
    "# Print statistics about the auto-sklearn run such as number of\n",
    "# iterations, number of models failed with a time out.\n",
    "print(automl.sprint_statistics())\n",
    "print(\"Accuracy score\", sklearn.metrics.accuracy_score(y_test, predictions))"
   ]
  },
  {
   "cell_type": "code",
   "execution_count": 83,
   "id": "855acb79",
   "metadata": {},
   "outputs": [
    {
     "name": "stdout",
     "output_type": "stream",
     "text": [
      "[WARNING] [2021-12-04 12:11:37,232:Client-AutoMLSMBO(1)::breast_cancer] Configuration 176 not found\n",
      "[WARNING] [2021-12-04 12:11:37,234:Client-AutoMLSMBO(1)::breast_cancer] Configuration 162 not found\n",
      "[WARNING] [2021-12-04 12:11:37,234:Client-AutoMLSMBO(1)::breast_cancer] Configuration 476 not found\n",
      "[WARNING] [2021-12-04 12:11:37,234:Client-AutoMLSMBO(1)::breast_cancer] Configuration 601 not found\n",
      "[WARNING] [2021-12-04 12:11:37,234:Client-AutoMLSMBO(1)::breast_cancer] Configuration 492 not found\n",
      "[WARNING] [2021-12-04 12:11:37,234:Client-AutoMLSMBO(1)::breast_cancer] Configuration 440 not found\n",
      "[WARNING] [2021-12-04 12:11:37,234:Client-AutoMLSMBO(1)::breast_cancer] Configuration 32 not found\n",
      "[WARNING] [2021-12-04 12:11:37,234:Client-AutoMLSMBO(1)::breast_cancer] Configuration 220 not found\n",
      "[WARNING] [2021-12-04 12:11:37,235:Client-AutoMLSMBO(1)::breast_cancer] Configuration 407 not found\n",
      "[WARNING] [2021-12-04 12:11:37,235:Client-AutoMLSMBO(1)::breast_cancer] Configuration 332 not found\n",
      "[WARNING] [2021-12-04 12:11:37,235:Client-AutoMLSMBO(1)::breast_cancer] Configuration 22 not found\n",
      "[WARNING] [2021-12-04 12:11:37,235:Client-AutoMLSMBO(1)::breast_cancer] Configuration 61 not found\n",
      "[WARNING] [2021-12-04 12:11:37,235:Client-AutoMLSMBO(1)::breast_cancer] Configuration 91 not found\n",
      "[WARNING] [2021-12-04 12:11:37,235:Client-AutoMLSMBO(1)::breast_cancer] Configuration 702 not found\n",
      "[WARNING] [2021-12-04 12:11:37,235:Client-AutoMLSMBO(1)::breast_cancer] Configuration 546 not found\n",
      "[WARNING] [2021-12-04 12:11:37,235:Client-AutoMLSMBO(1)::breast_cancer] Configuration 663 not found\n",
      "[WARNING] [2021-12-04 12:11:37,235:Client-AutoMLSMBO(1)::breast_cancer] Configuration 257 not found\n",
      "[WARNING] [2021-12-04 12:11:37,235:Client-AutoMLSMBO(1)::breast_cancer] Configuration 631 not found\n",
      "[WARNING] [2021-12-04 12:11:37,235:Client-AutoMLSMBO(1)::breast_cancer] Configuration 7 not found\n",
      "[WARNING] [2021-12-04 12:11:37,235:Client-AutoMLSMBO(1)::breast_cancer] Configuration 184 not found\n",
      "[WARNING] [2021-12-04 12:11:37,235:Client-AutoMLSMBO(1)::breast_cancer] Configuration 560 not found\n",
      "[WARNING] [2021-12-04 12:11:37,235:Client-AutoMLSMBO(1)::breast_cancer] Configuration 329 not found\n",
      "[WARNING] [2021-12-04 12:11:37,235:Client-AutoMLSMBO(1)::breast_cancer] Configuration 386 not found\n",
      "[WARNING] [2021-12-04 12:11:37,236:Client-AutoMLSMBO(1)::breast_cancer] Configuration 9 not found\n",
      "[WARNING] [2021-12-04 12:11:37,236:Client-AutoMLSMBO(1)::breast_cancer] Configuration 345 not found\n",
      "[WARNING] [2021-12-04 12:11:37,236:Client-AutoMLSMBO(1)::breast_cancer] Configuration 399 not found\n",
      "[WARNING] [2021-12-04 12:11:37,236:Client-AutoMLSMBO(1)::breast_cancer] Configuration 222 not found\n",
      "[WARNING] [2021-12-04 12:11:37,236:Client-AutoMLSMBO(1)::breast_cancer] Configuration 149 not found\n",
      "[WARNING] [2021-12-04 12:11:37,236:Client-AutoMLSMBO(1)::breast_cancer] Configuration 238 not found\n",
      "[WARNING] [2021-12-04 12:11:37,236:Client-AutoMLSMBO(1)::breast_cancer] Configuration 211 not found\n",
      "[WARNING] [2021-12-04 12:11:37,236:Client-AutoMLSMBO(1)::breast_cancer] Configuration 358 not found\n",
      "[WARNING] [2021-12-04 12:11:37,236:Client-AutoMLSMBO(1)::breast_cancer] Configuration 188 not found\n",
      "[WARNING] [2021-12-04 12:11:37,236:Client-AutoMLSMBO(1)::breast_cancer] Configuration 460 not found\n",
      "[WARNING] [2021-12-04 12:11:37,236:Client-AutoMLSMBO(1)::breast_cancer] Configuration 585 not found\n",
      "[WARNING] [2021-12-04 12:11:37,236:Client-AutoMLSMBO(1)::breast_cancer] Configuration 690 not found\n",
      "[WARNING] [2021-12-04 12:11:37,236:Client-AutoMLSMBO(1)::breast_cancer] Configuration 254 not found\n",
      "[WARNING] [2021-12-04 12:11:37,236:Client-AutoMLSMBO(1)::breast_cancer] Configuration 473 not found\n",
      "[WARNING] [2021-12-04 12:11:37,236:Client-AutoMLSMBO(1)::breast_cancer] Configuration 71 not found\n",
      "[WARNING] [2021-12-04 12:11:37,237:Client-AutoMLSMBO(1)::breast_cancer] Configuration 230 not found\n",
      "[WARNING] [2021-12-04 12:11:37,237:Client-AutoMLSMBO(1)::breast_cancer] Configuration 108 not found\n",
      "[WARNING] [2021-12-04 12:11:37,237:Client-AutoMLSMBO(1)::breast_cancer] Configuration 590 not found\n",
      "[WARNING] [2021-12-04 12:11:37,237:Client-AutoMLSMBO(1)::breast_cancer] Configuration 81 not found\n",
      "[WARNING] [2021-12-04 12:11:37,237:Client-AutoMLSMBO(1)::breast_cancer] Configuration 506 not found\n",
      "[WARNING] [2021-12-04 12:11:37,237:Client-AutoMLSMBO(1)::breast_cancer] Configuration 694 not found\n",
      "[WARNING] [2021-12-04 12:11:37,237:Client-AutoMLSMBO(1)::breast_cancer] Configuration 426 not found\n",
      "[WARNING] [2021-12-04 12:11:37,237:Client-AutoMLSMBO(1)::breast_cancer] Configuration 327 not found\n",
      "[WARNING] [2021-12-04 12:11:37,237:Client-AutoMLSMBO(1)::breast_cancer] Configuration 657 not found\n"
     ]
    },
    {
     "name": "stderr",
     "output_type": "stream",
     "text": [
      "/usr/local/lib/python3.8/dist-packages/smac/intensification/parallel_scheduling.py:152: UserWarning: SuccessiveHalving is intended to be used with more than 1 worker but num_workers=1\n",
      "  warnings.warn(\"{} is intended to be used \"\n"
     ]
    },
    {
     "name": "stdout",
     "output_type": "stream",
     "text": [
      "[WARNING] [2021-12-04 12:11:37,237:Client-AutoMLSMBO(1)::breast_cancer] Configuration 532 not found\n",
      "[WARNING] [2021-12-04 12:11:37,238:Client-AutoMLSMBO(1)::breast_cancer] Configuration 315 not found\n",
      "[WARNING] [2021-12-04 12:11:37,238:Client-AutoMLSMBO(1)::breast_cancer] Configuration 138 not found\n",
      "[WARNING] [2021-12-04 12:11:37,238:Client-AutoMLSMBO(1)::breast_cancer] Configuration 206 not found\n",
      "[WARNING] [2021-12-04 12:11:37,238:Client-AutoMLSMBO(1)::breast_cancer] Configuration 579 not found\n",
      "[WARNING] [2021-12-04 12:11:37,238:Client-AutoMLSMBO(1)::breast_cancer] Configuration 454 not found\n",
      "[WARNING] [2021-12-04 12:11:37,238:Client-AutoMLSMBO(1)::breast_cancer] Configuration 147 not found\n",
      "[WARNING] [2021-12-04 12:11:37,238:Client-AutoMLSMBO(1)::breast_cancer] Configuration 1 not found\n",
      "[WARNING] [2021-12-04 12:11:37,238:Client-AutoMLSMBO(1)::breast_cancer] Configuration 393 not found\n",
      "[WARNING] [2021-12-04 12:11:37,238:Client-AutoMLSMBO(1)::breast_cancer] Configuration 347 not found\n",
      "[WARNING] [2021-12-04 12:11:37,238:Client-AutoMLSMBO(1)::breast_cancer] Configuration 701 not found\n",
      "[WARNING] [2021-12-04 12:11:37,254:Client-AutoMLSMBO(1)::breast_cancer] Configuration 266 not found\n",
      "[WARNING] [2021-12-04 12:11:37,254:Client-AutoMLSMBO(1)::breast_cancer] Configuration 28 not found\n",
      "[WARNING] [2021-12-04 12:11:37,254:Client-AutoMLSMBO(1)::breast_cancer] Configuration 282 not found\n",
      "[WARNING] [2021-12-04 12:11:37,254:Client-AutoMLSMBO(1)::breast_cancer] Configuration 367 not found\n",
      "[WARNING] [2021-12-04 12:11:37,254:Client-AutoMLSMBO(1)::breast_cancer] Configuration 518 not found\n",
      "[WARNING] [2021-12-04 12:11:37,254:Client-AutoMLSMBO(1)::breast_cancer] Configuration 648 not found\n",
      "[WARNING] [2021-12-04 12:11:37,254:Client-AutoMLSMBO(1)::breast_cancer] Configuration 67 not found\n",
      "[WARNING] [2021-12-04 12:11:37,255:Client-AutoMLSMBO(1)::breast_cancer] Configuration 521 not found\n",
      "[WARNING] [2021-12-04 12:11:37,255:Client-AutoMLSMBO(1)::breast_cancer] Configuration 227 not found\n",
      "[WARNING] [2021-12-04 12:11:37,255:Client-AutoMLSMBO(1)::breast_cancer] Configuration 145 not found\n",
      "[WARNING] [2021-12-04 12:11:37,255:Client-AutoMLSMBO(1)::breast_cancer] Configuration 680 not found\n",
      "[WARNING] [2021-12-04 12:11:37,255:Client-AutoMLSMBO(1)::breast_cancer] Configuration 576 not found\n",
      "[WARNING] [2021-12-04 12:11:37,255:Client-AutoMLSMBO(1)::breast_cancer] Configuration 605 not found\n",
      "[WARNING] [2021-12-04 12:11:37,255:Client-AutoMLSMBO(1)::breast_cancer] Configuration 624 not found\n",
      "[WARNING] [2021-12-04 12:11:37,255:Client-AutoMLSMBO(1)::breast_cancer] Configuration 191 not found\n",
      "[WARNING] [2021-12-04 12:11:37,255:Client-AutoMLSMBO(1)::breast_cancer] Configuration 414 not found\n",
      "[WARNING] [2021-12-04 12:11:37,255:Client-AutoMLSMBO(1)::breast_cancer] Configuration 574 not found\n",
      "[WARNING] [2021-12-04 12:11:37,255:Client-AutoMLSMBO(1)::breast_cancer] Configuration 283 not found\n",
      "[WARNING] [2021-12-04 12:11:37,255:Client-AutoMLSMBO(1)::breast_cancer] Configuration 369 not found\n",
      "[WARNING] [2021-12-04 12:11:37,255:Client-AutoMLSMBO(1)::breast_cancer] Configuration 262 not found\n",
      "[WARNING] [2021-12-04 12:11:37,281:Client-AutoMLSMBO(1)::breast_cancer] Configuration 444 not found\n",
      "[WARNING] [2021-12-04 12:11:37,333:Client-AutoMLSMBO(1)::breast_cancer] Configuration 264 not found\n",
      "[WARNING] [2021-12-04 12:11:37,333:Client-AutoMLSMBO(1)::breast_cancer] Configuration 14 not found\n",
      "[WARNING] [2021-12-04 12:11:37,333:Client-AutoMLSMBO(1)::breast_cancer] Configuration 430 not found\n",
      "[WARNING] [2021-12-04 12:11:37,333:Client-AutoMLSMBO(1)::breast_cancer] Configuration 674 not found\n",
      "[WARNING] [2021-12-04 12:11:37,333:Client-AutoMLSMBO(1)::breast_cancer] Configuration 563 not found\n",
      "[WARNING] [2021-12-04 12:11:37,333:Client-AutoMLSMBO(1)::breast_cancer] Configuration 357 not found\n",
      "[WARNING] [2021-12-04 12:11:37,333:Client-AutoMLSMBO(1)::breast_cancer] Configuration 338 not found\n",
      "[WARNING] [2021-12-04 12:11:37,333:Client-AutoMLSMBO(1)::breast_cancer] Configuration 43 not found\n",
      "[WARNING] [2021-12-04 12:11:37,333:Client-AutoMLSMBO(1)::breast_cancer] Configuration 160 not found\n",
      "[WARNING] [2021-12-04 12:11:37,334:Client-AutoMLSMBO(1)::breast_cancer] Configuration 382 not found\n",
      "[WARNING] [2021-12-04 12:11:37,334:Client-AutoMLSMBO(1)::breast_cancer] Configuration 53 not found\n",
      "[WARNING] [2021-12-04 12:11:37,334:Client-AutoMLSMBO(1)::breast_cancer] Configuration 48 not found\n",
      "[WARNING] [2021-12-04 12:11:37,334:Client-AutoMLSMBO(1)::breast_cancer] Configuration 536 not found\n",
      "[WARNING] [2021-12-04 12:11:37,334:Client-AutoMLSMBO(1)::breast_cancer] Configuration 555 not found\n",
      "[WARNING] [2021-12-04 12:11:37,334:Client-AutoMLSMBO(1)::breast_cancer] Configuration 214 not found\n",
      "[WARNING] [2021-12-04 12:11:37,334:Client-AutoMLSMBO(1)::breast_cancer] Configuration 388 not found\n",
      "[WARNING] [2021-12-04 12:11:37,334:Client-AutoMLSMBO(1)::breast_cancer] Configuration 676 not found\n",
      "[WARNING] [2021-12-04 12:11:37,334:Client-AutoMLSMBO(1)::breast_cancer] Configuration 97 not found\n",
      "[WARNING] [2021-12-04 12:11:37,334:Client-AutoMLSMBO(1)::breast_cancer] Configuration 40 not found\n",
      "[WARNING] [2021-12-04 12:11:37,334:Client-AutoMLSMBO(1)::breast_cancer] Configuration 595 not found\n",
      "[WARNING] [2021-12-04 12:11:37,334:Client-AutoMLSMBO(1)::breast_cancer] Configuration 270 not found\n",
      "[WARNING] [2021-12-04 12:11:37,334:Client-AutoMLSMBO(1)::breast_cancer] Configuration 512 not found\n",
      "[WARNING] [2021-12-04 12:11:37,334:Client-AutoMLSMBO(1)::breast_cancer] Configuration 131 not found\n",
      "[WARNING] [2021-12-04 12:11:37,334:Client-AutoMLSMBO(1)::breast_cancer] Configuration 687 not found\n",
      "[WARNING] [2021-12-04 12:11:37,334:Client-AutoMLSMBO(1)::breast_cancer] Configuration 114 not found\n",
      "[WARNING] [2021-12-04 12:11:37,334:Client-AutoMLSMBO(1)::breast_cancer] Configuration 129 not found\n",
      "[WARNING] [2021-12-04 12:11:37,334:Client-AutoMLSMBO(1)::breast_cancer] Configuration 193 not found\n",
      "[WARNING] [2021-12-04 12:11:37,335:Client-AutoMLSMBO(1)::breast_cancer] Configuration 197 not found\n",
      "[WARNING] [2021-12-04 12:11:37,335:Client-AutoMLSMBO(1)::breast_cancer] Configuration 485 not found\n",
      "[WARNING] [2021-12-04 12:11:37,336:Client-AutoMLSMBO(1)::breast_cancer] Configuration 83 not found\n",
      "[WARNING] [2021-12-04 12:11:37,336:Client-AutoMLSMBO(1)::breast_cancer] Configuration 88 not found\n",
      "[WARNING] [2021-12-04 12:11:37,336:Client-AutoMLSMBO(1)::breast_cancer] Configuration 422 not found\n",
      "[WARNING] [2021-12-04 12:11:37,336:Client-AutoMLSMBO(1)::breast_cancer] Configuration 237 not found\n",
      "[WARNING] [2021-12-04 12:11:37,336:Client-AutoMLSMBO(1)::breast_cancer] Configuration 470 not found\n",
      "[WARNING] [2021-12-04 12:11:37,336:Client-AutoMLSMBO(1)::breast_cancer] Configuration 613 not found\n",
      "[WARNING] [2021-12-04 12:11:37,336:Client-AutoMLSMBO(1)::breast_cancer] Configuration 293 not found\n",
      "[WARNING] [2021-12-04 12:11:37,336:Client-AutoMLSMBO(1)::breast_cancer] Configuration 378 not found\n",
      "[WARNING] [2021-12-04 12:11:37,336:Client-AutoMLSMBO(1)::breast_cancer] Configuration 204 not found\n",
      "[WARNING] [2021-12-04 12:11:37,336:Client-AutoMLSMBO(1)::breast_cancer] Configuration 154 not found\n",
      "[WARNING] [2021-12-04 12:11:37,336:Client-AutoMLSMBO(1)::breast_cancer] Configuration 247 not found\n",
      "[WARNING] [2021-12-04 12:11:37,336:Client-AutoMLSMBO(1)::breast_cancer] Configuration 352 not found\n",
      "[WARNING] [2021-12-04 12:11:37,337:Client-AutoMLSMBO(1)::breast_cancer] Configuration 172 not found\n",
      "[WARNING] [2021-12-04 12:11:37,337:Client-AutoMLSMBO(1)::breast_cancer] Configuration 277 not found\n",
      "[WARNING] [2021-12-04 12:11:37,337:Client-AutoMLSMBO(1)::breast_cancer] Configuration 683 not found\n",
      "[WARNING] [2021-12-04 12:11:37,337:Client-AutoMLSMBO(1)::breast_cancer] Configuration 124 not found\n",
      "[WARNING] [2021-12-04 12:11:37,337:Client-AutoMLSMBO(1)::breast_cancer] Configuration 232 not found\n",
      "[WARNING] [2021-12-04 12:11:37,337:Client-AutoMLSMBO(1)::breast_cancer] Configuration 112 not found\n",
      "[WARNING] [2021-12-04 12:11:37,337:Client-AutoMLSMBO(1)::breast_cancer] Configuration 571 not found\n",
      "[WARNING] [2021-12-04 12:11:37,337:Client-AutoMLSMBO(1)::breast_cancer] Configuration 524 not found\n",
      "[WARNING] [2021-12-04 12:11:37,337:Client-AutoMLSMBO(1)::breast_cancer] Configuration 707 not found\n",
      "[WARNING] [2021-12-04 12:11:37,338:Client-AutoMLSMBO(1)::breast_cancer] Configuration 635 not found\n",
      "[WARNING] [2021-12-04 12:11:37,338:Client-AutoMLSMBO(1)::breast_cancer] Configuration 99 not found\n",
      "[WARNING] [2021-12-04 12:11:37,338:Client-AutoMLSMBO(1)::breast_cancer] Configuration 434 not found\n",
      "[WARNING] [2021-12-04 12:11:37,338:Client-AutoMLSMBO(1)::breast_cancer] Configuration 494 not found\n",
      "[WARNING] [2021-12-04 12:11:37,338:Client-AutoMLSMBO(1)::breast_cancer] Configuration 615 not found\n",
      "[WARNING] [2021-12-04 12:11:37,338:Client-AutoMLSMBO(1)::breast_cancer] Configuration 587 not found\n",
      "[WARNING] [2021-12-04 12:11:37,338:Client-AutoMLSMBO(1)::breast_cancer] Configuration 302 not found\n",
      "[WARNING] [2021-12-04 12:11:37,338:Client-AutoMLSMBO(1)::breast_cancer] Configuration 653 not found\n",
      "[WARNING] [2021-12-04 12:11:37,338:Client-AutoMLSMBO(1)::breast_cancer] Configuration 445 not found\n",
      "[WARNING] [2021-12-04 12:11:37,338:Client-AutoMLSMBO(1)::breast_cancer] Configuration 69 not found\n",
      "[WARNING] [2021-12-04 12:11:37,339:Client-AutoMLSMBO(1)::breast_cancer] Configuration 437 not found\n",
      "[WARNING] [2021-12-04 12:11:37,339:Client-AutoMLSMBO(1)::breast_cancer] Configuration 142 not found\n",
      "[WARNING] [2021-12-04 12:11:37,339:Client-AutoMLSMBO(1)::breast_cancer] Configuration 310 not found\n",
      "[WARNING] [2021-12-04 12:11:37,339:Client-AutoMLSMBO(1)::breast_cancer] Configuration 173 not found\n",
      "[WARNING] [2021-12-04 12:11:37,339:Client-AutoMLSMBO(1)::breast_cancer] Configuration 647 not found\n",
      "[WARNING] [2021-12-04 12:11:37,339:Client-AutoMLSMBO(1)::breast_cancer] Configuration 461 not found\n",
      "[WARNING] [2021-12-04 12:11:37,339:Client-AutoMLSMBO(1)::breast_cancer] Configuration 515 not found\n",
      "[WARNING] [2021-12-04 12:11:37,339:Client-AutoMLSMBO(1)::breast_cancer] Configuration 17 not found\n",
      "[WARNING] [2021-12-04 12:11:37,339:Client-AutoMLSMBO(1)::breast_cancer] Configuration 395 not found\n",
      "[WARNING] [2021-12-04 12:11:37,432:Client-AutoMLSMBO(1)::breast_cancer] Configuration 25 not found\n",
      "[WARNING] [2021-12-04 12:11:37,432:Client-AutoMLSMBO(1)::breast_cancer] Configuration 56 not found\n",
      "[WARNING] [2021-12-04 12:11:37,432:Client-AutoMLSMBO(1)::breast_cancer] Configuration 121 not found\n",
      "[WARNING] [2021-12-04 12:11:37,432:Client-AutoMLSMBO(1)::breast_cancer] Configuration 165 not found\n",
      "[WARNING] [2021-12-04 12:11:37,432:Client-AutoMLSMBO(1)::breast_cancer] Configuration 313 not found\n",
      "[WARNING] [2021-12-04 12:11:37,433:Client-AutoMLSMBO(1)::breast_cancer] Configuration 412 not found\n",
      "[WARNING] [2021-12-04 12:11:37,433:Client-AutoMLSMBO(1)::breast_cancer] Configuration 288 not found\n",
      "[WARNING] [2021-12-04 12:11:37,433:Client-AutoMLSMBO(1)::breast_cancer] Configuration 298 not found\n",
      "[WARNING] [2021-12-04 12:11:37,433:Client-AutoMLSMBO(1)::breast_cancer] Configuration 486 not found\n",
      "[WARNING] [2021-12-04 12:11:37,433:Client-AutoMLSMBO(1)::breast_cancer] Configuration 243 not found\n",
      "[WARNING] [2021-12-04 12:11:37,433:Client-AutoMLSMBO(1)::breast_cancer] Configuration 480 not found\n",
      "[WARNING] [2021-12-04 12:11:37,433:Client-AutoMLSMBO(1)::breast_cancer] Configuration 553 not found\n",
      "[WARNING] [2021-12-04 12:11:37,433:Client-AutoMLSMBO(1)::breast_cancer] Configuration 363 not found\n",
      "[WARNING] [2021-12-04 12:11:37,433:Client-AutoMLSMBO(1)::breast_cancer] Configuration 528 not found\n",
      "[WARNING] [2021-12-04 12:11:37,433:Client-AutoMLSMBO(1)::breast_cancer] Configuration 403 not found\n",
      "[WARNING] [2021-12-04 12:11:37,433:Client-AutoMLSMBO(1)::breast_cancer] Configuration 622 not found\n",
      "[WARNING] [2021-12-04 12:11:37,433:Client-AutoMLSMBO(1)::breast_cancer] Configuration 448 not found\n",
      "[WARNING] [2021-12-04 12:11:37,434:Client-AutoMLSMBO(1)::breast_cancer] Configuration 543 not found\n",
      "[WARNING] [2021-12-04 12:11:37,434:Client-AutoMLSMBO(1)::breast_cancer] Configuration 171 not found\n",
      "[WARNING] [2021-12-04 12:11:37,434:Client-AutoMLSMBO(1)::breast_cancer] Configuration 548 not found\n",
      "[WARNING] [2021-12-04 12:11:37,434:Client-AutoMLSMBO(1)::breast_cancer] Configuration 499 not found\n",
      "[WARNING] [2021-12-04 12:11:37,434:Client-AutoMLSMBO(1)::breast_cancer] Configuration 19 not found\n",
      "[WARNING] [2021-12-04 12:11:37,434:Client-AutoMLSMBO(1)::breast_cancer] Configuration 58 not found\n",
      "[WARNING] [2021-12-04 12:11:37,434:Client-AutoMLSMBO(1)::breast_cancer] Configuration 640 not found\n",
      "[WARNING] [2021-12-04 12:11:37,434:Client-AutoMLSMBO(1)::breast_cancer] Configuration 317 not found\n",
      "[WARNING] [2021-12-04 12:11:37,434:Client-AutoMLSMBO(1)::breast_cancer] Configuration 509 not found\n",
      "[WARNING] [2021-12-04 12:11:37,434:Client-AutoMLSMBO(1)::breast_cancer] Configuration 419 not found\n",
      "[WARNING] [2021-12-04 12:11:37,434:Client-AutoMLSMBO(1)::breast_cancer] Configuration 304 not found\n",
      "[WARNING] [2021-12-04 12:11:37,434:Client-AutoMLSMBO(1)::breast_cancer] Configuration 375 not found\n",
      "[WARNING] [2021-12-04 12:11:37,434:Client-AutoMLSMBO(1)::breast_cancer] Configuration 643 not found\n",
      "[WARNING] [2021-12-04 12:11:37,434:Client-AutoMLSMBO(1)::breast_cancer] Configuration 322 not found\n",
      "[WARNING] [2021-12-04 12:11:37,434:Client-AutoMLSMBO(1)::breast_cancer] Configuration 538 not found\n",
      "[WARNING] [2021-12-04 12:11:37,434:Client-AutoMLSMBO(1)::breast_cancer] Configuration 86 not found\n",
      "[WARNING] [2021-12-04 12:11:37,434:Client-AutoMLSMBO(1)::breast_cancer] Configuration 120 not found\n",
      "[WARNING] [2021-12-04 12:11:37,435:Client-AutoMLSMBO(1)::breast_cancer] Configuration 452 not found\n",
      "[WARNING] [2021-12-04 12:11:37,435:Client-AutoMLSMBO(1)::breast_cancer] Configuration 291 not found\n",
      "[WARNING] [2021-12-04 12:11:37,435:Client-AutoMLSMBO(1)::breast_cancer] Configuration 275 not found\n"
     ]
    },
    {
     "data": {
      "text/plain": [
       "AutoSklearnClassifier(get_smac_object_callback=<function get_smac_object_callback.<locals>.get_smac_object at 0x7f76116153a0>,\n",
       "                      include={'classifier': ['extra_trees',\n",
       "                                              'gradient_boosting',\n",
       "                                              'random_forest', 'sgd',\n",
       "                                              'passive_aggressive'],\n",
       "                               'feature_preprocessor': ['no_preprocessing']},\n",
       "                      n_jobs=-1, per_run_time_limit=10,\n",
       "                      resampling_strategy='cv',\n",
       "                      resampling_strategy_arguments={'folds': 5,\n",
       "                                                     'train_size': 0.67},\n",
       "                      time_left_for_this_task=40)"
      ]
     },
     "execution_count": 83,
     "metadata": {},
     "output_type": "execute_result"
    }
   ],
   "source": [
    "# CV\n",
    "\n",
    "automl = autosklearn.classification.AutoSklearnClassifier(\n",
    "    time_left_for_this_task=40,\n",
    "    per_run_time_limit=10,\n",
    "    n_jobs = -1,\n",
    "    disable_evaluator_output=False,\n",
    "    # 'holdout' with 'train_size'=0.67 is the default argument setting\n",
    "    # for AutoSklearnClassifier. It is explicitly specified in this example\n",
    "    # for demonstrational purpose.\n",
    "    resampling_strategy='cv',\n",
    "    resampling_strategy_arguments={'train_size': 0.67},\n",
    "    include={\n",
    "        'classifier': [\n",
    "            'extra_trees', 'gradient_boosting', 'random_forest',\n",
    "            'sgd', 'passive_aggressive'\n",
    "        ],\n",
    "        'feature_preprocessor': ['no_preprocessing']\n",
    "    },\n",
    "    get_smac_object_callback=get_smac_object_callback('iterations'),\n",
    ")\n",
    "automl.fit(X_train, y_train, dataset_name='breast_cancer')"
   ]
  },
  {
   "cell_type": "code",
   "execution_count": 84,
   "id": "957c7353",
   "metadata": {},
   "outputs": [
    {
     "name": "stdout",
     "output_type": "stream",
     "text": [
      "          rank  ensemble_weight           type      cost  duration\n",
      "model_id                                                          \n",
      "3            1             0.58  random_forest  0.051643   6.21423\n"
     ]
    }
   ],
   "source": [
    "print(automl.leaderboard())"
   ]
  },
  {
   "cell_type": "code",
   "execution_count": 85,
   "id": "87d4066f",
   "metadata": {},
   "outputs": [
    {
     "name": "stdout",
     "output_type": "stream",
     "text": [
      "auto-sklearn results:\n",
      "  Dataset name: breast_cancer\n",
      "  Metric: accuracy\n",
      "  Best validation score: 0.948357\n",
      "  Number of target algorithm runs: 4\n",
      "  Number of successful target algorithm runs: 3\n",
      "  Number of crashed target algorithm runs: 0\n",
      "  Number of target algorithms that exceeded the time limit: 1\n",
      "  Number of target algorithms that exceeded the memory limit: 0\n",
      "\n",
      "Accuracy score 0.9440559440559441\n"
     ]
    }
   ],
   "source": [
    "predictions = automl.predict(X_test)\n",
    "# Print statistics about the auto-sklearn run such as number of\n",
    "# iterations, number of models failed with a time out.\n",
    "print(automl.sprint_statistics())\n",
    "print(\"Accuracy score\", sklearn.metrics.accuracy_score(y_test, predictions))"
   ]
  },
  {
   "cell_type": "code",
   "execution_count": 86,
   "id": "0ae4192d",
   "metadata": {},
   "outputs": [
    {
     "name": "stdout",
     "output_type": "stream",
     "text": [
      "[WARNING] [2021-12-04 12:12:22,690:Client-AutoMLSMBO(1)::breast_cancer] Configuration 176 not found\n",
      "[WARNING] [2021-12-04 12:12:22,693:Client-AutoMLSMBO(1)::breast_cancer] Configuration 162 not found\n",
      "[WARNING] [2021-12-04 12:12:22,694:Client-AutoMLSMBO(1)::breast_cancer] Configuration 476 not found\n",
      "[WARNING] [2021-12-04 12:12:22,694:Client-AutoMLSMBO(1)::breast_cancer] Configuration 601 not found\n",
      "[WARNING] [2021-12-04 12:12:22,694:Client-AutoMLSMBO(1)::breast_cancer] Configuration 492 not found\n",
      "[WARNING] [2021-12-04 12:12:22,694:Client-AutoMLSMBO(1)::breast_cancer] Configuration 440 not found\n",
      "[WARNING] [2021-12-04 12:12:22,694:Client-AutoMLSMBO(1)::breast_cancer] Configuration 32 not found\n",
      "[WARNING] [2021-12-04 12:12:22,694:Client-AutoMLSMBO(1)::breast_cancer] Configuration 220 not found\n",
      "[WARNING] [2021-12-04 12:12:22,694:Client-AutoMLSMBO(1)::breast_cancer] Configuration 332 not found\n",
      "[WARNING] [2021-12-04 12:12:22,695:Client-AutoMLSMBO(1)::breast_cancer] Configuration 91 not found\n",
      "[WARNING] [2021-12-04 12:12:22,694:Client-AutoMLSMBO(1)::breast_cancer] Configuration 22 not found\n",
      "[WARNING] [2021-12-04 12:12:22,694:Client-AutoMLSMBO(1)::breast_cancer] Configuration 61 not found\n",
      "[WARNING] [2021-12-04 12:12:22,694:Client-AutoMLSMBO(1)::breast_cancer] Configuration 407 not found\n",
      "[WARNING] [2021-12-04 12:12:22,695:Client-AutoMLSMBO(1)::breast_cancer] Configuration 702 not found\n",
      "[WARNING] [2021-12-04 12:12:22,695:Client-AutoMLSMBO(1)::breast_cancer] Configuration 546 not found\n",
      "[WARNING] [2021-12-04 12:12:22,695:Client-AutoMLSMBO(1)::breast_cancer] Configuration 663 not found\n",
      "[WARNING] [2021-12-04 12:12:22,695:Client-AutoMLSMBO(1)::breast_cancer] Configuration 257 not found\n",
      "[WARNING] [2021-12-04 12:12:22,695:Client-AutoMLSMBO(1)::breast_cancer] Configuration 631 not found\n",
      "[WARNING] [2021-12-04 12:12:22,695:Client-AutoMLSMBO(1)::breast_cancer] Configuration 7 not found\n",
      "[WARNING] [2021-12-04 12:12:22,695:Client-AutoMLSMBO(1)::breast_cancer] Configuration 184 not found\n",
      "[WARNING] [2021-12-04 12:12:22,695:Client-AutoMLSMBO(1)::breast_cancer] Configuration 560 not found\n",
      "[WARNING] [2021-12-04 12:12:22,695:Client-AutoMLSMBO(1)::breast_cancer] Configuration 329 not found\n",
      "[WARNING] [2021-12-04 12:12:22,695:Client-AutoMLSMBO(1)::breast_cancer] Configuration 386 not found\n",
      "[WARNING] [2021-12-04 12:12:22,695:Client-AutoMLSMBO(1)::breast_cancer] Configuration 9 not found\n",
      "[WARNING] [2021-12-04 12:12:22,720:Client-AutoMLSMBO(1)::breast_cancer] Configuration 345 not found\n",
      "[WARNING] [2021-12-04 12:12:22,720:Client-AutoMLSMBO(1)::breast_cancer] Configuration 399 not found\n",
      "[WARNING] [2021-12-04 12:12:22,720:Client-AutoMLSMBO(1)::breast_cancer] Configuration 222 not found\n",
      "[WARNING] [2021-12-04 12:12:22,720:Client-AutoMLSMBO(1)::breast_cancer] Configuration 149 not found\n",
      "[WARNING] [2021-12-04 12:12:22,720:Client-AutoMLSMBO(1)::breast_cancer] Configuration 238 not found\n",
      "[WARNING] [2021-12-04 12:12:22,721:Client-AutoMLSMBO(1)::breast_cancer] Configuration 211 not found\n",
      "[WARNING] [2021-12-04 12:12:22,721:Client-AutoMLSMBO(1)::breast_cancer] Configuration 358 not found\n",
      "[WARNING] [2021-12-04 12:12:22,721:Client-AutoMLSMBO(1)::breast_cancer] Configuration 188 not found\n",
      "[WARNING] [2021-12-04 12:12:22,723:Client-AutoMLSMBO(1)::breast_cancer] Configuration 460 not found\n",
      "[WARNING] [2021-12-04 12:12:22,723:Client-AutoMLSMBO(1)::breast_cancer] Configuration 585 not found\n",
      "[WARNING] [2021-12-04 12:12:22,723:Client-AutoMLSMBO(1)::breast_cancer] Configuration 690 not found\n",
      "[WARNING] [2021-12-04 12:12:22,723:Client-AutoMLSMBO(1)::breast_cancer] Configuration 254 not found\n",
      "[WARNING] [2021-12-04 12:12:22,723:Client-AutoMLSMBO(1)::breast_cancer] Configuration 473 not found\n",
      "[WARNING] [2021-12-04 12:12:22,723:Client-AutoMLSMBO(1)::breast_cancer] Configuration 71 not found\n",
      "[WARNING] [2021-12-04 12:12:22,723:Client-AutoMLSMBO(1)::breast_cancer] Configuration 230 not found\n",
      "[WARNING] [2021-12-04 12:12:22,723:Client-AutoMLSMBO(1)::breast_cancer] Configuration 108 not found\n",
      "[WARNING] [2021-12-04 12:12:22,723:Client-AutoMLSMBO(1)::breast_cancer] Configuration 506 not found\n",
      "[WARNING] [2021-12-04 12:12:22,723:Client-AutoMLSMBO(1)::breast_cancer] Configuration 590 not found\n",
      "[WARNING] [2021-12-04 12:12:22,723:Client-AutoMLSMBO(1)::breast_cancer] Configuration 81 not found\n"
     ]
    },
    {
     "name": "stderr",
     "output_type": "stream",
     "text": [
      "/usr/local/lib/python3.8/dist-packages/smac/intensification/parallel_scheduling.py:152: UserWarning: SuccessiveHalving is intended to be used with more than 1 worker but num_workers=1\n",
      "  warnings.warn(\"{} is intended to be used \"\n"
     ]
    },
    {
     "name": "stdout",
     "output_type": "stream",
     "text": [
      "[WARNING] [2021-12-04 12:12:22,723:Client-AutoMLSMBO(1)::breast_cancer] Configuration 694 not found\n",
      "[WARNING] [2021-12-04 12:12:22,723:Client-AutoMLSMBO(1)::breast_cancer] Configuration 426 not found\n",
      "[WARNING] [2021-12-04 12:12:22,723:Client-AutoMLSMBO(1)::breast_cancer] Configuration 327 not found\n",
      "[WARNING] [2021-12-04 12:12:22,723:Client-AutoMLSMBO(1)::breast_cancer] Configuration 657 not found\n",
      "[WARNING] [2021-12-04 12:12:22,726:Client-AutoMLSMBO(1)::breast_cancer] Configuration 532 not found\n",
      "[WARNING] [2021-12-04 12:12:22,726:Client-AutoMLSMBO(1)::breast_cancer] Configuration 315 not found\n",
      "[WARNING] [2021-12-04 12:12:22,726:Client-AutoMLSMBO(1)::breast_cancer] Configuration 138 not found\n",
      "[WARNING] [2021-12-04 12:12:22,726:Client-AutoMLSMBO(1)::breast_cancer] Configuration 206 not found\n",
      "[WARNING] [2021-12-04 12:12:22,726:Client-AutoMLSMBO(1)::breast_cancer] Configuration 579 not found\n",
      "[WARNING] [2021-12-04 12:12:22,727:Client-AutoMLSMBO(1)::breast_cancer] Configuration 454 not found\n",
      "[WARNING] [2021-12-04 12:12:22,727:Client-AutoMLSMBO(1)::breast_cancer] Configuration 1 not found\n",
      "[WARNING] [2021-12-04 12:12:22,727:Client-AutoMLSMBO(1)::breast_cancer] Configuration 147 not found\n",
      "[WARNING] [2021-12-04 12:12:22,727:Client-AutoMLSMBO(1)::breast_cancer] Configuration 393 not found\n",
      "[WARNING] [2021-12-04 12:12:22,727:Client-AutoMLSMBO(1)::breast_cancer] Configuration 347 not found\n",
      "[WARNING] [2021-12-04 12:12:22,727:Client-AutoMLSMBO(1)::breast_cancer] Configuration 701 not found\n",
      "[WARNING] [2021-12-04 12:12:22,727:Client-AutoMLSMBO(1)::breast_cancer] Configuration 266 not found\n",
      "[WARNING] [2021-12-04 12:12:22,727:Client-AutoMLSMBO(1)::breast_cancer] Configuration 28 not found\n",
      "[WARNING] [2021-12-04 12:12:22,728:Client-AutoMLSMBO(1)::breast_cancer] Configuration 282 not found\n",
      "[WARNING] [2021-12-04 12:12:22,728:Client-AutoMLSMBO(1)::breast_cancer] Configuration 367 not found\n",
      "[WARNING] [2021-12-04 12:12:22,728:Client-AutoMLSMBO(1)::breast_cancer] Configuration 518 not found\n",
      "[WARNING] [2021-12-04 12:12:22,728:Client-AutoMLSMBO(1)::breast_cancer] Configuration 648 not found\n",
      "[WARNING] [2021-12-04 12:12:22,728:Client-AutoMLSMBO(1)::breast_cancer] Configuration 67 not found\n",
      "[WARNING] [2021-12-04 12:12:22,728:Client-AutoMLSMBO(1)::breast_cancer] Configuration 521 not found\n",
      "[WARNING] [2021-12-04 12:12:22,728:Client-AutoMLSMBO(1)::breast_cancer] Configuration 227 not found\n",
      "[WARNING] [2021-12-04 12:12:22,729:Client-AutoMLSMBO(1)::breast_cancer] Configuration 145 not found\n",
      "[WARNING] [2021-12-04 12:12:22,735:Client-AutoMLSMBO(1)::breast_cancer] Configuration 576 not found\n",
      "[WARNING] [2021-12-04 12:12:22,735:Client-AutoMLSMBO(1)::breast_cancer] Configuration 680 not found\n",
      "[WARNING] [2021-12-04 12:12:22,735:Client-AutoMLSMBO(1)::breast_cancer] Configuration 605 not found\n",
      "[WARNING] [2021-12-04 12:12:22,735:Client-AutoMLSMBO(1)::breast_cancer] Configuration 624 not found\n",
      "[WARNING] [2021-12-04 12:12:22,735:Client-AutoMLSMBO(1)::breast_cancer] Configuration 191 not found\n",
      "[WARNING] [2021-12-04 12:12:22,735:Client-AutoMLSMBO(1)::breast_cancer] Configuration 414 not found\n",
      "[WARNING] [2021-12-04 12:12:22,735:Client-AutoMLSMBO(1)::breast_cancer] Configuration 574 not found\n",
      "[WARNING] [2021-12-04 12:12:22,736:Client-AutoMLSMBO(1)::breast_cancer] Configuration 283 not found\n",
      "[WARNING] [2021-12-04 12:12:22,736:Client-AutoMLSMBO(1)::breast_cancer] Configuration 262 not found\n",
      "[WARNING] [2021-12-04 12:12:22,736:Client-AutoMLSMBO(1)::breast_cancer] Configuration 369 not found\n",
      "[WARNING] [2021-12-04 12:12:22,736:Client-AutoMLSMBO(1)::breast_cancer] Configuration 444 not found\n",
      "[WARNING] [2021-12-04 12:12:22,736:Client-AutoMLSMBO(1)::breast_cancer] Configuration 264 not found\n",
      "[WARNING] [2021-12-04 12:12:22,736:Client-AutoMLSMBO(1)::breast_cancer] Configuration 14 not found\n",
      "[WARNING] [2021-12-04 12:12:22,736:Client-AutoMLSMBO(1)::breast_cancer] Configuration 430 not found\n",
      "[WARNING] [2021-12-04 12:12:22,736:Client-AutoMLSMBO(1)::breast_cancer] Configuration 674 not found\n",
      "[WARNING] [2021-12-04 12:12:22,736:Client-AutoMLSMBO(1)::breast_cancer] Configuration 563 not found\n",
      "[WARNING] [2021-12-04 12:12:22,736:Client-AutoMLSMBO(1)::breast_cancer] Configuration 357 not found\n",
      "[WARNING] [2021-12-04 12:12:22,737:Client-AutoMLSMBO(1)::breast_cancer] Configuration 338 not found\n",
      "[WARNING] [2021-12-04 12:12:22,737:Client-AutoMLSMBO(1)::breast_cancer] Configuration 43 not found\n",
      "[WARNING] [2021-12-04 12:12:22,737:Client-AutoMLSMBO(1)::breast_cancer] Configuration 160 not found\n",
      "[WARNING] [2021-12-04 12:12:22,737:Client-AutoMLSMBO(1)::breast_cancer] Configuration 382 not found\n",
      "[WARNING] [2021-12-04 12:12:22,737:Client-AutoMLSMBO(1)::breast_cancer] Configuration 53 not found\n",
      "[WARNING] [2021-12-04 12:12:22,737:Client-AutoMLSMBO(1)::breast_cancer] Configuration 48 not found\n",
      "[WARNING] [2021-12-04 12:12:22,737:Client-AutoMLSMBO(1)::breast_cancer] Configuration 536 not found\n",
      "[WARNING] [2021-12-04 12:12:22,737:Client-AutoMLSMBO(1)::breast_cancer] Configuration 555 not found\n",
      "[WARNING] [2021-12-04 12:12:22,739:Client-AutoMLSMBO(1)::breast_cancer] Configuration 214 not found\n",
      "[WARNING] [2021-12-04 12:12:22,739:Client-AutoMLSMBO(1)::breast_cancer] Configuration 388 not found\n",
      "[WARNING] [2021-12-04 12:12:22,739:Client-AutoMLSMBO(1)::breast_cancer] Configuration 676 not found\n",
      "[WARNING] [2021-12-04 12:12:22,739:Client-AutoMLSMBO(1)::breast_cancer] Configuration 97 not found\n",
      "[WARNING] [2021-12-04 12:12:22,739:Client-AutoMLSMBO(1)::breast_cancer] Configuration 40 not found\n",
      "[WARNING] [2021-12-04 12:12:22,739:Client-AutoMLSMBO(1)::breast_cancer] Configuration 270 not found\n",
      "[WARNING] [2021-12-04 12:12:22,739:Client-AutoMLSMBO(1)::breast_cancer] Configuration 512 not found\n",
      "[WARNING] [2021-12-04 12:12:22,739:Client-AutoMLSMBO(1)::breast_cancer] Configuration 595 not found\n",
      "[WARNING] [2021-12-04 12:12:22,739:Client-AutoMLSMBO(1)::breast_cancer] Configuration 131 not found\n",
      "[WARNING] [2021-12-04 12:12:22,739:Client-AutoMLSMBO(1)::breast_cancer] Configuration 687 not found\n",
      "[WARNING] [2021-12-04 12:12:22,739:Client-AutoMLSMBO(1)::breast_cancer] Configuration 114 not found\n",
      "[WARNING] [2021-12-04 12:12:22,739:Client-AutoMLSMBO(1)::breast_cancer] Configuration 129 not found\n",
      "[WARNING] [2021-12-04 12:12:22,739:Client-AutoMLSMBO(1)::breast_cancer] Configuration 193 not found\n",
      "[WARNING] [2021-12-04 12:12:22,792:Client-AutoMLSMBO(1)::breast_cancer] Configuration 197 not found\n",
      "[WARNING] [2021-12-04 12:12:22,792:Client-AutoMLSMBO(1)::breast_cancer] Configuration 485 not found\n",
      "[WARNING] [2021-12-04 12:12:22,792:Client-AutoMLSMBO(1)::breast_cancer] Configuration 83 not found\n",
      "[WARNING] [2021-12-04 12:12:22,792:Client-AutoMLSMBO(1)::breast_cancer] Configuration 88 not found\n",
      "[WARNING] [2021-12-04 12:12:22,792:Client-AutoMLSMBO(1)::breast_cancer] Configuration 422 not found\n",
      "[WARNING] [2021-12-04 12:12:22,792:Client-AutoMLSMBO(1)::breast_cancer] Configuration 237 not found\n",
      "[WARNING] [2021-12-04 12:12:22,792:Client-AutoMLSMBO(1)::breast_cancer] Configuration 470 not found\n",
      "[WARNING] [2021-12-04 12:12:22,792:Client-AutoMLSMBO(1)::breast_cancer] Configuration 613 not found\n",
      "[WARNING] [2021-12-04 12:12:22,792:Client-AutoMLSMBO(1)::breast_cancer] Configuration 293 not found\n",
      "[WARNING] [2021-12-04 12:12:22,792:Client-AutoMLSMBO(1)::breast_cancer] Configuration 378 not found\n",
      "[WARNING] [2021-12-04 12:12:22,792:Client-AutoMLSMBO(1)::breast_cancer] Configuration 204 not found\n",
      "[WARNING] [2021-12-04 12:12:22,793:Client-AutoMLSMBO(1)::breast_cancer] Configuration 154 not found\n",
      "[WARNING] [2021-12-04 12:12:22,793:Client-AutoMLSMBO(1)::breast_cancer] Configuration 247 not found\n",
      "[WARNING] [2021-12-04 12:12:22,804:Client-AutoMLSMBO(1)::breast_cancer] Configuration 352 not found\n",
      "[WARNING] [2021-12-04 12:12:22,805:Client-AutoMLSMBO(1)::breast_cancer] Configuration 172 not found\n",
      "[WARNING] [2021-12-04 12:12:22,806:Client-AutoMLSMBO(1)::breast_cancer] Configuration 277 not found\n",
      "[WARNING] [2021-12-04 12:12:22,806:Client-AutoMLSMBO(1)::breast_cancer] Configuration 683 not found\n",
      "[WARNING] [2021-12-04 12:12:22,806:Client-AutoMLSMBO(1)::breast_cancer] Configuration 124 not found\n",
      "[WARNING] [2021-12-04 12:12:22,806:Client-AutoMLSMBO(1)::breast_cancer] Configuration 232 not found\n",
      "[WARNING] [2021-12-04 12:12:22,806:Client-AutoMLSMBO(1)::breast_cancer] Configuration 112 not found\n",
      "[WARNING] [2021-12-04 12:12:22,806:Client-AutoMLSMBO(1)::breast_cancer] Configuration 571 not found\n",
      "[WARNING] [2021-12-04 12:12:22,806:Client-AutoMLSMBO(1)::breast_cancer] Configuration 524 not found\n",
      "[WARNING] [2021-12-04 12:12:22,807:Client-AutoMLSMBO(1)::breast_cancer] Configuration 707 not found\n",
      "[WARNING] [2021-12-04 12:12:22,807:Client-AutoMLSMBO(1)::breast_cancer] Configuration 635 not found\n",
      "[WARNING] [2021-12-04 12:12:22,891:Client-AutoMLSMBO(1)::breast_cancer] Configuration 99 not found\n",
      "[WARNING] [2021-12-04 12:12:22,891:Client-AutoMLSMBO(1)::breast_cancer] Configuration 434 not found\n",
      "[WARNING] [2021-12-04 12:12:22,891:Client-AutoMLSMBO(1)::breast_cancer] Configuration 494 not found\n",
      "[WARNING] [2021-12-04 12:12:22,891:Client-AutoMLSMBO(1)::breast_cancer] Configuration 615 not found\n",
      "[WARNING] [2021-12-04 12:12:22,891:Client-AutoMLSMBO(1)::breast_cancer] Configuration 587 not found\n",
      "[WARNING] [2021-12-04 12:12:22,891:Client-AutoMLSMBO(1)::breast_cancer] Configuration 302 not found\n",
      "[WARNING] [2021-12-04 12:12:22,891:Client-AutoMLSMBO(1)::breast_cancer] Configuration 653 not found\n",
      "[WARNING] [2021-12-04 12:12:22,891:Client-AutoMLSMBO(1)::breast_cancer] Configuration 445 not found\n",
      "[WARNING] [2021-12-04 12:12:22,891:Client-AutoMLSMBO(1)::breast_cancer] Configuration 69 not found\n",
      "[WARNING] [2021-12-04 12:12:22,892:Client-AutoMLSMBO(1)::breast_cancer] Configuration 437 not found\n",
      "[WARNING] [2021-12-04 12:12:22,892:Client-AutoMLSMBO(1)::breast_cancer] Configuration 142 not found\n",
      "[WARNING] [2021-12-04 12:12:22,892:Client-AutoMLSMBO(1)::breast_cancer] Configuration 310 not found\n",
      "[WARNING] [2021-12-04 12:12:22,892:Client-AutoMLSMBO(1)::breast_cancer] Configuration 173 not found\n",
      "[WARNING] [2021-12-04 12:12:22,892:Client-AutoMLSMBO(1)::breast_cancer] Configuration 647 not found\n",
      "[WARNING] [2021-12-04 12:12:22,892:Client-AutoMLSMBO(1)::breast_cancer] Configuration 461 not found\n",
      "[WARNING] [2021-12-04 12:12:22,892:Client-AutoMLSMBO(1)::breast_cancer] Configuration 515 not found\n",
      "[WARNING] [2021-12-04 12:12:22,892:Client-AutoMLSMBO(1)::breast_cancer] Configuration 17 not found\n",
      "[WARNING] [2021-12-04 12:12:22,892:Client-AutoMLSMBO(1)::breast_cancer] Configuration 395 not found\n",
      "[WARNING] [2021-12-04 12:12:22,892:Client-AutoMLSMBO(1)::breast_cancer] Configuration 25 not found\n",
      "[WARNING] [2021-12-04 12:12:22,892:Client-AutoMLSMBO(1)::breast_cancer] Configuration 56 not found\n",
      "[WARNING] [2021-12-04 12:12:22,892:Client-AutoMLSMBO(1)::breast_cancer] Configuration 121 not found\n",
      "[WARNING] [2021-12-04 12:12:22,892:Client-AutoMLSMBO(1)::breast_cancer] Configuration 165 not found\n",
      "[WARNING] [2021-12-04 12:12:22,892:Client-AutoMLSMBO(1)::breast_cancer] Configuration 313 not found\n",
      "[WARNING] [2021-12-04 12:12:22,892:Client-AutoMLSMBO(1)::breast_cancer] Configuration 412 not found\n",
      "[WARNING] [2021-12-04 12:12:22,893:Client-AutoMLSMBO(1)::breast_cancer] Configuration 288 not found\n",
      "[WARNING] [2021-12-04 12:12:22,893:Client-AutoMLSMBO(1)::breast_cancer] Configuration 298 not found\n",
      "[WARNING] [2021-12-04 12:12:22,893:Client-AutoMLSMBO(1)::breast_cancer] Configuration 486 not found\n",
      "[WARNING] [2021-12-04 12:12:22,893:Client-AutoMLSMBO(1)::breast_cancer] Configuration 243 not found\n",
      "[WARNING] [2021-12-04 12:12:22,893:Client-AutoMLSMBO(1)::breast_cancer] Configuration 480 not found\n",
      "[WARNING] [2021-12-04 12:12:22,893:Client-AutoMLSMBO(1)::breast_cancer] Configuration 553 not found\n",
      "[WARNING] [2021-12-04 12:12:22,893:Client-AutoMLSMBO(1)::breast_cancer] Configuration 363 not found\n",
      "[WARNING] [2021-12-04 12:12:22,893:Client-AutoMLSMBO(1)::breast_cancer] Configuration 528 not found\n",
      "[WARNING] [2021-12-04 12:12:22,893:Client-AutoMLSMBO(1)::breast_cancer] Configuration 403 not found\n",
      "[WARNING] [2021-12-04 12:12:22,893:Client-AutoMLSMBO(1)::breast_cancer] Configuration 622 not found\n",
      "[WARNING] [2021-12-04 12:12:22,893:Client-AutoMLSMBO(1)::breast_cancer] Configuration 448 not found\n",
      "[WARNING] [2021-12-04 12:12:22,894:Client-AutoMLSMBO(1)::breast_cancer] Configuration 543 not found\n",
      "[WARNING] [2021-12-04 12:12:22,894:Client-AutoMLSMBO(1)::breast_cancer] Configuration 548 not found\n",
      "[WARNING] [2021-12-04 12:12:22,894:Client-AutoMLSMBO(1)::breast_cancer] Configuration 499 not found\n",
      "[WARNING] [2021-12-04 12:12:22,894:Client-AutoMLSMBO(1)::breast_cancer] Configuration 171 not found\n",
      "[WARNING] [2021-12-04 12:12:22,894:Client-AutoMLSMBO(1)::breast_cancer] Configuration 19 not found\n",
      "[WARNING] [2021-12-04 12:12:22,894:Client-AutoMLSMBO(1)::breast_cancer] Configuration 509 not found\n",
      "[WARNING] [2021-12-04 12:12:22,894:Client-AutoMLSMBO(1)::breast_cancer] Configuration 58 not found\n",
      "[WARNING] [2021-12-04 12:12:22,894:Client-AutoMLSMBO(1)::breast_cancer] Configuration 640 not found\n",
      "[WARNING] [2021-12-04 12:12:22,894:Client-AutoMLSMBO(1)::breast_cancer] Configuration 317 not found\n",
      "[WARNING] [2021-12-04 12:12:22,894:Client-AutoMLSMBO(1)::breast_cancer] Configuration 419 not found\n",
      "[WARNING] [2021-12-04 12:12:22,894:Client-AutoMLSMBO(1)::breast_cancer] Configuration 304 not found\n",
      "[WARNING] [2021-12-04 12:12:22,894:Client-AutoMLSMBO(1)::breast_cancer] Configuration 375 not found\n",
      "[WARNING] [2021-12-04 12:12:22,895:Client-AutoMLSMBO(1)::breast_cancer] Configuration 643 not found\n",
      "[WARNING] [2021-12-04 12:12:22,895:Client-AutoMLSMBO(1)::breast_cancer] Configuration 322 not found\n",
      "[WARNING] [2021-12-04 12:12:22,895:Client-AutoMLSMBO(1)::breast_cancer] Configuration 538 not found\n",
      "[WARNING] [2021-12-04 12:12:22,895:Client-AutoMLSMBO(1)::breast_cancer] Configuration 86 not found\n",
      "[WARNING] [2021-12-04 12:12:22,895:Client-AutoMLSMBO(1)::breast_cancer] Configuration 120 not found\n",
      "[WARNING] [2021-12-04 12:12:22,895:Client-AutoMLSMBO(1)::breast_cancer] Configuration 452 not found\n",
      "[WARNING] [2021-12-04 12:12:22,895:Client-AutoMLSMBO(1)::breast_cancer] Configuration 291 not found\n",
      "[WARNING] [2021-12-04 12:12:22,895:Client-AutoMLSMBO(1)::breast_cancer] Configuration 275 not found\n"
     ]
    },
    {
     "data": {
      "text/plain": [
       "AutoSklearnClassifier(get_smac_object_callback=<function get_smac_object_callback.<locals>.get_smac_object at 0x7f760c18eb80>,\n",
       "                      include={'classifier': ['extra_trees',\n",
       "                                              'gradient_boosting',\n",
       "                                              'random_forest', 'sgd',\n",
       "                                              'passive_aggressive'],\n",
       "                               'feature_preprocessor': ['no_preprocessing']},\n",
       "                      n_jobs=-1, per_run_time_limit=10,\n",
       "                      resampling_strategy='cv-iterative-fit',\n",
       "                      resampling_strategy_arguments={'folds': 5,\n",
       "                                                     'train_size': 0.67},\n",
       "                      time_left_for_this_task=40)"
      ]
     },
     "execution_count": 86,
     "metadata": {},
     "output_type": "execute_result"
    }
   ],
   "source": [
    "# Iterative CV\n",
    "\n",
    "automl = autosklearn.classification.AutoSklearnClassifier(\n",
    "    time_left_for_this_task=40,\n",
    "    per_run_time_limit=10,\n",
    "    n_jobs = -1,\n",
    "    disable_evaluator_output=False,\n",
    "    # 'holdout' with 'train_size'=0.67 is the default argument setting\n",
    "    # for AutoSklearnClassifier. It is explicitly specified in this example\n",
    "    # for demonstrational purpose.\n",
    "    resampling_strategy='cv-iterative-fit',\n",
    "    resampling_strategy_arguments={'train_size': 0.67},\n",
    "    include={\n",
    "        'classifier': [\n",
    "            'extra_trees', 'gradient_boosting', 'random_forest',\n",
    "            'sgd', 'passive_aggressive'\n",
    "        ],\n",
    "        'feature_preprocessor': ['no_preprocessing']\n",
    "    },\n",
    "    get_smac_object_callback=get_smac_object_callback('iterations'),\n",
    ")\n",
    "automl.fit(X_train, y_train, dataset_name='breast_cancer')"
   ]
  },
  {
   "cell_type": "code",
   "execution_count": 87,
   "id": "0e9ec354",
   "metadata": {},
   "outputs": [
    {
     "name": "stdout",
     "output_type": "stream",
     "text": [
      "          rank  ensemble_weight                type      cost   duration\n",
      "model_id                                                                \n",
      "2            1             0.22       random_forest  0.051643  10.190765\n",
      "3            2             0.38       random_forest  0.053991   8.361228\n",
      "4            3             0.40  passive_aggressive  0.131455   5.028059\n"
     ]
    }
   ],
   "source": [
    "print(automl.leaderboard())"
   ]
  },
  {
   "cell_type": "code",
   "execution_count": 88,
   "id": "665d526e",
   "metadata": {},
   "outputs": [
    {
     "name": "stdout",
     "output_type": "stream",
     "text": [
      "auto-sklearn results:\n",
      "  Dataset name: breast_cancer\n",
      "  Metric: accuracy\n",
      "  Best validation score: 0.948357\n",
      "  Number of target algorithm runs: 3\n",
      "  Number of successful target algorithm runs: 3\n",
      "  Number of crashed target algorithm runs: 0\n",
      "  Number of target algorithms that exceeded the time limit: 0\n",
      "  Number of target algorithms that exceeded the memory limit: 0\n",
      "\n",
      "Accuracy score 0.9440559440559441\n"
     ]
    }
   ],
   "source": [
    "predictions = automl.predict(X_test)\n",
    "# Print statistics about the auto-sklearn run such as number of\n",
    "# iterations, number of models failed with a time out.\n",
    "print(automl.sprint_statistics())\n",
    "print(\"Accuracy score\", sklearn.metrics.accuracy_score(y_test, predictions))"
   ]
  },
  {
   "cell_type": "code",
   "execution_count": 89,
   "id": "2825817b",
   "metadata": {},
   "outputs": [
    {
     "name": "stdout",
     "output_type": "stream",
     "text": [
      "[WARNING] [2021-12-04 12:15:08,456:Client-AutoMLSMBO(1)::breast_cancer] Configuration 176 not found\n",
      "[WARNING] [2021-12-04 12:15:08,457:Client-AutoMLSMBO(1)::breast_cancer] Configuration 162 not found\n",
      "[WARNING] [2021-12-04 12:15:08,458:Client-AutoMLSMBO(1)::breast_cancer] Configuration 476 not found\n",
      "[WARNING] [2021-12-04 12:15:08,458:Client-AutoMLSMBO(1)::breast_cancer] Configuration 601 not found\n",
      "[WARNING] [2021-12-04 12:15:08,458:Client-AutoMLSMBO(1)::breast_cancer] Configuration 492 not found\n",
      "[WARNING] [2021-12-04 12:15:08,458:Client-AutoMLSMBO(1)::breast_cancer] Configuration 440 not found\n",
      "[WARNING] [2021-12-04 12:15:08,458:Client-AutoMLSMBO(1)::breast_cancer] Configuration 32 not found\n",
      "[WARNING] [2021-12-04 12:15:08,465:Client-AutoMLSMBO(1)::breast_cancer] Configuration 220 not found\n",
      "[WARNING] [2021-12-04 12:15:08,466:Client-AutoMLSMBO(1)::breast_cancer] Configuration 332 not found\n",
      "[WARNING] [2021-12-04 12:15:08,466:Client-AutoMLSMBO(1)::breast_cancer] Configuration 22 not found\n",
      "[WARNING] [2021-12-04 12:15:08,466:Client-AutoMLSMBO(1)::breast_cancer] Configuration 61 not found\n",
      "[WARNING] [2021-12-04 12:15:08,466:Client-AutoMLSMBO(1)::breast_cancer] Configuration 407 not found\n",
      "[WARNING] [2021-12-04 12:15:08,466:Client-AutoMLSMBO(1)::breast_cancer] Configuration 91 not found\n",
      "[WARNING] [2021-12-04 12:15:08,467:Client-AutoMLSMBO(1)::breast_cancer] Configuration 702 not found\n",
      "[WARNING] [2021-12-04 12:15:08,467:Client-AutoMLSMBO(1)::breast_cancer] Configuration 546 not found\n",
      "[WARNING] [2021-12-04 12:15:08,467:Client-AutoMLSMBO(1)::breast_cancer] Configuration 663 not found\n",
      "[WARNING] [2021-12-04 12:15:08,467:Client-AutoMLSMBO(1)::breast_cancer] Configuration 257 not found\n",
      "[WARNING] [2021-12-04 12:15:08,468:Client-AutoMLSMBO(1)::breast_cancer] Configuration 631 not found\n",
      "[WARNING] [2021-12-04 12:15:08,468:Client-AutoMLSMBO(1)::breast_cancer] Configuration 7 not found\n",
      "[WARNING] [2021-12-04 12:15:08,468:Client-AutoMLSMBO(1)::breast_cancer] Configuration 184 not found\n",
      "[WARNING] [2021-12-04 12:15:08,468:Client-AutoMLSMBO(1)::breast_cancer] Configuration 560 not found\n",
      "[WARNING] [2021-12-04 12:15:08,468:Client-AutoMLSMBO(1)::breast_cancer] Configuration 329 not found\n",
      "[WARNING] [2021-12-04 12:15:08,468:Client-AutoMLSMBO(1)::breast_cancer] Configuration 386 not found\n",
      "[WARNING] [2021-12-04 12:15:08,468:Client-AutoMLSMBO(1)::breast_cancer] Configuration 9 not found\n",
      "[WARNING] [2021-12-04 12:15:08,469:Client-AutoMLSMBO(1)::breast_cancer] Configuration 345 not found\n",
      "[WARNING] [2021-12-04 12:15:08,469:Client-AutoMLSMBO(1)::breast_cancer] Configuration 399 not found\n",
      "[WARNING] [2021-12-04 12:15:08,469:Client-AutoMLSMBO(1)::breast_cancer] Configuration 222 not found\n",
      "[WARNING] [2021-12-04 12:15:08,469:Client-AutoMLSMBO(1)::breast_cancer] Configuration 149 not found\n",
      "[WARNING] [2021-12-04 12:15:08,469:Client-AutoMLSMBO(1)::breast_cancer] Configuration 238 not found\n",
      "[WARNING] [2021-12-04 12:15:08,469:Client-AutoMLSMBO(1)::breast_cancer] Configuration 211 not found\n",
      "[WARNING] [2021-12-04 12:15:08,469:Client-AutoMLSMBO(1)::breast_cancer] Configuration 358 not found\n",
      "[WARNING] [2021-12-04 12:15:08,469:Client-AutoMLSMBO(1)::breast_cancer] Configuration 188 not found\n",
      "[WARNING] [2021-12-04 12:15:08,469:Client-AutoMLSMBO(1)::breast_cancer] Configuration 460 not found\n",
      "[WARNING] [2021-12-04 12:15:08,469:Client-AutoMLSMBO(1)::breast_cancer] Configuration 585 not found\n",
      "[WARNING] [2021-12-04 12:15:08,469:Client-AutoMLSMBO(1)::breast_cancer] Configuration 690 not found\n",
      "[WARNING] [2021-12-04 12:15:08,469:Client-AutoMLSMBO(1)::breast_cancer] Configuration 254 not found\n",
      "[WARNING] [2021-12-04 12:15:08,469:Client-AutoMLSMBO(1)::breast_cancer] Configuration 473 not found\n",
      "[WARNING] [2021-12-04 12:15:08,470:Client-AutoMLSMBO(1)::breast_cancer] Configuration 71 not found\n",
      "[WARNING] [2021-12-04 12:15:08,470:Client-AutoMLSMBO(1)::breast_cancer] Configuration 230 not found\n",
      "[WARNING] [2021-12-04 12:15:08,470:Client-AutoMLSMBO(1)::breast_cancer] Configuration 108 not found\n",
      "[WARNING] [2021-12-04 12:15:08,471:Client-AutoMLSMBO(1)::breast_cancer] Configuration 590 not found\n",
      "[WARNING] [2021-12-04 12:15:08,471:Client-AutoMLSMBO(1)::breast_cancer] Configuration 81 not found\n",
      "[WARNING] [2021-12-04 12:15:08,471:Client-AutoMLSMBO(1)::breast_cancer] Configuration 506 not found\n",
      "[WARNING] [2021-12-04 12:15:08,471:Client-AutoMLSMBO(1)::breast_cancer] Configuration 694 not found\n",
      "[WARNING] [2021-12-04 12:15:08,471:Client-AutoMLSMBO(1)::breast_cancer] Configuration 426 not found\n",
      "[WARNING] [2021-12-04 12:15:08,471:Client-AutoMLSMBO(1)::breast_cancer] Configuration 327 not found\n",
      "[WARNING] [2021-12-04 12:15:08,471:Client-AutoMLSMBO(1)::breast_cancer] Configuration 657 not found\n",
      "[WARNING] [2021-12-04 12:15:08,471:Client-AutoMLSMBO(1)::breast_cancer] Configuration 532 not found\n",
      "[WARNING] [2021-12-04 12:15:08,471:Client-AutoMLSMBO(1)::breast_cancer] Configuration 315 not found\n",
      "[WARNING] [2021-12-04 12:15:08,471:Client-AutoMLSMBO(1)::breast_cancer] Configuration 138 not found\n",
      "[WARNING] [2021-12-04 12:15:08,472:Client-AutoMLSMBO(1)::breast_cancer] Configuration 206 not found\n",
      "[WARNING] [2021-12-04 12:15:08,472:Client-AutoMLSMBO(1)::breast_cancer] Configuration 579 not found\n",
      "[WARNING] [2021-12-04 12:15:08,473:Client-AutoMLSMBO(1)::breast_cancer] Configuration 454 not found\n",
      "[WARNING] [2021-12-04 12:15:08,473:Client-AutoMLSMBO(1)::breast_cancer] Configuration 1 not found\n",
      "[WARNING] [2021-12-04 12:15:08,473:Client-AutoMLSMBO(1)::breast_cancer] Configuration 147 not found\n",
      "[WARNING] [2021-12-04 12:15:08,473:Client-AutoMLSMBO(1)::breast_cancer] Configuration 393 not found\n",
      "[WARNING] [2021-12-04 12:15:08,473:Client-AutoMLSMBO(1)::breast_cancer] Configuration 347 not found\n",
      "[WARNING] [2021-12-04 12:15:08,473:Client-AutoMLSMBO(1)::breast_cancer] Configuration 701 not found\n",
      "[WARNING] [2021-12-04 12:15:08,473:Client-AutoMLSMBO(1)::breast_cancer] Configuration 266 not found\n",
      "[WARNING] [2021-12-04 12:15:08,473:Client-AutoMLSMBO(1)::breast_cancer] Configuration 28 not found\n",
      "[WARNING] [2021-12-04 12:15:08,475:Client-AutoMLSMBO(1)::breast_cancer] Configuration 282 not found\n",
      "[WARNING] [2021-12-04 12:15:08,523:Client-AutoMLSMBO(1)::breast_cancer] Configuration 367 not found\n",
      "[WARNING] [2021-12-04 12:15:08,523:Client-AutoMLSMBO(1)::breast_cancer] Configuration 518 not found\n",
      "[WARNING] [2021-12-04 12:15:08,523:Client-AutoMLSMBO(1)::breast_cancer] Configuration 648 not found\n"
     ]
    },
    {
     "name": "stderr",
     "output_type": "stream",
     "text": [
      "/usr/local/lib/python3.8/dist-packages/smac/intensification/parallel_scheduling.py:152: UserWarning: SuccessiveHalving is intended to be used with more than 1 worker but num_workers=1\n",
      "  warnings.warn(\"{} is intended to be used \"\n"
     ]
    },
    {
     "name": "stdout",
     "output_type": "stream",
     "text": [
      "[WARNING] [2021-12-04 12:15:08,523:Client-AutoMLSMBO(1)::breast_cancer] Configuration 67 not found\n",
      "[WARNING] [2021-12-04 12:15:08,523:Client-AutoMLSMBO(1)::breast_cancer] Configuration 521 not found\n",
      "[WARNING] [2021-12-04 12:15:08,523:Client-AutoMLSMBO(1)::breast_cancer] Configuration 227 not found\n",
      "[WARNING] [2021-12-04 12:15:08,523:Client-AutoMLSMBO(1)::breast_cancer] Configuration 145 not found\n",
      "[WARNING] [2021-12-04 12:15:08,523:Client-AutoMLSMBO(1)::breast_cancer] Configuration 576 not found\n",
      "[WARNING] [2021-12-04 12:15:08,523:Client-AutoMLSMBO(1)::breast_cancer] Configuration 680 not found\n",
      "[WARNING] [2021-12-04 12:15:08,523:Client-AutoMLSMBO(1)::breast_cancer] Configuration 605 not found\n",
      "[WARNING] [2021-12-04 12:15:08,524:Client-AutoMLSMBO(1)::breast_cancer] Configuration 624 not found\n",
      "[WARNING] [2021-12-04 12:15:08,524:Client-AutoMLSMBO(1)::breast_cancer] Configuration 191 not found\n",
      "[WARNING] [2021-12-04 12:15:08,524:Client-AutoMLSMBO(1)::breast_cancer] Configuration 414 not found\n",
      "[WARNING] [2021-12-04 12:15:08,524:Client-AutoMLSMBO(1)::breast_cancer] Configuration 574 not found\n",
      "[WARNING] [2021-12-04 12:15:08,524:Client-AutoMLSMBO(1)::breast_cancer] Configuration 283 not found\n",
      "[WARNING] [2021-12-04 12:15:08,524:Client-AutoMLSMBO(1)::breast_cancer] Configuration 262 not found\n",
      "[WARNING] [2021-12-04 12:15:08,524:Client-AutoMLSMBO(1)::breast_cancer] Configuration 369 not found\n",
      "[WARNING] [2021-12-04 12:15:08,524:Client-AutoMLSMBO(1)::breast_cancer] Configuration 444 not found\n",
      "[WARNING] [2021-12-04 12:15:08,541:Client-AutoMLSMBO(1)::breast_cancer] Configuration 264 not found\n",
      "[WARNING] [2021-12-04 12:15:08,550:Client-AutoMLSMBO(1)::breast_cancer] Configuration 14 not found\n",
      "[WARNING] [2021-12-04 12:15:08,551:Client-AutoMLSMBO(1)::breast_cancer] Configuration 430 not found\n",
      "[WARNING] [2021-12-04 12:15:08,571:Client-AutoMLSMBO(1)::breast_cancer] Configuration 674 not found\n",
      "[WARNING] [2021-12-04 12:15:08,572:Client-AutoMLSMBO(1)::breast_cancer] Configuration 563 not found\n",
      "[WARNING] [2021-12-04 12:15:08,572:Client-AutoMLSMBO(1)::breast_cancer] Configuration 357 not found\n",
      "[WARNING] [2021-12-04 12:15:08,584:Client-AutoMLSMBO(1)::breast_cancer] Configuration 338 not found\n",
      "[WARNING] [2021-12-04 12:15:08,584:Client-AutoMLSMBO(1)::breast_cancer] Configuration 43 not found\n",
      "[WARNING] [2021-12-04 12:15:08,584:Client-AutoMLSMBO(1)::breast_cancer] Configuration 160 not found\n",
      "[WARNING] [2021-12-04 12:15:08,585:Client-AutoMLSMBO(1)::breast_cancer] Configuration 382 not found\n",
      "[WARNING] [2021-12-04 12:15:08,585:Client-AutoMLSMBO(1)::breast_cancer] Configuration 53 not found\n",
      "[WARNING] [2021-12-04 12:15:08,585:Client-AutoMLSMBO(1)::breast_cancer] Configuration 48 not found\n",
      "[WARNING] [2021-12-04 12:15:08,585:Client-AutoMLSMBO(1)::breast_cancer] Configuration 536 not found\n",
      "[WARNING] [2021-12-04 12:15:08,585:Client-AutoMLSMBO(1)::breast_cancer] Configuration 555 not found\n",
      "[WARNING] [2021-12-04 12:15:08,585:Client-AutoMLSMBO(1)::breast_cancer] Configuration 214 not found\n",
      "[WARNING] [2021-12-04 12:15:08,585:Client-AutoMLSMBO(1)::breast_cancer] Configuration 388 not found\n",
      "[WARNING] [2021-12-04 12:15:08,585:Client-AutoMLSMBO(1)::breast_cancer] Configuration 97 not found\n",
      "[WARNING] [2021-12-04 12:15:08,585:Client-AutoMLSMBO(1)::breast_cancer] Configuration 676 not found\n",
      "[WARNING] [2021-12-04 12:15:08,585:Client-AutoMLSMBO(1)::breast_cancer] Configuration 40 not found\n",
      "[WARNING] [2021-12-04 12:15:08,585:Client-AutoMLSMBO(1)::breast_cancer] Configuration 270 not found\n",
      "[WARNING] [2021-12-04 12:15:08,585:Client-AutoMLSMBO(1)::breast_cancer] Configuration 512 not found\n",
      "[WARNING] [2021-12-04 12:15:08,585:Client-AutoMLSMBO(1)::breast_cancer] Configuration 595 not found\n",
      "[WARNING] [2021-12-04 12:15:08,585:Client-AutoMLSMBO(1)::breast_cancer] Configuration 131 not found\n",
      "[WARNING] [2021-12-04 12:15:08,585:Client-AutoMLSMBO(1)::breast_cancer] Configuration 687 not found\n",
      "[WARNING] [2021-12-04 12:15:08,585:Client-AutoMLSMBO(1)::breast_cancer] Configuration 114 not found\n",
      "[WARNING] [2021-12-04 12:15:08,586:Client-AutoMLSMBO(1)::breast_cancer] Configuration 129 not found\n",
      "[WARNING] [2021-12-04 12:15:08,586:Client-AutoMLSMBO(1)::breast_cancer] Configuration 193 not found\n",
      "[WARNING] [2021-12-04 12:15:08,586:Client-AutoMLSMBO(1)::breast_cancer] Configuration 197 not found\n",
      "[WARNING] [2021-12-04 12:15:08,586:Client-AutoMLSMBO(1)::breast_cancer] Configuration 485 not found\n",
      "[WARNING] [2021-12-04 12:15:08,586:Client-AutoMLSMBO(1)::breast_cancer] Configuration 83 not found\n",
      "[WARNING] [2021-12-04 12:15:08,586:Client-AutoMLSMBO(1)::breast_cancer] Configuration 88 not found\n",
      "[WARNING] [2021-12-04 12:15:08,586:Client-AutoMLSMBO(1)::breast_cancer] Configuration 422 not found\n",
      "[WARNING] [2021-12-04 12:15:08,586:Client-AutoMLSMBO(1)::breast_cancer] Configuration 237 not found\n",
      "[WARNING] [2021-12-04 12:15:08,586:Client-AutoMLSMBO(1)::breast_cancer] Configuration 470 not found\n",
      "[WARNING] [2021-12-04 12:15:08,586:Client-AutoMLSMBO(1)::breast_cancer] Configuration 613 not found\n",
      "[WARNING] [2021-12-04 12:15:08,586:Client-AutoMLSMBO(1)::breast_cancer] Configuration 293 not found\n",
      "[WARNING] [2021-12-04 12:15:08,586:Client-AutoMLSMBO(1)::breast_cancer] Configuration 378 not found\n",
      "[WARNING] [2021-12-04 12:15:08,587:Client-AutoMLSMBO(1)::breast_cancer] Configuration 204 not found\n",
      "[WARNING] [2021-12-04 12:15:08,587:Client-AutoMLSMBO(1)::breast_cancer] Configuration 154 not found\n",
      "[WARNING] [2021-12-04 12:15:08,587:Client-AutoMLSMBO(1)::breast_cancer] Configuration 247 not found\n",
      "[WARNING] [2021-12-04 12:15:08,587:Client-AutoMLSMBO(1)::breast_cancer] Configuration 352 not found\n",
      "[WARNING] [2021-12-04 12:15:08,587:Client-AutoMLSMBO(1)::breast_cancer] Configuration 172 not found\n",
      "[WARNING] [2021-12-04 12:15:08,587:Client-AutoMLSMBO(1)::breast_cancer] Configuration 277 not found\n",
      "[WARNING] [2021-12-04 12:15:08,587:Client-AutoMLSMBO(1)::breast_cancer] Configuration 683 not found\n",
      "[WARNING] [2021-12-04 12:15:08,587:Client-AutoMLSMBO(1)::breast_cancer] Configuration 124 not found\n",
      "[WARNING] [2021-12-04 12:15:08,587:Client-AutoMLSMBO(1)::breast_cancer] Configuration 232 not found\n",
      "[WARNING] [2021-12-04 12:15:08,587:Client-AutoMLSMBO(1)::breast_cancer] Configuration 112 not found\n",
      "[WARNING] [2021-12-04 12:15:08,588:Client-AutoMLSMBO(1)::breast_cancer] Configuration 571 not found\n",
      "[WARNING] [2021-12-04 12:15:08,588:Client-AutoMLSMBO(1)::breast_cancer] Configuration 524 not found\n",
      "[WARNING] [2021-12-04 12:15:08,588:Client-AutoMLSMBO(1)::breast_cancer] Configuration 707 not found\n",
      "[WARNING] [2021-12-04 12:15:08,588:Client-AutoMLSMBO(1)::breast_cancer] Configuration 635 not found\n",
      "[WARNING] [2021-12-04 12:15:08,588:Client-AutoMLSMBO(1)::breast_cancer] Configuration 99 not found\n",
      "[WARNING] [2021-12-04 12:15:08,588:Client-AutoMLSMBO(1)::breast_cancer] Configuration 434 not found\n",
      "[WARNING] [2021-12-04 12:15:08,588:Client-AutoMLSMBO(1)::breast_cancer] Configuration 494 not found\n",
      "[WARNING] [2021-12-04 12:15:08,588:Client-AutoMLSMBO(1)::breast_cancer] Configuration 615 not found\n",
      "[WARNING] [2021-12-04 12:15:08,588:Client-AutoMLSMBO(1)::breast_cancer] Configuration 587 not found\n",
      "[WARNING] [2021-12-04 12:15:08,588:Client-AutoMLSMBO(1)::breast_cancer] Configuration 302 not found\n",
      "[WARNING] [2021-12-04 12:15:08,588:Client-AutoMLSMBO(1)::breast_cancer] Configuration 653 not found\n",
      "[WARNING] [2021-12-04 12:15:08,588:Client-AutoMLSMBO(1)::breast_cancer] Configuration 445 not found\n",
      "[WARNING] [2021-12-04 12:15:08,588:Client-AutoMLSMBO(1)::breast_cancer] Configuration 69 not found\n",
      "[WARNING] [2021-12-04 12:15:08,588:Client-AutoMLSMBO(1)::breast_cancer] Configuration 437 not found\n",
      "[WARNING] [2021-12-04 12:15:08,588:Client-AutoMLSMBO(1)::breast_cancer] Configuration 142 not found\n",
      "[WARNING] [2021-12-04 12:15:08,588:Client-AutoMLSMBO(1)::breast_cancer] Configuration 310 not found\n",
      "[WARNING] [2021-12-04 12:15:08,589:Client-AutoMLSMBO(1)::breast_cancer] Configuration 173 not found\n",
      "[WARNING] [2021-12-04 12:15:08,589:Client-AutoMLSMBO(1)::breast_cancer] Configuration 647 not found\n",
      "[WARNING] [2021-12-04 12:15:08,589:Client-AutoMLSMBO(1)::breast_cancer] Configuration 461 not found\n",
      "[WARNING] [2021-12-04 12:15:08,589:Client-AutoMLSMBO(1)::breast_cancer] Configuration 515 not found\n",
      "[WARNING] [2021-12-04 12:15:08,589:Client-AutoMLSMBO(1)::breast_cancer] Configuration 17 not found\n",
      "[WARNING] [2021-12-04 12:15:08,589:Client-AutoMLSMBO(1)::breast_cancer] Configuration 395 not found\n",
      "[WARNING] [2021-12-04 12:15:08,589:Client-AutoMLSMBO(1)::breast_cancer] Configuration 25 not found\n",
      "[WARNING] [2021-12-04 12:15:08,589:Client-AutoMLSMBO(1)::breast_cancer] Configuration 56 not found\n",
      "[WARNING] [2021-12-04 12:15:08,589:Client-AutoMLSMBO(1)::breast_cancer] Configuration 121 not found\n",
      "[WARNING] [2021-12-04 12:15:08,589:Client-AutoMLSMBO(1)::breast_cancer] Configuration 165 not found\n",
      "[WARNING] [2021-12-04 12:15:08,589:Client-AutoMLSMBO(1)::breast_cancer] Configuration 313 not found\n",
      "[WARNING] [2021-12-04 12:15:08,589:Client-AutoMLSMBO(1)::breast_cancer] Configuration 412 not found\n",
      "[WARNING] [2021-12-04 12:15:08,589:Client-AutoMLSMBO(1)::breast_cancer] Configuration 298 not found\n",
      "[WARNING] [2021-12-04 12:15:08,589:Client-AutoMLSMBO(1)::breast_cancer] Configuration 288 not found\n",
      "[WARNING] [2021-12-04 12:15:08,590:Client-AutoMLSMBO(1)::breast_cancer] Configuration 486 not found\n",
      "[WARNING] [2021-12-04 12:15:08,590:Client-AutoMLSMBO(1)::breast_cancer] Configuration 243 not found\n",
      "[WARNING] [2021-12-04 12:15:08,590:Client-AutoMLSMBO(1)::breast_cancer] Configuration 480 not found\n",
      "[WARNING] [2021-12-04 12:15:08,590:Client-AutoMLSMBO(1)::breast_cancer] Configuration 553 not found\n",
      "[WARNING] [2021-12-04 12:15:08,590:Client-AutoMLSMBO(1)::breast_cancer] Configuration 363 not found\n",
      "[WARNING] [2021-12-04 12:15:08,590:Client-AutoMLSMBO(1)::breast_cancer] Configuration 528 not found\n",
      "[WARNING] [2021-12-04 12:15:08,590:Client-AutoMLSMBO(1)::breast_cancer] Configuration 403 not found\n",
      "[WARNING] [2021-12-04 12:15:08,590:Client-AutoMLSMBO(1)::breast_cancer] Configuration 622 not found\n",
      "[WARNING] [2021-12-04 12:15:08,590:Client-AutoMLSMBO(1)::breast_cancer] Configuration 448 not found\n",
      "[WARNING] [2021-12-04 12:15:08,591:Client-AutoMLSMBO(1)::breast_cancer] Configuration 543 not found\n",
      "[WARNING] [2021-12-04 12:15:08,591:Client-AutoMLSMBO(1)::breast_cancer] Configuration 548 not found\n",
      "[WARNING] [2021-12-04 12:15:08,591:Client-AutoMLSMBO(1)::breast_cancer] Configuration 499 not found\n",
      "[WARNING] [2021-12-04 12:15:08,591:Client-AutoMLSMBO(1)::breast_cancer] Configuration 171 not found\n",
      "[WARNING] [2021-12-04 12:15:08,592:Client-AutoMLSMBO(1)::breast_cancer] Configuration 19 not found\n",
      "[WARNING] [2021-12-04 12:15:08,592:Client-AutoMLSMBO(1)::breast_cancer] Configuration 58 not found\n",
      "[WARNING] [2021-12-04 12:15:08,592:Client-AutoMLSMBO(1)::breast_cancer] Configuration 640 not found\n",
      "[WARNING] [2021-12-04 12:15:08,634:Client-AutoMLSMBO(1)::breast_cancer] Configuration 317 not found\n",
      "[WARNING] [2021-12-04 12:15:08,634:Client-AutoMLSMBO(1)::breast_cancer] Configuration 509 not found\n",
      "[WARNING] [2021-12-04 12:15:08,634:Client-AutoMLSMBO(1)::breast_cancer] Configuration 419 not found\n",
      "[WARNING] [2021-12-04 12:15:08,635:Client-AutoMLSMBO(1)::breast_cancer] Configuration 304 not found\n",
      "[WARNING] [2021-12-04 12:15:08,635:Client-AutoMLSMBO(1)::breast_cancer] Configuration 375 not found\n",
      "[WARNING] [2021-12-04 12:15:08,635:Client-AutoMLSMBO(1)::breast_cancer] Configuration 643 not found\n",
      "[WARNING] [2021-12-04 12:15:08,635:Client-AutoMLSMBO(1)::breast_cancer] Configuration 322 not found\n",
      "[WARNING] [2021-12-04 12:15:08,635:Client-AutoMLSMBO(1)::breast_cancer] Configuration 538 not found\n",
      "[WARNING] [2021-12-04 12:15:08,635:Client-AutoMLSMBO(1)::breast_cancer] Configuration 86 not found\n",
      "[WARNING] [2021-12-04 12:15:08,635:Client-AutoMLSMBO(1)::breast_cancer] Configuration 120 not found\n",
      "[WARNING] [2021-12-04 12:15:08,635:Client-AutoMLSMBO(1)::breast_cancer] Configuration 452 not found\n",
      "[WARNING] [2021-12-04 12:15:08,635:Client-AutoMLSMBO(1)::breast_cancer] Configuration 291 not found\n",
      "[WARNING] [2021-12-04 12:15:08,635:Client-AutoMLSMBO(1)::breast_cancer] Configuration 275 not found\n"
     ]
    },
    {
     "data": {
      "text/plain": [
       "AutoSklearnClassifier(get_smac_object_callback=<function get_smac_object_callback.<locals>.get_smac_object at 0x7f760c18e700>,\n",
       "                      include={'classifier': ['extra_trees',\n",
       "                                              'gradient_boosting',\n",
       "                                              'random_forest', 'sgd',\n",
       "                                              'passive_aggressive'],\n",
       "                               'feature_preprocessor': ['no_preprocessing']},\n",
       "                      n_jobs=-1, per_run_time_limit=10,\n",
       "                      resampling_strategy_arguments={'train_size': 0.67},\n",
       "                      time_left_for_this_task=40)"
      ]
     },
     "execution_count": 89,
     "metadata": {},
     "output_type": "execute_result"
    }
   ],
   "source": [
    "# CV\n",
    "\n",
    "automl = autosklearn.classification.AutoSklearnClassifier(\n",
    "    time_left_for_this_task=40,\n",
    "    per_run_time_limit=10,\n",
    "    n_jobs = -1,\n",
    "    disable_evaluator_output=False,\n",
    "    # 'holdout' with 'train_size'=0.67 is the default argument setting\n",
    "    # for AutoSklearnClassifier. It is explicitly specified in this example\n",
    "    # for demonstrational purpose.\n",
    "    resampling_strategy='holdout',\n",
    "    resampling_strategy_arguments={'train_size': 0.67},\n",
    "    include={\n",
    "        'classifier': [\n",
    "            'extra_trees', 'gradient_boosting', 'random_forest',\n",
    "            'sgd', 'passive_aggressive'\n",
    "        ],\n",
    "        'feature_preprocessor': ['no_preprocessing']\n",
    "    },\n",
    "    get_smac_object_callback=get_smac_object_callback('subsample'),\n",
    ")\n",
    "automl.fit(X_train, y_train, dataset_name='breast_cancer')"
   ]
  },
  {
   "cell_type": "code",
   "execution_count": 90,
   "id": "20ef5532",
   "metadata": {},
   "outputs": [
    {
     "name": "stdout",
     "output_type": "stream",
     "text": [
      "          rank  ensemble_weight                type      cost  duration\n",
      "model_id                                                               \n",
      "7            1             0.18                 sgd  0.049645  0.634556\n",
      "9            2             0.08         extra_trees  0.070922  2.049212\n",
      "2            3             0.04       random_forest  0.078014  2.308470\n",
      "8            4             0.06       random_forest  0.078014  2.046505\n",
      "6            5             0.02   gradient_boosting  0.113475  0.766493\n",
      "4            6             0.04  passive_aggressive  0.127660  0.659644\n",
      "3            7             0.08       random_forest  0.368794  3.017238\n",
      "5            8             0.10   gradient_boosting  0.368794  1.154328\n",
      "10           9             0.18   gradient_boosting  0.368794  0.952739\n"
     ]
    }
   ],
   "source": [
    "print(automl.leaderboard())"
   ]
  },
  {
   "cell_type": "code",
   "execution_count": 91,
   "id": "ff494a0b",
   "metadata": {},
   "outputs": [
    {
     "name": "stdout",
     "output_type": "stream",
     "text": [
      "auto-sklearn results:\n",
      "  Dataset name: breast_cancer\n",
      "  Metric: accuracy\n",
      "  Best validation score: 0.950355\n",
      "  Number of target algorithm runs: 13\n",
      "  Number of successful target algorithm runs: 12\n",
      "  Number of crashed target algorithm runs: 0\n",
      "  Number of target algorithms that exceeded the time limit: 1\n",
      "  Number of target algorithms that exceeded the memory limit: 0\n",
      "\n",
      "Accuracy score 0.8741258741258742\n"
     ]
    }
   ],
   "source": [
    "predictions = automl.predict(X_test)\n",
    "# Print statistics about the auto-sklearn run such as number of\n",
    "# iterations, number of models failed with a time out.\n",
    "print(automl.sprint_statistics())\n",
    "print(\"Accuracy score\", sklearn.metrics.accuracy_score(y_test, predictions))"
   ]
  }
 ],
 "metadata": {
  "kernelspec": {
   "display_name": "Python 3 (ipykernel)",
   "language": "python",
   "name": "python3"
  },
  "language_info": {
   "codemirror_mode": {
    "name": "ipython",
    "version": 3
   },
   "file_extension": ".py",
   "mimetype": "text/x-python",
   "name": "python",
   "nbconvert_exporter": "python",
   "pygments_lexer": "ipython3",
   "version": "3.8.10"
  }
 },
 "nbformat": 4,
 "nbformat_minor": 5
}
