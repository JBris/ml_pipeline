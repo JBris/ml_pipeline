{
 "cells": [
  {
   "cell_type": "markdown",
   "id": "e34c0dee",
   "metadata": {},
   "source": [
    "Basic"
   ]
  },
  {
   "cell_type": "code",
   "execution_count": 4,
   "id": "d0dd4f1e",
   "metadata": {},
   "outputs": [
    {
     "name": "stdout",
     "output_type": "stream",
     "text": [
      "100%|██████████| 100/100 [00:00<00:00, 149.06trial/s, best loss: 0.004165485662137212]\n",
      "{'a': 1, 'c2': -0.06454057376671835}\n",
      "('case 2', -0.06454057376671835)\n"
     ]
    }
   ],
   "source": [
    "import hyperopt\n",
    "from hyperopt import fmin, tpe\n",
    "\n",
    "# define an objective function\n",
    "def objective(args):\n",
    "    case, val = args\n",
    "    if case == 'case 1':\n",
    "        return val\n",
    "    else:\n",
    "        return val ** 2\n",
    "\n",
    "# define a search space\n",
    "from hyperopt import hp\n",
    "space = hp.choice('a',\n",
    "    [\n",
    "        ('case 1', 1 + hp.lognormal('c1', 0, 1)),\n",
    "        ('case 2', hp.uniform('c2', -10, 10))\n",
    "    ])\n",
    "\n",
    "# minimize the objective over the space\n",
    "best = fmin(objective, space, algo=tpe.suggest, max_evals=100)\n",
    "\n",
    "print(best)\n",
    "# -> {'a': 1, 'c2': 0.01420615366247227}\n",
    "print(hyperopt.space_eval(space, best))\n",
    "# -> ('case 2', 0.01420615366247227}"
   ]
  },
  {
   "cell_type": "markdown",
   "id": "9aeee050",
   "metadata": {},
   "source": [
    "FMin"
   ]
  },
  {
   "cell_type": "code",
   "execution_count": 5,
   "id": "69102aa6",
   "metadata": {},
   "outputs": [
    {
     "name": "stdout",
     "output_type": "stream",
     "text": [
      "100%|██████████| 100/100 [00:00<00:00, 287.64trial/s, best loss: 0.0008623162564015623]\n",
      "{'x': -0.029365221885787995}\n"
     ]
    }
   ],
   "source": [
    "from hyperopt import fmin, tpe, hp\n",
    "best = fmin(fn=lambda x: x ** 2,\n",
    "    space=hp.uniform('x', -10, 10),\n",
    "    algo=tpe.suggest,\n",
    "    max_evals=100)\n",
    "print(best)"
   ]
  },
  {
   "cell_type": "code",
   "execution_count": 6,
   "id": "dea5ac84",
   "metadata": {},
   "outputs": [
    {
     "name": "stdout",
     "output_type": "stream",
     "text": [
      "100%|██████████| 100/100 [00:00<00:00, 280.54trial/s, best loss: 0.003610798478697869]\n",
      "{'x': -0.06008991994251506}\n"
     ]
    }
   ],
   "source": [
    "import pickle\n",
    "import time\n",
    "from hyperopt import fmin, tpe, hp, STATUS_OK\n",
    "\n",
    "def objective(x):\n",
    "    return {'loss': x ** 2, 'status': STATUS_OK }\n",
    "\n",
    "best = fmin(objective,\n",
    "    space=hp.uniform('x', -10, 10),\n",
    "    algo=tpe.suggest,\n",
    "    max_evals=100)\n",
    "\n",
    "print(best)"
   ]
  },
  {
   "cell_type": "code",
   "execution_count": 8,
   "id": "00628279",
   "metadata": {},
   "outputs": [
    {
     "name": "stdout",
     "output_type": "stream",
     "text": [
      "100%|██████████| 100/100 [00:00<00:00, 280.54trial/s, best loss: 0.004073538228428575]\n",
      "{'x': 0.06382427616846567}\n"
     ]
    }
   ],
   "source": [
    "import pickle\n",
    "import time\n",
    "from hyperopt import fmin, tpe, hp, STATUS_OK\n",
    "\n",
    "def objective(x):\n",
    "    return {'loss': x ** 2, 'status': STATUS_OK }\n",
    "\n",
    "best = fmin(objective,\n",
    "    space=hp.uniform('x', -10, 10),\n",
    "    algo=tpe.suggest,\n",
    "    max_evals=100)\n",
    "\n",
    "print(best)"
   ]
  },
  {
   "cell_type": "code",
   "execution_count": 9,
   "id": "e36c87fe",
   "metadata": {},
   "outputs": [
    {
     "name": "stdout",
     "output_type": "stream",
     "text": [
      "100%|██████████| 100/100 [00:00<00:00, 278.24trial/s, best loss: 0.0019973163813649893]\n",
      "{'x': 0.044691345709935715}\n"
     ]
    }
   ],
   "source": [
    "import pickle\n",
    "import time\n",
    "from hyperopt import fmin, tpe, hp, STATUS_OK, Trials\n",
    "\n",
    "def objective(x):\n",
    "    return {\n",
    "        'loss': x ** 2,\n",
    "        'status': STATUS_OK,\n",
    "        # -- store other results like this\n",
    "        'eval_time': time.time(),\n",
    "        'other_stuff': {'type': None, 'value': [0, 1, 2]},\n",
    "        # -- attachments are handled differently\n",
    "        'attachments':\n",
    "            {'time_module': pickle.dumps(time.time)}\n",
    "        }\n",
    "trials = Trials()\n",
    "best = fmin(objective,\n",
    "    space=hp.uniform('x', -10, 10),\n",
    "    algo=tpe.suggest,\n",
    "    max_evals=100,\n",
    "    trials=trials)\n",
    "\n",
    "print(best)"
   ]
  },
  {
   "cell_type": "code",
   "execution_count": 10,
   "id": "435e5aa9",
   "metadata": {},
   "outputs": [],
   "source": [
    "msg = trials.trial_attachments(trials.trials[5])['time_module']\n",
    "time_module = pickle.loads(msg)"
   ]
  },
  {
   "cell_type": "code",
   "execution_count": 11,
   "id": "7f637059",
   "metadata": {},
   "outputs": [],
   "source": [
    "from hyperopt import hp\n",
    "space = hp.choice('a',\n",
    "    [\n",
    "        ('case 1', 1 + hp.lognormal('c1', 0, 1)),\n",
    "        ('case 2', hp.uniform('c2', -10, 10))\n",
    "    ])"
   ]
  },
  {
   "cell_type": "code",
   "execution_count": 12,
   "id": "2054214f",
   "metadata": {},
   "outputs": [
    {
     "name": "stdout",
     "output_type": "stream",
     "text": [
      "('case 1', 2.110151893556627)\n"
     ]
    }
   ],
   "source": [
    "import hyperopt.pyll.stochastic\n",
    "print(hyperopt.pyll.stochastic.sample(space))"
   ]
  },
  {
   "cell_type": "code",
   "execution_count": 13,
   "id": "8a97496d",
   "metadata": {},
   "outputs": [],
   "source": [
    "from hyperopt import hp\n",
    "space = hp.choice('classifier_type', [\n",
    "    {\n",
    "        'type': 'naive_bayes',\n",
    "    },\n",
    "    {\n",
    "        'type': 'svm',\n",
    "        'C': hp.lognormal('svm_C', 0, 1),\n",
    "        'kernel': hp.choice('svm_kernel', [\n",
    "            {'ktype': 'linear'},\n",
    "            {'ktype': 'RBF', 'width': hp.lognormal('svm_rbf_width', 0, 1)},\n",
    "            ]),\n",
    "    },\n",
    "    {\n",
    "        'type': 'dtree',\n",
    "        'criterion': hp.choice('dtree_criterion', ['gini', 'entropy']),\n",
    "        'max_depth': hp.choice('dtree_max_depth',\n",
    "            [None, hp.qlognormal('dtree_max_depth_int', 3, 1, 1)]),\n",
    "        'min_samples_split': hp.qlognormal('dtree_min_samples_split', 2, 1, 1),\n",
    "    },\n",
    "    ])"
   ]
  },
  {
   "cell_type": "code",
   "execution_count": 17,
   "id": "4fa2df3c",
   "metadata": {},
   "outputs": [
    {
     "name": "stdout",
     "output_type": "stream",
     "text": [
      "runing foo 0 0\n",
      "0.0\n",
      "0 foo\n",
      "1   float\n",
      "2     hyperopt_param\n",
      "3       Literal{a}\n",
      "4       uniform\n",
      "5         Literal{0}\n",
      "6         Literal{10}\n",
      "runing foo 9.764652493963636 0\n",
      "9.764652493963636\n"
     ]
    }
   ],
   "source": [
    "import hyperopt.pyll\n",
    "from hyperopt.pyll import scope\n",
    "\n",
    "@scope.define\n",
    "def foo(a, b=0):\n",
    "     print('runing foo', a, b)\n",
    "     return a + b / 2\n",
    "\n",
    "# -- this will print 0, foo is called as usual.\n",
    "print(foo(0))\n",
    "\n",
    "# In describing search spaces you can use `foo` as you\n",
    "# would in normal Python. These two calls will not actually call foo,\n",
    "# they just record that foo should be called to evaluate the graph.\n",
    "\n",
    "space1 = scope.foo(hp.uniform('a', 0, 10))\n",
    "space2 = scope.foo(hp.uniform('a', 0, 10), hp.normal('b', 0, 1))\n",
    "\n",
    "# -- this will print an pyll.Apply node\n",
    "print(space1)\n",
    "\n",
    "# -- this will draw a sample by running foo()\n",
    "print(hyperopt.pyll.stochastic.sample(space1))"
   ]
  },
  {
   "cell_type": "markdown",
   "id": "4702fa59",
   "metadata": {},
   "source": [
    "Basic Tutorial"
   ]
  },
  {
   "cell_type": "code",
   "execution_count": 18,
   "id": "113ca323",
   "metadata": {},
   "outputs": [],
   "source": [
    "from hyperopt import tpe, hp, fmin\n",
    "objective = lambda x: (x-3)**2 + 2"
   ]
  },
  {
   "cell_type": "code",
   "execution_count": 19,
   "id": "ff681efc",
   "metadata": {},
   "outputs": [
    {
     "data": {
      "image/png": "[encoded data removed]",
      "text/plain": [
       "<Figure size 432x288 with 1 Axes>"
      ]
     },
     "metadata": {
      "needs_background": "light"
     },
     "output_type": "display_data"
    }
   ],
   "source": [
    "import matplotlib.pyplot as plt\n",
    "import numpy as np\n",
    "\n",
    "x = np.linspace(-10, 10, 100)\n",
    "y = objective(x)\n",
    "\n",
    "fig = plt.figure()\n",
    "plt.plot(x, y)\n",
    "plt.show()"
   ]
  },
  {
   "cell_type": "code",
   "execution_count": 21,
   "id": "c45c2b48",
   "metadata": {},
   "outputs": [
    {
     "name": "stdout",
     "output_type": "stream",
     "text": [
      "100%|██████████| 1000/1000 [00:14<00:00, 69.44trial/s, best loss: 2.0000104603279434]\n",
      "{'x': 3.0032342430248056}\n"
     ]
    }
   ],
   "source": [
    "# Define the search space of x between -10 and 10.\n",
    "space = hp.uniform('x', -10, 10)\n",
    "\n",
    "\n",
    "best = fmin(\n",
    "    fn=objective, # Objective Function to optimize\n",
    "    space=space, # Hyperparameter's Search Space\n",
    "    algo=tpe.suggest, # Optimization algorithm\n",
    "    max_evals=1000 # Number of optimization attempts\n",
    ")\n",
    "print(best)\n",
    "\n"
   ]
  },
  {
   "cell_type": "code",
   "execution_count": 22,
   "id": "2aac75ab",
   "metadata": {},
   "outputs": [
    {
     "data": {
      "image/png": "[encoded data removed]",
      "text/plain": [
       "<Figure size 432x288 with 1 Axes>"
      ]
     },
     "metadata": {
      "needs_background": "light"
     },
     "output_type": "display_data"
    }
   ],
   "source": [
    "fig = plt.figure()\n",
    "plt.plot(x, y)\n",
    "plt.scatter(best['x'], objective(best['x']), color='red')\n",
    "plt.show()"
   ]
  },
  {
   "cell_type": "code",
   "execution_count": 23,
   "id": "d148354e",
   "metadata": {},
   "outputs": [],
   "source": [
    "def objective(\n",
    "    x: hp.uniform('x', -10, 10)  # Declare space as typed\n",
    "):\n",
    "    return (x-3)**2 + 2"
   ]
  },
  {
   "cell_type": "code",
   "execution_count": 24,
   "id": "4074d4ad",
   "metadata": {},
   "outputs": [
    {
     "name": "stdout",
     "output_type": "stream",
     "text": [
      "100%|██████████| 1000/1000 [00:14<00:00, 67.97trial/s, best loss: 2.000002632718201]\n",
      "{'x': 3.001622565314776}\n"
     ]
    }
   ],
   "source": [
    "best = fmin(\n",
    "    fn=objective, # Objective Function to optimize\n",
    "    space=\"annotated\", # Hyperparameter's Search Space now is declared on objective\n",
    "    algo=tpe.suggest, # Optimization algorithm\n",
    "    max_evals=1000 # Number of optimization attempts\n",
    ")\n",
    "print(best)"
   ]
  },
  {
   "cell_type": "code",
   "execution_count": 25,
   "id": "6d78c030",
   "metadata": {},
   "outputs": [
    {
     "data": {
      "image/png": "[encoded data removed]",
      "text/plain": [
       "<Figure size 432x288 with 1 Axes>"
      ]
     },
     "metadata": {
      "needs_background": "light"
     },
     "output_type": "display_data"
    }
   ],
   "source": [
    "fig = plt.figure()\n",
    "plt.plot(x, y)\n",
    "plt.scatter(best['x'], objective(best['x']), color='red')\n",
    "plt.show()"
   ]
  },
  {
   "cell_type": "markdown",
   "id": "81a49846",
   "metadata": {},
   "source": [
    "MultipleParameterTutorial"
   ]
  },
  {
   "cell_type": "code",
   "execution_count": 26,
   "id": "17911716",
   "metadata": {},
   "outputs": [],
   "source": [
    "# Import HyperOpt Library\n",
    "from hyperopt import tpe, hp, fmin\n",
    "import numpy as np\n",
    "\n",
    "def objective(params):\n",
    "    x, y = params['x'], params['y']\n",
    "    return np.sin(np.sqrt(x**2 + y**2))"
   ]
  },
  {
   "cell_type": "code",
   "execution_count": 27,
   "id": "683476db",
   "metadata": {},
   "outputs": [
    {
     "data": {
      "image/png": "[encoded data removed]",
      "text/plain": [
       "<Figure size 432x288 with 1 Axes>"
      ]
     },
     "metadata": {
      "needs_background": "light"
     },
     "output_type": "display_data"
    }
   ],
   "source": [
    "import matplotlib.pyplot as plt\n",
    "from matplotlib import cm\n",
    "from mpl_toolkits.mplot3d import Axes3D\n",
    "\n",
    "x = np.linspace(-6, 6, 30)\n",
    "y = np.linspace(-6, 6, 30)\n",
    "x, y = np.meshgrid(x, y)\n",
    "\n",
    "z = objective({'x': x, 'y': y})\n",
    "\n",
    "fig = plt.figure()\n",
    "ax = plt.axes(projection='3d')\n",
    "ax.plot_surface(x, y, z, cmap=cm.coolwarm)\n",
    "\n",
    "ax.set_xlabel('x')\n",
    "ax.set_ylabel('y')\n",
    "ax.set_zlabel('z')\n",
    "\n",
    "plt.show()"
   ]
  },
  {
   "cell_type": "code",
   "execution_count": 28,
   "id": "99cf170e",
   "metadata": {},
   "outputs": [],
   "source": [
    "space = {\n",
    "    'x': hp.uniform('x', -6, 6),\n",
    "    'y': hp.uniform('y', -6, 6)\n",
    "}"
   ]
  },
  {
   "cell_type": "code",
   "execution_count": 29,
   "id": "6322b2f1",
   "metadata": {},
   "outputs": [
    {
     "name": "stdout",
     "output_type": "stream",
     "text": [
      "100%|██████████| 1000/1000 [00:13<00:00, 73.83trial/s, best loss: -0.999999788147372] \n",
      "{'x': -0.11894131256968876, 'y': -4.711538828003151}\n"
     ]
    }
   ],
   "source": [
    "best = fmin(\n",
    "    fn=objective, # Objective Function to optimize\n",
    "    space=space, # Hyperparameter's Search Space\n",
    "    algo=tpe.suggest, # Optimization algorithm (representative TPE)\n",
    "    max_evals=1000 # Number of optimization attempts\n",
    ")\n",
    "print(best)"
   ]
  },
  {
   "cell_type": "code",
   "execution_count": 30,
   "id": "62187b71",
   "metadata": {},
   "outputs": [
    {
     "name": "stdout",
     "output_type": "stream",
     "text": [
      "100%|██████████| 100/100 [00:00<00:00, 298.54trial/s, best loss: -12.0]\n",
      "{'x1': 2, 'x2': 4}\n"
     ]
    }
   ],
   "source": [
    "def f(params):\n",
    "    x1, x2 = params['x1'], params['x2']\n",
    "    if x1 == 'james':\n",
    "        return -1 * x2\n",
    "    if x1 == 'max':\n",
    "        return 2 * x2\n",
    "    if x1 == 'wansoo':\n",
    "        return -3 * x2\n",
    "\n",
    "search_space = {\n",
    "    'x1': hp.choice('x1', ['james', 'max', 'wansoo']),\n",
    "    'x2': hp.randint('x2', -5, 5)\n",
    "}\n",
    "\n",
    "best = fmin(\n",
    "    fn=f,\n",
    "    space=search_space,\n",
    "    algo=tpe.suggest,\n",
    "    max_evals=100\n",
    ")\n",
    "\n",
    "print(best)"
   ]
  },
  {
   "cell_type": "markdown",
   "id": "ec8c90bb",
   "metadata": {},
   "source": [
    "Partial-sampling in hyperopt"
   ]
  },
  {
   "cell_type": "code",
   "execution_count": 31,
   "id": "5b1aa948",
   "metadata": {},
   "outputs": [
    {
     "name": "stdout",
     "output_type": "stream",
     "text": [
      "100%|██████████| 100/100 [00:00<00:00, 1101.08trial/s, best loss: -1.0]\n",
      "{'a': 0}\n"
     ]
    }
   ],
   "source": [
    "from hyperopt import hp, fmin, rand\n",
    "space = hp.choice('a', [-1, hp.uniform('b', 0, 1)])\n",
    "best = fmin(fn=lambda x: x, space=space, algo=rand.suggest, max_evals=100)\n",
    "print(best)"
   ]
  },
  {
   "cell_type": "code",
   "execution_count": 32,
   "id": "b2ea7751",
   "metadata": {},
   "outputs": [
    {
     "name": "stdout",
     "output_type": "stream",
     "text": [
      "0 switch\n",
      "1   hyperopt_param\n",
      "2     Literal{a}\n",
      "3     randint\n",
      "4       Literal{2}\n",
      "5   Literal{-1}\n",
      "6   float\n",
      "7     hyperopt_param\n",
      "8       Literal{b}\n",
      "9       uniform\n",
      "10         Literal{0}\n",
      "11         Literal{1}\n"
     ]
    }
   ],
   "source": [
    "# put the configuration space in a local var\n",
    "# so that we can work on it.\n",
    "print(space)"
   ]
  },
  {
   "cell_type": "code",
   "execution_count": 33,
   "id": "d39d4a98",
   "metadata": {},
   "outputs": [
    {
     "name": "stdout",
     "output_type": "stream",
     "text": [
      "by navigation:\n",
      "0 randint\n",
      "1   Literal{2}\n",
      "by search:\n",
      "0 randint\n",
      "1   Literal{2}\n"
     ]
    }
   ],
   "source": [
    "from hyperopt import pyll\n",
    "\n",
    "# The \"navigation\" approach to finding an internal\n",
    "# search space node:\n",
    "randint_node_nav = space.pos_args[0].pos_args[1]\n",
    "print(\"by navigation:\")\n",
    "print(randint_node_nav)\n",
    "\n",
    "# The \"search\" approach to finding an internal\n",
    "# search space node:\n",
    "randint_nodes = [node for node in pyll.dfs(space) if node.name == 'randint']\n",
    "randint_node_srch, = randint_nodes\n",
    "print(\"by search:\")\n",
    "print(randint_node_srch)\n",
    "\n",
    "assert randint_node_nav == randint_node_srch"
   ]
  },
  {
   "cell_type": "code",
   "execution_count": 34,
   "id": "b43e3695",
   "metadata": {},
   "outputs": [
    {
     "name": "stdout",
     "output_type": "stream",
     "text": [
      "0 switch\n",
      "1   hyperopt_param\n",
      "2     Literal{a}\n",
      "3     Literal{1}\n",
      "4   Literal{-1}\n",
      "5   float\n",
      "6     hyperopt_param\n",
      "7       Literal{b}\n",
      "8       uniform\n",
      "9         Literal{0}\n",
      "10         Literal{1}\n"
     ]
    }
   ],
   "source": [
    "space_with_fixed_a = pyll.clone(space, memo={randint_node_nav: pyll.as_apply(1)})\n",
    "print(space_with_fixed_a)"
   ]
  },
  {
   "cell_type": "code",
   "execution_count": 35,
   "id": "3f34267f",
   "metadata": {},
   "outputs": [
    {
     "name": "stdout",
     "output_type": "stream",
     "text": [
      "100%|██████████| 100/100 [00:00<00:00, 1125.38trial/s, best loss: 0.008155882306973727]\n",
      "{'a': 1, 'b': 0.008155882306973727}\n"
     ]
    }
   ],
   "source": [
    "best = fmin(fn=lambda x: x, space=space_with_fixed_a, algo=rand.suggest, max_evals=100)\n",
    "print(best)"
   ]
  },
  {
   "cell_type": "code",
   "execution_count": 37,
   "id": "e4f3db22",
   "metadata": {},
   "outputs": [
    {
     "name": "stdout",
     "output_type": "stream",
     "text": [
      "100%|██████████| 100/100 [00:00<00:00, 224.06trial/s, best loss: 0.0005149761870428913]\n",
      "{'b': 0.0005149761870428913}\n"
     ]
    }
   ],
   "source": [
    "from hyperopt import tpe\n",
    "space_with_no_a = pyll.clone(space, memo={space.pos_args[0]: pyll.as_apply(1)})\n",
    "best = fmin(fn=lambda x: x, space=space_with_no_a, algo=tpe.suggest, max_evals=100)\n",
    "print(best)\n"
   ]
  }
 ],
 "metadata": {
  "kernelspec": {
   "display_name": "Python 3 (ipykernel)",
   "language": "python",
   "name": "python3"
  },
  "language_info": {
   "codemirror_mode": {
    "name": "ipython",
    "version": 3
   },
   "file_extension": ".py",
   "mimetype": "text/x-python",
   "name": "python",
   "nbconvert_exporter": "python",
   "pygments_lexer": "ipython3",
   "version": "3.8.12"
  }
 },
 "nbformat": 4,
 "nbformat_minor": 5
}
