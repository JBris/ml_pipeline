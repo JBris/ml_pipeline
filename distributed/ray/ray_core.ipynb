{
 "cells": [
  {
   "cell_type": "code",
   "execution_count": 8,
   "id": "34914fa3",
   "metadata": {},
   "outputs": [
    {
     "name": "stderr",
     "output_type": "stream",
     "text": [
      "2021-12-05 13:59:32,015\tINFO services.py:1338 -- View the Ray dashboard at \u001b[1m\u001b[32mhttp://127.0.0.1:8265\u001b[39m\u001b[22m\n",
      "2021-12-05 13:59:35,615\tERROR import_thread.py:89 -- ImportThread: [WinError 10054] An existing connection was forcibly closed by the remote host\n",
      "Exception in thread ray_print_logs:\n",
      "Traceback (most recent call last):\n",
      "  File \"D:\\anaconda3\\envs\\yourenvname\\lib\\threading.py\", line 932, in _bootstrap_inner\n",
      "    self.run()\n",
      "  File \"D:\\anaconda3\\envs\\yourenvname\\lib\\threading.py\", line 870, in run\n"
     ]
    },
    {
     "data": {
      "text/plain": [
       "{'node_ip_address': '127.0.0.1',\n",
       " 'raylet_ip_address': '127.0.0.1',\n",
       " 'redis_address': '127.0.0.1:6379',\n",
       " 'object_store_address': 'tcp://127.0.0.1:59325',\n",
       " 'raylet_socket_name': 'tcp://127.0.0.1:56567',\n",
       " 'webui_url': '127.0.0.1:8265',\n",
       " 'session_dir': 'C:\\\\Users\\\\James\\\\AppData\\\\Local\\\\Temp\\\\ray\\\\session_2021-12-05_13-59-25_570195_2912',\n",
       " 'metrics_export_port': 62544,\n",
       " 'node_id': 'bdeb0a06ccc564d67016ca7f211418a46ebc33ebf51e8a1d5f794ab2'}"
      ]
     },
     "execution_count": 8,
     "metadata": {},
     "output_type": "execute_result"
    },
    {
     "name": "stderr",
     "output_type": "stream",
     "text": [
      "    self._target(*self._args, **self._kwargs)\n",
      "  File \"D:\\anaconda3\\envs\\yourenvname\\lib\\site-packages\\ray\\worker.py\", line 439, in print_logs\n",
      "    pubsub_client.subscribe(gcs_utils.LOG_FILE_CHANNEL)\n",
      "  File \"D:\\anaconda3\\envs\\yourenvname\\lib\\site-packages\\redis\\client.py\", line 1377, in subscribe\n",
      "    ret_val = self.execute_command('SUBSCRIBE', *new_channels.keys())\n",
      "  File \"D:\\anaconda3\\envs\\yourenvname\\lib\\site-packages\\redis\\client.py\", line 1253, in execute_command\n",
      "    self.connection = self.connection_pool.get_connection(\n",
      "  File \"D:\\anaconda3\\envs\\yourenvname\\lib\\site-packages\\redis\\connection.py\", line 1179, in get_connection\n",
      "    if connection.can_read():\n",
      "  File \"D:\\anaconda3\\envs\\yourenvname\\lib\\site-packages\\redis\\connection.py\", line 743, in can_read\n",
      "    return self._parser.can_read(timeout)\n",
      "  File \"D:\\anaconda3\\envs\\yourenvname\\lib\\site-packages\\redis\\connection.py\", line 410, in can_read\n",
      "    return self.read_from_socket(timeout=timeout,\n",
      "  File \"D:\\anaconda3\\envs\\yourenvname\\lib\\site-packages\\redis\\connection.py\", line 421, in read_from_socket\n",
      "    bufflen = self._sock.recv_into(self._buffer)\n",
      "ConnectionResetError: [WinError 10054] An existing connection was forcibly closed by the remote host\n"
     ]
    }
   ],
   "source": [
    "import ray\n",
    "\n",
    "# Start Ray. If you're connecting to an existing cluster, you would use\n",
    "# ray.init(address=<cluster-address>) instead.\n",
    "ray.shutdown()\n",
    "ray.init()"
   ]
  },
  {
   "cell_type": "code",
   "execution_count": 9,
   "id": "320cb38b",
   "metadata": {},
   "outputs": [
    {
     "data": {
      "text/plain": [
       "True"
      ]
     },
     "execution_count": 9,
     "metadata": {},
     "output_type": "execute_result"
    }
   ],
   "source": [
    "ray.is_initialized() "
   ]
  },
  {
   "cell_type": "markdown",
   "id": "25d71160",
   "metadata": {},
   "source": [
    "Actors"
   ]
  },
  {
   "cell_type": "code",
   "execution_count": 14,
   "id": "d18b8687",
   "metadata": {},
   "outputs": [
    {
     "data": {
      "text/plain": [
       "1"
      ]
     },
     "execution_count": 14,
     "metadata": {},
     "output_type": "execute_result"
    }
   ],
   "source": [
    "@ray.remote\n",
    "class Counter(object):\n",
    "    def __init__(self):\n",
    "        self.value = 0\n",
    "\n",
    "    def increment(self):\n",
    "        self.value += 1\n",
    "        return self.value\n",
    "\n",
    "    def get_counter(self):\n",
    "        return self.value\n",
    "\n",
    "counter_actor = Counter.remote()\n",
    "ray.get(counter_actor.increment.remote())"
   ]
  },
  {
   "cell_type": "code",
   "execution_count": 15,
   "id": "c9196cab",
   "metadata": {},
   "outputs": [
    {
     "data": {
      "text/plain": [
       "1"
      ]
     },
     "execution_count": 15,
     "metadata": {},
     "output_type": "execute_result"
    }
   ],
   "source": [
    "@ray.remote\n",
    "class Foo(object):\n",
    "\n",
    "    # Any method of the actor can return multiple object refs.\n",
    "    @ray.method(num_returns=2)\n",
    "    def bar(self):\n",
    "        return 1, 2\n",
    "\n",
    "f = Foo.remote()\n",
    "obj_ref1, obj_ref2 = f.bar.remote()\n",
    "ray.get(obj_ref1)"
   ]
  },
  {
   "cell_type": "code",
   "execution_count": 16,
   "id": "403ef856",
   "metadata": {},
   "outputs": [],
   "source": [
    "@ray.remote(num_cpus=2, num_gpus=1)\n",
    "class GPUActor(object):\n",
    "    pass\n",
    "\n",
    "@ray.remote(num_cpus=4)\n",
    "class Counter(object):\n",
    "    pass\n",
    "\n",
    "a1 = Counter.options(num_cpus=1, resources={\"Custom1\": 1}).remote()\n",
    "a2 = Counter.options(num_cpus=2, resources={\"Custom2\": 1}).remote()\n",
    "a3 = Counter.options(num_cpus=3, resources={\"Custom3\": 1}).remote()"
   ]
  },
  {
   "cell_type": "code",
   "execution_count": null,
   "id": "6b64bd98",
   "metadata": {},
   "outputs": [],
   "source": [
    "ray.actor.exit_actor()"
   ]
  },
  {
   "cell_type": "code",
   "execution_count": 18,
   "id": "be4d9b1f",
   "metadata": {},
   "outputs": [
    {
     "name": "stdout",
     "output_type": "stream",
     "text": [
      "0\n",
      "10\n",
      "19\n",
      "39\n",
      "59\n",
      "89\n"
     ]
    },
    {
     "ename": "KeyboardInterrupt",
     "evalue": "",
     "output_type": "error",
     "traceback": [
      "\u001b[1;31m---------------------------------------------------------------------------\u001b[0m",
      "\u001b[1;31mKeyboardInterrupt\u001b[0m                         Traceback (most recent call last)",
      "\u001b[1;32m~\\AppData\\Local\\Temp/ipykernel_2912/3445854079.py\u001b[0m in \u001b[0;36m<module>\u001b[1;34m\u001b[0m\n\u001b[0;32m     12\u001b[0m \u001b[1;31m# Print the counter value.\u001b[0m\u001b[1;33m\u001b[0m\u001b[1;33m\u001b[0m\u001b[1;33m\u001b[0m\u001b[0m\n\u001b[0;32m     13\u001b[0m \u001b[1;32mfor\u001b[0m \u001b[0m_\u001b[0m \u001b[1;32min\u001b[0m \u001b[0mrange\u001b[0m\u001b[1;33m(\u001b[0m\u001b[1;36m10\u001b[0m\u001b[1;33m)\u001b[0m\u001b[1;33m:\u001b[0m\u001b[1;33m\u001b[0m\u001b[1;33m\u001b[0m\u001b[0m\n\u001b[1;32m---> 14\u001b[1;33m     \u001b[0mtime\u001b[0m\u001b[1;33m.\u001b[0m\u001b[0msleep\u001b[0m\u001b[1;33m(\u001b[0m\u001b[1;36m1\u001b[0m\u001b[1;33m)\u001b[0m\u001b[1;33m\u001b[0m\u001b[1;33m\u001b[0m\u001b[0m\n\u001b[0m\u001b[0;32m     15\u001b[0m     \u001b[0mprint\u001b[0m\u001b[1;33m(\u001b[0m\u001b[0mray\u001b[0m\u001b[1;33m.\u001b[0m\u001b[0mget\u001b[0m\u001b[1;33m(\u001b[0m\u001b[0mcounter\u001b[0m\u001b[1;33m.\u001b[0m\u001b[0mget_counter\u001b[0m\u001b[1;33m.\u001b[0m\u001b[0mremote\u001b[0m\u001b[1;33m(\u001b[0m\u001b[1;33m)\u001b[0m\u001b[1;33m)\u001b[0m\u001b[1;33m)\u001b[0m\u001b[1;33m\u001b[0m\u001b[1;33m\u001b[0m\u001b[0m\n",
      "\u001b[1;31mKeyboardInterrupt\u001b[0m: "
     ]
    }
   ],
   "source": [
    "import time\n",
    "\n",
    "@ray.remote\n",
    "def f(counter):\n",
    "    for _ in range(1000):\n",
    "        time.sleep(0.1)\n",
    "        counter.increment.remote()\n",
    "        \n",
    "counter = Counter.remote()\n",
    "# Start some tasks that use the actor.\n",
    "[f.remote(counter) for _ in range(3)]\n",
    "# Print the counter value.\n",
    "for _ in range(10):\n",
    "    time.sleep(1)\n",
    "    print(ray.get(counter.get_counter.remote()))"
   ]
  },
  {
   "cell_type": "code",
   "execution_count": 21,
   "id": "d6b3172e",
   "metadata": {},
   "outputs": [
    {
     "name": "stderr",
     "output_type": "stream",
     "text": [
      "2021-12-05 14:09:00,084\tINFO worker.py:842 -- Connecting to existing Ray cluster at address: 127.0.0.1:6379\n",
      "2021-12-05 14:09:00,087\tINFO worker.py:852 -- Calling ray.init() again after it has already been called.\n",
      "2021-12-05 14:09:00,824\tINFO worker.py:842 -- Connecting to existing Ray cluster at address: 127.0.0.1:6379\n",
      "2021-12-05 14:09:00,825\tINFO worker.py:852 -- Calling ray.init() again after it has already been called.\n"
     ]
    },
    {
     "ename": "ValueError",
     "evalue": "Failed to look up actor with name 'orange'. This could because 1. You are trying to look up a named actor you didn't create. 2. The named actor died. 3. You did not use a namespace matching the namespace of the actor.",
     "output_type": "error",
     "traceback": [
      "\u001b[1;31m---------------------------------------------------------------------------\u001b[0m",
      "\u001b[1;31mValueError\u001b[0m                                Traceback (most recent call last)",
      "\u001b[1;32m~\\AppData\\Local\\Temp/ipykernel_2912/4146264233.py\u001b[0m in \u001b[0;36m<module>\u001b[1;34m\u001b[0m\n\u001b[0;32m     14\u001b[0m \u001b[0mray\u001b[0m\u001b[1;33m.\u001b[0m\u001b[0minit\u001b[0m\u001b[1;33m(\u001b[0m\u001b[0maddress\u001b[0m\u001b[1;33m=\u001b[0m\u001b[1;34m\"auto\"\u001b[0m\u001b[1;33m,\u001b[0m \u001b[0mnamespace\u001b[0m\u001b[1;33m=\u001b[0m\u001b[1;34m\"fruit\"\u001b[0m\u001b[1;33m,\u001b[0m\u001b[0mignore_reinit_error\u001b[0m\u001b[1;33m=\u001b[0m\u001b[1;32mTrue\u001b[0m\u001b[1;33m)\u001b[0m\u001b[1;33m\u001b[0m\u001b[1;33m\u001b[0m\u001b[0m\n\u001b[0;32m     15\u001b[0m \u001b[1;31m# This fails because \"orange\" was defined in the \"colors\" namespace.\u001b[0m\u001b[1;33m\u001b[0m\u001b[1;33m\u001b[0m\u001b[1;33m\u001b[0m\u001b[0m\n\u001b[1;32m---> 16\u001b[1;33m \u001b[0mray\u001b[0m\u001b[1;33m.\u001b[0m\u001b[0mget_actor\u001b[0m\u001b[1;33m(\u001b[0m\u001b[1;34m\"orange\"\u001b[0m\u001b[1;33m)\u001b[0m\u001b[1;33m\u001b[0m\u001b[1;33m\u001b[0m\u001b[0m\n\u001b[0m\u001b[0;32m     17\u001b[0m \u001b[1;33m\u001b[0m\u001b[0m\n\u001b[0;32m     18\u001b[0m \u001b[1;31m# driver_3.py\u001b[0m\u001b[1;33m\u001b[0m\u001b[1;33m\u001b[0m\u001b[1;33m\u001b[0m\u001b[0m\n",
      "\u001b[1;32mD:\\anaconda3\\envs\\yourenvname\\lib\\site-packages\\ray\\_private\\client_mode_hook.py\u001b[0m in \u001b[0;36mwrapper\u001b[1;34m(*args, **kwargs)\u001b[0m\n\u001b[0;32m    103\u001b[0m             \u001b[1;32mif\u001b[0m \u001b[0mfunc\u001b[0m\u001b[1;33m.\u001b[0m\u001b[0m__name__\u001b[0m \u001b[1;33m!=\u001b[0m \u001b[1;34m\"init\"\u001b[0m \u001b[1;32mor\u001b[0m \u001b[0mis_client_mode_enabled_by_default\u001b[0m\u001b[1;33m:\u001b[0m\u001b[1;33m\u001b[0m\u001b[1;33m\u001b[0m\u001b[0m\n\u001b[0;32m    104\u001b[0m                 \u001b[1;32mreturn\u001b[0m \u001b[0mgetattr\u001b[0m\u001b[1;33m(\u001b[0m\u001b[0mray\u001b[0m\u001b[1;33m,\u001b[0m \u001b[0mfunc\u001b[0m\u001b[1;33m.\u001b[0m\u001b[0m__name__\u001b[0m\u001b[1;33m)\u001b[0m\u001b[1;33m(\u001b[0m\u001b[1;33m*\u001b[0m\u001b[0margs\u001b[0m\u001b[1;33m,\u001b[0m \u001b[1;33m**\u001b[0m\u001b[0mkwargs\u001b[0m\u001b[1;33m)\u001b[0m\u001b[1;33m\u001b[0m\u001b[1;33m\u001b[0m\u001b[0m\n\u001b[1;32m--> 105\u001b[1;33m         \u001b[1;32mreturn\u001b[0m \u001b[0mfunc\u001b[0m\u001b[1;33m(\u001b[0m\u001b[1;33m*\u001b[0m\u001b[0margs\u001b[0m\u001b[1;33m,\u001b[0m \u001b[1;33m**\u001b[0m\u001b[0mkwargs\u001b[0m\u001b[1;33m)\u001b[0m\u001b[1;33m\u001b[0m\u001b[1;33m\u001b[0m\u001b[0m\n\u001b[0m\u001b[0;32m    106\u001b[0m \u001b[1;33m\u001b[0m\u001b[0m\n\u001b[0;32m    107\u001b[0m     \u001b[1;32mreturn\u001b[0m \u001b[0mwrapper\u001b[0m\u001b[1;33m\u001b[0m\u001b[1;33m\u001b[0m\u001b[0m\n",
      "\u001b[1;32mD:\\anaconda3\\envs\\yourenvname\\lib\\site-packages\\ray\\worker.py\u001b[0m in \u001b[0;36mget_actor\u001b[1;34m(name, namespace)\u001b[0m\n\u001b[0;32m   1923\u001b[0m     \u001b[0mworker\u001b[0m \u001b[1;33m=\u001b[0m \u001b[0mglobal_worker\u001b[0m\u001b[1;33m\u001b[0m\u001b[1;33m\u001b[0m\u001b[0m\n\u001b[0;32m   1924\u001b[0m     \u001b[0mworker\u001b[0m\u001b[1;33m.\u001b[0m\u001b[0mcheck_connected\u001b[0m\u001b[1;33m(\u001b[0m\u001b[1;33m)\u001b[0m\u001b[1;33m\u001b[0m\u001b[1;33m\u001b[0m\u001b[0m\n\u001b[1;32m-> 1925\u001b[1;33m     \u001b[1;32mreturn\u001b[0m \u001b[0mworker\u001b[0m\u001b[1;33m.\u001b[0m\u001b[0mcore_worker\u001b[0m\u001b[1;33m.\u001b[0m\u001b[0mget_named_actor_handle\u001b[0m\u001b[1;33m(\u001b[0m\u001b[0mname\u001b[0m\u001b[1;33m,\u001b[0m \u001b[0mnamespace\u001b[0m \u001b[1;32mor\u001b[0m \u001b[1;34m\"\"\u001b[0m\u001b[1;33m)\u001b[0m\u001b[1;33m\u001b[0m\u001b[1;33m\u001b[0m\u001b[0m\n\u001b[0m\u001b[0;32m   1926\u001b[0m \u001b[1;33m\u001b[0m\u001b[0m\n\u001b[0;32m   1927\u001b[0m \u001b[1;33m\u001b[0m\u001b[0m\n",
      "\u001b[1;32mpython\\ray\\_raylet.pyx\u001b[0m in \u001b[0;36mray._raylet.CoreWorker.get_named_actor_handle\u001b[1;34m()\u001b[0m\n",
      "\u001b[1;32mpython\\ray\\_raylet.pyx\u001b[0m in \u001b[0;36mray._raylet.check_status\u001b[1;34m()\u001b[0m\n",
      "\u001b[1;31mValueError\u001b[0m: Failed to look up actor with name 'orange'. This could because 1. You are trying to look up a named actor you didn't create. 2. The named actor died. 3. You did not use a namespace matching the namespace of the actor."
     ]
    }
   ],
   "source": [
    "import ray\n",
    "\n",
    "@ray.remote\n",
    "class Actor:\n",
    "    pass\n",
    "\n",
    "# driver_1.py\n",
    "# Job 1 creates an actor, \"orange\" in the \"colors\" namespace.\n",
    "ray.init(address=\"auto\", namespace=\"colors\",ignore_reinit_error=True)\n",
    "Actor.options(name=\"orange\", lifetime=\"detached\")\n",
    "\n",
    "# driver_2.py\n",
    "# Job 2 is now connecting to a different namespace.\n",
    "ray.init(address=\"auto\", namespace=\"fruit\",ignore_reinit_error=True)\n",
    "# This fails because \"orange\" was defined in the \"colors\" namespace.\n",
    "ray.get_actor(\"orange\")\n",
    "\n",
    "# driver_3.py\n",
    "# Job 3 connects to the original \"colors\" namespace\n",
    "ray.init(address=\"auto\", namespace=\"colors\", ignore_reinit_error=True)\n",
    "# This returns the \"orange\" actor we created in the first job.\n",
    "ray.get_actor(\"orange\")"
   ]
  },
  {
   "cell_type": "code",
   "execution_count": 22,
   "id": "911fc5db",
   "metadata": {},
   "outputs": [
    {
     "name": "stderr",
     "output_type": "stream",
     "text": [
      "2021-12-05 14:09:11,697\tWARNING worker.py:1245 -- It looks like you're creating a detached actor in an anonymous namespace. In order to access this actor in the future, you will need to explicitly connect to this namespace with ray.init(namespace=\"023ddc17-a32a-4ceb-b0f9-c1d1ae42ef3c\", ...)\n"
     ]
    },
    {
     "ename": "KeyboardInterrupt",
     "evalue": "",
     "output_type": "error",
     "traceback": [
      "\u001b[1;31m---------------------------------------------------------------------------\u001b[0m",
      "\u001b[1;31mRuntimeError\u001b[0m                              Traceback (most recent call last)",
      "\u001b[1;32mD:\\anaconda3\\envs\\yourenvname\\lib\\site-packages\\ray\\_private\\function_manager.py\u001b[0m in \u001b[0;36m_load_actor_class_from_gcs\u001b[1;34m(self, job_id, actor_creation_function_descriptor)\u001b[0m\n\u001b[0;32m    537\u001b[0m                 \u001b[1;31m# to temporarily yield control to the import thread.\u001b[0m\u001b[1;33m\u001b[0m\u001b[1;33m\u001b[0m\u001b[1;33m\u001b[0m\u001b[0m\n\u001b[1;32m--> 538\u001b[1;33m                 \u001b[0mself\u001b[0m\u001b[1;33m.\u001b[0m\u001b[0mcv\u001b[0m\u001b[1;33m.\u001b[0m\u001b[0mwait\u001b[0m\u001b[1;33m(\u001b[0m\u001b[1;33m)\u001b[0m\u001b[1;33m\u001b[0m\u001b[1;33m\u001b[0m\u001b[0m\n\u001b[0m\u001b[0;32m    539\u001b[0m             \u001b[1;32mexcept\u001b[0m \u001b[0mRuntimeError\u001b[0m\u001b[1;33m:\u001b[0m\u001b[1;33m\u001b[0m\u001b[1;33m\u001b[0m\u001b[0m\n",
      "\u001b[1;32mD:\\anaconda3\\envs\\yourenvname\\lib\\threading.py\u001b[0m in \u001b[0;36mwait\u001b[1;34m(self, timeout)\u001b[0m\n\u001b[0;32m    293\u001b[0m         \u001b[1;32mif\u001b[0m \u001b[1;32mnot\u001b[0m \u001b[0mself\u001b[0m\u001b[1;33m.\u001b[0m\u001b[0m_is_owned\u001b[0m\u001b[1;33m(\u001b[0m\u001b[1;33m)\u001b[0m\u001b[1;33m:\u001b[0m\u001b[1;33m\u001b[0m\u001b[1;33m\u001b[0m\u001b[0m\n\u001b[1;32m--> 294\u001b[1;33m             \u001b[1;32mraise\u001b[0m \u001b[0mRuntimeError\u001b[0m\u001b[1;33m(\u001b[0m\u001b[1;34m\"cannot wait on un-acquired lock\"\u001b[0m\u001b[1;33m)\u001b[0m\u001b[1;33m\u001b[0m\u001b[1;33m\u001b[0m\u001b[0m\n\u001b[0m\u001b[0;32m    295\u001b[0m         \u001b[0mwaiter\u001b[0m \u001b[1;33m=\u001b[0m \u001b[0m_allocate_lock\u001b[0m\u001b[1;33m(\u001b[0m\u001b[1;33m)\u001b[0m\u001b[1;33m\u001b[0m\u001b[1;33m\u001b[0m\u001b[0m\n",
      "\u001b[1;31mRuntimeError\u001b[0m: cannot wait on un-acquired lock",
      "\nDuring handling of the above exception, another exception occurred:\n",
      "\u001b[1;31mKeyboardInterrupt\u001b[0m                         Traceback (most recent call last)",
      "\u001b[1;32m~\\AppData\\Local\\Temp/ipykernel_2912/3145414246.py\u001b[0m in \u001b[0;36m<module>\u001b[1;34m\u001b[0m\n\u001b[0;32m      1\u001b[0m \u001b[0mcounter\u001b[0m \u001b[1;33m=\u001b[0m \u001b[0mCounter\u001b[0m\u001b[1;33m.\u001b[0m\u001b[0moptions\u001b[0m\u001b[1;33m(\u001b[0m\u001b[0mname\u001b[0m\u001b[1;33m=\u001b[0m\u001b[1;34m\"CounterActor\"\u001b[0m\u001b[1;33m,\u001b[0m \u001b[0mlifetime\u001b[0m\u001b[1;33m=\u001b[0m\u001b[1;34m\"detached\"\u001b[0m\u001b[1;33m)\u001b[0m\u001b[1;33m.\u001b[0m\u001b[0mremote\u001b[0m\u001b[1;33m(\u001b[0m\u001b[1;33m)\u001b[0m\u001b[1;33m\u001b[0m\u001b[1;33m\u001b[0m\u001b[0m\n\u001b[1;32m----> 2\u001b[1;33m \u001b[0mcounter\u001b[0m \u001b[1;33m=\u001b[0m \u001b[0mray\u001b[0m\u001b[1;33m.\u001b[0m\u001b[0mget_actor\u001b[0m\u001b[1;33m(\u001b[0m\u001b[1;34m\"CounterActor\"\u001b[0m\u001b[1;33m)\u001b[0m\u001b[1;33m\u001b[0m\u001b[1;33m\u001b[0m\u001b[0m\n\u001b[0m\u001b[0;32m      3\u001b[0m \u001b[0mprint\u001b[0m\u001b[1;33m(\u001b[0m\u001b[0mray\u001b[0m\u001b[1;33m.\u001b[0m\u001b[0mget\u001b[0m\u001b[1;33m(\u001b[0m\u001b[0mcounter\u001b[0m\u001b[1;33m.\u001b[0m\u001b[0mget_counter\u001b[0m\u001b[1;33m.\u001b[0m\u001b[0mremote\u001b[0m\u001b[1;33m(\u001b[0m\u001b[1;33m)\u001b[0m\u001b[1;33m)\u001b[0m\u001b[1;33m)\u001b[0m\u001b[1;33m\u001b[0m\u001b[1;33m\u001b[0m\u001b[0m\n",
      "\u001b[1;32mD:\\anaconda3\\envs\\yourenvname\\lib\\site-packages\\ray\\_private\\client_mode_hook.py\u001b[0m in \u001b[0;36mwrapper\u001b[1;34m(*args, **kwargs)\u001b[0m\n\u001b[0;32m    103\u001b[0m             \u001b[1;32mif\u001b[0m \u001b[0mfunc\u001b[0m\u001b[1;33m.\u001b[0m\u001b[0m__name__\u001b[0m \u001b[1;33m!=\u001b[0m \u001b[1;34m\"init\"\u001b[0m \u001b[1;32mor\u001b[0m \u001b[0mis_client_mode_enabled_by_default\u001b[0m\u001b[1;33m:\u001b[0m\u001b[1;33m\u001b[0m\u001b[1;33m\u001b[0m\u001b[0m\n\u001b[0;32m    104\u001b[0m                 \u001b[1;32mreturn\u001b[0m \u001b[0mgetattr\u001b[0m\u001b[1;33m(\u001b[0m\u001b[0mray\u001b[0m\u001b[1;33m,\u001b[0m \u001b[0mfunc\u001b[0m\u001b[1;33m.\u001b[0m\u001b[0m__name__\u001b[0m\u001b[1;33m)\u001b[0m\u001b[1;33m(\u001b[0m\u001b[1;33m*\u001b[0m\u001b[0margs\u001b[0m\u001b[1;33m,\u001b[0m \u001b[1;33m**\u001b[0m\u001b[0mkwargs\u001b[0m\u001b[1;33m)\u001b[0m\u001b[1;33m\u001b[0m\u001b[1;33m\u001b[0m\u001b[0m\n\u001b[1;32m--> 105\u001b[1;33m         \u001b[1;32mreturn\u001b[0m \u001b[0mfunc\u001b[0m\u001b[1;33m(\u001b[0m\u001b[1;33m*\u001b[0m\u001b[0margs\u001b[0m\u001b[1;33m,\u001b[0m \u001b[1;33m**\u001b[0m\u001b[0mkwargs\u001b[0m\u001b[1;33m)\u001b[0m\u001b[1;33m\u001b[0m\u001b[1;33m\u001b[0m\u001b[0m\n\u001b[0m\u001b[0;32m    106\u001b[0m \u001b[1;33m\u001b[0m\u001b[0m\n\u001b[0;32m    107\u001b[0m     \u001b[1;32mreturn\u001b[0m \u001b[0mwrapper\u001b[0m\u001b[1;33m\u001b[0m\u001b[1;33m\u001b[0m\u001b[0m\n",
      "\u001b[1;32mD:\\anaconda3\\envs\\yourenvname\\lib\\site-packages\\ray\\worker.py\u001b[0m in \u001b[0;36mget_actor\u001b[1;34m(name, namespace)\u001b[0m\n\u001b[0;32m   1923\u001b[0m     \u001b[0mworker\u001b[0m \u001b[1;33m=\u001b[0m \u001b[0mglobal_worker\u001b[0m\u001b[1;33m\u001b[0m\u001b[1;33m\u001b[0m\u001b[0m\n\u001b[0;32m   1924\u001b[0m     \u001b[0mworker\u001b[0m\u001b[1;33m.\u001b[0m\u001b[0mcheck_connected\u001b[0m\u001b[1;33m(\u001b[0m\u001b[1;33m)\u001b[0m\u001b[1;33m\u001b[0m\u001b[1;33m\u001b[0m\u001b[0m\n\u001b[1;32m-> 1925\u001b[1;33m     \u001b[1;32mreturn\u001b[0m \u001b[0mworker\u001b[0m\u001b[1;33m.\u001b[0m\u001b[0mcore_worker\u001b[0m\u001b[1;33m.\u001b[0m\u001b[0mget_named_actor_handle\u001b[0m\u001b[1;33m(\u001b[0m\u001b[0mname\u001b[0m\u001b[1;33m,\u001b[0m \u001b[0mnamespace\u001b[0m \u001b[1;32mor\u001b[0m \u001b[1;34m\"\"\u001b[0m\u001b[1;33m)\u001b[0m\u001b[1;33m\u001b[0m\u001b[1;33m\u001b[0m\u001b[0m\n\u001b[0m\u001b[0;32m   1926\u001b[0m \u001b[1;33m\u001b[0m\u001b[0m\n\u001b[0;32m   1927\u001b[0m \u001b[1;33m\u001b[0m\u001b[0m\n",
      "\u001b[1;32mpython\\ray\\_raylet.pyx\u001b[0m in \u001b[0;36mray._raylet.CoreWorker.get_named_actor_handle\u001b[1;34m()\u001b[0m\n",
      "\u001b[1;32mpython\\ray\\_raylet.pyx\u001b[0m in \u001b[0;36mray._raylet.CoreWorker.make_actor_handle\u001b[1;34m()\u001b[0m\n",
      "\u001b[1;32mD:\\anaconda3\\envs\\yourenvname\\lib\\site-packages\\ray\\_private\\function_manager.py\u001b[0m in \u001b[0;36mload_actor_class\u001b[1;34m(self, job_id, actor_creation_function_descriptor)\u001b[0m\n\u001b[0;32m    449\u001b[0m             \u001b[1;32melse\u001b[0m\u001b[1;33m:\u001b[0m\u001b[1;33m\u001b[0m\u001b[1;33m\u001b[0m\u001b[0m\n\u001b[0;32m    450\u001b[0m                 \u001b[1;31m# Load actor class from GCS.\u001b[0m\u001b[1;33m\u001b[0m\u001b[1;33m\u001b[0m\u001b[1;33m\u001b[0m\u001b[0m\n\u001b[1;32m--> 451\u001b[1;33m                 actor_class = self._load_actor_class_from_gcs(\n\u001b[0m\u001b[0;32m    452\u001b[0m                     job_id, actor_creation_function_descriptor)\n\u001b[0;32m    453\u001b[0m             \u001b[1;31m# Save the loaded actor class in cache.\u001b[0m\u001b[1;33m\u001b[0m\u001b[1;33m\u001b[0m\u001b[1;33m\u001b[0m\u001b[0m\n",
      "\u001b[1;32mD:\\anaconda3\\envs\\yourenvname\\lib\\site-packages\\ray\\_private\\function_manager.py\u001b[0m in \u001b[0;36m_load_actor_class_from_gcs\u001b[1;34m(self, job_id, actor_creation_function_descriptor)\u001b[0m\n\u001b[0;32m    539\u001b[0m             \u001b[1;32mexcept\u001b[0m \u001b[0mRuntimeError\u001b[0m\u001b[1;33m:\u001b[0m\u001b[1;33m\u001b[0m\u001b[1;33m\u001b[0m\u001b[0m\n\u001b[0;32m    540\u001b[0m                 \u001b[1;31m# We don't hold the function_manager lock, just sleep regularly\u001b[0m\u001b[1;33m\u001b[0m\u001b[1;33m\u001b[0m\u001b[1;33m\u001b[0m\u001b[0m\n\u001b[1;32m--> 541\u001b[1;33m                 \u001b[0mtime\u001b[0m\u001b[1;33m.\u001b[0m\u001b[0msleep\u001b[0m\u001b[1;33m(\u001b[0m\u001b[1;36m0.001\u001b[0m\u001b[1;33m)\u001b[0m\u001b[1;33m\u001b[0m\u001b[1;33m\u001b[0m\u001b[0m\n\u001b[0m\u001b[0;32m    542\u001b[0m \u001b[1;33m\u001b[0m\u001b[0m\n\u001b[0;32m    543\u001b[0m         \u001b[1;31m# Fetch raw data from GCS.\u001b[0m\u001b[1;33m\u001b[0m\u001b[1;33m\u001b[0m\u001b[1;33m\u001b[0m\u001b[0m\n",
      "\u001b[1;31mKeyboardInterrupt\u001b[0m: "
     ]
    }
   ],
   "source": [
    "counter = Counter.options(name=\"CounterActor\", lifetime=\"detached\").remote()\n",
    "counter = ray.get_actor(\"CounterActor\")\n",
    "print(ray.get(counter.get_counter.remote()))"
   ]
  },
  {
   "cell_type": "code",
   "execution_count": 26,
   "id": "a7bebe27",
   "metadata": {},
   "outputs": [
    {
     "name": "stdout",
     "output_type": "stream",
     "text": [
      "[2, 4, 6, 8]\n"
     ]
    }
   ],
   "source": [
    "from ray.util import ActorPool\n",
    "\n",
    "@ray.remote\n",
    "class Actor:\n",
    "    def double(self, n):\n",
    "        return n * 2\n",
    "\n",
    "a1, a2 = Actor.remote(), Actor.remote()\n",
    "pool = ActorPool([a1, a2])\n",
    "\n",
    "# pool.map(..) returns a Python generator object ActorPool.map\n",
    "gen = pool.map(lambda a, v: a.double.remote(v), [1, 2, 3, 4])\n",
    "print([v for v in gen])"
   ]
  },
  {
   "cell_type": "markdown",
   "id": "886ba332",
   "metadata": {},
   "source": [
    "Namespaces"
   ]
  },
  {
   "cell_type": "code",
   "execution_count": 27,
   "id": "608ef934",
   "metadata": {},
   "outputs": [
    {
     "name": "stderr",
     "output_type": "stream",
     "text": [
      "2021-12-05 14:11:38,124\tINFO services.py:1338 -- View the Ray dashboard at \u001b[1m\u001b[32mhttp://127.0.0.1:8265\u001b[39m\u001b[22m\n",
      "2021-12-05 14:11:41,775\tERROR import_thread.py:89 -- ImportThread: [WinError 10054] An existing connection was forcibly closed by the remote host\n",
      "Exception in thread ray_print_logs:\n",
      "Traceback (most recent call last):\n",
      "  File \"D:\\anaconda3\\envs\\yourenvname\\lib\\threading.py\", line 932, in _bootstrap_inner\n",
      "Exception in thread ray_listen_error_messages:\n",
      "Traceback (most recent call last):\n"
     ]
    },
    {
     "data": {
      "text/plain": [
       "{'node_ip_address': '127.0.0.1',\n",
       " 'raylet_ip_address': '127.0.0.1',\n",
       " 'redis_address': '127.0.0.1:6379',\n",
       " 'object_store_address': 'tcp://127.0.0.1:61777',\n",
       " 'raylet_socket_name': 'tcp://127.0.0.1:61624',\n",
       " 'webui_url': '127.0.0.1:8265',\n",
       " 'session_dir': 'C:\\\\Users\\\\James\\\\AppData\\\\Local\\\\Temp\\\\ray\\\\session_2021-12-05_14-11-31_497014_2912',\n",
       " 'metrics_export_port': 56978,\n",
       " 'node_id': 'ee8dfcc48a85aeeb276268f4761f5ad84800a82706255b5c102c2544'}"
      ]
     },
     "execution_count": 27,
     "metadata": {},
     "output_type": "execute_result"
    },
    {
     "name": "stderr",
     "output_type": "stream",
     "text": [
      "  File \"D:\\anaconda3\\envs\\yourenvname\\lib\\threading.py\", line 932, in _bootstrap_inner\n",
      "    self.run()\n",
      "    self.run()\n",
      "  File \"D:\\anaconda3\\envs\\yourenvname\\lib\\threading.py\", line 870, in run\n",
      "  File \"D:\\anaconda3\\envs\\yourenvname\\lib\\threading.py\", line 870, in run\n",
      "    self._target(*self._args, **self._kwargs)\n",
      "  File \"D:\\anaconda3\\envs\\yourenvname\\lib\\site-packages\\ray\\worker.py\", line 439, in print_logs\n",
      "    pubsub_client.subscribe(gcs_utils.LOG_FILE_CHANNEL)\n",
      "  File \"D:\\anaconda3\\envs\\yourenvname\\lib\\site-packages\\redis\\client.py\", line 1377, in subscribe\n",
      "    self._target(*self._args, **self._kwargs)\n",
      "  File \"D:\\anaconda3\\envs\\yourenvname\\lib\\site-packages\\ray\\worker.py\", line 1211, in listen_error_messages_raylet\n",
      "    ret_val = self.execute_command('SUBSCRIBE', *new_channels.keys())\n",
      "  File \"D:\\anaconda3\\envs\\yourenvname\\lib\\site-packages\\redis\\client.py\", line 1253, in execute_command\n",
      "        worker.error_message_pubsub_client.psubscribe(error_pubsub_channel)\n",
      "  File \"D:\\anaconda3\\envs\\yourenvname\\lib\\site-packages\\redis\\client.py\", line 1343, in psubscribe\n",
      "self.connection = self.connection_pool.get_connection(\n",
      "  File \"D:\\anaconda3\\envs\\yourenvname\\lib\\site-packages\\redis\\connection.py\", line 1179, in get_connection\n",
      "    if connection.can_read():\n",
      "  File \"D:\\anaconda3\\envs\\yourenvname\\lib\\site-packages\\redis\\connection.py\", line 743, in can_read\n",
      "    ret_val = self.execute_command('PSUBSCRIBE', *new_patterns.keys())\n",
      "  File \"D:\\anaconda3\\envs\\yourenvname\\lib\\site-packages\\redis\\client.py\", line 1253, in execute_command\n",
      "    return self._parser.can_read(timeout)\n",
      "  File \"D:\\anaconda3\\envs\\yourenvname\\lib\\site-packages\\redis\\connection.py\", line 410, in can_read\n",
      "    self.connection = self.connection_pool.get_connection(\n",
      "    return self.read_from_socket(timeout=timeout,  File \"D:\\anaconda3\\envs\\yourenvname\\lib\\site-packages\\redis\\connection.py\", line 1179, in get_connection\n",
      "\n",
      "  File \"D:\\anaconda3\\envs\\yourenvname\\lib\\site-packages\\redis\\connection.py\", line 421, in read_from_socket\n",
      "    bufflen = self._sock.recv_into(self._buffer)\n",
      "ConnectionResetError: [WinError 10054] An existing connection was forcibly closed by the remote host\n",
      "    if connection.can_read():\n",
      "  File \"D:\\anaconda3\\envs\\yourenvname\\lib\\site-packages\\redis\\connection.py\", line 743, in can_read\n",
      "    return self._parser.can_read(timeout)\n",
      "  File \"D:\\anaconda3\\envs\\yourenvname\\lib\\site-packages\\redis\\connection.py\", line 410, in can_read\n",
      "    return self.read_from_socket(timeout=timeout,\n",
      "  File \"D:\\anaconda3\\envs\\yourenvname\\lib\\site-packages\\redis\\connection.py\", line 421, in read_from_socket\n",
      "    bufflen = self._sock.recv_into(self._buffer)\n",
      "ConnectionResetError: [WinError 10054] An existing connection was forcibly closed by the remote host\n"
     ]
    }
   ],
   "source": [
    "ray.shutdown()\n",
    "ray.init(namespace=\"hello\")\n",
    "# or using ray client\n",
    "#ray.init(\"ray://<head_node_host>:10001\", namespace=\"world\")"
   ]
  },
  {
   "cell_type": "code",
   "execution_count": 30,
   "id": "b9cb39ec",
   "metadata": {},
   "outputs": [
    {
     "name": "stderr",
     "output_type": "stream",
     "text": [
      "2021-12-05 17:42:53,732\tINFO worker.py:852 -- Calling ray.init() again after it has already been called.\n"
     ]
    },
    {
     "ename": "AttributeError",
     "evalue": "__enter__",
     "output_type": "error",
     "traceback": [
      "\u001b[1;31m---------------------------------------------------------------------------\u001b[0m",
      "\u001b[1;31mAttributeError\u001b[0m                            Traceback (most recent call last)",
      "\u001b[1;32m~\\AppData\\Local\\Temp/ipykernel_2912/2638247447.py\u001b[0m in \u001b[0;36m<module>\u001b[1;34m\u001b[0m\n\u001b[0;32m      7\u001b[0m \u001b[1;33m\u001b[0m\u001b[0m\n\u001b[0;32m      8\u001b[0m \u001b[1;31m# Job 1 creates two actors, \"orange\" and \"purple\" in the \"colors\" namespace.\u001b[0m\u001b[1;33m\u001b[0m\u001b[1;33m\u001b[0m\u001b[1;33m\u001b[0m\u001b[0m\n\u001b[1;32m----> 9\u001b[1;33m \u001b[1;32mwith\u001b[0m \u001b[0mray\u001b[0m\u001b[1;33m.\u001b[0m\u001b[0minit\u001b[0m\u001b[1;33m(\u001b[0m\u001b[0mnamespace\u001b[0m\u001b[1;33m=\u001b[0m\u001b[1;34m\"colors\"\u001b[0m\u001b[1;33m,\u001b[0m \u001b[0mignore_reinit_error\u001b[0m\u001b[1;33m=\u001b[0m\u001b[1;32mTrue\u001b[0m\u001b[1;33m)\u001b[0m\u001b[1;33m:\u001b[0m\u001b[1;33m\u001b[0m\u001b[1;33m\u001b[0m\u001b[0m\n\u001b[0m\u001b[0;32m     10\u001b[0m     \u001b[0mActor\u001b[0m\u001b[1;33m.\u001b[0m\u001b[0moptions\u001b[0m\u001b[1;33m(\u001b[0m\u001b[0mname\u001b[0m\u001b[1;33m=\u001b[0m\u001b[1;34m\"orange\"\u001b[0m\u001b[1;33m,\u001b[0m \u001b[0mlifetime\u001b[0m\u001b[1;33m=\u001b[0m\u001b[1;34m\"detached\"\u001b[0m\u001b[1;33m)\u001b[0m\u001b[1;33m\u001b[0m\u001b[1;33m\u001b[0m\u001b[0m\n\u001b[0;32m     11\u001b[0m     \u001b[0mActor\u001b[0m\u001b[1;33m.\u001b[0m\u001b[0moptions\u001b[0m\u001b[1;33m(\u001b[0m\u001b[0mname\u001b[0m\u001b[1;33m=\u001b[0m\u001b[1;34m\"purple\"\u001b[0m\u001b[1;33m,\u001b[0m \u001b[0mlifetime\u001b[0m\u001b[1;33m=\u001b[0m\u001b[1;34m\"detached\"\u001b[0m\u001b[1;33m)\u001b[0m\u001b[1;33m\u001b[0m\u001b[1;33m\u001b[0m\u001b[0m\n",
      "\u001b[1;31mAttributeError\u001b[0m: __enter__"
     ]
    }
   ],
   "source": [
    "# `ray start --head` has been run to launch a local cluster.\n",
    "import ray\n",
    "\n",
    "@ray.remote\n",
    "class Actor:\n",
    "    pass\n",
    "\n",
    "# Job 1 creates two actors, \"orange\" and \"purple\" in the \"colors\" namespace.\n",
    "with ray.init(namespace=\"colors\", ignore_reinit_error=True):\n",
    "    Actor.options(name=\"orange\", lifetime=\"detached\")\n",
    "    Actor.options(name=\"purple\", lifetime=\"detached\")\n",
    "\n",
    "# Job 2 is now connecting to a different namespace.\n",
    "with ray.init(namespace=\"fruits\", ignore_reinit_error=True):\n",
    "  # This fails because \"orange\" was defined in the \"colors\" namespace.\n",
    "    ray.get_actor(\"orange\")\n",
    "  # This succceeds because the name \"orange\" is unused in this namespace.\n",
    "    Actor.options(name=\"orange\", lifetime=\"detached\")\n",
    "    Actor.options(name=\"watermelon\", lifetime=\"detached\")\n",
    "\n",
    "# Job 3 connects to the original \"colors\" namespace\n",
    "context = ray.init(\"ray://localhost:10001\", namespace=\"colors\", ignore_reinit_error=True)\n",
    "# This fails because \"watermelon\" was in the fruits namespace.\n",
    "ray.get_actor(\"watermelon\")\n",
    "# This returns the \"orange\" actor we created in the first job, not the second.\n",
    "ray.get_actor(\"orange\")\n",
    "context.disconnect()\n",
    "# We are manually managing the scope of the connection in this example."
   ]
  },
  {
   "cell_type": "code",
   "execution_count": 34,
   "id": "fce9dd5f",
   "metadata": {},
   "outputs": [
    {
     "name": "stderr",
     "output_type": "stream",
     "text": [
      "2021-12-05 17:45:05,863\tINFO worker.py:852 -- Calling ray.init() again after it has already been called.\n",
      "2021-12-05 17:45:26,124\tINFO services.py:1338 -- View the Ray dashboard at \u001b[1m\u001b[32mhttp://127.0.0.1:8265\u001b[39m\u001b[22m\n"
     ]
    }
   ],
   "source": [
    "import ray\n",
    "\n",
    "@ray.remote\n",
    "class Actor:\n",
    "    pass\n",
    "\n",
    "# Job 1 connects to an anonymous namespace by default\n",
    "ray.init(ignore_reinit_error=True)\n",
    "Actor.options(name=\"my_actor\", lifetime=\"detached\")\n",
    "print(ray.get_runtime_context().namespace)\n",
    "ray.shutdown()\n",
    "\n",
    "# Job 2 connects to a _different_ anonymous namespace by default\n",
    "ray.init(ignore_reinit_error=True)\n",
    "# This succeeds because the second job is in its own namespace.\n",
    "Actor.options(name=\"my_actor\", lifetime=\"detached\")\n",
    "ray.shutdown()"
   ]
  },
  {
   "cell_type": "markdown",
   "id": "f21942af",
   "metadata": {},
   "source": [
    "Dependencies"
   ]
  },
  {
   "cell_type": "code",
   "execution_count": 40,
   "id": "35f8fc47",
   "metadata": {},
   "outputs": [
    {
     "name": "stderr",
     "output_type": "stream",
     "text": [
      "2021-12-05 17:49:00,073\tINFO services.py:1338 -- View the Ray dashboard at \u001b[1m\u001b[32mhttp://127.0.0.1:8265\u001b[39m\u001b[22m\n"
     ]
    },
    {
     "ename": "NotImplementedError",
     "evalue": "The 'pip' field in runtime_env is not currently supported on Windows.",
     "output_type": "error",
     "traceback": [
      "\u001b[1;31m---------------------------------------------------------------------------\u001b[0m",
      "\u001b[1;31mNotImplementedError\u001b[0m                       Traceback (most recent call last)",
      "\u001b[1;32m~\\AppData\\Local\\Temp/ipykernel_2912/607867276.py\u001b[0m in \u001b[0;36m<module>\u001b[1;34m\u001b[0m\n\u001b[0;32m      5\u001b[0m \u001b[1;31m# ray.init(address=..., runtime_env=...) to connect to a cluster.\u001b[0m\u001b[1;33m\u001b[0m\u001b[1;33m\u001b[0m\u001b[1;33m\u001b[0m\u001b[0m\n\u001b[0;32m      6\u001b[0m \u001b[0mray\u001b[0m\u001b[1;33m.\u001b[0m\u001b[0mshutdown\u001b[0m\u001b[1;33m(\u001b[0m\u001b[1;33m)\u001b[0m\u001b[1;33m\u001b[0m\u001b[1;33m\u001b[0m\u001b[0m\n\u001b[1;32m----> 7\u001b[1;33m \u001b[0mray\u001b[0m\u001b[1;33m.\u001b[0m\u001b[0minit\u001b[0m\u001b[1;33m(\u001b[0m\u001b[0mruntime_env\u001b[0m\u001b[1;33m=\u001b[0m\u001b[1;33m{\u001b[0m\u001b[1;34m\"pip\"\u001b[0m\u001b[1;33m:\u001b[0m \u001b[1;33m[\u001b[0m\u001b[1;34m\"requests\"\u001b[0m\u001b[1;33m]\u001b[0m\u001b[1;33m}\u001b[0m\u001b[1;33m)\u001b[0m\u001b[1;33m\u001b[0m\u001b[1;33m\u001b[0m\u001b[0m\n\u001b[0m\u001b[0;32m      8\u001b[0m \u001b[1;33m\u001b[0m\u001b[0m\n\u001b[0;32m      9\u001b[0m \u001b[1;33m@\u001b[0m\u001b[0mray\u001b[0m\u001b[1;33m.\u001b[0m\u001b[0mremote\u001b[0m\u001b[1;33m\u001b[0m\u001b[1;33m\u001b[0m\u001b[0m\n",
      "\u001b[1;32mD:\\anaconda3\\envs\\yourenvname\\lib\\site-packages\\ray\\_private\\client_mode_hook.py\u001b[0m in \u001b[0;36mwrapper\u001b[1;34m(*args, **kwargs)\u001b[0m\n\u001b[0;32m    103\u001b[0m             \u001b[1;32mif\u001b[0m \u001b[0mfunc\u001b[0m\u001b[1;33m.\u001b[0m\u001b[0m__name__\u001b[0m \u001b[1;33m!=\u001b[0m \u001b[1;34m\"init\"\u001b[0m \u001b[1;32mor\u001b[0m \u001b[0mis_client_mode_enabled_by_default\u001b[0m\u001b[1;33m:\u001b[0m\u001b[1;33m\u001b[0m\u001b[1;33m\u001b[0m\u001b[0m\n\u001b[0;32m    104\u001b[0m                 \u001b[1;32mreturn\u001b[0m \u001b[0mgetattr\u001b[0m\u001b[1;33m(\u001b[0m\u001b[0mray\u001b[0m\u001b[1;33m,\u001b[0m \u001b[0mfunc\u001b[0m\u001b[1;33m.\u001b[0m\u001b[0m__name__\u001b[0m\u001b[1;33m)\u001b[0m\u001b[1;33m(\u001b[0m\u001b[1;33m*\u001b[0m\u001b[0margs\u001b[0m\u001b[1;33m,\u001b[0m \u001b[1;33m**\u001b[0m\u001b[0mkwargs\u001b[0m\u001b[1;33m)\u001b[0m\u001b[1;33m\u001b[0m\u001b[1;33m\u001b[0m\u001b[0m\n\u001b[1;32m--> 105\u001b[1;33m         \u001b[1;32mreturn\u001b[0m \u001b[0mfunc\u001b[0m\u001b[1;33m(\u001b[0m\u001b[1;33m*\u001b[0m\u001b[0margs\u001b[0m\u001b[1;33m,\u001b[0m \u001b[1;33m**\u001b[0m\u001b[0mkwargs\u001b[0m\u001b[1;33m)\u001b[0m\u001b[1;33m\u001b[0m\u001b[1;33m\u001b[0m\u001b[0m\n\u001b[0m\u001b[0;32m    106\u001b[0m \u001b[1;33m\u001b[0m\u001b[0m\n\u001b[0;32m    107\u001b[0m     \u001b[1;32mreturn\u001b[0m \u001b[0mwrapper\u001b[0m\u001b[1;33m\u001b[0m\u001b[1;33m\u001b[0m\u001b[0m\n",
      "\u001b[1;32mD:\\anaconda3\\envs\\yourenvname\\lib\\site-packages\\ray\\worker.py\u001b[0m in \u001b[0;36minit\u001b[1;34m(address, num_cpus, num_gpus, resources, object_store_memory, local_mode, ignore_reinit_error, include_dashboard, dashboard_host, dashboard_port, job_config, configure_logging, logging_level, logging_format, log_to_driver, namespace, runtime_env, _enable_object_reconstruction, _redis_max_memory, _plasma_directory, _node_ip_address, _driver_object_store_memory, _memory, _redis_password, _temp_dir, _metrics_export_port, _system_config, _tracing_startup_hook, **kwargs)\u001b[0m\n\u001b[0;32m    949\u001b[0m             connect_only=True)\n\u001b[0;32m    950\u001b[0m \u001b[1;33m\u001b[0m\u001b[0m\n\u001b[1;32m--> 951\u001b[1;33m     connect(\n\u001b[0m\u001b[0;32m    952\u001b[0m         \u001b[0m_global_node\u001b[0m\u001b[1;33m,\u001b[0m\u001b[1;33m\u001b[0m\u001b[1;33m\u001b[0m\u001b[0m\n\u001b[0;32m    953\u001b[0m         \u001b[0mmode\u001b[0m\u001b[1;33m=\u001b[0m\u001b[0mdriver_mode\u001b[0m\u001b[1;33m,\u001b[0m\u001b[1;33m\u001b[0m\u001b[1;33m\u001b[0m\u001b[0m\n",
      "\u001b[1;32mD:\\anaconda3\\envs\\yourenvname\\lib\\site-packages\\ray\\worker.py\u001b[0m in \u001b[0;36mconnect\u001b[1;34m(node, mode, log_to_driver, worker, driver_object_store_memory, job_id, namespace, job_config, runtime_env_hash, worker_shim_pid, startup_token, ray_debugger_external)\u001b[0m\n\u001b[0;32m   1477\u001b[0m         \u001b[0mjob_config\u001b[0m\u001b[1;33m.\u001b[0m\u001b[0mset_runtime_env\u001b[0m\u001b[1;33m(\u001b[0m\u001b[0mruntime_env\u001b[0m\u001b[1;33m)\u001b[0m\u001b[1;33m\u001b[0m\u001b[1;33m\u001b[0m\u001b[0m\n\u001b[0;32m   1478\u001b[0m \u001b[1;33m\u001b[0m\u001b[0m\n\u001b[1;32m-> 1479\u001b[1;33m     \u001b[0mserialized_job_config\u001b[0m \u001b[1;33m=\u001b[0m \u001b[0mjob_config\u001b[0m\u001b[1;33m.\u001b[0m\u001b[0mserialize\u001b[0m\u001b[1;33m(\u001b[0m\u001b[1;33m)\u001b[0m\u001b[1;33m\u001b[0m\u001b[1;33m\u001b[0m\u001b[0m\n\u001b[0m\u001b[0;32m   1480\u001b[0m     worker.core_worker = ray._raylet.CoreWorker(\n\u001b[0;32m   1481\u001b[0m         \u001b[0mmode\u001b[0m\u001b[1;33m,\u001b[0m \u001b[0mnode\u001b[0m\u001b[1;33m.\u001b[0m\u001b[0mplasma_store_socket_name\u001b[0m\u001b[1;33m,\u001b[0m \u001b[0mnode\u001b[0m\u001b[1;33m.\u001b[0m\u001b[0mraylet_socket_name\u001b[0m\u001b[1;33m,\u001b[0m \u001b[0mjob_id\u001b[0m\u001b[1;33m,\u001b[0m\u001b[1;33m\u001b[0m\u001b[1;33m\u001b[0m\u001b[0m\n",
      "\u001b[1;32mD:\\anaconda3\\envs\\yourenvname\\lib\\site-packages\\ray\\job_config.py\u001b[0m in \u001b[0;36mserialize\u001b[1;34m(self)\u001b[0m\n\u001b[0;32m     46\u001b[0m     \u001b[1;32mdef\u001b[0m \u001b[0mserialize\u001b[0m\u001b[1;33m(\u001b[0m\u001b[0mself\u001b[0m\u001b[1;33m)\u001b[0m\u001b[1;33m:\u001b[0m\u001b[1;33m\u001b[0m\u001b[1;33m\u001b[0m\u001b[0m\n\u001b[0;32m     47\u001b[0m         \u001b[1;34m\"\"\"Serialize the struct into protobuf string\"\"\"\u001b[0m\u001b[1;33m\u001b[0m\u001b[1;33m\u001b[0m\u001b[0m\n\u001b[1;32m---> 48\u001b[1;33m         \u001b[1;32mreturn\u001b[0m \u001b[0mself\u001b[0m\u001b[1;33m.\u001b[0m\u001b[0mget_proto_job_config\u001b[0m\u001b[1;33m(\u001b[0m\u001b[1;33m)\u001b[0m\u001b[1;33m.\u001b[0m\u001b[0mSerializeToString\u001b[0m\u001b[1;33m(\u001b[0m\u001b[1;33m)\u001b[0m\u001b[1;33m\u001b[0m\u001b[1;33m\u001b[0m\u001b[0m\n\u001b[0m\u001b[0;32m     49\u001b[0m \u001b[1;33m\u001b[0m\u001b[0m\n\u001b[0;32m     50\u001b[0m     \u001b[1;32mdef\u001b[0m \u001b[0mset_runtime_env\u001b[0m\u001b[1;33m(\u001b[0m\u001b[0mself\u001b[0m\u001b[1;33m,\u001b[0m \u001b[0mruntime_env\u001b[0m\u001b[1;33m:\u001b[0m \u001b[0mOptional\u001b[0m\u001b[1;33m[\u001b[0m\u001b[0mDict\u001b[0m\u001b[1;33m[\u001b[0m\u001b[0mstr\u001b[0m\u001b[1;33m,\u001b[0m \u001b[0mAny\u001b[0m\u001b[1;33m]\u001b[0m\u001b[1;33m]\u001b[0m\u001b[1;33m)\u001b[0m \u001b[1;33m->\u001b[0m \u001b[1;32mNone\u001b[0m\u001b[1;33m:\u001b[0m\u001b[1;33m\u001b[0m\u001b[1;33m\u001b[0m\u001b[0m\n",
      "\u001b[1;32mD:\\anaconda3\\envs\\yourenvname\\lib\\site-packages\\ray\\job_config.py\u001b[0m in \u001b[0;36mget_proto_job_config\u001b[1;34m(self)\u001b[0m\n\u001b[0;32m     87\u001b[0m                 \u001b[0mpb\u001b[0m\u001b[1;33m.\u001b[0m\u001b[0mmetadata\u001b[0m\u001b[1;33m[\u001b[0m\u001b[0mk\u001b[0m\u001b[1;33m]\u001b[0m \u001b[1;33m=\u001b[0m \u001b[0mv\u001b[0m\u001b[1;33m\u001b[0m\u001b[1;33m\u001b[0m\u001b[0m\n\u001b[0;32m     88\u001b[0m \u001b[1;33m\u001b[0m\u001b[0m\n\u001b[1;32m---> 89\u001b[1;33m             \u001b[0mparsed_env\u001b[0m\u001b[1;33m,\u001b[0m \u001b[0meager_install\u001b[0m \u001b[1;33m=\u001b[0m \u001b[0mself\u001b[0m\u001b[1;33m.\u001b[0m\u001b[0m_validate_runtime_env\u001b[0m\u001b[1;33m(\u001b[0m\u001b[1;33m)\u001b[0m\u001b[1;33m\u001b[0m\u001b[1;33m\u001b[0m\u001b[0m\n\u001b[0m\u001b[0;32m     90\u001b[0m             \u001b[0mpb\u001b[0m\u001b[1;33m.\u001b[0m\u001b[0mruntime_env\u001b[0m\u001b[1;33m.\u001b[0m\u001b[0muris\u001b[0m\u001b[1;33m[\u001b[0m\u001b[1;33m:\u001b[0m\u001b[1;33m]\u001b[0m \u001b[1;33m=\u001b[0m \u001b[0mparsed_env\u001b[0m\u001b[1;33m.\u001b[0m\u001b[0mget_uris\u001b[0m\u001b[1;33m(\u001b[0m\u001b[1;33m)\u001b[0m\u001b[1;33m\u001b[0m\u001b[1;33m\u001b[0m\u001b[0m\n\u001b[0;32m     91\u001b[0m             \u001b[0mpb\u001b[0m\u001b[1;33m.\u001b[0m\u001b[0mruntime_env\u001b[0m\u001b[1;33m.\u001b[0m\u001b[0mserialized_runtime_env\u001b[0m \u001b[1;33m=\u001b[0m \u001b[0mparsed_env\u001b[0m\u001b[1;33m.\u001b[0m\u001b[0mserialize\u001b[0m\u001b[1;33m(\u001b[0m\u001b[1;33m)\u001b[0m\u001b[1;33m\u001b[0m\u001b[1;33m\u001b[0m\u001b[0m\n",
      "\u001b[1;32mD:\\anaconda3\\envs\\yourenvname\\lib\\site-packages\\ray\\job_config.py\u001b[0m in \u001b[0;36m_validate_runtime_env\u001b[1;34m(self)\u001b[0m\n\u001b[0;32m     71\u001b[0m         \u001b[1;32mif\u001b[0m \u001b[1;32mnot\u001b[0m \u001b[0misinstance\u001b[0m\u001b[1;33m(\u001b[0m\u001b[0meager_install\u001b[0m\u001b[1;33m,\u001b[0m \u001b[0mbool\u001b[0m\u001b[1;33m)\u001b[0m\u001b[1;33m:\u001b[0m\u001b[1;33m\u001b[0m\u001b[1;33m\u001b[0m\u001b[0m\n\u001b[0;32m     72\u001b[0m             \u001b[1;32mraise\u001b[0m \u001b[0mTypeError\u001b[0m\u001b[1;33m(\u001b[0m\u001b[1;34m\"eager_install must be a boolean.\"\u001b[0m\u001b[1;33m)\u001b[0m\u001b[1;33m\u001b[0m\u001b[1;33m\u001b[0m\u001b[0m\n\u001b[1;32m---> 73\u001b[1;33m         \u001b[1;32mreturn\u001b[0m \u001b[0mParsedRuntimeEnv\u001b[0m\u001b[1;33m(\u001b[0m\u001b[0mself\u001b[0m\u001b[1;33m.\u001b[0m\u001b[0mruntime_env\u001b[0m\u001b[1;33m)\u001b[0m\u001b[1;33m,\u001b[0m \u001b[0meager_install\u001b[0m\u001b[1;33m\u001b[0m\u001b[1;33m\u001b[0m\u001b[0m\n\u001b[0m\u001b[0;32m     74\u001b[0m \u001b[1;33m\u001b[0m\u001b[0m\n\u001b[0;32m     75\u001b[0m     \u001b[1;32mdef\u001b[0m \u001b[0mget_proto_job_config\u001b[0m\u001b[1;33m(\u001b[0m\u001b[0mself\u001b[0m\u001b[1;33m)\u001b[0m\u001b[1;33m:\u001b[0m\u001b[1;33m\u001b[0m\u001b[1;33m\u001b[0m\u001b[0m\n",
      "\u001b[1;32mD:\\anaconda3\\envs\\yourenvname\\lib\\site-packages\\ray\\_private\\runtime_env\\validation.py\u001b[0m in \u001b[0;36m__init__\u001b[1;34m(self, runtime_env, _validate)\u001b[0m\n\u001b[0;32m    297\u001b[0m             \u001b[0moption_val\u001b[0m \u001b[1;33m=\u001b[0m \u001b[0mruntime_env\u001b[0m\u001b[1;33m.\u001b[0m\u001b[0mget\u001b[0m\u001b[1;33m(\u001b[0m\u001b[0moption\u001b[0m\u001b[1;33m)\u001b[0m\u001b[1;33m\u001b[0m\u001b[1;33m\u001b[0m\u001b[0m\n\u001b[0;32m    298\u001b[0m             \u001b[1;32mif\u001b[0m \u001b[0moption_val\u001b[0m \u001b[1;32mis\u001b[0m \u001b[1;32mnot\u001b[0m \u001b[1;32mNone\u001b[0m\u001b[1;33m:\u001b[0m\u001b[1;33m\u001b[0m\u001b[1;33m\u001b[0m\u001b[0m\n\u001b[1;32m--> 299\u001b[1;33m                 \u001b[0mvalidated_option_val\u001b[0m \u001b[1;33m=\u001b[0m \u001b[0mvalidate_fn\u001b[0m\u001b[1;33m(\u001b[0m\u001b[0moption_val\u001b[0m\u001b[1;33m)\u001b[0m\u001b[1;33m\u001b[0m\u001b[1;33m\u001b[0m\u001b[0m\n\u001b[0m\u001b[0;32m    300\u001b[0m                 \u001b[1;32mif\u001b[0m \u001b[0mvalidated_option_val\u001b[0m \u001b[1;32mis\u001b[0m \u001b[1;32mnot\u001b[0m \u001b[1;32mNone\u001b[0m\u001b[1;33m:\u001b[0m\u001b[1;33m\u001b[0m\u001b[1;33m\u001b[0m\u001b[0m\n\u001b[0;32m    301\u001b[0m                     \u001b[0mself\u001b[0m\u001b[1;33m[\u001b[0m\u001b[0moption\u001b[0m\u001b[1;33m]\u001b[0m \u001b[1;33m=\u001b[0m \u001b[0mvalidated_option_val\u001b[0m\u001b[1;33m\u001b[0m\u001b[1;33m\u001b[0m\u001b[0m\n",
      "\u001b[1;32mD:\\anaconda3\\envs\\yourenvname\\lib\\site-packages\\ray\\_private\\runtime_env\\validation.py\u001b[0m in \u001b[0;36mparse_and_validate_pip\u001b[1;34m(pip)\u001b[0m\n\u001b[0;32m    127\u001b[0m     \u001b[0mresult\u001b[0m \u001b[1;33m=\u001b[0m \u001b[1;32mNone\u001b[0m\u001b[1;33m\u001b[0m\u001b[1;33m\u001b[0m\u001b[0m\n\u001b[0;32m    128\u001b[0m     \u001b[1;32mif\u001b[0m \u001b[0msys\u001b[0m\u001b[1;33m.\u001b[0m\u001b[0mplatform\u001b[0m \u001b[1;33m==\u001b[0m \u001b[1;34m\"win32\"\u001b[0m\u001b[1;33m:\u001b[0m\u001b[1;33m\u001b[0m\u001b[1;33m\u001b[0m\u001b[0m\n\u001b[1;32m--> 129\u001b[1;33m         raise NotImplementedError(\"The 'pip' field in runtime_env \"\n\u001b[0m\u001b[0;32m    130\u001b[0m                                   \u001b[1;34m\"is not currently supported on \"\u001b[0m\u001b[1;33m\u001b[0m\u001b[1;33m\u001b[0m\u001b[0m\n\u001b[0;32m    131\u001b[0m                                   \"Windows.\")\n",
      "\u001b[1;31mNotImplementedError\u001b[0m: The 'pip' field in runtime_env is not currently supported on Windows."
     ]
    }
   ],
   "source": [
    "import ray\n",
    "import requests\n",
    "\n",
    "# This example runs on a local machine, but you can also do\n",
    "# ray.init(address=..., runtime_env=...) to connect to a cluster.\n",
    "ray.shutdown()\n",
    "ray.init(runtime_env={\"pip\": [\"requests\"]})\n",
    "\n",
    "@ray.remote\n",
    "def reqs():\n",
    "    return requests.get(\"https://www.ray.io/\")\n",
    "\n",
    "print(ray.get(reqs.remote())) # <Response [200]>"
   ]
  },
  {
   "cell_type": "markdown",
   "id": "c2211088",
   "metadata": {},
   "source": [
    "AsyncIO "
   ]
  },
  {
   "cell_type": "code",
   "execution_count": 41,
   "id": "fdedc7f3",
   "metadata": {},
   "outputs": [
    {
     "name": "stderr",
     "output_type": "stream",
     "text": [
      "2021-12-05 17:49:50,196\tINFO services.py:1338 -- View the Ray dashboard at \u001b[1m\u001b[32mhttp://127.0.0.1:8265\u001b[39m\u001b[22m\n"
     ]
    },
    {
     "name": "stdout",
     "output_type": "stream",
     "text": [
      " pid=14712)\u001b[0m started\n",
      " pid=14712)\u001b[0m started\n",
      " pid=14712)\u001b[0m started\n",
      " pid=14712)\u001b[0m started\n",
      " pid=14712)\u001b[0m finished\n",
      " pid=14712)\u001b[0m finished\n",
      " pid=14712)\u001b[0m finished\n",
      " pid=14712)\u001b[0m finished\n",
      " pid=14712)\u001b[0m started\n",
      " pid=14712)\u001b[0m finished\n"
     ]
    }
   ],
   "source": [
    "import ray\n",
    "import asyncio\n",
    "\n",
    "ray.shutdown()\n",
    "ray.init()\n",
    "\n",
    "@ray.remote\n",
    "class AsyncActor:\n",
    "    # multiple invocation of this method can be running in\n",
    "    # the event loop at the same time\n",
    "    async def run_concurrent(self):\n",
    "        print(\"started\")\n",
    "        await asyncio.sleep(2) # concurrent workload here\n",
    "        print(\"finished\")\n",
    "\n",
    "actor = AsyncActor.remote()\n",
    "\n",
    "# regular ray.get\n",
    "ray.get([actor.run_concurrent.remote() for _ in range(4)])\n",
    "\n",
    "# async ray.get\n",
    "await actor.run_concurrent.remote()"
   ]
  },
  {
   "cell_type": "code",
   "execution_count": 42,
   "id": "b5c459ee",
   "metadata": {},
   "outputs": [
    {
     "data": {
      "text/plain": [
       "({<Task finished name='Task-5' coro=<_wrap_awaitable() done, defined at D:\\anaconda3\\envs\\yourenvname\\lib\\asyncio\\tasks.py:688> result=1>},\n",
       " set())"
      ]
     },
     "execution_count": 42,
     "metadata": {},
     "output_type": "execute_result"
    }
   ],
   "source": [
    "@ray.remote\n",
    "def some_task():\n",
    "    return 1\n",
    "\n",
    "await some_task.remote()\n",
    "await asyncio.wait([some_task.remote()])"
   ]
  },
  {
   "cell_type": "code",
   "execution_count": 45,
   "id": "e96f3eb6",
   "metadata": {},
   "outputs": [
    {
     "ename": "NameError",
     "evalue": "name 'concurrent' is not defined",
     "output_type": "error",
     "traceback": [
      "\u001b[1;31m---------------------------------------------------------------------------\u001b[0m",
      "\u001b[1;31mNameError\u001b[0m                                 Traceback (most recent call last)",
      "\u001b[1;32m~\\AppData\\Local\\Temp/ipykernel_2912/2497752781.py\u001b[0m in \u001b[0;36m<module>\u001b[1;34m\u001b[0m\n\u001b[0;32m      1\u001b[0m \u001b[0mrefs\u001b[0m \u001b[1;33m=\u001b[0m \u001b[1;33m[\u001b[0m\u001b[0msome_task\u001b[0m\u001b[1;33m.\u001b[0m\u001b[0mremote\u001b[0m\u001b[1;33m(\u001b[0m\u001b[1;33m)\u001b[0m \u001b[1;32mfor\u001b[0m \u001b[0m_\u001b[0m \u001b[1;32min\u001b[0m \u001b[0mrange\u001b[0m\u001b[1;33m(\u001b[0m\u001b[1;36m4\u001b[0m\u001b[1;33m)\u001b[0m\u001b[1;33m]\u001b[0m\u001b[1;33m\u001b[0m\u001b[1;33m\u001b[0m\u001b[0m\n\u001b[0;32m      2\u001b[0m \u001b[0mfuts\u001b[0m \u001b[1;33m=\u001b[0m \u001b[1;33m[\u001b[0m\u001b[0mref\u001b[0m\u001b[1;33m.\u001b[0m\u001b[0mfuture\u001b[0m\u001b[1;33m(\u001b[0m\u001b[1;33m)\u001b[0m \u001b[1;32mfor\u001b[0m \u001b[0mref\u001b[0m \u001b[1;32min\u001b[0m \u001b[0mrefs\u001b[0m\u001b[1;33m]\u001b[0m\u001b[1;33m\u001b[0m\u001b[1;33m\u001b[0m\u001b[0m\n\u001b[1;32m----> 3\u001b[1;33m \u001b[1;32mfor\u001b[0m \u001b[0mfut\u001b[0m \u001b[1;32min\u001b[0m \u001b[0mconcurrent\u001b[0m\u001b[1;33m.\u001b[0m\u001b[0mfutures\u001b[0m\u001b[1;33m.\u001b[0m\u001b[0mas_completed\u001b[0m\u001b[1;33m(\u001b[0m\u001b[0mfuts\u001b[0m\u001b[1;33m)\u001b[0m\u001b[1;33m:\u001b[0m\u001b[1;33m\u001b[0m\u001b[1;33m\u001b[0m\u001b[0m\n\u001b[0m\u001b[0;32m      4\u001b[0m     \u001b[1;32massert\u001b[0m \u001b[0mfut\u001b[0m\u001b[1;33m.\u001b[0m\u001b[0mdone\u001b[0m\u001b[1;33m(\u001b[0m\u001b[1;33m)\u001b[0m\u001b[1;33m\u001b[0m\u001b[1;33m\u001b[0m\u001b[0m\n\u001b[0;32m      5\u001b[0m     \u001b[0mprint\u001b[0m\u001b[1;33m(\u001b[0m\u001b[0mfut\u001b[0m\u001b[1;33m.\u001b[0m\u001b[0mresult\u001b[0m\u001b[1;33m(\u001b[0m\u001b[1;33m)\u001b[0m\u001b[1;33m)\u001b[0m\u001b[1;33m\u001b[0m\u001b[1;33m\u001b[0m\u001b[0m\n",
      "\u001b[1;31mNameError\u001b[0m: name 'concurrent' is not defined"
     ]
    }
   ],
   "source": [
    "refs = [some_task.remote() for _ in range(4)]\n",
    "futs = [ref.future() for ref in refs]\n",
    "for fut in concurrent.futures.as_completed(futs):\n",
    "    assert fut.done()\n",
    "    print(fut.result())"
   ]
  },
  {
   "cell_type": "code",
   "execution_count": 46,
   "id": "4b2ad2c0",
   "metadata": {},
   "outputs": [
    {
     "name": "stdout",
     "output_type": "stream",
     "text": [
      " pid=5260)\u001b[0m started\n",
      " pid=5260)\u001b[0m started\n",
      " pid=5260)\u001b[0m started\n",
      " pid=5260)\u001b[0m started\n",
      " pid=5260)\u001b[0m started\n",
      " pid=5260)\u001b[0m started\n",
      " pid=5260)\u001b[0m started\n",
      " pid=5260)\u001b[0m started\n",
      " pid=5260)\u001b[0m started\n",
      " pid=5260)\u001b[0m started\n",
      " pid=5260)\u001b[0m started\n",
      " pid=5260)\u001b[0m started\n",
      " pid=5260)\u001b[0m started\n",
      " pid=5260)\u001b[0m started\n",
      " pid=5260)\u001b[0m started\n",
      " pid=5260)\u001b[0m started\n",
      " pid=5260)\u001b[0m started\n",
      " pid=5260)\u001b[0m started\n",
      " pid=5260)\u001b[0m started\n",
      " pid=5260)\u001b[0m started\n",
      " pid=5260)\u001b[0m started\n",
      " pid=5260)\u001b[0m started\n",
      " pid=5260)\u001b[0m started\n",
      " pid=5260)\u001b[0m started\n",
      " pid=5260)\u001b[0m started\n",
      " pid=5260)\u001b[0m started\n",
      " pid=5260)\u001b[0m started\n",
      " pid=5260)\u001b[0m started\n",
      " pid=5260)\u001b[0m started\n",
      " pid=5260)\u001b[0m started\n",
      " pid=5260)\u001b[0m started\n",
      " pid=5260)\u001b[0m started\n",
      " pid=5260)\u001b[0m started\n",
      " pid=5260)\u001b[0m started\n",
      " pid=5260)\u001b[0m started\n",
      " pid=5260)\u001b[0m started\n",
      " pid=5260)\u001b[0m started\n",
      " pid=5260)\u001b[0m started\n",
      " pid=5260)\u001b[0m started\n",
      " pid=5260)\u001b[0m started\n",
      " pid=5260)\u001b[0m started\n",
      " pid=5260)\u001b[0m started\n",
      " pid=5260)\u001b[0m started\n",
      " pid=5260)\u001b[0m started\n",
      " pid=5260)\u001b[0m started\n",
      " pid=5260)\u001b[0m started\n",
      " pid=5260)\u001b[0m started\n",
      " pid=5260)\u001b[0m started\n",
      " pid=5260)\u001b[0m started\n",
      " pid=5260)\u001b[0m started\n",
      " pid=5260)\u001b[0m ended\n",
      " pid=5260)\u001b[0m ended\n",
      " pid=5260)\u001b[0m ended\n",
      " pid=5260)\u001b[0m ended\n",
      " pid=5260)\u001b[0m ended\n",
      " pid=5260)\u001b[0m ended\n",
      " pid=5260)\u001b[0m ended\n",
      " pid=5260)\u001b[0m ended\n",
      " pid=5260)\u001b[0m ended\n",
      " pid=5260)\u001b[0m ended\n",
      " pid=5260)\u001b[0m ended\n",
      " pid=5260)\u001b[0m ended\n",
      " pid=5260)\u001b[0m ended\n",
      " pid=5260)\u001b[0m ended\n",
      " pid=5260)\u001b[0m ended\n",
      " pid=5260)\u001b[0m ended\n",
      " pid=5260)\u001b[0m ended\n",
      " pid=5260)\u001b[0m ended\n",
      " pid=5260)\u001b[0m ended\n",
      " pid=5260)\u001b[0m ended\n",
      " pid=5260)\u001b[0m ended\n",
      " pid=5260)\u001b[0m ended\n",
      " pid=5260)\u001b[0m ended\n",
      " pid=5260)\u001b[0m ended\n",
      " pid=5260)\u001b[0m ended\n",
      " pid=5260)\u001b[0m ended\n",
      " pid=5260)\u001b[0m ended\n",
      " pid=5260)\u001b[0m ended\n",
      " pid=5260)\u001b[0m ended\n",
      " pid=5260)\u001b[0m ended\n",
      " pid=5260)\u001b[0m ended\n",
      " pid=5260)\u001b[0m ended\n",
      " pid=5260)\u001b[0m ended\n",
      " pid=5260)\u001b[0m ended\n",
      " pid=5260)\u001b[0m ended\n",
      " pid=5260)\u001b[0m ended\n",
      " pid=5260)\u001b[0m ended\n",
      " pid=5260)\u001b[0m ended\n",
      " pid=5260)\u001b[0m ended\n",
      " pid=5260)\u001b[0m ended\n",
      " pid=5260)\u001b[0m ended\n",
      " pid=5260)\u001b[0m ended\n",
      " pid=5260)\u001b[0m ended\n",
      " pid=5260)\u001b[0m ended\n",
      " pid=5260)\u001b[0m ended\n",
      " pid=5260)\u001b[0m ended\n",
      " pid=5260)\u001b[0m ended\n",
      " pid=5260)\u001b[0m ended\n",
      " pid=5260)\u001b[0m ended\n",
      " pid=5260)\u001b[0m ended\n"
     ]
    },
    {
     "data": {
      "text/plain": [
       "[None,\n",
       " None,\n",
       " None,\n",
       " None,\n",
       " None,\n",
       " None,\n",
       " None,\n",
       " None,\n",
       " None,\n",
       " None,\n",
       " None,\n",
       " None,\n",
       " None,\n",
       " None,\n",
       " None,\n",
       " None,\n",
       " None,\n",
       " None,\n",
       " None,\n",
       " None,\n",
       " None,\n",
       " None,\n",
       " None,\n",
       " None,\n",
       " None,\n",
       " None,\n",
       " None,\n",
       " None,\n",
       " None,\n",
       " None,\n",
       " None,\n",
       " None,\n",
       " None,\n",
       " None,\n",
       " None,\n",
       " None,\n",
       " None,\n",
       " None,\n",
       " None,\n",
       " None,\n",
       " None,\n",
       " None,\n",
       " None,\n",
       " None,\n",
       " None,\n",
       " None,\n",
       " None,\n",
       " None,\n",
       " None,\n",
       " None]"
      ]
     },
     "execution_count": 46,
     "metadata": {},
     "output_type": "execute_result"
    }
   ],
   "source": [
    "import asyncio\n",
    "\n",
    "@ray.remote\n",
    "class AsyncActor:\n",
    "    async def run_task(self):\n",
    "        print(\"started\")\n",
    "        await asyncio.sleep(1) # Network, I/O task here\n",
    "        print(\"ended\")\n",
    "\n",
    "actor = AsyncActor.remote()\n",
    "# All 50 tasks should start at once. After 1 second they should all finish.\n",
    "# they should finish at the same time\n",
    "ray.get([actor.run_task.remote() for _ in range(50)])"
   ]
  },
  {
   "cell_type": "code",
   "execution_count": 47,
   "id": "b4391462",
   "metadata": {},
   "outputs": [
    {
     "name": "stdout",
     "output_type": "stream",
     "text": [
      " pid=7500)\u001b[0m started\n",
      " pid=7500)\u001b[0m started\n",
      " pid=7500)\u001b[0m started\n",
      " pid=7500)\u001b[0m started\n",
      " pid=7500)\u001b[0m started\n",
      " pid=7500)\u001b[0m started\n",
      " pid=7500)\u001b[0m started\n",
      " pid=7500)\u001b[0m started\n",
      " pid=7500)\u001b[0m started\n",
      " pid=7500)\u001b[0m started\n",
      " pid=7500)\u001b[0m ended\n",
      " pid=7500)\u001b[0m ended\n",
      " pid=7500)\u001b[0m ended\n",
      " pid=7500)\u001b[0m ended\n",
      " pid=7500)\u001b[0m ended\n",
      " pid=7500)\u001b[0m ended\n",
      " pid=7500)\u001b[0m ended\n",
      " pid=7500)\u001b[0m ended\n",
      " pid=7500)\u001b[0m ended\n",
      " pid=7500)\u001b[0m ended\n",
      " pid=7500)\u001b[0m started\n",
      " pid=7500)\u001b[0m started\n",
      " pid=7500)\u001b[0m started\n",
      " pid=7500)\u001b[0m started\n",
      " pid=7500)\u001b[0m started\n",
      " pid=7500)\u001b[0m started\n",
      " pid=7500)\u001b[0m started\n",
      " pid=7500)\u001b[0m started\n",
      " pid=7500)\u001b[0m started\n",
      " pid=7500)\u001b[0m started\n",
      " pid=7500)\u001b[0m ended\n",
      " pid=7500)\u001b[0m ended\n",
      " pid=7500)\u001b[0m ended\n",
      " pid=7500)\u001b[0m ended\n",
      " pid=7500)\u001b[0m ended\n",
      " pid=7500)\u001b[0m ended\n",
      " pid=7500)\u001b[0m ended\n",
      " pid=7500)\u001b[0m ended\n",
      " pid=7500)\u001b[0m ended\n",
      " pid=7500)\u001b[0m ended\n",
      " pid=7500)\u001b[0m started\n",
      " pid=7500)\u001b[0m started\n",
      " pid=7500)\u001b[0m started\n",
      " pid=7500)\u001b[0m started\n",
      " pid=7500)\u001b[0m started\n",
      " pid=7500)\u001b[0m started\n",
      " pid=7500)\u001b[0m started\n",
      " pid=7500)\u001b[0m started\n",
      " pid=7500)\u001b[0m started\n",
      " pid=7500)\u001b[0m started\n",
      " pid=7500)\u001b[0m ended\n",
      " pid=7500)\u001b[0m ended\n",
      " pid=7500)\u001b[0m ended\n",
      " pid=7500)\u001b[0m ended\n",
      " pid=7500)\u001b[0m ended\n",
      " pid=7500)\u001b[0m ended\n",
      " pid=7500)\u001b[0m ended\n",
      " pid=7500)\u001b[0m ended\n",
      " pid=7500)\u001b[0m ended\n",
      " pid=7500)\u001b[0m ended\n",
      " pid=7500)\u001b[0m started\n",
      " pid=7500)\u001b[0m started\n",
      " pid=7500)\u001b[0m started\n",
      " pid=7500)\u001b[0m started\n",
      " pid=7500)\u001b[0m started\n",
      " pid=7500)\u001b[0m started\n",
      " pid=7500)\u001b[0m started\n",
      " pid=7500)\u001b[0m started\n",
      " pid=7500)\u001b[0m started\n",
      " pid=7500)\u001b[0m started\n",
      " pid=7500)\u001b[0m ended\n",
      " pid=7500)\u001b[0m ended\n",
      " pid=7500)\u001b[0m ended\n",
      " pid=7500)\u001b[0m ended\n",
      " pid=7500)\u001b[0m ended\n",
      " pid=7500)\u001b[0m ended\n",
      " pid=7500)\u001b[0m ended\n",
      " pid=7500)\u001b[0m started\n",
      " pid=7500)\u001b[0m started\n",
      " pid=7500)\u001b[0m started\n",
      " pid=7500)\u001b[0m started\n",
      " pid=7500)\u001b[0m started\n",
      " pid=7500)\u001b[0m started\n",
      " pid=7500)\u001b[0m started\n",
      " pid=7500)\u001b[0m ended\n",
      " pid=7500)\u001b[0m ended\n",
      " pid=7500)\u001b[0m ended\n",
      " pid=7500)\u001b[0m started\n",
      " pid=7500)\u001b[0m started\n",
      " pid=7500)\u001b[0m started\n"
     ]
    },
    {
     "data": {
      "text/plain": [
       "[None,\n",
       " None,\n",
       " None,\n",
       " None,\n",
       " None,\n",
       " None,\n",
       " None,\n",
       " None,\n",
       " None,\n",
       " None,\n",
       " None,\n",
       " None,\n",
       " None,\n",
       " None,\n",
       " None,\n",
       " None,\n",
       " None,\n",
       " None,\n",
       " None,\n",
       " None,\n",
       " None,\n",
       " None,\n",
       " None,\n",
       " None,\n",
       " None,\n",
       " None,\n",
       " None,\n",
       " None,\n",
       " None,\n",
       " None,\n",
       " None,\n",
       " None,\n",
       " None,\n",
       " None,\n",
       " None,\n",
       " None,\n",
       " None,\n",
       " None,\n",
       " None,\n",
       " None,\n",
       " None,\n",
       " None,\n",
       " None,\n",
       " None,\n",
       " None,\n",
       " None,\n",
       " None,\n",
       " None,\n",
       " None,\n",
       " None]"
      ]
     },
     "execution_count": 47,
     "metadata": {},
     "output_type": "execute_result"
    },
    {
     "name": "stdout",
     "output_type": "stream",
     "text": [
      "\u001b[2m\u001b[36m(AsyncActor\r",
      " pid=7500)\u001b[0m ended\r\n",
      "\u001b[2m\u001b[36m(AsyncActor\r",
      " pid=7500)\u001b[0m ended\r\n",
      "\u001b[2m\u001b[36m(AsyncActor\r",
      " pid=7500)\u001b[0m ended\r\n",
      "\u001b[2m\u001b[36m(AsyncActor\r",
      " pid=7500)\u001b[0m ended\r\n",
      "\u001b[2m\u001b[36m(AsyncActor\r",
      " pid=7500)\u001b[0m ended\r\n",
      "\u001b[2m\u001b[36m(AsyncActor\r",
      " pid=7500)\u001b[0m ended\r\n",
      "\u001b[2m\u001b[36m(AsyncActor\r",
      " pid=7500)\u001b[0m ended\r\n",
      "\u001b[2m\u001b[36m(AsyncActor\r",
      " pid=7500)\u001b[0m ended\r\n",
      "\u001b[2m\u001b[36m(AsyncActor\r",
      " pid=7500)\u001b[0m ended\r\n",
      "\u001b[2m\u001b[36m(AsyncActor\r",
      " pid=7500)\u001b[0m ended\r\n"
     ]
    }
   ],
   "source": [
    "import asyncio\n",
    "\n",
    "@ray.remote\n",
    "class AsyncActor:\n",
    "    async def run_task(self):\n",
    "        print(\"started\")\n",
    "        await asyncio.sleep(1) # Network, I/O task here\n",
    "        print(\"ended\")\n",
    "\n",
    "actor = AsyncActor.options(max_concurrency=10).remote()\n",
    "\n",
    "# Only 10 tasks will be running concurrently. Once 10 finish, the next 10 should run.\n",
    "ray.get([actor.run_task.remote() for _ in range(50)])"
   ]
  },
  {
   "cell_type": "code",
   "execution_count": 48,
   "id": "afb29718",
   "metadata": {},
   "outputs": [
    {
     "data": {
      "text/plain": [
       "[None, None]"
      ]
     },
     "execution_count": 48,
     "metadata": {},
     "output_type": "execute_result"
    },
    {
     "name": "stdout",
     "output_type": "stream",
     "text": [
      "\u001b[2m\u001b[36m(ThreadedActor\r",
      " pid=14660)\u001b[0m I'm running in a thread!\r\n",
      "\u001b[2m\u001b[36m(ThreadedActor\r",
      " pid=14660)\u001b[0m I'm running in another thread!\r\n"
     ]
    }
   ],
   "source": [
    "@ray.remote\n",
    "class ThreadedActor:\n",
    "    def task_1(self): print(\"I'm running in a thread!\")\n",
    "    def task_2(self): print(\"I'm running in another thread!\")\n",
    "\n",
    "a = ThreadedActor.options(max_concurrency=2).remote()\n",
    "ray.get([a.task_1.remote(), a.task_2.remote()])"
   ]
  }
 ],
 "metadata": {
  "kernelspec": {
   "display_name": "Python 3 (ipykernel)",
   "language": "python",
   "name": "python3"
  },
  "language_info": {
   "codemirror_mode": {
    "name": "ipython",
    "version": 3
   },
   "file_extension": ".py",
   "mimetype": "text/x-python",
   "name": "python",
   "nbconvert_exporter": "python",
   "pygments_lexer": "ipython3",
   "version": "3.8.12"
  }
 },
 "nbformat": 4,
 "nbformat_minor": 5
}
